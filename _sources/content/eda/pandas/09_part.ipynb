{
 "cells": [
  {
   "cell_type": "markdown",
   "id": "470aee93",
   "metadata": {},
   "source": [
    "```{contents}\n",
    "```"
   ]
  },
  {
   "cell_type": "markdown",
   "id": "b0c8df92",
   "metadata": {},
   "source": [
    "## Reshaping & Pivot"
   ]
  },
  {
   "cell_type": "code",
   "execution_count": 1,
   "id": "381e3eae",
   "metadata": {},
   "outputs": [
    {
     "data": {
      "application/vnd.microsoft.datawrangler.viewer.v0+json": {
       "columns": [
        {
         "name": "index",
         "rawType": "int64",
         "type": "integer"
        },
        {
         "name": "application_id",
         "rawType": "object",
         "type": "string"
        },
        {
         "name": "customer_id",
         "rawType": "object",
         "type": "string"
        },
        {
         "name": "loan_type",
         "rawType": "object",
         "type": "string"
        },
        {
         "name": "loan_status",
         "rawType": "object",
         "type": "string"
        },
        {
         "name": "loan_amount_requested",
         "rawType": "int64",
         "type": "integer"
        },
        {
         "name": "monthly_income",
         "rawType": "int64",
         "type": "integer"
        }
       ],
       "ref": "88b4c9c2-19c9-4d61-87d2-6aa66c3c6fa6",
       "rows": [
        [
         "0",
         "A1",
         "C1",
         "Business Loan",
         "Approved",
         "604000",
         "34700"
        ],
        [
         "1",
         "A2",
         "C2",
         "Car Loan",
         "Approved",
         "100000",
         "51600"
        ],
        [
         "2",
         "A3",
         "C3",
         "Education Loan",
         "Approved",
         "431000",
         "14800"
        ],
        [
         "3",
         "A4",
         "C4",
         "Car Loan",
         "Declined",
         "324000",
         "28800"
        ]
       ],
       "shape": {
        "columns": 6,
        "rows": 4
       }
      },
      "text/html": [
       "<div>\n",
       "<style scoped>\n",
       "    .dataframe tbody tr th:only-of-type {\n",
       "        vertical-align: middle;\n",
       "    }\n",
       "\n",
       "    .dataframe tbody tr th {\n",
       "        vertical-align: top;\n",
       "    }\n",
       "\n",
       "    .dataframe thead th {\n",
       "        text-align: right;\n",
       "    }\n",
       "</style>\n",
       "<table border=\"1\" class=\"dataframe\">\n",
       "  <thead>\n",
       "    <tr style=\"text-align: right;\">\n",
       "      <th></th>\n",
       "      <th>application_id</th>\n",
       "      <th>customer_id</th>\n",
       "      <th>loan_type</th>\n",
       "      <th>loan_status</th>\n",
       "      <th>loan_amount_requested</th>\n",
       "      <th>monthly_income</th>\n",
       "    </tr>\n",
       "  </thead>\n",
       "  <tbody>\n",
       "    <tr>\n",
       "      <th>0</th>\n",
       "      <td>A1</td>\n",
       "      <td>C1</td>\n",
       "      <td>Business Loan</td>\n",
       "      <td>Approved</td>\n",
       "      <td>604000</td>\n",
       "      <td>34700</td>\n",
       "    </tr>\n",
       "    <tr>\n",
       "      <th>1</th>\n",
       "      <td>A2</td>\n",
       "      <td>C2</td>\n",
       "      <td>Car Loan</td>\n",
       "      <td>Approved</td>\n",
       "      <td>100000</td>\n",
       "      <td>51600</td>\n",
       "    </tr>\n",
       "    <tr>\n",
       "      <th>2</th>\n",
       "      <td>A3</td>\n",
       "      <td>C3</td>\n",
       "      <td>Education Loan</td>\n",
       "      <td>Approved</td>\n",
       "      <td>431000</td>\n",
       "      <td>14800</td>\n",
       "    </tr>\n",
       "    <tr>\n",
       "      <th>3</th>\n",
       "      <td>A4</td>\n",
       "      <td>C4</td>\n",
       "      <td>Car Loan</td>\n",
       "      <td>Declined</td>\n",
       "      <td>324000</td>\n",
       "      <td>28800</td>\n",
       "    </tr>\n",
       "  </tbody>\n",
       "</table>\n",
       "</div>"
      ],
      "text/plain": [
       "  application_id customer_id       loan_type loan_status  \\\n",
       "0             A1          C1   Business Loan    Approved   \n",
       "1             A2          C2        Car Loan    Approved   \n",
       "2             A3          C3  Education Loan    Approved   \n",
       "3             A4          C4        Car Loan    Declined   \n",
       "\n",
       "   loan_amount_requested  monthly_income  \n",
       "0                 604000           34700  \n",
       "1                 100000           51600  \n",
       "2                 431000           14800  \n",
       "3                 324000           28800  "
      ]
     },
     "execution_count": 1,
     "metadata": {},
     "output_type": "execute_result"
    }
   ],
   "source": [
    "\n",
    "import pandas as pd\n",
    "\n",
    "# Sample loan dataset\n",
    "data = {\n",
    "    'application_id': ['A1','A2','A3','A4'],\n",
    "    'customer_id': ['C1','C2','C3','C4'],\n",
    "    'loan_type': ['Business Loan', 'Car Loan', 'Education Loan', 'Car Loan'],\n",
    "    'loan_status': ['Approved','Approved','Approved','Declined'],\n",
    "    'loan_amount_requested': [604000, 100000, 431000, 324000],\n",
    "    'monthly_income': [34700, 51600, 14800, 28800]\n",
    "}\n",
    "\n",
    "df = pd.DataFrame(data)\n",
    "df\n"
   ]
  },
  {
   "cell_type": "markdown",
   "id": "59c078c1",
   "metadata": {},
   "source": [
    "\n",
    "\n",
    "---\n",
    "\n",
    "### Reshaping using `melt`\n",
    "\n",
    "* `melt` transforms a **wide dataframe into long format**.\n",
    "\n"
   ]
  },
  {
   "cell_type": "code",
   "execution_count": 2,
   "id": "5323a13a",
   "metadata": {},
   "outputs": [
    {
     "data": {
      "application/vnd.microsoft.datawrangler.viewer.v0+json": {
       "columns": [
        {
         "name": "index",
         "rawType": "int64",
         "type": "integer"
        },
        {
         "name": "application_id",
         "rawType": "object",
         "type": "string"
        },
        {
         "name": "customer_id",
         "rawType": "object",
         "type": "string"
        },
        {
         "name": "loan_type",
         "rawType": "object",
         "type": "string"
        },
        {
         "name": "loan_status",
         "rawType": "object",
         "type": "string"
        },
        {
         "name": "metric",
         "rawType": "object",
         "type": "string"
        },
        {
         "name": "value",
         "rawType": "int64",
         "type": "integer"
        }
       ],
       "ref": "5f6c4e57-055b-42e7-b840-0109c85f488c",
       "rows": [
        [
         "0",
         "A1",
         "C1",
         "Business Loan",
         "Approved",
         "loan_amount_requested",
         "604000"
        ],
        [
         "1",
         "A2",
         "C2",
         "Car Loan",
         "Approved",
         "loan_amount_requested",
         "100000"
        ],
        [
         "2",
         "A3",
         "C3",
         "Education Loan",
         "Approved",
         "loan_amount_requested",
         "431000"
        ],
        [
         "3",
         "A4",
         "C4",
         "Car Loan",
         "Declined",
         "loan_amount_requested",
         "324000"
        ],
        [
         "4",
         "A1",
         "C1",
         "Business Loan",
         "Approved",
         "monthly_income",
         "34700"
        ],
        [
         "5",
         "A2",
         "C2",
         "Car Loan",
         "Approved",
         "monthly_income",
         "51600"
        ],
        [
         "6",
         "A3",
         "C3",
         "Education Loan",
         "Approved",
         "monthly_income",
         "14800"
        ],
        [
         "7",
         "A4",
         "C4",
         "Car Loan",
         "Declined",
         "monthly_income",
         "28800"
        ]
       ],
       "shape": {
        "columns": 6,
        "rows": 8
       }
      },
      "text/html": [
       "<div>\n",
       "<style scoped>\n",
       "    .dataframe tbody tr th:only-of-type {\n",
       "        vertical-align: middle;\n",
       "    }\n",
       "\n",
       "    .dataframe tbody tr th {\n",
       "        vertical-align: top;\n",
       "    }\n",
       "\n",
       "    .dataframe thead th {\n",
       "        text-align: right;\n",
       "    }\n",
       "</style>\n",
       "<table border=\"1\" class=\"dataframe\">\n",
       "  <thead>\n",
       "    <tr style=\"text-align: right;\">\n",
       "      <th></th>\n",
       "      <th>application_id</th>\n",
       "      <th>customer_id</th>\n",
       "      <th>loan_type</th>\n",
       "      <th>loan_status</th>\n",
       "      <th>metric</th>\n",
       "      <th>value</th>\n",
       "    </tr>\n",
       "  </thead>\n",
       "  <tbody>\n",
       "    <tr>\n",
       "      <th>0</th>\n",
       "      <td>A1</td>\n",
       "      <td>C1</td>\n",
       "      <td>Business Loan</td>\n",
       "      <td>Approved</td>\n",
       "      <td>loan_amount_requested</td>\n",
       "      <td>604000</td>\n",
       "    </tr>\n",
       "    <tr>\n",
       "      <th>1</th>\n",
       "      <td>A2</td>\n",
       "      <td>C2</td>\n",
       "      <td>Car Loan</td>\n",
       "      <td>Approved</td>\n",
       "      <td>loan_amount_requested</td>\n",
       "      <td>100000</td>\n",
       "    </tr>\n",
       "    <tr>\n",
       "      <th>2</th>\n",
       "      <td>A3</td>\n",
       "      <td>C3</td>\n",
       "      <td>Education Loan</td>\n",
       "      <td>Approved</td>\n",
       "      <td>loan_amount_requested</td>\n",
       "      <td>431000</td>\n",
       "    </tr>\n",
       "    <tr>\n",
       "      <th>3</th>\n",
       "      <td>A4</td>\n",
       "      <td>C4</td>\n",
       "      <td>Car Loan</td>\n",
       "      <td>Declined</td>\n",
       "      <td>loan_amount_requested</td>\n",
       "      <td>324000</td>\n",
       "    </tr>\n",
       "    <tr>\n",
       "      <th>4</th>\n",
       "      <td>A1</td>\n",
       "      <td>C1</td>\n",
       "      <td>Business Loan</td>\n",
       "      <td>Approved</td>\n",
       "      <td>monthly_income</td>\n",
       "      <td>34700</td>\n",
       "    </tr>\n",
       "    <tr>\n",
       "      <th>5</th>\n",
       "      <td>A2</td>\n",
       "      <td>C2</td>\n",
       "      <td>Car Loan</td>\n",
       "      <td>Approved</td>\n",
       "      <td>monthly_income</td>\n",
       "      <td>51600</td>\n",
       "    </tr>\n",
       "    <tr>\n",
       "      <th>6</th>\n",
       "      <td>A3</td>\n",
       "      <td>C3</td>\n",
       "      <td>Education Loan</td>\n",
       "      <td>Approved</td>\n",
       "      <td>monthly_income</td>\n",
       "      <td>14800</td>\n",
       "    </tr>\n",
       "    <tr>\n",
       "      <th>7</th>\n",
       "      <td>A4</td>\n",
       "      <td>C4</td>\n",
       "      <td>Car Loan</td>\n",
       "      <td>Declined</td>\n",
       "      <td>monthly_income</td>\n",
       "      <td>28800</td>\n",
       "    </tr>\n",
       "  </tbody>\n",
       "</table>\n",
       "</div>"
      ],
      "text/plain": [
       "  application_id customer_id       loan_type loan_status  \\\n",
       "0             A1          C1   Business Loan    Approved   \n",
       "1             A2          C2        Car Loan    Approved   \n",
       "2             A3          C3  Education Loan    Approved   \n",
       "3             A4          C4        Car Loan    Declined   \n",
       "4             A1          C1   Business Loan    Approved   \n",
       "5             A2          C2        Car Loan    Approved   \n",
       "6             A3          C3  Education Loan    Approved   \n",
       "7             A4          C4        Car Loan    Declined   \n",
       "\n",
       "                  metric   value  \n",
       "0  loan_amount_requested  604000  \n",
       "1  loan_amount_requested  100000  \n",
       "2  loan_amount_requested  431000  \n",
       "3  loan_amount_requested  324000  \n",
       "4         monthly_income   34700  \n",
       "5         monthly_income   51600  \n",
       "6         monthly_income   14800  \n",
       "7         monthly_income   28800  "
      ]
     },
     "execution_count": 2,
     "metadata": {},
     "output_type": "execute_result"
    }
   ],
   "source": [
    "# Melt loan_amount_requested and monthly_income into a single column\n",
    "df_melted = pd.melt(df,\n",
    "                    id_vars=['application_id','customer_id','loan_type','loan_status'],\n",
    "                    value_vars=['loan_amount_requested','monthly_income'],\n",
    "                    var_name='metric',\n",
    "                    value_name='value')\n",
    "\n",
    "df_melted\n"
   ]
  },
  {
   "cell_type": "markdown",
   "id": "9cb652f0",
   "metadata": {},
   "source": [
    "\n",
    "\n",
    "**Result:** Columns `loan_amount_requested` and `monthly_income` are stacked under `metric` and `value`.\n",
    "\n",
    "---\n",
    "\n",
    "### Pivoting using `pivot`\n",
    "\n",
    "* `pivot` transforms **long data into wide format**.\n",
    "\n"
   ]
  },
  {
   "cell_type": "code",
   "execution_count": 3,
   "id": "04a1b2b4",
   "metadata": {},
   "outputs": [
    {
     "data": {
      "application/vnd.microsoft.datawrangler.viewer.v0+json": {
       "columns": [
        {
         "name": "index",
         "rawType": "int64",
         "type": "integer"
        },
        {
         "name": "application_id",
         "rawType": "object",
         "type": "string"
        },
        {
         "name": "loan_amount_requested",
         "rawType": "int64",
         "type": "integer"
        },
        {
         "name": "monthly_income",
         "rawType": "int64",
         "type": "integer"
        }
       ],
       "ref": "9509e9ec-5ee9-4e21-b4c2-3d7c8368714d",
       "rows": [
        [
         "0",
         "A1",
         "604000",
         "34700"
        ],
        [
         "1",
         "A2",
         "100000",
         "51600"
        ],
        [
         "2",
         "A3",
         "431000",
         "14800"
        ],
        [
         "3",
         "A4",
         "324000",
         "28800"
        ]
       ],
       "shape": {
        "columns": 3,
        "rows": 4
       }
      },
      "text/html": [
       "<div>\n",
       "<style scoped>\n",
       "    .dataframe tbody tr th:only-of-type {\n",
       "        vertical-align: middle;\n",
       "    }\n",
       "\n",
       "    .dataframe tbody tr th {\n",
       "        vertical-align: top;\n",
       "    }\n",
       "\n",
       "    .dataframe thead th {\n",
       "        text-align: right;\n",
       "    }\n",
       "</style>\n",
       "<table border=\"1\" class=\"dataframe\">\n",
       "  <thead>\n",
       "    <tr style=\"text-align: right;\">\n",
       "      <th>metric</th>\n",
       "      <th>application_id</th>\n",
       "      <th>loan_amount_requested</th>\n",
       "      <th>monthly_income</th>\n",
       "    </tr>\n",
       "  </thead>\n",
       "  <tbody>\n",
       "    <tr>\n",
       "      <th>0</th>\n",
       "      <td>A1</td>\n",
       "      <td>604000</td>\n",
       "      <td>34700</td>\n",
       "    </tr>\n",
       "    <tr>\n",
       "      <th>1</th>\n",
       "      <td>A2</td>\n",
       "      <td>100000</td>\n",
       "      <td>51600</td>\n",
       "    </tr>\n",
       "    <tr>\n",
       "      <th>2</th>\n",
       "      <td>A3</td>\n",
       "      <td>431000</td>\n",
       "      <td>14800</td>\n",
       "    </tr>\n",
       "    <tr>\n",
       "      <th>3</th>\n",
       "      <td>A4</td>\n",
       "      <td>324000</td>\n",
       "      <td>28800</td>\n",
       "    </tr>\n",
       "  </tbody>\n",
       "</table>\n",
       "</div>"
      ],
      "text/plain": [
       "metric application_id  loan_amount_requested  monthly_income\n",
       "0                  A1                 604000           34700\n",
       "1                  A2                 100000           51600\n",
       "2                  A3                 431000           14800\n",
       "3                  A4                 324000           28800"
      ]
     },
     "execution_count": 3,
     "metadata": {},
     "output_type": "execute_result"
    }
   ],
   "source": [
    "\n",
    "# Example: pivot metrics back\n",
    "df_pivot = df_melted.pivot(index='application_id',\n",
    "                           columns='metric',\n",
    "                           values='value').reset_index()\n",
    "\n",
    "df_pivot\n"
   ]
  },
  {
   "cell_type": "markdown",
   "id": "da811447",
   "metadata": {},
   "source": [
    "\n",
    "\n",
    "**Result:** Two columns (`loan_amount_requested` and `monthly_income`) are restored for each `application_id`.\n",
    "\n",
    "---\n",
    "\n",
    "### Pivot Table using `pivot_table`\n",
    "\n",
    "* `pivot_table` allows **aggregation while pivoting**.\n",
    "\n"
   ]
  },
  {
   "cell_type": "code",
   "execution_count": 5,
   "id": "cf6e92c6",
   "metadata": {},
   "outputs": [
    {
     "data": {
      "application/vnd.microsoft.datawrangler.viewer.v0+json": {
       "columns": [
        {
         "name": "loan_type",
         "rawType": "object",
         "type": "string"
        },
        {
         "name": "Approved",
         "rawType": "float64",
         "type": "float"
        },
        {
         "name": "Declined",
         "rawType": "float64",
         "type": "float"
        }
       ],
       "ref": "8b93acde-ac9b-4b31-abe0-1d6643d76ff4",
       "rows": [
        [
         "Business Loan",
         "604000.0",
         "0.0"
        ],
        [
         "Car Loan",
         "100000.0",
         "324000.0"
        ],
        [
         "Education Loan",
         "431000.0",
         "0.0"
        ]
       ],
       "shape": {
        "columns": 2,
        "rows": 3
       }
      },
      "text/html": [
       "<div>\n",
       "<style scoped>\n",
       "    .dataframe tbody tr th:only-of-type {\n",
       "        vertical-align: middle;\n",
       "    }\n",
       "\n",
       "    .dataframe tbody tr th {\n",
       "        vertical-align: top;\n",
       "    }\n",
       "\n",
       "    .dataframe thead th {\n",
       "        text-align: right;\n",
       "    }\n",
       "</style>\n",
       "<table border=\"1\" class=\"dataframe\">\n",
       "  <thead>\n",
       "    <tr style=\"text-align: right;\">\n",
       "      <th>loan_status</th>\n",
       "      <th>Approved</th>\n",
       "      <th>Declined</th>\n",
       "    </tr>\n",
       "    <tr>\n",
       "      <th>loan_type</th>\n",
       "      <th></th>\n",
       "      <th></th>\n",
       "    </tr>\n",
       "  </thead>\n",
       "  <tbody>\n",
       "    <tr>\n",
       "      <th>Business Loan</th>\n",
       "      <td>604000.0</td>\n",
       "      <td>0.0</td>\n",
       "    </tr>\n",
       "    <tr>\n",
       "      <th>Car Loan</th>\n",
       "      <td>100000.0</td>\n",
       "      <td>324000.0</td>\n",
       "    </tr>\n",
       "    <tr>\n",
       "      <th>Education Loan</th>\n",
       "      <td>431000.0</td>\n",
       "      <td>0.0</td>\n",
       "    </tr>\n",
       "  </tbody>\n",
       "</table>\n",
       "</div>"
      ],
      "text/plain": [
       "loan_status     Approved  Declined\n",
       "loan_type                         \n",
       "Business Loan   604000.0       0.0\n",
       "Car Loan        100000.0  324000.0\n",
       "Education Loan  431000.0       0.0"
      ]
     },
     "execution_count": 5,
     "metadata": {},
     "output_type": "execute_result"
    }
   ],
   "source": [
    "# Average loan amount per loan_type and loan_status\n",
    "df_pivot_table = df.pivot_table(index='loan_type',\n",
    "                                columns='loan_status',\n",
    "                                values='loan_amount_requested',\n",
    "                                aggfunc='mean',\n",
    "                                fill_value=0)\n",
    "\n",
    "df_pivot_table\n"
   ]
  },
  {
   "cell_type": "markdown",
   "id": "c5663773",
   "metadata": {},
   "source": [
    "**Explanation:**\n",
    "\n",
    "* `index` → rows (group by `loan_type`)\n",
    "* `columns` → new columns (`loan_status`)\n",
    "* `values` → numeric column to aggregate (`loan_amount_requested`)\n",
    "* `aggfunc` → aggregation function (`mean`)\n",
    "* `fill_value` → replace NaNs with 0\n",
    "\n",
    "---\n",
    "\n",
    "### Reshaping with `stack` and `unstack`\n"
   ]
  },
  {
   "cell_type": "code",
   "execution_count": 6,
   "id": "a773c85f",
   "metadata": {},
   "outputs": [
    {
     "data": {
      "application/vnd.microsoft.datawrangler.viewer.v0+json": {
       "columns": [
        {
         "name": "('loan_type', 'loan_status')",
         "rawType": "object",
         "type": "unknown"
        },
        {
         "name": "0",
         "rawType": "float64",
         "type": "float"
        }
       ],
       "ref": "bdc11380-85df-4d4a-ac45-44ed8eb2f839",
       "rows": [
        [
         "('Business Loan', 'Approved')",
         "604000.0"
        ],
        [
         "('Car Loan', 'Approved')",
         "100000.0"
        ],
        [
         "('Car Loan', 'Declined')",
         "324000.0"
        ],
        [
         "('Education Loan', 'Approved')",
         "431000.0"
        ]
       ],
       "shape": {
        "columns": 1,
        "rows": 4
       }
      },
      "text/plain": [
       "loan_type       loan_status\n",
       "Business Loan   Approved       604000.0\n",
       "Car Loan        Approved       100000.0\n",
       "                Declined       324000.0\n",
       "Education Loan  Approved       431000.0\n",
       "dtype: float64"
      ]
     },
     "execution_count": 6,
     "metadata": {},
     "output_type": "execute_result"
    }
   ],
   "source": [
    "# Set multi-index\n",
    "df_multi = df.set_index(['loan_type','loan_status'])\n",
    "df_multi\n",
    "\n",
    "# Unstack (pivot level from index to columns)\n",
    "df_unstacked = df_multi['loan_amount_requested'].unstack(level=1)\n",
    "df_unstacked\n",
    "\n",
    "# Stack back\n",
    "df_stacked = df_unstacked.stack()\n",
    "df_stacked\n"
   ]
  },
  {
   "cell_type": "markdown",
   "id": "8d203486",
   "metadata": {},
   "source": [
    "\n",
    "\n",
    "**Explanation:**\n",
    "\n",
    "* `stack()` → moves columns to inner level of index (long format)\n",
    "* `unstack()` → moves inner index level to columns (wide format)\n",
    "\n",
    "---\n",
    "\n",
    "**Summary **\n",
    "\n",
    "| Method        | Purpose                | Example                                                                                                    |\n",
    "| ------------- | ---------------------- | ---------------------------------------------------------------------------------------------------------- |\n",
    "| `melt`        | Wide → Long            | `pd.melt(df, value_vars=[...])`                                                                            |\n",
    "| `pivot`       | Long → Wide            | `df.pivot(index, columns, values)`                                                                         |\n",
    "| `pivot_table` | Pivot with aggregation | `df.pivot_table(index='loan_type', columns='loan_status', values='loan_amount_requested', aggfunc='mean')` |\n",
    "| `stack`       | Columns → inner index  | `df.stack()`                                                                                               |\n",
    "| `unstack`     | Inner index → columns  | `df.unstack()`                                                                                             |\n",
    "\n"
   ]
  }
 ],
 "metadata": {
  "kernelspec": {
   "display_name": "Python 3",
   "language": "python",
   "name": "python3"
  },
  "language_info": {
   "codemirror_mode": {
    "name": "ipython",
    "version": 3
   },
   "file_extension": ".py",
   "mimetype": "text/x-python",
   "name": "python",
   "nbconvert_exporter": "python",
   "pygments_lexer": "ipython3",
   "version": "3.12.0"
  }
 },
 "nbformat": 4,
 "nbformat_minor": 5
}
