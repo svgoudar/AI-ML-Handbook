{
 "cells": [
  {
   "cell_type": "markdown",
   "id": "4b922273",
   "metadata": {},
   "source": [
    "```{contents}\n",
    "```"
   ]
  },
  {
   "cell_type": "markdown",
   "id": "0241c99f",
   "metadata": {},
   "source": [
    "# Creating Dataframe & Series\n",
    "\n",
    "## Creating a `Series`"
   ]
  },
  {
   "cell_type": "code",
   "execution_count": 4,
   "id": "deb787c8",
   "metadata": {},
   "outputs": [],
   "source": [
    "\n",
    "import pandas as pd\n",
    "import numpy as np\n",
    "\n",
    "# 1. From a list\n",
    "s1 = pd.Series([10, 20, 30, 40])\n",
    "\n",
    "# 2. From a NumPy array\n",
    "arr = np.array([1, 2, 3, 4, 5])\n",
    "s2 = pd.Series(arr)\n",
    "\n",
    "# 3. From a dictionary\n",
    "s3 = pd.Series({\"a\": 1, \"b\": 2, \"c\": 3})\n",
    "\n",
    "# 4. With custom index\n",
    "s4 = pd.Series([100, 200, 300], index=[\"x\", \"y\", \"z\"])\n",
    "\n",
    "# 5. Scalar value (repeated for each index)\n",
    "s5 = pd.Series(5, index=[\"a\", \"b\", \"c\"])\n"
   ]
  },
  {
   "cell_type": "markdown",
   "id": "e40539d7",
   "metadata": {},
   "source": [
    "---\n",
    "\n",
    "## Creating a `DataFrame`"
   ]
  },
  {
   "cell_type": "code",
   "execution_count": null,
   "id": "01634e1d",
   "metadata": {},
   "outputs": [
    {
     "name": "stdout",
     "output_type": "stream",
     "text": [
      "\n",
      "--- DataFrame from dictionary of Series ---\n",
      "   Age  Salary\n",
      "a   25   50000\n",
      "b   30   60000\n",
      "c   35   70000\n",
      "\n",
      "--- DataFrame from dictionary of dictionaries ---\n",
      "       Name  Age\n",
      "row1  Alice   25\n",
      "row2    Bob   30\n"
     ]
    }
   ],
   "source": [
    "import pandas as pd\n",
    "import numpy as np\n",
    "# 1. From a dictionary of lists\n",
    "df1 = pd.DataFrame({\n",
    "    \"Name\": [\"Alice\", \"Bob\", \"Charlie\"],\n",
    "    \"Age\": [24, 30, 22]\n",
    "})\n",
    "\n",
    "# 2. From a dictionary of Series\n",
    "df2 = pd.DataFrame({\n",
    "    \"A\": pd.Series([1, 2, 3]),\n",
    "    \"B\": pd.Series([10, 20, 30], index=[0, 1, 2])\n",
    "})\n",
    "\n",
    "# 3. From a list of dictionaries\n",
    "df3 = pd.DataFrame([\n",
    "    {\"Name\": \"Alice\", \"Age\": 24},\n",
    "    {\"Name\": \"Bob\", \"Age\": 30}\n",
    "])\n",
    "\n",
    "# 4. From a list of lists with column names\n",
    "df4 = pd.DataFrame(\n",
    "    [[1, \"A\"], [2, \"B\"], [3, \"C\"]],\n",
    "    columns=[\"Number\", \"Letter\"]\n",
    ")\n",
    "\n",
    "# 5. From a NumPy array\n",
    "data = np.array([[10, 20], [30, 40], [50, 60]])\n",
    "df5 = pd.DataFrame(data, columns=[\"Col1\", \"Col2\"])\n",
    "\n",
    "# 6. From another DataFrame (copy or subset)\n",
    "df6 = df1.copy()\n",
    "\n",
    "\n",
    "\n",
    "# ----------------------------------------------------------\n",
    "# 5️⃣ From a dictionary of Series\n",
    "data_dict_series = {\n",
    "    'Age': pd.Series([25, 30, 35], index=['a', 'b', 'c']),\n",
    "    'Salary': pd.Series([50000, 60000, 70000], index=['a', 'b', 'c'])\n",
    "}\n",
    "df5 = pd.DataFrame(data_dict_series)\n",
    "print(\"\\n--- DataFrame from dictionary of Series ---\")\n",
    "print(df5)\n",
    "\n",
    "# ----------------------------------------------------------\n",
    "# 6️⃣ From a dictionary of dictionaries (row-wise)\n",
    "data_dict_dicts = {\n",
    "    'row1': {'Name': 'Alice', 'Age': 25},\n",
    "    'row2': {'Name': 'Bob', 'Age': 30}\n",
    "}\n",
    "df6 = pd.DataFrame.from_dict(data_dict_dicts, orient='index')\n",
    "print(\"\\n--- DataFrame from dictionary of dictionaries ---\")\n",
    "print(df6)\n",
    "\n",
    "\n",
    "# ----------------------------------------------------------\n",
    "# 7️⃣ From a scalar value, filled across rows & columns\n",
    "df7 = pd.DataFrame(0, index=range(3), columns=['A', 'B'])\n",
    "print(\"\\n--- DataFrame from scalar value ---\")\n",
    "print(df7)\n",
    "\n",
    "# ----------------------------------------------------------\n",
    "# 8️⃣ Copying from another DataFrame\n",
    "df8 = df1[['Name', 'Salary']].copy()  # select subset of columns\n",
    "print(\"\\n--- DataFrame copied from another DataFrame ---\")\n",
    "print(df8)"
   ]
  },
  {
   "cell_type": "markdown",
   "id": "965f010e",
   "metadata": {},
   "source": [
    "| Source type            | Code example                                  |\n",
    "| ---------------------- | --------------------------------------------- |\n",
    "| Dict of lists/arrays   | `pd.DataFrame({'A':[1,2]})`                   |\n",
    "| List of dicts (rows)   | `pd.DataFrame([{'A':1}, {'A':2}])`            |\n",
    "| List of lists/tuples   | `pd.DataFrame([[1,2]], columns=['A','B'])`    |\n",
    "| Dict of Series         | `pd.DataFrame({'A': pd.Series(...)})`         |\n",
    "| NumPy array            | `pd.DataFrame(np.array(...))`                 |\n",
    "| Dict of dicts (rows)   | `pd.DataFrame.from_dict(..., orient='index')` |\n",
    "| Scalar value           | `pd.DataFrame(0, index=..., columns=...)`     |\n",
    "| From file (CSV, Excel) | `pd.read_csv('file.csv')`                     |\n",
    "| From SQL               | `pd.read_sql_query(...)`                      |\n",
    "| Copy from DataFrame    | `df2 = df[['A','B']].copy()`                  |\n"
   ]
  },
  {
   "cell_type": "markdown",
   "id": "9d6c9055",
   "metadata": {},
   "source": [
    "---\n",
    "\n",
    "**Summary**\n",
    "\n",
    "* **Series** can be created from lists, arrays, dicts, scalars.\n",
    "* **DataFrame** can be created from dicts (of lists/series), list of dicts, list of lists, NumPy arrays, or other DataFrames.\n",
    "\n"
   ]
  },
  {
   "cell_type": "markdown",
   "id": "062073b7",
   "metadata": {},
   "source": []
  }
 ],
 "metadata": {
  "kernelspec": {
   "display_name": "Python 3.12",
   "language": "python",
   "name": "py12"
  },
  "language_info": {
   "codemirror_mode": {
    "name": "ipython",
    "version": 3
   },
   "file_extension": ".py",
   "mimetype": "text/x-python",
   "name": "python",
   "nbconvert_exporter": "python",
   "pygments_lexer": "ipython3",
   "version": "3.12.0"
  }
 },
 "nbformat": 4,
 "nbformat_minor": 5
}
