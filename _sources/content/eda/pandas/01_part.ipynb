{
  "cells": [
    {
      "cell_type": "markdown",
      "id": "c62ee487-22f1-46bb-8d52-3ce5042bda28",
      "metadata": {
        "id": "c62ee487-22f1-46bb-8d52-3ce5042bda28"
      },
      "source": [
        "```{contents}\n",
        "```"
      ]
    },
    {
      "cell_type": "markdown",
      "id": "QuILCDFrw3Rl",
      "metadata": {
        "id": "QuILCDFrw3Rl"
      },
      "source": [
        "# Overview\n",
        "\n",
        "## Series\n",
        "\n",
        "* A **one-dimensional labeled array**.\n",
        "* Can hold **any data type** (int, float, string, Python objects, etc.).\n",
        "* Think of it as a **column in Excel** or a **NumPy array with labels**.\n",
        "\n",
        "### Key Features:\n",
        "\n",
        "* **Index**: Labels for elements (like row names).\n",
        "* **Values**: Actual data stored.\n",
        "\n",
        "### Example:\n"
      ]
    },
    {
      "cell_type": "code",
      "execution_count": 1,
      "id": "8ce57048",
      "metadata": {},
      "outputs": [
        {
          "name": "stdout",
          "output_type": "stream",
          "text": [
            "a    10\n",
            "b    20\n",
            "c    30\n",
            "d    40\n",
            "dtype: int64\n",
            "Values: [10 20 30 40]\n",
            "Index: Index(['a', 'b', 'c', 'd'], dtype='object')\n"
          ]
        }
      ],
      "source": [
        "import pandas as pd\n",
        "\n",
        "# Create a Series\n",
        "s = pd.Series([10, 20, 30, 40], index=[\"a\", \"b\", \"c\", \"d\"])\n",
        "print(s)\n",
        "\n",
        "print(\"Values:\", s.values)\n",
        "print(\"Index:\", s.index)\n"
      ]
    },
    {
      "cell_type": "markdown",
      "id": "67a48c78",
      "metadata": {},
      "source": [
        "**Output:**\n",
        "\n",
        "```\n",
        "a    10\n",
        "b    20\n",
        "c    30\n",
        "d    40\n",
        "dtype: int64\n",
        "Values: [10 20 30 40]\n",
        "Index: Index(['a', 'b', 'c', 'd'], dtype='object')\n",
        "```\n",
        "\n",
        "---\n",
        "\n",
        "## DataFrame\n",
        "\n",
        "* A **two-dimensional labeled data structure**.\n",
        "* Think of it as a **table**: rows + columns.\n",
        "* Columns are **Series** objects.\n",
        "* Rows and columns have **labels (Index)**.\n",
        "\n",
        "### Example:\n"
      ]
    },
    {
      "cell_type": "code",
      "execution_count": 2,
      "id": "6782f444",
      "metadata": {
        "vscode": {
          "languageId": "javascript"
        }
      },
      "outputs": [
        {
          "name": "stdout",
          "output_type": "stream",
          "text": [
            "      Name  Age  Salary\n",
            "0    Alice   25   50000\n",
            "1      Bob   30   60000\n",
            "2  Charlie   35   70000\n"
          ]
        }
      ],
      "source": [
        "data = {\n",
        "    \"Name\": [\"Alice\", \"Bob\", \"Charlie\"],\n",
        "    \"Age\": [25, 30, 35],\n",
        "    \"Salary\": [50000, 60000, 70000]\n",
        "}\n",
        "\n",
        "df = pd.DataFrame(data)\n",
        "print(df)\n"
      ]
    },
    {
      "cell_type": "markdown",
      "id": "1d67e5bf",
      "metadata": {},
      "source": [
        "\n",
        "* Each **column** is a `Series`.\n",
        "* Together they form a **DataFrame**.\n",
        "\n",
        "---\n",
        "\n",
        "## Index\n",
        "\n",
        "* The **Index** is the “axis labels” for Series/DataFrame.\n",
        "* It provides:\n",
        "\n",
        "  * **Row labels** for Series & DataFrame\n",
        "  * **Column labels** for DataFrame\n",
        "* Helps in **alignment, selection, and slicing**.\n",
        "\n",
        "### Example:\n"
      ]
    },
    {
      "cell_type": "code",
      "execution_count": 3,
      "id": "c9cfefe3",
      "metadata": {},
      "outputs": [
        {
          "name": "stdout",
          "output_type": "stream",
          "text": [
            "RangeIndex(start=0, stop=3, step=1)\n",
            "Index(['Name', 'Age', 'Salary'], dtype='object')\n"
          ]
        }
      ],
      "source": [
        "print(df.index)    # Row labels\n",
        "print(df.columns)  # Column labels\n",
        "\n"
      ]
    },
    {
      "cell_type": "markdown",
      "id": "09a82f7e",
      "metadata": {},
      "source": [
        "### Types of Index in Pandas\n",
        "\n",
        "#### RangeIndex\n",
        "\n",
        "* Default index when you don’t specify one.\n",
        "* Just a sequence of integers (`0, 1, 2,..., n-1`).\n",
        "* Memory efficient."
      ]
    },
    {
      "cell_type": "code",
      "execution_count": 9,
      "id": "58e31a10",
      "metadata": {},
      "outputs": [
        {
          "name": "stdout",
          "output_type": "stream",
          "text": [
            "RangeIndex(start=0, stop=3, step=1)\n"
          ]
        }
      ],
      "source": [
        "import pandas as pd\n",
        "\n",
        "df = pd.DataFrame({\"A\": [10, 20, 30]})\n",
        "print(df.index)\n"
      ]
    },
    {
      "cell_type": "markdown",
      "id": "4c5b20cc",
      "metadata": {},
      "source": [
        "---\n",
        "\n",
        "#### Index (Generic)\n",
        "\n",
        "* A generic, immutable array of labels (strings, integers, etc.).\n",
        "* Created when you explicitly assign custom labels.\n",
        "\n"
      ]
    },
    {
      "cell_type": "code",
      "execution_count": 8,
      "id": "3f03f01e",
      "metadata": {},
      "outputs": [
        {
          "name": "stdout",
          "output_type": "stream",
          "text": [
            "Index(['x', 'y', 'z'], dtype='object')\n"
          ]
        }
      ],
      "source": [
        "s = pd.Series([100, 200, 300], index=[\"x\", \"y\", \"z\"])\n",
        "print(s.index)\n"
      ]
    },
    {
      "cell_type": "markdown",
      "id": "cbaa955c",
      "metadata": {},
      "source": [
        "\n",
        "#### MultiIndex (Hierarchical Index)\n",
        "\n",
        "* Allows multiple levels of indexing (like a multi-dimensional index).\n",
        "* Useful for working with higher-dimensional data in 2D structures.\n",
        "\n"
      ]
    },
    {
      "cell_type": "code",
      "execution_count": 10,
      "id": "e9987169",
      "metadata": {},
      "outputs": [
        {
          "name": "stdout",
          "output_type": "stream",
          "text": [
            "              Value\n",
            "Group  Label       \n",
            "Group1 A         10\n",
            "       B         20\n",
            "Group2 A         30\n",
            "       B         40\n"
          ]
        }
      ],
      "source": [
        "arrays = [    [\"Group1\", \"Group1\", \"Group2\", \"Group2\"],\n",
        "    [\"A\", \"B\", \"A\", \"B\"]\n",
        "]\n",
        "multi_index = pd.MultiIndex.from_arrays(arrays, names=(\"Group\", \"Label\"))\n",
        "\n",
        "df = pd.DataFrame({\"Value\": [10, 20, 30, 40]}, index=multi_index)\n",
        "print(df)\n",
        "\n"
      ]
    },
    {
      "cell_type": "markdown",
      "id": "fdd1cba5",
      "metadata": {},
      "source": [
        "---\n",
        "\n",
        "#### DatetimeIndex\n",
        "\n",
        "* Specialized index for date and time data.\n",
        "* Very powerful for time series analysis.\n"
      ]
    },
    {
      "cell_type": "code",
      "execution_count": 7,
      "id": "9fe6c57c",
      "metadata": {},
      "outputs": [
        {
          "name": "stdout",
          "output_type": "stream",
          "text": [
            "DatetimeIndex(['2025-01-01', '2025-01-02', '2025-01-03', '2025-01-04',\n",
            "               '2025-01-05'],\n",
            "              dtype='datetime64[ns]', freq='D')\n"
          ]
        }
      ],
      "source": [
        "dates = pd.date_range(\"2025-01-01\", periods=5, freq=\"D\")\n",
        "print(dates)\n"
      ]
    },
    {
      "cell_type": "markdown",
      "id": "512f9d8f",
      "metadata": {},
      "source": [
        "---\n",
        "\n",
        "#### TimedeltaIndex\n",
        "\n",
        "* Represents differences in time (durations).\n",
        "* Useful for time delta calculations.\n",
        "\n"
      ]
    },
    {
      "cell_type": "code",
      "execution_count": 6,
      "id": "a3556630",
      "metadata": {},
      "outputs": [
        {
          "name": "stdout",
          "output_type": "stream",
          "text": [
            "TimedeltaIndex(['1 days', '2 days', '3 days'], dtype='timedelta64[ns]', freq=None)\n"
          ]
        }
      ],
      "source": [
        "td = pd.to_timedelta([\"1 days\", \"2 days\", \"3 days\"])\n",
        "print(td)\n",
        "\n"
      ]
    },
    {
      "cell_type": "markdown",
      "id": "51d343d6",
      "metadata": {},
      "source": [
        "---\n",
        "\n",
        "#### CategoricalIndex\n",
        "\n",
        "* Index based on **categorical data** (fixed categories).\n",
        "* More memory-efficient for repeated labels.\n",
        "\n"
      ]
    },
    {
      "cell_type": "code",
      "execution_count": 5,
      "id": "812b5639",
      "metadata": {
        "vscode": {
          "languageId": "javascript"
        }
      },
      "outputs": [
        {
          "name": "stdout",
          "output_type": "stream",
          "text": [
            "CategoricalIndex(['a', 'b', 'a', 'c'], categories=['a', 'b', 'c'], ordered=False, dtype='category')\n"
          ]
        }
      ],
      "source": [
        "cat_index = pd.CategoricalIndex([\"a\", \"b\", \"a\", \"c\"], categories=[\"a\", \"b\", \"c\"])\n",
        "print(cat_index)\n"
      ]
    },
    {
      "cell_type": "markdown",
      "id": "cec40c88",
      "metadata": {},
      "source": [
        "---\n",
        "\n",
        "#### PeriodIndex\n",
        "\n",
        "* Represents periods (like **month, year, quarter**).\n",
        "* Useful for financial/time-series data.\n",
        "\n"
      ]
    },
    {
      "cell_type": "code",
      "execution_count": 4,
      "id": "68b54da2",
      "metadata": {},
      "outputs": [
        {
          "name": "stdout",
          "output_type": "stream",
          "text": [
            "PeriodIndex(['2025-01', '2025-02', '2025-03', '2025-04'], dtype='period[M]')\n"
          ]
        }
      ],
      "source": [
        "periods = pd.period_range(\"2025-01\", periods=4, freq=\"M\")\n",
        "print(periods)\n"
      ]
    },
    {
      "cell_type": "markdown",
      "id": "3830202b",
      "metadata": {},
      "source": [
        "---\n",
        "\n",
        "**Summary**\n",
        "\n",
        "| Index Type           | Use Case                                       |\n",
        "| -------------------- | ---------------------------------------------- |\n",
        "| **RangeIndex**       | Default integer-based index                    |\n",
        "| **Index**            | Generic immutable labels                       |\n",
        "| **MultiIndex**       | Hierarchical/multi-level indexing              |\n",
        "| **DatetimeIndex**    | Time series (timestamps)                       |\n",
        "| **TimedeltaIndex**   | Time differences/durations                     |\n",
        "| **CategoricalIndex** | Efficient categorical labels                   |\n",
        "| **PeriodIndex**      | Fixed frequency periods (Month, Quarter, Year) |\n"
      ]
    },
    {
      "cell_type": "markdown",
      "id": "bf40f2c6",
      "metadata": {},
      "source": [
        "\n",
        "---\n",
        "\n",
        "**Summary of Pandas Data Structures**\n",
        "\n",
        "| Structure     | Dimension | Description                                      |\n",
        "| ------------- | --------- | ------------------------------------------------ |\n",
        "| **Series**    | 1D        | A labeled array (like a single column)           |\n",
        "| **DataFrame** | 2D        | A table of rows & columns (collection of Series) |\n",
        "| **Index**     | 1D        | Labels for rows and columns                      |\n",
        "\n",
        "---\n",
        "\n",
        "**In short**\n",
        "\n",
        "* **Series** = 1D labeled array\n",
        "* **DataFrame** = 2D labeled data (table)\n",
        "* **Index** = Labels for rows/columns\n",
        "\n",
        "\n"
      ]
    }
  ],
  "metadata": {
    "colab": {
      "provenance": []
    },
    "kernelspec": {
      "display_name": "Python 3.12",
      "language": "python",
      "name": "py12"
    },
    "language_info": {
      "codemirror_mode": {
        "name": "ipython",
        "version": 3
      },
      "file_extension": ".py",
      "mimetype": "text/x-python",
      "name": "python",
      "nbconvert_exporter": "python",
      "pygments_lexer": "ipython3",
      "version": "3.12.0"
    }
  },
  "nbformat": 4,
  "nbformat_minor": 5
}
