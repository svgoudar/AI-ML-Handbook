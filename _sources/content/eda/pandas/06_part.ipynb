{
 "cells": [
  {
   "cell_type": "markdown",
   "id": "c666e250",
   "metadata": {},
   "source": [
    "```{contents}\n",
    "```"
   ]
  },
  {
   "cell_type": "markdown",
   "id": "a689ad7e",
   "metadata": {},
   "source": [
    "## Column Transformer & Imputer"
   ]
  },
  {
   "cell_type": "code",
   "execution_count": 21,
   "id": "7ad72bde",
   "metadata": {},
   "outputs": [
    {
     "data": {
      "application/vnd.microsoft.datawrangler.viewer.v0+json": {
       "columns": [
        {
         "name": "index",
         "rawType": "int64",
         "type": "integer"
        },
        {
         "name": "application_id",
         "rawType": "object",
         "type": "string"
        },
        {
         "name": "customer_id",
         "rawType": "object",
         "type": "string"
        },
        {
         "name": "application_date",
         "rawType": "object",
         "type": "string"
        },
        {
         "name": "loan_type",
         "rawType": "object",
         "type": "string"
        },
        {
         "name": "loan_amount_requested",
         "rawType": "float64",
         "type": "float"
        },
        {
         "name": "loan_tenure_months",
         "rawType": "int64",
         "type": "integer"
        },
        {
         "name": "interest_rate_offered",
         "rawType": "float64",
         "type": "float"
        },
        {
         "name": "purpose_of_loan",
         "rawType": "object",
         "type": "string"
        },
        {
         "name": "employment_status",
         "rawType": "object",
         "type": "string"
        },
        {
         "name": "monthly_income",
         "rawType": "float64",
         "type": "float"
        },
        {
         "name": "cibil_score",
         "rawType": "int64",
         "type": "integer"
        },
        {
         "name": "existing_emis_monthly",
         "rawType": "float64",
         "type": "float"
        },
        {
         "name": "debt_to_income_ratio",
         "rawType": "float64",
         "type": "float"
        },
        {
         "name": "property_ownership_status",
         "rawType": "object",
         "type": "string"
        },
        {
         "name": "residential_address",
         "rawType": "object",
         "type": "string"
        },
        {
         "name": "applicant_age",
         "rawType": "int64",
         "type": "integer"
        },
        {
         "name": "gender",
         "rawType": "object",
         "type": "string"
        },
        {
         "name": "number_of_dependents",
         "rawType": "int64",
         "type": "integer"
        },
        {
         "name": "loan_status",
         "rawType": "object",
         "type": "string"
        },
        {
         "name": "fraud_flag",
         "rawType": "int64",
         "type": "integer"
        },
        {
         "name": "fraud_type",
         "rawType": "object",
         "type": "unknown"
        }
       ],
       "ref": "de098c1d-1fc6-45e6-8ddf-ada95d8a72f5",
       "rows": [
        [
         "0",
         "c8bf0bea-70e6-4870-9125-41b8210c527f",
         "CUST109427",
         "2023-04-09",
         "Business Loan",
         "604000.0",
         "12",
         "11.66",
         "Medical Emergency",
         "Retired",
         "34700.0",
         "714",
         "1100.0",
         "3.17",
         "Rented",
         "94/31, Sehgal Zila, Vadodara-380521, Anantapur, Uttarakhand, 918055",
         "28",
         "Female",
         "3",
         "Approved",
         "0",
         null
        ],
        [
         "1",
         "91224cec-3544-4bc7-ac15-a9792da54c02",
         "CUST106146",
         "2023-09-23",
         "Car Loan",
         "100000.0",
         "240",
         "13.62",
         "Education",
         "Unemployed",
         "51600.0",
         "667",
         "0.0",
         "0.0",
         "Owned",
         "H.No. 00, Sheth Chowk, Ichalkaranji 006728, Imphal, Himachal Pradesh, 909564",
         "44",
         "Other",
         "3",
         "Approved",
         "0",
         null
        ],
        [
         "2",
         "4efcd02d-4a03-4ab7-9bd1-0ff430493d0c",
         "CUST100674",
         "2023-05-22",
         "Education Loan",
         "431000.0",
         "60",
         "11.4",
         "Medical Emergency",
         "Self-Employed",
         "14800.0",
         "808",
         "4600.0",
         "31.08",
         "Rented",
         "H.No. 81, Dutta Path, Kozhikode-340301, Tadepalligudem, Kerala, 797564",
         "56",
         "Other",
         "4",
         "Approved",
         "0",
         null
        ],
        [
         "3",
         "a61337d4-ba04-4a68-b492-2cb8266e6ed7",
         "CUST106466",
         "2024-07-09",
         "Car Loan",
         "324000.0",
         "120",
         "10.36",
         "Debt Consolidation",
         "Self-Employed",
         "28800.0",
         "647",
         "4000.0",
         "13.89",
         "Rented",
         "H.No. 022, Rege Road, Tiruvottiyur-927857, Aurangabad, Odisha, 097184",
         "27",
         "Other",
         "4",
         "Declined",
         "0",
         null
        ],
        [
         "4",
         "a8d1639e-170b-41b2-826a-55c7dae38d16",
         "CUST112319",
         "2023-11-20",
         "Personal Loan",
         "100000.0",
         "36",
         "14.14",
         "Business Expansion",
         "Salaried",
         "43900.0",
         "624",
         "1100.0",
         "2.51",
         "Rented",
         "85/24, Bali Zila, Sambalpur 922071, Tumkur, Kerala, 775386",
         "50",
         "Other",
         "0",
         "Declined",
         "0",
         null
        ]
       ],
       "shape": {
        "columns": 21,
        "rows": 5
       }
      },
      "text/html": [
       "<div>\n",
       "<style scoped>\n",
       "    .dataframe tbody tr th:only-of-type {\n",
       "        vertical-align: middle;\n",
       "    }\n",
       "\n",
       "    .dataframe tbody tr th {\n",
       "        vertical-align: top;\n",
       "    }\n",
       "\n",
       "    .dataframe thead th {\n",
       "        text-align: right;\n",
       "    }\n",
       "</style>\n",
       "<table border=\"1\" class=\"dataframe\">\n",
       "  <thead>\n",
       "    <tr style=\"text-align: right;\">\n",
       "      <th></th>\n",
       "      <th>application_id</th>\n",
       "      <th>customer_id</th>\n",
       "      <th>application_date</th>\n",
       "      <th>loan_type</th>\n",
       "      <th>loan_amount_requested</th>\n",
       "      <th>loan_tenure_months</th>\n",
       "      <th>interest_rate_offered</th>\n",
       "      <th>purpose_of_loan</th>\n",
       "      <th>employment_status</th>\n",
       "      <th>monthly_income</th>\n",
       "      <th>...</th>\n",
       "      <th>existing_emis_monthly</th>\n",
       "      <th>debt_to_income_ratio</th>\n",
       "      <th>property_ownership_status</th>\n",
       "      <th>residential_address</th>\n",
       "      <th>applicant_age</th>\n",
       "      <th>gender</th>\n",
       "      <th>number_of_dependents</th>\n",
       "      <th>loan_status</th>\n",
       "      <th>fraud_flag</th>\n",
       "      <th>fraud_type</th>\n",
       "    </tr>\n",
       "  </thead>\n",
       "  <tbody>\n",
       "    <tr>\n",
       "      <th>0</th>\n",
       "      <td>c8bf0bea-70e6-4870-9125-41b8210c527f</td>\n",
       "      <td>CUST109427</td>\n",
       "      <td>2023-04-09</td>\n",
       "      <td>Business Loan</td>\n",
       "      <td>604000.0</td>\n",
       "      <td>12</td>\n",
       "      <td>11.66</td>\n",
       "      <td>Medical Emergency</td>\n",
       "      <td>Retired</td>\n",
       "      <td>34700.0</td>\n",
       "      <td>...</td>\n",
       "      <td>1100.0</td>\n",
       "      <td>3.17</td>\n",
       "      <td>Rented</td>\n",
       "      <td>94/31, Sehgal Zila, Vadodara-380521, Anantapur...</td>\n",
       "      <td>28</td>\n",
       "      <td>Female</td>\n",
       "      <td>3</td>\n",
       "      <td>Approved</td>\n",
       "      <td>0</td>\n",
       "      <td>NaN</td>\n",
       "    </tr>\n",
       "    <tr>\n",
       "      <th>1</th>\n",
       "      <td>91224cec-3544-4bc7-ac15-a9792da54c02</td>\n",
       "      <td>CUST106146</td>\n",
       "      <td>2023-09-23</td>\n",
       "      <td>Car Loan</td>\n",
       "      <td>100000.0</td>\n",
       "      <td>240</td>\n",
       "      <td>13.62</td>\n",
       "      <td>Education</td>\n",
       "      <td>Unemployed</td>\n",
       "      <td>51600.0</td>\n",
       "      <td>...</td>\n",
       "      <td>0.0</td>\n",
       "      <td>0.00</td>\n",
       "      <td>Owned</td>\n",
       "      <td>H.No. 00, Sheth Chowk, Ichalkaranji 006728, Im...</td>\n",
       "      <td>44</td>\n",
       "      <td>Other</td>\n",
       "      <td>3</td>\n",
       "      <td>Approved</td>\n",
       "      <td>0</td>\n",
       "      <td>NaN</td>\n",
       "    </tr>\n",
       "    <tr>\n",
       "      <th>2</th>\n",
       "      <td>4efcd02d-4a03-4ab7-9bd1-0ff430493d0c</td>\n",
       "      <td>CUST100674</td>\n",
       "      <td>2023-05-22</td>\n",
       "      <td>Education Loan</td>\n",
       "      <td>431000.0</td>\n",
       "      <td>60</td>\n",
       "      <td>11.40</td>\n",
       "      <td>Medical Emergency</td>\n",
       "      <td>Self-Employed</td>\n",
       "      <td>14800.0</td>\n",
       "      <td>...</td>\n",
       "      <td>4600.0</td>\n",
       "      <td>31.08</td>\n",
       "      <td>Rented</td>\n",
       "      <td>H.No. 81, Dutta Path, Kozhikode-340301, Tadepa...</td>\n",
       "      <td>56</td>\n",
       "      <td>Other</td>\n",
       "      <td>4</td>\n",
       "      <td>Approved</td>\n",
       "      <td>0</td>\n",
       "      <td>NaN</td>\n",
       "    </tr>\n",
       "    <tr>\n",
       "      <th>3</th>\n",
       "      <td>a61337d4-ba04-4a68-b492-2cb8266e6ed7</td>\n",
       "      <td>CUST106466</td>\n",
       "      <td>2024-07-09</td>\n",
       "      <td>Car Loan</td>\n",
       "      <td>324000.0</td>\n",
       "      <td>120</td>\n",
       "      <td>10.36</td>\n",
       "      <td>Debt Consolidation</td>\n",
       "      <td>Self-Employed</td>\n",
       "      <td>28800.0</td>\n",
       "      <td>...</td>\n",
       "      <td>4000.0</td>\n",
       "      <td>13.89</td>\n",
       "      <td>Rented</td>\n",
       "      <td>H.No. 022, Rege Road, Tiruvottiyur-927857, Aur...</td>\n",
       "      <td>27</td>\n",
       "      <td>Other</td>\n",
       "      <td>4</td>\n",
       "      <td>Declined</td>\n",
       "      <td>0</td>\n",
       "      <td>NaN</td>\n",
       "    </tr>\n",
       "    <tr>\n",
       "      <th>4</th>\n",
       "      <td>a8d1639e-170b-41b2-826a-55c7dae38d16</td>\n",
       "      <td>CUST112319</td>\n",
       "      <td>2023-11-20</td>\n",
       "      <td>Personal Loan</td>\n",
       "      <td>100000.0</td>\n",
       "      <td>36</td>\n",
       "      <td>14.14</td>\n",
       "      <td>Business Expansion</td>\n",
       "      <td>Salaried</td>\n",
       "      <td>43900.0</td>\n",
       "      <td>...</td>\n",
       "      <td>1100.0</td>\n",
       "      <td>2.51</td>\n",
       "      <td>Rented</td>\n",
       "      <td>85/24, Bali Zila, Sambalpur 922071, Tumkur, Ke...</td>\n",
       "      <td>50</td>\n",
       "      <td>Other</td>\n",
       "      <td>0</td>\n",
       "      <td>Declined</td>\n",
       "      <td>0</td>\n",
       "      <td>NaN</td>\n",
       "    </tr>\n",
       "  </tbody>\n",
       "</table>\n",
       "<p>5 rows × 21 columns</p>\n",
       "</div>"
      ],
      "text/plain": [
       "                         application_id customer_id application_date  \\\n",
       "0  c8bf0bea-70e6-4870-9125-41b8210c527f  CUST109427       2023-04-09   \n",
       "1  91224cec-3544-4bc7-ac15-a9792da54c02  CUST106146       2023-09-23   \n",
       "2  4efcd02d-4a03-4ab7-9bd1-0ff430493d0c  CUST100674       2023-05-22   \n",
       "3  a61337d4-ba04-4a68-b492-2cb8266e6ed7  CUST106466       2024-07-09   \n",
       "4  a8d1639e-170b-41b2-826a-55c7dae38d16  CUST112319       2023-11-20   \n",
       "\n",
       "        loan_type  loan_amount_requested  loan_tenure_months  \\\n",
       "0   Business Loan               604000.0                  12   \n",
       "1        Car Loan               100000.0                 240   \n",
       "2  Education Loan               431000.0                  60   \n",
       "3        Car Loan               324000.0                 120   \n",
       "4   Personal Loan               100000.0                  36   \n",
       "\n",
       "   interest_rate_offered     purpose_of_loan employment_status  \\\n",
       "0                  11.66   Medical Emergency           Retired   \n",
       "1                  13.62           Education        Unemployed   \n",
       "2                  11.40   Medical Emergency     Self-Employed   \n",
       "3                  10.36  Debt Consolidation     Self-Employed   \n",
       "4                  14.14  Business Expansion          Salaried   \n",
       "\n",
       "   monthly_income  ...  existing_emis_monthly  debt_to_income_ratio  \\\n",
       "0         34700.0  ...                 1100.0                  3.17   \n",
       "1         51600.0  ...                    0.0                  0.00   \n",
       "2         14800.0  ...                 4600.0                 31.08   \n",
       "3         28800.0  ...                 4000.0                 13.89   \n",
       "4         43900.0  ...                 1100.0                  2.51   \n",
       "\n",
       "   property_ownership_status  \\\n",
       "0                     Rented   \n",
       "1                      Owned   \n",
       "2                     Rented   \n",
       "3                     Rented   \n",
       "4                     Rented   \n",
       "\n",
       "                                 residential_address applicant_age  gender  \\\n",
       "0  94/31, Sehgal Zila, Vadodara-380521, Anantapur...            28  Female   \n",
       "1  H.No. 00, Sheth Chowk, Ichalkaranji 006728, Im...            44   Other   \n",
       "2  H.No. 81, Dutta Path, Kozhikode-340301, Tadepa...            56   Other   \n",
       "3  H.No. 022, Rege Road, Tiruvottiyur-927857, Aur...            27   Other   \n",
       "4  85/24, Bali Zila, Sambalpur 922071, Tumkur, Ke...            50   Other   \n",
       "\n",
       "  number_of_dependents  loan_status fraud_flag  fraud_type  \n",
       "0                    3     Approved          0         NaN  \n",
       "1                    3     Approved          0         NaN  \n",
       "2                    4     Approved          0         NaN  \n",
       "3                    4     Declined          0         NaN  \n",
       "4                    0     Declined          0         NaN  \n",
       "\n",
       "[5 rows x 21 columns]"
      ]
     },
     "execution_count": 21,
     "metadata": {},
     "output_type": "execute_result"
    }
   ],
   "source": [
    "import pandas as pd\n",
    "import numpy as np\n",
    "from sklearn.impute import SimpleImputer\n",
    "from sklearn.compose import ColumnTransformer\n",
    "from sklearn.preprocessing import StandardScaler, OneHotEncoder\n",
    "from sklearn.pipeline import Pipeline\n",
    "\n",
    "url = \"https://github.com/svgoudar/datasets/blob/main/loan_applications.csv?raw=true\"\n",
    "df = pd.read_csv(url)\n",
    "df.head()\n"
   ]
  },
  {
   "cell_type": "markdown",
   "id": "e95ff296",
   "metadata": {},
   "source": [
    "* ### Identify column types"
   ]
  },
  {
   "cell_type": "code",
   "execution_count": 22,
   "id": "0a9570ad",
   "metadata": {},
   "outputs": [
    {
     "name": "stdout",
     "output_type": "stream",
     "text": [
      "Normal numeric columns: ['loan_amount_requested', 'interest_rate_offered', 'monthly_income', 'cibil_score', 'existing_emis_monthly', 'applicant_age', 'number_of_dependents']\n",
      "Skewed numeric columns: ['fraud_flag', 'debt_to_income_ratio', 'loan_tenure_months']\n",
      "Categorical columns: ['application_id', 'customer_id', 'application_date', 'loan_type', 'purpose_of_loan', 'employment_status', 'property_ownership_status', 'residential_address', 'gender', 'loan_status', 'fraud_type']\n"
     ]
    }
   ],
   "source": [
    "numeric_cols = df.select_dtypes(include=np.number).columns.tolist()\n",
    "categorical_cols = df.select_dtypes(exclude=np.number).columns.tolist()\n",
    "\n",
    "# Identify skewed numeric columns\n",
    "skewed_cols = df[numeric_cols].skew().sort_values(ascending=False)\n",
    "skewed_cols = skewed_cols[abs(skewed_cols) > 0.5].index.tolist()  # threshold for skew\n",
    "normal_cols = [col for col in numeric_cols if col not in skewed_cols]\n",
    "\n",
    "print(\"Normal numeric columns:\", normal_cols)\n",
    "print(\"Skewed numeric columns:\", skewed_cols)\n",
    "print(\"Categorical columns:\", categorical_cols)\n"
   ]
  },
  {
   "cell_type": "markdown",
   "id": "d9fc2835",
   "metadata": {},
   "source": [
    "\n",
    "\n",
    "---\n",
    "\n",
    "* ### Define transformers\n"
   ]
  },
  {
   "cell_type": "code",
   "execution_count": 23,
   "id": "f8f62b7a",
   "metadata": {},
   "outputs": [],
   "source": [
    "# Numeric transformers\n",
    "mean_imputer_scaler = Pipeline([\n",
    "    ('imputer', SimpleImputer(strategy='mean')),\n",
    "    # ('scaler', StandardScaler())\n",
    "])\n",
    "\n",
    "median_imputer_scaler = Pipeline([\n",
    "    ('imputer', SimpleImputer(strategy='median')),\n",
    "    # ('scaler', StandardScaler())\n",
    "])\n",
    "\n",
    "# Categorical transformer\n",
    "cat_imputer_encoder = Pipeline([\n",
    "    ('imputer', SimpleImputer(strategy='most_frequent')),\n",
    "])\n",
    "\n",
    "# ColumnTransformer combining numeric and categorical pipelines\n",
    "preprocessor = ColumnTransformer(\n",
    "    transformers=[\n",
    "        ('normal_num', mean_imputer_scaler, normal_cols),\n",
    "        ('skewed_num', median_imputer_scaler, skewed_cols)\n",
    "    ]\n",
    ")\n"
   ]
  },
  {
   "cell_type": "markdown",
   "id": "03185ac0",
   "metadata": {},
   "source": [
    "\n",
    "\n",
    "---\n",
    "\n",
    "* ### ColumnTransformer\n"
   ]
  },
  {
   "cell_type": "code",
   "execution_count": 24,
   "id": "5300fc15",
   "metadata": {},
   "outputs": [],
   "source": [
    "preprocessor = ColumnTransformer(\n",
    "    transformers=[\n",
    "        ('normal_num', mean_imputer_scaler, normal_cols),\n",
    "        ('skewed_num', median_imputer_scaler, skewed_cols)\n",
    "    ]\n",
    ")\n",
    "\n"
   ]
  },
  {
   "cell_type": "markdown",
   "id": "504cb86b",
   "metadata": {},
   "source": [
    "\n",
    "\n",
    "\n",
    "* ### Fit and transform\n",
    "\n"
   ]
  },
  {
   "cell_type": "code",
   "execution_count": 25,
   "id": "b9206310",
   "metadata": {},
   "outputs": [
    {
     "name": "stdout",
     "output_type": "stream",
     "text": [
      "Processed array shape: (50000, 10)\n"
     ]
    },
    {
     "data": {
      "text/plain": [
       "array([[6.040e+05, 1.166e+01, 3.470e+04, ..., 0.000e+00, 3.170e+00,\n",
       "        1.200e+01],\n",
       "       [1.000e+05, 1.362e+01, 5.160e+04, ..., 0.000e+00, 0.000e+00,\n",
       "        2.400e+02],\n",
       "       [4.310e+05, 1.140e+01, 1.480e+04, ..., 0.000e+00, 3.108e+01,\n",
       "        6.000e+01],\n",
       "       ...,\n",
       "       [4.360e+05, 1.098e+01, 4.200e+04, ..., 0.000e+00, 1.430e+00,\n",
       "        1.200e+01],\n",
       "       [8.270e+05, 1.618e+01, 4.670e+04, ..., 0.000e+00, 1.734e+01,\n",
       "        2.400e+01],\n",
       "       [1.000e+05, 9.440e+00, 8.360e+04, ..., 0.000e+00, 2.630e+00,\n",
       "        2.400e+01]])"
      ]
     },
     "execution_count": 25,
     "metadata": {},
     "output_type": "execute_result"
    }
   ],
   "source": [
    "df_processed_array = preprocessor.fit_transform(df)\n",
    "\n",
    "# For demonstration, check shape\n",
    "print(\"Processed array shape:\", df_processed_array.shape)\n",
    "df_processed_array\n"
   ]
  },
  {
   "cell_type": "markdown",
   "id": "f2b743b0",
   "metadata": {},
   "source": [
    "\n",
    "\n",
    "---\n",
    "\n",
    "* ### Convert back to DataFrame (optional)\n",
    "\n"
   ]
  },
  {
   "cell_type": "code",
   "execution_count": 26,
   "id": "a8c01296",
   "metadata": {},
   "outputs": [
    {
     "data": {
      "application/vnd.microsoft.datawrangler.viewer.v0+json": {
       "columns": [
        {
         "name": "index",
         "rawType": "int64",
         "type": "integer"
        },
        {
         "name": "loan_amount_requested",
         "rawType": "float64",
         "type": "float"
        },
        {
         "name": "interest_rate_offered",
         "rawType": "float64",
         "type": "float"
        },
        {
         "name": "monthly_income",
         "rawType": "float64",
         "type": "float"
        },
        {
         "name": "cibil_score",
         "rawType": "float64",
         "type": "float"
        },
        {
         "name": "existing_emis_monthly",
         "rawType": "float64",
         "type": "float"
        },
        {
         "name": "applicant_age",
         "rawType": "float64",
         "type": "float"
        },
        {
         "name": "number_of_dependents",
         "rawType": "float64",
         "type": "float"
        },
        {
         "name": "fraud_flag",
         "rawType": "float64",
         "type": "float"
        },
        {
         "name": "debt_to_income_ratio",
         "rawType": "float64",
         "type": "float"
        },
        {
         "name": "loan_tenure_months",
         "rawType": "float64",
         "type": "float"
        }
       ],
       "ref": "83f38b0e-b1e8-4cb2-bf49-732ec082caaa",
       "rows": [
        [
         "0",
         "604000.0",
         "11.66",
         "34700.0",
         "714.0",
         "1100.0",
         "28.0",
         "3.0",
         "0.0",
         "3.17",
         "12.0"
        ],
        [
         "1",
         "100000.0",
         "13.62",
         "51600.0",
         "667.0",
         "0.0",
         "44.0",
         "3.0",
         "0.0",
         "0.0",
         "240.0"
        ],
        [
         "2",
         "431000.0",
         "11.4",
         "14800.0",
         "808.0",
         "4600.0",
         "56.0",
         "4.0",
         "0.0",
         "31.08",
         "60.0"
        ],
        [
         "3",
         "324000.0",
         "10.36",
         "28800.0",
         "647.0",
         "4000.0",
         "27.0",
         "4.0",
         "0.0",
         "13.89",
         "120.0"
        ],
        [
         "4",
         "100000.0",
         "14.14",
         "43900.0",
         "624.0",
         "1100.0",
         "50.0",
         "0.0",
         "0.0",
         "2.51",
         "36.0"
        ]
       ],
       "shape": {
        "columns": 10,
        "rows": 5
       }
      },
      "text/html": [
       "<div>\n",
       "<style scoped>\n",
       "    .dataframe tbody tr th:only-of-type {\n",
       "        vertical-align: middle;\n",
       "    }\n",
       "\n",
       "    .dataframe tbody tr th {\n",
       "        vertical-align: top;\n",
       "    }\n",
       "\n",
       "    .dataframe thead th {\n",
       "        text-align: right;\n",
       "    }\n",
       "</style>\n",
       "<table border=\"1\" class=\"dataframe\">\n",
       "  <thead>\n",
       "    <tr style=\"text-align: right;\">\n",
       "      <th></th>\n",
       "      <th>loan_amount_requested</th>\n",
       "      <th>interest_rate_offered</th>\n",
       "      <th>monthly_income</th>\n",
       "      <th>cibil_score</th>\n",
       "      <th>existing_emis_monthly</th>\n",
       "      <th>applicant_age</th>\n",
       "      <th>number_of_dependents</th>\n",
       "      <th>fraud_flag</th>\n",
       "      <th>debt_to_income_ratio</th>\n",
       "      <th>loan_tenure_months</th>\n",
       "    </tr>\n",
       "  </thead>\n",
       "  <tbody>\n",
       "    <tr>\n",
       "      <th>0</th>\n",
       "      <td>604000.0</td>\n",
       "      <td>11.66</td>\n",
       "      <td>34700.0</td>\n",
       "      <td>714.0</td>\n",
       "      <td>1100.0</td>\n",
       "      <td>28.0</td>\n",
       "      <td>3.0</td>\n",
       "      <td>0.0</td>\n",
       "      <td>3.17</td>\n",
       "      <td>12.0</td>\n",
       "    </tr>\n",
       "    <tr>\n",
       "      <th>1</th>\n",
       "      <td>100000.0</td>\n",
       "      <td>13.62</td>\n",
       "      <td>51600.0</td>\n",
       "      <td>667.0</td>\n",
       "      <td>0.0</td>\n",
       "      <td>44.0</td>\n",
       "      <td>3.0</td>\n",
       "      <td>0.0</td>\n",
       "      <td>0.00</td>\n",
       "      <td>240.0</td>\n",
       "    </tr>\n",
       "    <tr>\n",
       "      <th>2</th>\n",
       "      <td>431000.0</td>\n",
       "      <td>11.40</td>\n",
       "      <td>14800.0</td>\n",
       "      <td>808.0</td>\n",
       "      <td>4600.0</td>\n",
       "      <td>56.0</td>\n",
       "      <td>4.0</td>\n",
       "      <td>0.0</td>\n",
       "      <td>31.08</td>\n",
       "      <td>60.0</td>\n",
       "    </tr>\n",
       "    <tr>\n",
       "      <th>3</th>\n",
       "      <td>324000.0</td>\n",
       "      <td>10.36</td>\n",
       "      <td>28800.0</td>\n",
       "      <td>647.0</td>\n",
       "      <td>4000.0</td>\n",
       "      <td>27.0</td>\n",
       "      <td>4.0</td>\n",
       "      <td>0.0</td>\n",
       "      <td>13.89</td>\n",
       "      <td>120.0</td>\n",
       "    </tr>\n",
       "    <tr>\n",
       "      <th>4</th>\n",
       "      <td>100000.0</td>\n",
       "      <td>14.14</td>\n",
       "      <td>43900.0</td>\n",
       "      <td>624.0</td>\n",
       "      <td>1100.0</td>\n",
       "      <td>50.0</td>\n",
       "      <td>0.0</td>\n",
       "      <td>0.0</td>\n",
       "      <td>2.51</td>\n",
       "      <td>36.0</td>\n",
       "    </tr>\n",
       "  </tbody>\n",
       "</table>\n",
       "</div>"
      ],
      "text/plain": [
       "   loan_amount_requested  interest_rate_offered  monthly_income  cibil_score  \\\n",
       "0               604000.0                  11.66         34700.0        714.0   \n",
       "1               100000.0                  13.62         51600.0        667.0   \n",
       "2               431000.0                  11.40         14800.0        808.0   \n",
       "3               324000.0                  10.36         28800.0        647.0   \n",
       "4               100000.0                  14.14         43900.0        624.0   \n",
       "\n",
       "   existing_emis_monthly  applicant_age  number_of_dependents  fraud_flag  \\\n",
       "0                 1100.0           28.0                   3.0         0.0   \n",
       "1                    0.0           44.0                   3.0         0.0   \n",
       "2                 4600.0           56.0                   4.0         0.0   \n",
       "3                 4000.0           27.0                   4.0         0.0   \n",
       "4                 1100.0           50.0                   0.0         0.0   \n",
       "\n",
       "   debt_to_income_ratio  loan_tenure_months  \n",
       "0                  3.17                12.0  \n",
       "1                  0.00               240.0  \n",
       "2                 31.08                60.0  \n",
       "3                 13.89               120.0  \n",
       "4                  2.51                36.0  "
      ]
     },
     "execution_count": 26,
     "metadata": {},
     "output_type": "execute_result"
    }
   ],
   "source": [
    "# Get column names after one-hot encoding\n",
    "# cat_columns = preprocessor.named_transformers_['cat']['onehot'].get_feature_names_out(categorical_cols)\n",
    "all_columns = normal_cols + skewed_cols\n",
    "\n",
    "df_processed = pd.DataFrame(df_processed_array, columns=all_columns)\n",
    "df_processed.head()\n"
   ]
  },
  {
   "cell_type": "markdown",
   "id": "895c02d8",
   "metadata": {},
   "source": [
    "---\n",
    "\n",
    "**Explanation**\n",
    "\n",
    "1. **Normal numeric columns:** imputed with **mean** and scaled.\n",
    "2. **Skewed numeric columns:** imputed with **median** and scaled.\n",
    "3. **Categorical columns:** imputed with **mode** and **one-hot encoded**.\n",
    "4. **ColumnTransformer** allows applying **different preprocessing steps** to different column types in a single pipeline.\n",
    "\n"
   ]
  }
 ],
 "metadata": {
  "kernelspec": {
   "display_name": "Python 3.12",
   "language": "python",
   "name": "py12"
  },
  "language_info": {
   "codemirror_mode": {
    "name": "ipython",
    "version": 3
   },
   "file_extension": ".py",
   "mimetype": "text/x-python",
   "name": "python",
   "nbconvert_exporter": "python",
   "pygments_lexer": "ipython3",
   "version": "3.12.0"
  }
 },
 "nbformat": 4,
 "nbformat_minor": 5
}
