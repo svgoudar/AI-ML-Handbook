{
 "cells": [
  {
   "cell_type": "markdown",
   "id": "1381baad",
   "metadata": {},
   "source": [
    "## Numpy\n",
    "\n",
    "NumPy = **Numerical Python**. It is a Python library for fast numerical computation.\n",
    "\n",
    "### Key Features:\n",
    "\n",
    "* Provides **ndarray**: a powerful n-dimensional array object.\n",
    "* Supports **vectorized operations** (element-wise arithmetic without loops).\n",
    "* Efficient **linear algebra**, **Fourier transforms**, and **random number generation**.\n",
    "* Integrates with **C/C++/Fortran** for performance.\n"
   ]
  },
  {
   "cell_type": "markdown",
   "id": "d9b3187e",
   "metadata": {},
   "source": [
    "```{dropdown} Click here for Sections\n",
    "```{tableofcontents}"
   ]
  },
  {
   "cell_type": "markdown",
   "id": "274fbe9e",
   "metadata": {},
   "source": []
  }
 ],
 "metadata": {
  "language_info": {
   "name": "python"
  }
 },
 "nbformat": 4,
 "nbformat_minor": 5
}
