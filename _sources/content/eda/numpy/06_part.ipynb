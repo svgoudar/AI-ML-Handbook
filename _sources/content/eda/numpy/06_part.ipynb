{
 "cells": [
  {
   "cell_type": "markdown",
   "id": "f0ec1d46",
   "metadata": {},
   "source": [
    "```{contents}\n",
    "```"
   ]
  },
  {
   "cell_type": "markdown",
   "id": "7e63e9e8",
   "metadata": {},
   "source": [
    "# Stacking & Splitting\n",
    "\n",
    "## Stacking\n",
    "\n",
    "---\n",
    "\n",
    "### 1. **Vertical stacking (`vstack`)**\n",
    "\n",
    "Stacks arrays **row-wise** (axis = 0).\n",
    "\n"
   ]
  },
  {
   "cell_type": "code",
   "execution_count": 13,
   "id": "658de711",
   "metadata": {},
   "outputs": [
    {
     "name": "stdout",
     "output_type": "stream",
     "text": [
      "[[1 2 3]\n",
      " [4 5 6]]\n"
     ]
    }
   ],
   "source": [
    "import numpy as np\n",
    "\n",
    "a = np.array([1,2,3])\n",
    "b = np.array([4,5,6])\n",
    "\n",
    "print(np.vstack((a,b)))\n"
   ]
  },
  {
   "cell_type": "markdown",
   "id": "397d9e66",
   "metadata": {},
   "source": [
    "Shape `(2,3)` → rows stacked.\n",
    "\n",
    "---\n",
    "\n",
    "### Horizontal stacking (`hstack`)\n",
    "\n",
    "Stacks arrays **column-wise** (axis = 1 for 2D).\n"
   ]
  },
  {
   "cell_type": "code",
   "execution_count": 14,
   "id": "99b9c1a4",
   "metadata": {},
   "outputs": [
    {
     "name": "stdout",
     "output_type": "stream",
     "text": [
      "[1 2 3 4 5 6]\n",
      "[[1 4]\n",
      " [2 5]\n",
      " [3 6]]\n"
     ]
    }
   ],
   "source": [
    "print(np.hstack((a,b)))\n",
    "\n",
    "# If 2D: columns are joined\n",
    "\n",
    "x = np.array([[1],[2],[3]])\n",
    "y = np.array([[4],[5],[6]])\n",
    "print(np.hstack((x,y)))\n"
   ]
  },
  {
   "cell_type": "markdown",
   "id": "19e60397",
   "metadata": {},
   "source": [
    "### Depth stacking (`dstack`)\n",
    "\n",
    "Stacks along the **third axis** (depth).\n"
   ]
  },
  {
   "cell_type": "code",
   "execution_count": 15,
   "id": "4549834c",
   "metadata": {
    "vscode": {
     "languageId": "javascript"
    }
   },
   "outputs": [
    {
     "name": "stdout",
     "output_type": "stream",
     "text": [
      "[[[1 4]\n",
      "  [2 5]\n",
      "  [3 6]]]\n"
     ]
    }
   ],
   "source": [
    "print(np.dstack((a,b)))\n"
   ]
  },
  {
   "cell_type": "markdown",
   "id": "786bb36f",
   "metadata": {},
   "source": [
    "\n",
    "\n",
    "Shape `(1,3,2)`.\n",
    "\n",
    "---\n",
    "\n",
    "### Column stacking (`column_stack`)\n",
    "\n",
    "Stacks 1D arrays as **columns** into a 2D array.\n",
    "\n"
   ]
  },
  {
   "cell_type": "code",
   "execution_count": 16,
   "id": "549ead49",
   "metadata": {
    "vscode": {
     "languageId": "javascript"
    }
   },
   "outputs": [
    {
     "name": "stdout",
     "output_type": "stream",
     "text": [
      "[[1 4]\n",
      " [2 5]\n",
      " [3 6]]\n"
     ]
    }
   ],
   "source": [
    "print(np.column_stack((a,b)))\n"
   ]
  },
  {
   "cell_type": "markdown",
   "id": "de94e1fd",
   "metadata": {},
   "source": [
    "\n",
    "\n",
    "Equivalent to `np.c_[a,b]`.\n",
    "\n",
    "---\n",
    "\n",
    "### Row stacking (`row_stack`)\n",
    "\n",
    "Stacks 1D arrays as **rows** into a 2D array.\n",
    "\n"
   ]
  },
  {
   "cell_type": "code",
   "execution_count": 17,
   "id": "62b26d42",
   "metadata": {},
   "outputs": [
    {
     "name": "stdout",
     "output_type": "stream",
     "text": [
      "[[1 2 3]\n",
      " [4 5 6]]\n"
     ]
    },
    {
     "name": "stderr",
     "output_type": "stream",
     "text": [
      "C:\\Users\\sangouda\\AppData\\Local\\Temp\\ipykernel_36800\\1414643688.py:1: DeprecationWarning: `row_stack` alias is deprecated. Use `np.vstack` directly.\n",
      "  print(np.row_stack((a,b)))\n"
     ]
    }
   ],
   "source": [
    "\n",
    "print(np.row_stack((a,b)))\n",
    "\n",
    "\n",
    "# Equivalent to `np.vstack((a,b))`.\n"
   ]
  },
  {
   "cell_type": "markdown",
   "id": "847fad10",
   "metadata": {},
   "source": [
    "\n",
    "---\n",
    "\n",
    "### Generic stacking (`stack`)\n",
    "\n",
    "Adds a **new axis** at a specified position.\n",
    "\n"
   ]
  },
  {
   "cell_type": "code",
   "execution_count": 18,
   "id": "da70e84d",
   "metadata": {},
   "outputs": [
    {
     "name": "stdout",
     "output_type": "stream",
     "text": [
      "[[1 2 3]\n",
      " [4 5 6]]\n",
      "[[1 4]\n",
      " [2 5]\n",
      " [3 6]]\n"
     ]
    }
   ],
   "source": [
    "\n",
    "print(np.stack((a,b), axis=0))\n",
    "\n",
    "print(np.stack((a,b), axis=1))\n"
   ]
  },
  {
   "cell_type": "markdown",
   "id": "281cd0bf",
   "metadata": {},
   "source": [
    "\n",
    "\n",
    "* `axis=0` → row-wise\n",
    "* `axis=1` → column-wise\n",
    "\n",
    "---\n",
    "\n",
    "✅ **Summary**\n",
    "\n",
    "* `vstack` / `row_stack`: stack as rows\n",
    "* `hstack`: stack as columns\n",
    "* `dstack`: stack into depth (3rd axis)\n",
    "* `column_stack`: 1D arrays → columns of 2D\n",
    "* `stack`: flexible, adds a new axis anywhere\n",
    "\n"
   ]
  },
  {
   "cell_type": "markdown",
   "id": "0491a97a",
   "metadata": {},
   "source": [
    "## Splitting\n",
    "\n",
    "### Horizontal split (`hsplit`)\n",
    "\n",
    "Splits along **columns** (axis = 1).\n",
    "\n"
   ]
  },
  {
   "cell_type": "code",
   "execution_count": 24,
   "id": "78956310",
   "metadata": {},
   "outputs": [
    {
     "name": "stdout",
     "output_type": "stream",
     "text": [
      "Array:\n",
      " [[ 0  1  2  3]\n",
      " [ 4  5  6  7]\n",
      " [ 8  9 10 11]\n",
      " [12 13 14 15]]\n",
      "[array([[ 0,  1],\n",
      "       [ 4,  5],\n",
      "       [ 8,  9],\n",
      "       [12, 13]]), array([[ 2,  3],\n",
      "       [ 6,  7],\n",
      "       [10, 11],\n",
      "       [14, 15]])]\n"
     ]
    }
   ],
   "source": [
    "import numpy as np\n",
    "\n",
    "a = np.arange(16).reshape(4,4)\n",
    "print(\"Array:\\n\", a)\n",
    "\n",
    "# Split into 2 equal parts (along columns)\n",
    "print(np.hsplit(a, 2))\n"
   ]
  },
  {
   "cell_type": "markdown",
   "id": "a9ee5a78",
   "metadata": {},
   "source": [
    "\n",
    "---\n",
    "\n",
    "### Vertical split (`vsplit`)\n",
    "\n",
    "Splits along **rows** (axis = 0).\n",
    "\n"
   ]
  },
  {
   "cell_type": "code",
   "execution_count": 25,
   "id": "df7ec269",
   "metadata": {},
   "outputs": [
    {
     "name": "stdout",
     "output_type": "stream",
     "text": [
      "[array([[0, 1, 2, 3],\n",
      "       [4, 5, 6, 7]]), array([[ 8,  9, 10, 11],\n",
      "       [12, 13, 14, 15]])]\n"
     ]
    }
   ],
   "source": [
    "print(np.vsplit(a, 2))\n"
   ]
  },
  {
   "cell_type": "markdown",
   "id": "c60a53c6",
   "metadata": {},
   "source": [
    "\n",
    "---\n",
    "\n",
    "### Depth split (`dsplit`)\n",
    "\n",
    "Splits along the **third axis** (depth).\n"
   ]
  },
  {
   "cell_type": "code",
   "execution_count": 21,
   "id": "080791f7",
   "metadata": {},
   "outputs": [
    {
     "name": "stdout",
     "output_type": "stream",
     "text": [
      "[array([[[ 0],\n",
      "        [ 3],\n",
      "        [ 6]],\n",
      "\n",
      "       [[ 9],\n",
      "        [12],\n",
      "        [15]],\n",
      "\n",
      "       [[18],\n",
      "        [21],\n",
      "        [24]]]), array([[[ 1],\n",
      "        [ 4],\n",
      "        [ 7]],\n",
      "\n",
      "       [[10],\n",
      "        [13],\n",
      "        [16]],\n",
      "\n",
      "       [[19],\n",
      "        [22],\n",
      "        [25]]]), array([[[ 2],\n",
      "        [ 5],\n",
      "        [ 8]],\n",
      "\n",
      "       [[11],\n",
      "        [14],\n",
      "        [17]],\n",
      "\n",
      "       [[20],\n",
      "        [23],\n",
      "        [26]]])]\n"
     ]
    }
   ],
   "source": [
    "b = np.arange(27).reshape(3,3,3)\n",
    "print(np.dsplit(b, 3))\n"
   ]
  },
  {
   "cell_type": "markdown",
   "id": "8a6b6687",
   "metadata": {},
   "source": [
    "\n",
    "---\n",
    "\n",
    "### Generic split (`split`)\n",
    "\n",
    "More flexible → choose **axis**.\n",
    "\n"
   ]
  },
  {
   "cell_type": "code",
   "execution_count": 22,
   "id": "b2962f68",
   "metadata": {
    "vscode": {
     "languageId": "javascript"
    }
   },
   "outputs": [
    {
     "name": "stdout",
     "output_type": "stream",
     "text": [
      "[array([[0],\n",
      "       [3],\n",
      "       [6]]), array([[1],\n",
      "       [4],\n",
      "       [7]]), array([[2],\n",
      "       [5],\n",
      "       [8]])]\n"
     ]
    }
   ],
   "source": [
    "c = np.arange(9).reshape(3,3)\n",
    "print(np.split(c, 3, axis=1))\n"
   ]
  },
  {
   "cell_type": "markdown",
   "id": "a003dfd6",
   "metadata": {},
   "source": [
    "\n",
    "---\n",
    "\n",
    "### Array\\_split\n",
    "\n",
    "Like `split`, but allows **unequal division**."
   ]
  },
  {
   "cell_type": "code",
   "execution_count": 23,
   "id": "9fe45ee0",
   "metadata": {},
   "outputs": [
    {
     "name": "stdout",
     "output_type": "stream",
     "text": [
      "[array([0, 1, 2, 3]), array([4, 5, 6]), array([7, 8, 9])]\n"
     ]
    }
   ],
   "source": [
    "d = np.arange(10)\n",
    "print(np.array_split(d, 3))"
   ]
  },
  {
   "cell_type": "markdown",
   "id": "907eddcc",
   "metadata": {},
   "source": [
    "✔ Unlike `split`, it won’t throw an error if sizes don’t divide evenly.\n",
    "\n",
    "---\n",
    "\n",
    "**Summary**\n",
    "\n",
    "* `hsplit` → split by columns\n",
    "* `vsplit` → split by rows\n",
    "* `dsplit` → split by depth (3D)\n",
    "* `split` → generic, axis-specific, but requires equal division\n",
    "* `array_split` → like `split`, but allows unequal sizes"
   ]
  }
 ],
 "metadata": {
  "kernelspec": {
   "display_name": "Python 3",
   "language": "python",
   "name": "python3"
  },
  "language_info": {
   "codemirror_mode": {
    "name": "ipython",
    "version": 3
   },
   "file_extension": ".py",
   "mimetype": "text/x-python",
   "name": "python",
   "nbconvert_exporter": "python",
   "pygments_lexer": "ipython3",
   "version": "3.12.0"
  }
 },
 "nbformat": 4,
 "nbformat_minor": 5
}
