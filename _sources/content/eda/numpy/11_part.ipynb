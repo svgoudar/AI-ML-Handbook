{
 "cells": [
  {
   "cell_type": "markdown",
   "id": "38b540bc",
   "metadata": {},
   "source": [
    "```{contents}\n",
    "```"
   ]
  },
  {
   "cell_type": "markdown",
   "id": "93bccf4b",
   "metadata": {},
   "source": [
    "# Functions"
   ]
  },
  {
   "cell_type": "markdown",
   "id": "bed7bd70",
   "metadata": {},
   "source": [
    "\n",
    "##  Reduction / Aggregation Functions\n",
    "\n",
    "These **reduce an array** to a single value (or smaller shape) by applying operations along an axis.\n",
    "\n",
    "Examples: `np.sum`, `np.mean`, `np.min`, `np.max`, `np.std`, `np.var`, `np.prod`\n",
    "\n"
   ]
  },
  {
   "cell_type": "code",
   "execution_count": 6,
   "id": "f4a9370c",
   "metadata": {},
   "outputs": [
    {
     "name": "stdout",
     "output_type": "stream",
     "text": [
      "Sum: 14\n",
      "Mean: 2.8\n",
      "Min: 1\n",
      "Max: 5\n",
      "Product: 60\n"
     ]
    }
   ],
   "source": [
    "import numpy as np\n",
    "\n",
    "arr = np.array([3, 1, 4, 1, 5])\n",
    "\n",
    "print(\"Sum:\", np.sum(arr))         ## 14\n",
    "print(\"Mean:\", np.mean(arr))       ## 2.8\n",
    "print(\"Min:\", np.min(arr))         ## 1\n",
    "print(\"Max:\", np.max(arr))         ## 5\n",
    "print(\"Product:\", np.prod(arr))    ## 60\n"
   ]
  },
  {
   "cell_type": "markdown",
   "id": "01d3c65d",
   "metadata": {},
   "source": [
    "\n",
    "\n",
    "These are called **aggregation functions** because they **aggregate** values across elements.\n",
    "\n",
    "---\n",
    "\n",
    "## Cumulative Functions\n",
    "\n",
    "Instead of reducing, they keep track of a **running accumulation**.\n",
    "\n",
    "Examples: `np.cumsum`, `np.cumprod`, `np.cummax`, `np.cummin`\n",
    "\n"
   ]
  },
  {
   "cell_type": "code",
   "execution_count": 7,
   "id": "127afedc",
   "metadata": {},
   "outputs": [
    {
     "name": "stdout",
     "output_type": "stream",
     "text": [
      "Cumulative Sum: [ 1  3  6 10]\n",
      "Cumulative Product: [ 1  2  6 24]\n"
     ]
    }
   ],
   "source": [
    "\n",
    "arr = np.array([1, 2, 3, 4])\n",
    "\n",
    "print(\"Cumulative Sum:\", np.cumsum(arr))     \n",
    "print(\"Cumulative Product:\", np.cumprod(arr))\n"
   ]
  },
  {
   "cell_type": "markdown",
   "id": "d5b533d1",
   "metadata": {},
   "source": [
    "\n",
    "\n",
    "---\n",
    "\n",
    "## Indexing / Location Functions\n",
    "\n",
    "These **find indices** based on certain conditions.\n",
    "\n",
    "Examples:\n",
    "\n",
    "* `np.argmin` → index of min\n",
    "* `np.argmax` → index of max\n",
    "* `np.where` → indices where condition is true\n",
    "* `np.nonzero` → indices of nonzero values\n",
    "\n"
   ]
  },
  {
   "cell_type": "code",
   "execution_count": 8,
   "id": "d812cf5a",
   "metadata": {},
   "outputs": [
    {
     "name": "stdout",
     "output_type": "stream",
     "text": [
      "Index of Min: 2\n",
      "Index of Max: 3\n",
      "Where > 15: (array([1, 3]),)\n",
      "Nonzero Indices: (array([0, 1, 2, 3]),)\n"
     ]
    }
   ],
   "source": [
    "arr = np.array([10, 20, 5, 30])\n",
    "\n",
    "print(\"Index of Min:\", np.argmin(arr))   ## 2\n",
    "print(\"Index of Max:\", np.argmax(arr))   ## 3\n",
    "\n",
    "print(\"Where > 15:\", np.where(arr > 15))   ## (array([1, 3]),)\n",
    "print(\"Nonzero Indices:\", np.nonzero(arr)) ## (array([0, 1, 2, 3]),)\n"
   ]
  },
  {
   "cell_type": "markdown",
   "id": "e70dde80",
   "metadata": {},
   "source": [
    "\n",
    "\n",
    "---\n",
    "\n",
    "## Filtering Functions\n",
    "\n",
    "Used to **select elements** from arrays based on conditions.\n",
    "\n",
    "Examples: Boolean indexing, `np.where`\n",
    "\n"
   ]
  },
  {
   "cell_type": "code",
   "execution_count": 9,
   "id": "3547df39",
   "metadata": {},
   "outputs": [
    {
     "name": "stdout",
     "output_type": "stream",
     "text": [
      "Even numbers: [2 4 6]\n",
      "Replace odd with 0: [0 2 0 4 0 6]\n"
     ]
    }
   ],
   "source": [
    "arr = np.array([1, 2, 3, 4, 5, 6])\n",
    "\n",
    "## Filter even numbers\n",
    "print(\"Even numbers:\", arr[arr % 2 == 0])  ## [2 4 6]\n",
    "\n",
    "## Using where\n",
    "print(\"Replace odd with 0:\", np.where(arr % 2 == 0, arr, 0))  ## [0 2 0 4 0 6]\n"
   ]
  },
  {
   "cell_type": "markdown",
   "id": "f37664de",
   "metadata": {},
   "source": [
    "\n",
    "\n",
    "---\n",
    "\n",
    "## Sorting Functions\n",
    "\n",
    "Used to **order array elements**.\n",
    "\n",
    "Examples:\n",
    "\n",
    "* `np.sort` → sorted array\n",
    "* `np.argsort` → indices of sorted order\n",
    "* `np.partition` → partial sorting\n",
    "\n"
   ]
  },
  {
   "cell_type": "code",
   "execution_count": 10,
   "id": "091eb61f",
   "metadata": {},
   "outputs": [
    {
     "name": "stdout",
     "output_type": "stream",
     "text": [
      "Sorted: [ 3  5  8 10]\n",
      "Argsort: [3 1 2 0]\n",
      "Partition: [ 3  5  8 10]\n"
     ]
    }
   ],
   "source": [
    "\n",
    "arr = np.array([10, 5, 8, 3])\n",
    "\n",
    "print(\"Sorted:\", np.sort(arr))         ## [3 5 8 10]\n",
    "print(\"Argsort:\", np.argsort(arr))     ## [3 1 2 0]\n",
    "\n",
    "\n",
    "print(\"Partition:\", np.partition(arr, 2))  ## [3 5 8 10]\n"
   ]
  },
  {
   "cell_type": "markdown",
   "id": "bf2a6417",
   "metadata": {},
   "source": [
    "## Other Functions"
   ]
  },
  {
   "cell_type": "code",
   "execution_count": 21,
   "id": "e9e10ae7",
   "metadata": {},
   "outputs": [],
   "source": [
    "a = np.array([1, 2, 3])                  # Basic array\n",
    "b = np.zeros((2,3))                      # 2x3 zeros\n",
    "c = np.ones((2,2))                       # 2x2 ones\n",
    "d = np.arange(1,6)                       # [1 2 3 4 5]\n",
    "e = np.linspace(0,1,5)                   # 5 points [0. ,0.25,0.5,0.75,1.]\n",
    "f = np.eye(3)                            # 3x3 Identity matrix\n",
    "g = np.full((2,3), 7)                    # 2x3 filled with 7\n",
    "h = np.tile([1,2], (2,3))                # Repeat pattern\n"
   ]
  },
  {
   "cell_type": "markdown",
   "id": "16d56e5e",
   "metadata": {},
   "source": [
    "\n",
    "---\n",
    "\n",
    "## Inspection / Information\n",
    "\n"
   ]
  },
  {
   "cell_type": "markdown",
   "id": "9969530a",
   "metadata": {},
   "source": [
    "\n",
    "arr = np.array([[1,2,3],[4,5,6]])\n",
    "print(arr.shape)     # (2,3)\n",
    "print(arr.ndim)      # 2\n",
    "print(arr.size)      # 6\n",
    "print(arr.dtype)     # int64 (depends on system)\n"
   ]
  },
  {
   "cell_type": "markdown",
   "id": "c14a7145",
   "metadata": {},
   "source": [
    "\n",
    "\n",
    "---\n",
    "\n",
    "## 3️⃣ Mathematical Functions\n",
    "\n"
   ]
  },
  {
   "cell_type": "code",
   "execution_count": 20,
   "id": "bd5eab96",
   "metadata": {},
   "outputs": [
    {
     "name": "stdout",
     "output_type": "stream",
     "text": [
      "[0.0000000e+00 1.0000000e+00 1.2246468e-16]\n",
      "[0. 1.]\n",
      "[1.         2.71828183]\n",
      "[ 1. -2.]\n",
      "[ 2. -1.]\n",
      "[2 3]\n"
     ]
    }
   ],
   "source": [
    "x = np.array([0, np.pi/2, np.pi])\n",
    "print(np.sin(x))      # [0. 1. 0.]\n",
    "print(np.log([1, np.e]))   # [0. 1.]\n",
    "print(np.exp([0,1]))       # [1. 2.718...]\n",
    "print(np.floor([1.7, -1.7])) # [ 1. -2.]\n",
    "print(np.ceil([1.2, -1.2]))  # [ 2. -1.]\n",
    "print(np.abs([-2, 3]))       # [2 3]\n"
   ]
  },
  {
   "cell_type": "markdown",
   "id": "7f9be3a6",
   "metadata": {},
   "source": [
    "\n",
    "\n",
    "---\n",
    "\n",
    "## 4️⃣ Random Functions\n",
    "\n"
   ]
  },
  {
   "cell_type": "code",
   "execution_count": 19,
   "id": "723a02d5",
   "metadata": {},
   "outputs": [
    {
     "name": "stdout",
     "output_type": "stream",
     "text": [
      "[4 9 0 3 2]\n",
      "[0.64176275 0.99256909 0.65817346]\n",
      "[-0.96297176  1.38584399  0.43958962  1.73826268  0.98553755]\n",
      "[2 1 2 3 3]\n"
     ]
    }
   ],
   "source": [
    "print(np.random.randint(0,10,5))   # 5 random ints [0,9]\n",
    "print(np.random.rand(3))           # 3 random floats [0,1)\n",
    "print(np.random.normal(0,1,5))     # Normal distribution\n",
    "print(np.random.choice([1,2,3], 5))# Random choice\n"
   ]
  },
  {
   "cell_type": "markdown",
   "id": "d6e483cf",
   "metadata": {},
   "source": [
    "\n",
    "\n",
    "---\n",
    "\n",
    "## 5️⃣ Linear Algebra\n",
    "\n"
   ]
  },
  {
   "cell_type": "code",
   "execution_count": 18,
   "id": "b30e10bc",
   "metadata": {},
   "outputs": [
    {
     "name": "stdout",
     "output_type": "stream",
     "text": [
      "[[19 22]\n",
      " [43 50]]\n",
      "-2.0000000000000004\n",
      "[[-2.   1. ]\n",
      " [ 1.5 -0.5]]\n",
      "5.477225575051661\n"
     ]
    }
   ],
   "source": [
    "A = np.array([[1,2],[3,4]])\n",
    "B = np.array([[5,6],[7,8]])\n",
    "\n",
    "print(np.dot(A,B))             # Matrix multiplication\n",
    "print(np.linalg.det(A))        # Determinant = -2\n",
    "print(np.linalg.inv(A))        # Inverse matrix\n",
    "vals, vecs = np.linalg.eig(A)  # Eigenvalues & Eigenvectors\n",
    "print(np.linalg.norm(A))       # Norm\n",
    "\n"
   ]
  },
  {
   "cell_type": "markdown",
   "id": "486d21a7",
   "metadata": {},
   "source": [
    "---\n",
    "\n",
    "## 6️⃣ Reshaping & Combining\n",
    "\n"
   ]
  },
  {
   "cell_type": "code",
   "execution_count": 17,
   "id": "8760696f",
   "metadata": {},
   "outputs": [
    {
     "name": "stdout",
     "output_type": "stream",
     "text": [
      "[[0 1 2]\n",
      " [3 4 5]]\n",
      "[0 1 2 3 4 5]\n",
      "[0 1 2 3 4 5]\n",
      "(1, 2, 3)\n",
      "[1 2 3 4 5 6]\n",
      "[[1 2 3]\n",
      " [4 5 6]]\n"
     ]
    }
   ],
   "source": [
    "arr = np.arange(6).reshape(2,3)\n",
    "print(arr)\n",
    "\n",
    "print(np.ravel(arr))         # Flatten [0 1 2 3 4 5]\n",
    "print(arr.flatten())         # Same as ravel\n",
    "print(np.expand_dims(arr, axis=0).shape)  # Add dimension\n",
    "\n",
    "# Stacking\n",
    "x = np.array([1,2,3])\n",
    "y = np.array([4,5,6])\n",
    "print(np.hstack([x,y]))      # [1 2 3 4 5 6]\n",
    "print(np.vstack([x,y]))      # [[1 2 3],[4 5 6]]\n"
   ]
  },
  {
   "cell_type": "markdown",
   "id": "a41e04c7",
   "metadata": {},
   "source": [
    "\n",
    "\n",
    "---\n",
    "\n",
    "## 7️⃣ Indexing / Selection\n",
    "\n"
   ]
  },
  {
   "cell_type": "code",
   "execution_count": 16,
   "id": "0f559495",
   "metadata": {},
   "outputs": [
    {
     "name": "stdout",
     "output_type": "stream",
     "text": [
      "[6 7 8 9]\n",
      "[1 3 5]\n",
      "[2 4 6]\n"
     ]
    }
   ],
   "source": [
    "arr = np.arange(10)\n",
    "print(arr[arr>5])            # Boolean indexing -> [6 7 8 9]\n",
    "print(arr[[1,3,5]])          # Fancy indexing -> [1 3 5]\n",
    "print(np.take(arr,[2,4,6]))  # Take -> [2 4 6]\n"
   ]
  },
  {
   "cell_type": "markdown",
   "id": "859c8b09",
   "metadata": {},
   "source": [
    "\n",
    "---\n",
    "\n",
    "## 8️⃣ Set Operations\n",
    "\n"
   ]
  },
  {
   "cell_type": "code",
   "execution_count": 15,
   "id": "5a4cbc57",
   "metadata": {},
   "outputs": [
    {
     "name": "stdout",
     "output_type": "stream",
     "text": [
      "[1 2 3 4 5 6]\n",
      "[3 4]\n",
      "[1 2]\n",
      "[1 2 5 6]\n"
     ]
    }
   ],
   "source": [
    "a = np.array([1,2,3,4])\n",
    "b = np.array([3,4,5,6])\n",
    "\n",
    "print(np.union1d(a,b))       # [1 2 3 4 5 6]\n",
    "print(np.intersect1d(a,b))   # [3 4]\n",
    "print(np.setdiff1d(a,b))     # [1 2]\n",
    "print(np.setxor1d(a,b))      # [1 2 5 6]"
   ]
  },
  {
   "cell_type": "markdown",
   "id": "674e3876",
   "metadata": {},
   "source": [
    "\n",
    "---\n",
    "\n",
    "## 9️⃣ Sorting & Searching\n"
   ]
  },
  {
   "cell_type": "code",
   "execution_count": 14,
   "id": "380713cb",
   "metadata": {},
   "outputs": [
    {
     "name": "stdout",
     "output_type": "stream",
     "text": [
      "[1 2 3]\n",
      "[1 2 0]\n",
      "(array([0, 2]),)\n",
      "(array([0, 1, 2]),)\n",
      "2\n"
     ]
    }
   ],
   "source": [
    "arr = np.array([3,1,2])\n",
    "print(np.sort(arr))          # [1 2 3]\n",
    "print(np.argsort(arr))       # indices [1 2 0]\n",
    "print(np.where(arr>1))       # Indices where condition met\n",
    "print(np.nonzero(arr))       # Indices of non-zero\n",
    "print(np.searchsorted([1,3,5], 4))  # position -> 2\n"
   ]
  },
  {
   "cell_type": "markdown",
   "id": "f83c69c9",
   "metadata": {},
   "source": [
    "\n",
    "---\n",
    "\n",
    "## 🔟 Statistics\n",
    "\n"
   ]
  },
  {
   "cell_type": "code",
   "execution_count": 13,
   "id": "167a7638",
   "metadata": {},
   "outputs": [
    {
     "name": "stdout",
     "output_type": "stream",
     "text": [
      "3.0\n",
      "3.0\n",
      "1.4142135623730951\n",
      "2.0\n",
      "3.0\n",
      "(array([1, 0, 1, 0, 0, 1, 0, 1, 0, 1]), array([1. , 1.4, 1.8, 2.2, 2.6, 3. , 3.4, 3.8, 4.2, 4.6, 5. ]))\n"
     ]
    }
   ],
   "source": [
    "data = np.array([1,2,3,4,5])\n",
    "print(np.mean(data))      # 3.0\n",
    "print(np.median(data))    # 3.0\n",
    "print(np.std(data))       # 1.414\n",
    "print(np.var(data))       # 2.0\n",
    "print(np.percentile(data, 50))  # 3.0\n",
    "print(np.histogram(data)) # histogram counts\n"
   ]
  },
  {
   "cell_type": "markdown",
   "id": "fb5afc5a",
   "metadata": {},
   "source": [
    "\n",
    "\n",
    "---\n",
    "\n",
    "## 1Bitwise & Logic\n"
   ]
  },
  {
   "cell_type": "code",
   "execution_count": 12,
   "id": "b986a83a",
   "metadata": {},
   "outputs": [
    {
     "name": "stdout",
     "output_type": "stream",
     "text": [
      "[0 1 0]\n",
      "[1 1 1]\n",
      "True\n",
      "False\n",
      "[False  True  True]\n"
     ]
    }
   ],
   "source": [
    "a = np.array([0,1,1])\n",
    "b = np.array([1,1,0])\n",
    "\n",
    "print(np.bitwise_and(a,b))  # [0 1 0]\n",
    "print(np.bitwise_or(a,b))   # [1 1 1]\n",
    "print(np.any(a))            # True\n",
    "print(np.all(a))            # False\n",
    "print(np.isin([1,2,3],[2,3,4])) # [False True True]\n"
   ]
  },
  {
   "cell_type": "markdown",
   "id": "75614014",
   "metadata": {},
   "source": [
    "\n",
    "---\n",
    "\n",
    "## Utility\n",
    "\n"
   ]
  },
  {
   "cell_type": "code",
   "execution_count": 11,
   "id": "2d829023",
   "metadata": {},
   "outputs": [
    {
     "name": "stdout",
     "output_type": "stream",
     "text": [
      "[2 2 3 5]\n",
      "[1 4]\n",
      "[[1 2]\n",
      " [0 4]]\n",
      "[[1 0]\n",
      " [3 4]]\n",
      "[[0 1 2]\n",
      " [0 1 2]\n",
      " [0 1 2]]\n",
      "[0 0 1 2 3 0 0 0]\n"
     ]
    }
   ],
   "source": [
    "arr = np.array([1,2,3,10])\n",
    "print(np.clip(arr,2,5))   # [2 2 3 5]\n",
    "\n",
    "M = np.array([[1,2],[3,4]])\n",
    "print(np.diag(M))         # [1 4]\n",
    "\n",
    "print(np.triu(M))         # upper triangle\n",
    "print(np.tril(M))         # lower triangle\n",
    "\n",
    "x = np.array([0,1,2])\n",
    "y = np.array([0,1,2])\n",
    "X, Y = np.meshgrid(x,y)\n",
    "print(X)   # grid matrix\n",
    "\n",
    "print(np.pad([1,2,3], (2,3), 'constant'))\n"
   ]
  },
  {
   "cell_type": "markdown",
   "id": "3cddb199",
   "metadata": {},
   "source": [
    "---\n",
    "\n",
    "**Summary:**\n",
    "\n",
    "* **Reduction / Aggregation** → collapse to single value (`sum`, `mean`, `min`, `max`)\n",
    "* **Cumulative** → running totals (`cumsum`, `cumprod`)\n",
    "* **Indexing / Location** → find indices (`argmin`, `argmax`, `where`, `nonzero`)\n",
    "* **Filtering** → select values (`boolean indexing`, `where`)\n",
    "* **Sorting** → reorder values (`sort`, `argsort`, `partition`)\n",
    "\n"
   ]
  }
 ],
 "metadata": {
  "kernelspec": {
   "display_name": "Python 3",
   "language": "python",
   "name": "python3"
  },
  "language_info": {
   "codemirror_mode": {
    "name": "ipython",
    "version": 3
   },
   "file_extension": ".py",
   "mimetype": "text/x-python",
   "name": "python",
   "nbconvert_exporter": "python",
   "pygments_lexer": "ipython3",
   "version": "3.12.0"
  }
 },
 "nbformat": 4,
 "nbformat_minor": 5
}
