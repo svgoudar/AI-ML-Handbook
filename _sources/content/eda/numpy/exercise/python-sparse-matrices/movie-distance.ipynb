{
 "cells": [
  {
   "cell_type": "markdown",
   "metadata": {
    "id": "M6yShpelZy-I"
   },
   "source": [
    "You're building a Netflix clone. You have a dataset of movie reviews, where each review is a (`user_id`, `movie_id`, `rating`) triplet.\n",
    "\n",
    "- `movie_ids` are integers in the range `[0, Nmovies)`\n",
    "- `user_ids` are integers in the range `[0, Nusers)`\n",
    "- `ratings` are integers in the range `[1, 5]`"
   ]
  },
  {
   "cell_type": "code",
   "execution_count": null,
   "metadata": {
    "id": "ZlHN2R3QaPX3"
   },
   "outputs": [],
   "source": [
    "import random\n",
    "\n",
    "Nmovies = 10\n",
    "Nusers = 10\n",
    "Nreviews = 30\n",
    "\n",
    "movie_ids = random.choices(range(Nmovies), k=Nreviews)\n",
    "user_ids = random.choices(range(Nusers), k=Nreviews)\n",
    "ratings = random.choices(range(1,6), k=Nreviews)\n",
    "\n",
    "print(movie_ids)\n",
    "# [4, 9, 8, 7, 3, ... ]\n",
    "\n",
    "print(user_ids)\n",
    "# [1, 7, 4, 1, 2, ... ]\n",
    "\n",
    "print(ratings)\n",
    "# [1, 3, 2, 1, 1, ... ]"
   ]
  },
  {
   "cell_type": "markdown",
   "metadata": {
    "id": "WFnb1Ne1NTtu"
   },
   "source": [
    "1. Build a compressed sparse matrix where (i,j) gives the ith person's review of movie j.\n",
    "2. Normalize the movie vectors (column vectors) so that each of them has unit length.\n",
    "3. Calculate the Euclidean distance between normalized movie 2 and normalized movie 4.\n",
    "\n",
    "*For example*  \n",
    "if our Netflix clone had three users and two movies with a review matrix like this\n",
    "\n",
    "```\n",
    "[[1 0]\n",
    " [0 1]\n",
    " [3 0]]\n",
    "```\n",
    "\n",
    "The normalized movie vectors would be\n",
    "\n",
    "```\n",
    "[[0.32  0. ]\n",
    " [0.    1. ]\n",
    " [0.95  0. ]]\n",
    "```\n",
    "\n",
    "The Euclidean distance between these two normalized movie vectors is 1.41."
   ]
  },
  {
   "cell_type": "markdown",
   "metadata": {
    "id": "h7D8d-J5cela"
   },
   "source": [
    "---"
   ]
  },
  {
   "cell_type": "code",
   "execution_count": null,
   "metadata": {
    "id": "CWwTWfYCa4k0"
   },
   "outputs": [],
   "source": [
    "# Your brilliant solution here!"
   ]
  }
 ],
 "metadata": {
  "colab": {
   "collapsed_sections": [],
   "name": "movie-distance.ipynb",
   "provenance": []
  },
  "kernelspec": {
   "display_name": "Python 3",
   "name": "python3"
  },
  "language_info": {
   "name": "python"
  }
 },
 "nbformat": 4,
 "nbformat_minor": 0
}
