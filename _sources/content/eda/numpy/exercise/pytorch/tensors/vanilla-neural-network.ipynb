{
 "cells": [
  {
   "cell_type": "markdown",
   "metadata": {
    "id": "M6yShpelZy-I"
   },
   "source": [
    "Here's a \"vanilla\" 🍦 feed-forward neural network with [logistic activation functions](https://en.wikipedia.org/wiki/Logistic_function) and [softmax](https://en.wikipedia.org/wiki/Softmax_function) applied to the output layer.\n",
    "\n",
    "<img src=\"https://www.practiceprobs.com/problemsets/pytorch/images/vanilla.png\" width=\"800px\">\n",
    "\n",
    "Given the following `X` and `y` tensors representing training data,"
   ]
  },
  {
   "cell_type": "code",
   "execution_count": null,
   "metadata": {
    "id": "BiiG4lSlxb2G"
   },
   "outputs": [],
   "source": [
    "import torch\n",
    "\n",
    "# Make data\n",
    "torch.manual_seed(4321)\n",
    "X = torch.rand(size=(8,2))\n",
    "y = torch.randint(low=0, high=3, size=(8,))\n",
    "\n",
    "print(X)\n",
    "# tensor([[0.1255, 0.5377],\n",
    "#         [0.6564, 0.0365],\n",
    "#         [0.5837, 0.7018],\n",
    "#         [0.3068, 0.9500],\n",
    "#         [0.4321, 0.2946],\n",
    "#         [0.6015, 0.1762],\n",
    "#         [0.9945, 0.3177],\n",
    "#         [0.9886, 0.3911]])\n",
    "\n",
    "print(y) \n",
    "# tensor([0, 2, 2, 0, 2, 2, 0, 1])"
   ]
  },
  {
   "cell_type": "markdown",
   "metadata": {
    "id": "heA1LlVtxd7O"
   },
   "source": [
    "calculate:\n",
    "\n",
    "1. the predictions (forward pass)\n",
    "2. the loss using categorical cross entropy\n",
    "3. the gradient of the loss with respect to the weights and biases"
   ]
  },
  {
   "cell_type": "markdown",
   "metadata": {
    "id": "h7D8d-J5cela"
   },
   "source": [
    "---"
   ]
  },
  {
   "cell_type": "code",
   "execution_count": null,
   "metadata": {
    "id": "CWwTWfYCa4k0"
   },
   "outputs": [],
   "source": [
    "# Your brilliant solution here!"
   ]
  },
  {
   "cell_type": "markdown",
   "metadata": {
    "id": "bF3kvEc4a4It"
   },
   "source": [
    "## [See our solution!](https://www.practiceprobs.com/problemsets/pytorch/tensors/vanilla-neural-network/solution/)"
   ]
  }
 ],
 "metadata": {
  "colab": {
   "collapsed_sections": [],
   "name": "vanilla-neural-network.ipynb",
   "provenance": []
  },
  "kernelspec": {
   "display_name": "Python 3",
   "name": "python3"
  },
  "language_info": {
   "name": "python"
  }
 },
 "nbformat": 4,
 "nbformat_minor": 0
}
