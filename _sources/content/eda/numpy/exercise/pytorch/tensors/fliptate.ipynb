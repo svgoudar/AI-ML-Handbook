{
 "cells": [
  {
   "cell_type": "markdown",
   "metadata": {
    "id": "M6yShpelZy-I"
   },
   "source": [
    "Given an 8x8x3 tensor which represents an image of the number 4,\n",
    "\n",
    "![](https://www.practiceprobs.com/problemsets/pytorch/images/four.png)\n",
    "\n",
    "Flip the image horizontally.\n",
    "\n",
    "![](https://www.practiceprobs.com/problemsets/pytorch/images/four-flipped.png)\n",
    "\n",
    "Then rotate the image clockwise 90 degrees.\n",
    "\n",
    "![](https://www.practiceprobs.com/problemsets/pytorch/images/four-rotated.png)"
   ]
  },
  {
   "cell_type": "code",
   "execution_count": null,
   "metadata": {
    "id": "fuIWanzgwtPP"
   },
   "outputs": [],
   "source": [
    "import torch\n",
    "\n",
    "r = torch.tensor([\n",
    "    [0,0,0,0,0,0,0,0],\n",
    "    [0,0,0,0,0,0,0,0],\n",
    "    [0,0,1,0,0,1,0,0],\n",
    "    [0,0,1,0,0,1,0,0],\n",
    "    [0,0,1,1,1,1,0,0],\n",
    "    [0,0,0,0,0,1,0,0],\n",
    "    [0,0,0,0,0,1,0,0],\n",
    "    [0,0,0,0,0,1,0,0]\n",
    "], dtype=torch.float32)\n",
    "g = 0.8*r\n",
    "b = 0.5*r\n",
    "img = torch.moveaxis(torch.stack((r,g,b)), 0, -1)\n",
    "\n",
    "print(img.shape)\n",
    "# torch.Size([8, 8, 3]) "
   ]
  },
  {
   "cell_type": "markdown",
   "metadata": {
    "id": "h7D8d-J5cela"
   },
   "source": [
    "---"
   ]
  },
  {
   "cell_type": "code",
   "execution_count": null,
   "metadata": {
    "id": "CWwTWfYCa4k0"
   },
   "outputs": [],
   "source": [
    "# Your brilliant solution here!"
   ]
  }
 ],
 "metadata": {
  "colab": {
   "collapsed_sections": [],
   "name": "fliptate.ipynb",
   "provenance": []
  },
  "kernelspec": {
   "display_name": "Python 3",
   "name": "python3"
  },
  "language_info": {
   "name": "python"
  }
 },
 "nbformat": 4,
 "nbformat_minor": 0
}
