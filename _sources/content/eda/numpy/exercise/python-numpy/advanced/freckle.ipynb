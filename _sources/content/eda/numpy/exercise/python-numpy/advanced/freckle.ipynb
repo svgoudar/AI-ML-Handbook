{
 "cells": [
  {
   "cell_type": "code",
   "execution_count": null,
   "metadata": {
    "id": "ZlHN2R3QaPX3"
   },
   "outputs": [],
   "source": [
    "import numpy as np\n",
    "freckle = np.array([2,7,3,1,0,5])"
   ]
  },
  {
   "cell_type": "markdown",
   "metadata": {
    "id": "vOLTbQVgoBdb"
   },
   "source": [
    "perform the following sequence of operations:\n",
    "\n",
    "1. Sort the elements in descending order:\t\n",
    "    `7, 5, 3, 2, 1, 0`\n",
    "    \n",
    "2. Take their cumulative sum:\t\n",
    "    `7, 12, 15, 17, 18, 18`\n",
    "    \n",
    "3. Undo the sort from step 1:\t\n",
    "    `17, 7, 15, 18, 18, 12`"
   ]
  },
  {
   "cell_type": "markdown",
   "metadata": {
    "id": "h7D8d-J5cela"
   },
   "source": [
    "---"
   ]
  },
  {
   "cell_type": "code",
   "execution_count": null,
   "metadata": {
    "id": "CWwTWfYCa4k0"
   },
   "outputs": [],
   "source": [
    "# Sort in descending order and get the indices\n",
    "sorted_indices = np.argsort(freckle)[::-1]\n",
    "sorted_freckle = freckle[sorted_indices]\n",
    "\n",
    "# Cumulative sum\n",
    "cumsum_sorted = np.cumsum(sorted_freckle)\n",
    "\n",
    "# Undo the sort\n",
    "unsorted_indices = np.argsort(sorted_indices)\n",
    "result = cumsum_sorted[unsorted_indices]\n",
    "\n",
    "print(result)\n"
   ]
  },
  {
   "cell_type": "markdown",
   "metadata": {},
   "source": [
    "<details>\n",
    "<summary><b>Show Detailed Solution</b></summary>\n",
    "\n",
    "1. **Sort in descending order:**\n",
    "   - Use `np.argsort(freckle)[::-1]` to get indices that would sort the array in descending order.\n",
    "   - `sorted_freckle = freckle[sorted_indices]` gives `[7, 5, 3, 2, 1, 0]`.\n",
    "\n",
    "2. **Cumulative sum:**\n",
    "   - `cumsum_sorted = np.cumsum(sorted_freckle)` gives `[7, 12, 15, 17, 18, 18]`.\n",
    "\n",
    "3. **Undo the sort:**\n",
    "   - `unsorted_indices = np.argsort(sorted_indices)` gives indices to map back to the original order.\n",
    "   - `result = cumsum_sorted[unsorted_indices]` gives `[17, 7, 15, 18, 18, 12]`.\n",
    "\n",
    "**Final Output:**\n",
    "\n",
    "```\n",
    "[17  7 15 18 18 12]\n",
    "```\n",
    "</details>\n"
   ]
  }
 ],
 "metadata": {
  "colab": {
   "collapsed_sections": [],
   "name": "freckle.ipynb",
   "provenance": []
  },
  "kernelspec": {
   "display_name": "Python 3",
   "name": "python3"
  },
  "language_info": {
   "name": "python"
  }
 },
 "nbformat": 4,
 "nbformat_minor": 0
}
