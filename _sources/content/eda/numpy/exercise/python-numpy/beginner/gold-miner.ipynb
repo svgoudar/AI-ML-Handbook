{
 "cells": [
  {
   "cell_type": "markdown",
   "metadata": {
    "id": "M6yShpelZy-I"
   },
   "source": [
    "After binge watching the Discovery channel, you ditch your job as a trial lawyer to become a gold miner. You decide to prospect five locations underneath a 7x7 grid of land. How much gold do you uncover at each location?"
   ]
  },
  {
   "cell_type": "code",
   "execution_count": null,
   "metadata": {
    "colab": {
     "base_uri": "https://localhost:8080/"
    },
    "executionInfo": {
     "elapsed": 5,
     "status": "ok",
     "timestamp": 1650230550900,
     "user": {
      "displayName": "Ben Gorman",
      "userId": "14173905571034790649"
     },
     "user_tz": 300
    },
    "id": "ZlHN2R3QaPX3",
    "outputId": "0bec401d-37b3-4877-c270-d3a148bdea2e"
   },
   "outputs": [
    {
     "name": "stdout",
     "output_type": "stream",
     "text": [
      "[[2 3 0 5 2 0 3]\n",
      " [8 8 0 7 1 5 3]\n",
      " [0 1 6 2 1 4 5]\n",
      " [4 0 8 9 9 8 7]\n",
      " [4 2 7 0 7 2 1]\n",
      " [9 8 9 2 5 0 8]\n",
      " [1 9 8 2 6 4 3]]\n"
     ]
    }
   ],
   "source": [
    "import numpy as np\n",
    "\n",
    "np.random.seed(5555)\n",
    "gold = np.random.randint(low=0, high=10, size=(7,7))\n",
    "\n",
    "print(gold)\n",
    "# [[2 3 0 5 2 0 3]\n",
    "#  [8 8 0 7 1 5 3]\n",
    "#  [0 1 6 2 1 4 5]\n",
    "#  [4 0 8 9 9 8 7]\n",
    "#  [4 2 7 0 7 2 1]\n",
    "#  [9 8 9 2 5 0 8]\n",
    "#  [1 9 8 2 6 4 3]]\n",
    "\n",
    "locs = np.array([\n",
    "    [0,4],\n",
    "    [2,2],\n",
    "    [2,3],\n",
    "    [5,1],\n",
    "    [6,3]\n",
    "])"
   ]
  },
  {
   "cell_type": "markdown",
   "metadata": {
    "id": "xsPF49EvaBAM"
   },
   "source": [
    "**Notes**\n",
    "\n",
    "- `gold` states how much gold is under each location in the 7x7 grid of land\n",
    "- `locs` states the coordinates of the five locations where you dig\n"
   ]
  },
  {
   "cell_type": "markdown",
   "metadata": {
    "id": "h7D8d-J5cela"
   },
   "source": [
    "---"
   ]
  },
  {
   "cell_type": "code",
   "execution_count": null,
   "metadata": {
    "id": "CWwTWfYCa4k0"
   },
   "outputs": [],
   "source": [
    "# Your brilliant solution here!"
   ]
  }
 ],
 "metadata": {
  "colab": {
   "collapsed_sections": [],
   "name": "gold-miner.ipynb",
   "provenance": []
  },
  "kernelspec": {
   "display_name": "Python 3",
   "name": "python3"
  },
  "language_info": {
   "name": "python"
  }
 },
 "nbformat": 4,
 "nbformat_minor": 0
}
