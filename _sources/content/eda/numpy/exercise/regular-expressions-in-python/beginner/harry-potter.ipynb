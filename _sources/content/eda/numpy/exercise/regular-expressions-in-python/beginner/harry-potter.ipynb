{
 "cells": [
  {
   "cell_type": "markdown",
   "metadata": {
    "id": "M6yShpelZy-I"
   },
   "source": [
    "Here's some dialogue from [Harry Potter and the Sorcerer's Stone](https://en.wikipedia.org/wiki/Harry_Potter_and_the_Philosopher%27s_Stone_(film))."
   ]
  },
  {
   "cell_type": "code",
   "execution_count": null,
   "metadata": {
    "id": "ZlHN2R3QaPX3"
   },
   "outputs": [],
   "source": [
    "quotes = \"\"\"Molly Weasley: Fred, you next.\n",
    "George Weasley: He’s not Fred, I am!\n",
    "Fred Weasley: Honestly, woman. You call yourself our mother.\n",
    "Molly Weasley: Oh, I’m sorry, George.\n",
    "Fred Weasley: I’m only joking, I am Fred!\"\"\""
   ]
  },
  {
   "cell_type": "markdown",
   "metadata": {
    "id": "eHsmvgEbWQgu"
   },
   "source": [
    "Identify each line spoken by Fred. Then put them in a list. (Note that `quotes` is a multi-line string.)\n",
    "\n",
    "**Expected Result**"
   ]
  },
  {
   "cell_type": "code",
   "execution_count": null,
   "metadata": {
    "id": "ApRH0t9aXW0x"
   },
   "outputs": [],
   "source": [
    "lines = [\n",
    "    'Fred Weasley: Honestly, woman. You call yourself our mother.', \n",
    "    'Fred Weasley: I’m only joking, I am Fred!'\n",
    "]"
   ]
  },
  {
   "cell_type": "markdown",
   "metadata": {
    "id": "h7D8d-J5cela"
   },
   "source": [
    "---"
   ]
  },
  {
   "cell_type": "code",
   "execution_count": null,
   "metadata": {
    "id": "CWwTWfYCa4k0"
   },
   "outputs": [],
   "source": [
    "# Your brilliant solution here!"
   ]
  }
 ],
 "metadata": {
  "colab": {
   "collapsed_sections": [],
   "name": "harry-potter.ipynb",
   "provenance": []
  },
  "kernelspec": {
   "display_name": "Python 3",
   "name": "python3"
  },
  "language_info": {
   "name": "python"
  }
 },
 "nbformat": 4,
 "nbformat_minor": 0
}
