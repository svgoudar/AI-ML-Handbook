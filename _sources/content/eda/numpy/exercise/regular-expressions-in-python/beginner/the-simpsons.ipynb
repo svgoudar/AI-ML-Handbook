{
 "cells": [
  {
   "cell_type": "markdown",
   "metadata": {
    "id": "M6yShpelZy-I"
   },
   "source": [
    "Here's a quote from [The Simpsons](https://en.wikipedia.org/wiki/The_Simpsons)."
   ]
  },
  {
   "cell_type": "code",
   "execution_count": null,
   "metadata": {
    "id": "ZlHN2R3QaPX3"
   },
   "outputs": [],
   "source": [
    "quote = \"Me Fail   English?\\nThat's\\tUnpossible.\""
   ]
  },
  {
   "cell_type": "markdown",
   "metadata": {
    "id": "eHsmvgEbWQgu"
   },
   "source": [
    "Fix the errant spaces in the string.\n",
    "\n",
    "**Expected Result**"
   ]
  },
  {
   "cell_type": "code",
   "execution_count": null,
   "metadata": {
    "id": "ApRH0t9aXW0x"
   },
   "outputs": [],
   "source": [
    "newquote = \"Me Fail English? That's Unpossible.\""
   ]
  },
  {
   "cell_type": "markdown",
   "metadata": {
    "id": "7XU3NIjxX5Rw"
   },
   "source": [
    "Note that `\\n` is a newline character and `\\t` is a tab character. These become evident when you `print()` them.\n",
    "\n",
    "```\n",
    ">>> print(quote)\n",
    "Me Fail   English?\n",
    "That's  Unpossible.\n",
    "```"
   ]
  },
  {
   "cell_type": "markdown",
   "metadata": {
    "id": "h7D8d-J5cela"
   },
   "source": [
    "---"
   ]
  },
  {
   "cell_type": "code",
   "execution_count": null,
   "metadata": {
    "id": "CWwTWfYCa4k0"
   },
   "outputs": [],
   "source": [
    "# Your brilliant solution here!"
   ]
  }
 ],
 "metadata": {
  "colab": {
   "collapsed_sections": [],
   "name": "the-simpsons.ipynb",
   "provenance": []
  },
  "kernelspec": {
   "display_name": "Python 3",
   "name": "python3"
  },
  "language_info": {
   "name": "python"
  }
 },
 "nbformat": 4,
 "nbformat_minor": 0
}
