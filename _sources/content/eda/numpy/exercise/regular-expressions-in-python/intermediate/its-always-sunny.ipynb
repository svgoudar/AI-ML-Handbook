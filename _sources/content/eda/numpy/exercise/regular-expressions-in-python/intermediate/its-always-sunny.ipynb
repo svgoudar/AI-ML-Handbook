{
 "cells": [
  {
   "cell_type": "markdown",
   "metadata": {
    "id": "M6yShpelZy-I"
   },
   "source": [
    "Here's a quote from [It's Always Sunny in Philadelphia](https://en.wikipedia.org/wiki/It%27s_Always_Sunny_in_Philadelphia)."
   ]
  },
  {
   "cell_type": "code",
   "execution_count": null,
   "metadata": {
    "id": "ZlHN2R3QaPX3"
   },
   "outputs": [],
   "source": [
    "quote = (\n",
    "    \"That's TA, TR's ex-girlfriend - this is classic TA. TR broke up with TA because MK said that \"\n",
    "    \"she saw TA flirting with WT at a party OK, but she was only doing it to make TR jealous because, you know, \"\n",
    "    \"she thought that TR secretly liked EH, but TR didn't like EH. It was all a bunch of bull.\"\n",
    ")"
   ]
  },
  {
   "cell_type": "markdown",
   "metadata": {
    "id": "B5y8ixGsanj2"
   },
   "source": [
    "This quote has numerous abbreviated names consisting of two capital letters. For example, \"TR\" stands for \"Trey\".\n",
    "\n",
    "Given the following dictionary of `abbreviation: full name` mappings,"
   ]
  },
  {
   "cell_type": "code",
   "execution_count": null,
   "metadata": {
    "id": "7lsg0t6IaocG"
   },
   "outputs": [],
   "source": [
    "abbrevs = {\n",
    "    \"TA\": \"Tammy\",\n",
    "    \"TR\": \"Trey\",\n",
    "    \"MK\": \"Maureen Kinallen\",\n",
    "    \"WT\": \"Walt Timby\",\n",
    "    \"EH\": \"Erin Hannabry\"\n",
    "}"
   ]
  },
  {
   "cell_type": "markdown",
   "metadata": {
    "id": "eHsmvgEbWQgu"
   },
   "source": [
    "replace each abbreviation with the person's full name. Assume that some capitalized two-letter words like \"OK\", *which are not abbreviated names*, exist!\n",
    "\n",
    "**Expected Result**"
   ]
  },
  {
   "cell_type": "code",
   "execution_count": null,
   "metadata": {
    "id": "ApRH0t9aXW0x"
   },
   "outputs": [],
   "source": [
    "newquote = (\n",
    "    \"That's Tammy, Trey's ex-girlfriend - this is classic Tammy. \"\n",
    "    \"Trey broke up with Tammy because Maureen Kinallen said that she \"\n",
    "    \"saw Tammy flirting with Walt Timby at a party OK, but she was only \"\n",
    "    \"doing it to make Trey jealous because, you know, she thought that \"\n",
    "    \"Trey secretly liked Erin Hannabry, but Trey didn't like Erin \"\n",
    "    \"Hannabry. It was all a bunch of bull.\"\n",
    ")"
   ]
  },
  {
   "cell_type": "markdown",
   "metadata": {
    "id": "h7D8d-J5cela"
   },
   "source": [
    "---"
   ]
  },
  {
   "cell_type": "code",
   "execution_count": null,
   "metadata": {
    "id": "CWwTWfYCa4k0"
   },
   "outputs": [],
   "source": [
    "# Your brilliant solution here!"
   ]
  }
 ],
 "metadata": {
  "colab": {
   "collapsed_sections": [],
   "name": "its-always-sunny.ipynb",
   "provenance": []
  },
  "kernelspec": {
   "display_name": "Python 3",
   "name": "python3"
  },
  "language_info": {
   "name": "python"
  }
 },
 "nbformat": 4,
 "nbformat_minor": 0
}
