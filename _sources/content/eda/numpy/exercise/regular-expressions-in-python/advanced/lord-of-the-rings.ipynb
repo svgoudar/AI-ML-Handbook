{
 "cells": [
  {
   "cell_type": "markdown",
   "metadata": {
    "id": "M6yShpelZy-I"
   },
   "source": [
    "Here's a quote from [The Lord of the Rings: The Fellowship of the Ring](https://en.wikipedia.org/wiki/The_Lord_of_the_Rings:_The_Fellowship_of_the_Ring)."
   ]
  },
  {
   "cell_type": "code",
   "execution_count": null,
   "metadata": {
    "id": "ZlHN2R3QaPX3"
   },
   "outputs": [],
   "source": [
    "quote = \"Aragorn: If by my life or death I can protect you I will. You have my sword. Legolas: And you have my bow. Gimli: And my ax.\""
   ]
  },
  {
   "cell_type": "markdown",
   "metadata": {
    "id": "eHsmvgEbWQgu"
   },
   "source": [
    "Build a list of the weapons that have been offered to Frodo.\n",
    "\n",
    "**Expected Result**"
   ]
  },
  {
   "cell_type": "code",
   "execution_count": null,
   "metadata": {
    "id": "ApRH0t9aXW0x"
   },
   "outputs": [],
   "source": [
    "weapons = ['sword', 'bow', 'ax']"
   ]
  },
  {
   "cell_type": "markdown",
   "metadata": {
    "id": "h7D8d-J5cela"
   },
   "source": [
    "---"
   ]
  },
  {
   "cell_type": "code",
   "execution_count": null,
   "metadata": {
    "id": "CWwTWfYCa4k0"
   },
   "outputs": [],
   "source": [
    "# Your brilliant solution here!"
   ]
  }
 ],
 "metadata": {
  "colab": {
   "collapsed_sections": [],
   "name": "lord-of-the-rings.ipynb",
   "provenance": []
  },
  "kernelspec": {
   "display_name": "Python 3",
   "name": "python3"
  },
  "language_info": {
   "name": "python"
  }
 },
 "nbformat": 4,
 "nbformat_minor": 0
}
