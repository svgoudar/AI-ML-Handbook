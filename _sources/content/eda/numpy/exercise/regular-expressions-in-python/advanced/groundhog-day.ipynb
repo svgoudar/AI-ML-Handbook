{
 "cells": [
  {
   "cell_type": "markdown",
   "metadata": {
    "id": "M6yShpelZy-I"
   },
   "source": [
    "\n",
    "Here's a quote from [Groundhog Day](https://en.wikipedia.org/wiki/Groundhog_Day_(film))."
   ]
  },
  {
   "cell_type": "code",
   "execution_count": null,
   "metadata": {
    "id": "ZlHN2R3QaPX3"
   },
   "outputs": [],
   "source": [
    "quote = \"\"\"Once a year, the eyes of the nation turn here, to this tiny\n",
    "hamlet in Pennsylvania, to watch a master at work. The master?\n",
    "Punxsutawney Phil, the world's most famous weatherman, the\n",
    "groundhog, who, as legend has it, can predict the coming of an\n",
    "early spring. And here's the big moment we've all been waiting for. Let's just\n",
    "see what Mr. Groundhog has to say. Hey! Over here, you little\n",
    "weasel! Well, that's it. Sorry you couldn't be here in person to\n",
    "share the electric moment. This is one event where television\n",
    "really fails to capture the excitement of thousands of people\n",
    "gathered to watch a large squirrel predict the weather, and\n",
    "I for one am deeply grateful to have been a part of it.\n",
    "Reporting for Channel 9, this is Phil Connors.\n",
    "\"\"\""
   ]
  },
  {
   "cell_type": "markdown",
   "metadata": {
    "id": "EKx2LPCviljK"
   },
   "source": [
    "Find all substrings that, `ignoring case sensitivity`,\n",
    "\n",
    "- begin with one of these words: `['the', 'this', 'to', 'in']`\n",
    "- end with one of these words: `['phil', 'weatherman', 'groundhog', 'pennsylvania', 'master']`\n",
    "- have 30 or fewer characters in between the begin and end word (including spaces and newline characters).\n",
    "\n",
    "Keep the earliest identified, non-overlapping, non-nested substrings when scanning from left to right."
   ]
  },
  {
   "cell_type": "code",
   "execution_count": null,
   "metadata": {
    "id": "F42RTtdoimTD"
   },
   "outputs": [],
   "source": [
    "starters = ['the', 'this', 'to', 'in']\n",
    "enders = ['phil', 'weatherman', 'groundhog', 'pennsylvania', 'master']"
   ]
  },
  {
   "cell_type": "markdown",
   "metadata": {
    "id": "eHsmvgEbWQgu"
   },
   "source": [
    "**Expected Result**"
   ]
  },
  {
   "cell_type": "code",
   "execution_count": null,
   "metadata": {
    "id": "ApRH0t9aXW0x"
   },
   "outputs": [],
   "source": [
    "expected = [\n",
    "    'to this tiny\\nhamlet in Pennsylvania', \n",
    "    'to watch a master', \n",
    "    'The master', \n",
    "    \"the world's most famous weatherman\", \n",
    "    'the\\ngroundhog', \n",
    "    'this is Phil'\n",
    "]"
   ]
  },
  {
   "cell_type": "markdown",
   "metadata": {
    "id": "h7D8d-J5cela"
   },
   "source": [
    "---"
   ]
  },
  {
   "cell_type": "code",
   "execution_count": null,
   "metadata": {
    "id": "CWwTWfYCa4k0"
   },
   "outputs": [],
   "source": [
    "# Your brilliant solution here!"
   ]
  }
 ],
 "metadata": {
  "colab": {
   "collapsed_sections": [],
   "name": "groundhog-day.ipynb",
   "provenance": []
  },
  "kernelspec": {
   "display_name": "Python 3",
   "name": "python3"
  },
  "language_info": {
   "name": "python"
  }
 },
 "nbformat": 4,
 "nbformat_minor": 0
}
