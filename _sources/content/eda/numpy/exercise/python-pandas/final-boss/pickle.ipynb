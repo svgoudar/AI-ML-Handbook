{
 "cells": [
  {
   "cell_type": "markdown",
   "metadata": {
    "id": "M6yShpelZy-I"
   },
   "source": [
    "Given a Series called `pickle`, replace `NaN`s using the following algorithm.\n",
    "\n",
    "```\n",
    "for each NaN:\n",
    "  get the nearest non NaN value before and after it\n",
    "  if both of those values exist:\n",
    "    replace NaN with the minimum of those two non NaN values\n",
    "  else:\n",
    "    replace NaN with the nearest non NaN value\n",
    "```"
   ]
  },
  {
   "cell_type": "code",
   "execution_count": null,
   "metadata": {
    "id": "ZlHN2R3QaPX3"
   },
   "outputs": [],
   "source": [
    "import numpy as np\n",
    "import pandas as pd\n",
    "\n",
    "pickle = pd.Series([1.5, np.nan, 2.3, np.nan, np.nan, -3.9, np.nan, 4.5, np.nan, np.nan, np.nan, 1.9, np.nan])\n",
    "\n",
    "print(pickle)\n",
    "# 0     1.5\n",
    "# 1     NaN\n",
    "# 2     2.3\n",
    "# 3     NaN\n",
    "# 4     NaN\n",
    "# 5    -3.9\n",
    "# 6     NaN\n",
    "# 7     4.5\n",
    "# 8     NaN\n",
    "# 9     NaN\n",
    "# 10    NaN\n",
    "# 11    1.9\n",
    "# 12    NaN\n",
    "# dtype: float64"
   ]
  },
  {
   "cell_type": "markdown",
   "metadata": {
    "id": "h7D8d-J5cela"
   },
   "source": [
    "---"
   ]
  },
  {
   "cell_type": "code",
   "execution_count": null,
   "metadata": {
    "id": "CWwTWfYCa4k0"
   },
   "outputs": [],
   "source": [
    "# Your brilliant solution here!"
   ]
  }
 ],
 "metadata": {
  "colab": {
   "collapsed_sections": [],
   "name": "pickle.ipynb",
   "provenance": []
  },
  "kernelspec": {
   "display_name": "Python 3",
   "name": "python3"
  },
  "language_info": {
   "name": "python"
  }
 },
 "nbformat": 4,
 "nbformat_minor": 0
}
