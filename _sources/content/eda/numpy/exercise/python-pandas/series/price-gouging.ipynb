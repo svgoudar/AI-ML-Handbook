{
 "cells": [
  {
   "cell_type": "markdown",
   "metadata": {
    "id": "M6yShpelZy-I"
   },
   "source": [
    "You suspect your local grocery’s been price gouging the ground beef. You and some friends decide to track the price of ground beef every day for 10 days. You’ve compiled the data into a Series called `beef_prices`, whose index represents the day of each recording."
   ]
  },
  {
   "cell_type": "code",
   "execution_count": null,
   "metadata": {
    "id": "ZlHN2R3QaPX3"
   },
   "outputs": [],
   "source": [
    "import numpy as np\n",
    "import pandas as pd\n",
    "\n",
    "generator = np.random.default_rng(123)\n",
    "beef_prices = pd.Series(\n",
    "    data = np.round(generator.uniform(low=3, high=5, size=10), 2),\n",
    "    index = generator.choice(10, size=10, replace=False)\n",
    ")\n",
    "\n",
    "print(beef_prices)\n",
    "# 4    4.36\n",
    "# 8    3.11\n",
    "# 2    3.44\n",
    "# 0    3.37\n",
    "# 6    3.35\n",
    "# 9    4.62\n",
    "# 3    4.85\n",
    "# 5    3.55\n",
    "# 1    4.64\n",
    "# 7    4.78\n",
    "# dtype: float64"
   ]
  },
  {
   "cell_type": "markdown",
   "metadata": {
    "id": "b6_u7yFwIsLo"
   },
   "source": [
    "For example, beef was priced 3.37 on the first day, 4.64 on the second day, etc.\n",
    "\n",
    "Determine which day had the biggest price increase from the prior day."
   ]
  },
  {
   "cell_type": "markdown",
   "metadata": {
    "id": "h7D8d-J5cela"
   },
   "source": [
    "---"
   ]
  },
  {
   "cell_type": "code",
   "execution_count": null,
   "metadata": {
    "id": "CWwTWfYCa4k0"
   },
   "outputs": [],
   "source": [
    "# Your brilliant solution here!"
   ]
  },
  {
   "cell_type": "markdown",
   "metadata": {
    "id": "bF3kvEc4a4It"
   },
   "source": [
    "## [See our solution!](https://www.practiceprobs.com/problemsets/python-pandas/series/price-gouging/solution/)"
   ]
  }
 ],
 "metadata": {
  "colab": {
   "collapsed_sections": [],
   "name": "price-gouging.ipynb",
   "provenance": []
  },
  "kernelspec": {
   "display_name": "Python 3",
   "name": "python3"
  },
  "language_info": {
   "name": "python"
  }
 },
 "nbformat": 4,
 "nbformat_minor": 0
}
