{
 "cells": [
  {
   "cell_type": "markdown",
   "metadata": {
    "id": "M6yShpelZy-I"
   },
   "source": [
    "After accidentally leaving an ice chest of fish and shrimp in your car for a week while you were on vacation, you’re now in the market for a new vehicle 🚗. Your insurance didn’t cover the loss, so you want to make sure you get a good deal on your new car.\n",
    "\n",
    "Given a Series of car `asking_prices` and another Series of car `fair_prices`, determine which cars for sale are a good deal. In other words, identify cars whose asking price is less than their fair price."
   ]
  },
  {
   "cell_type": "code",
   "execution_count": null,
   "metadata": {
    "id": "ZlHN2R3QaPX3"
   },
   "outputs": [],
   "source": [
    "import numpy as np\n",
    "import pandas as pd\n",
    "\n",
    "asking_prices = pd.Series([5000, 7600, 9000, 8500, 7000], index=['civic', 'civic', 'camry', 'mustang', 'mustang'])\n",
    "fair_prices = pd.Series([5500, 7500, 7500], index=['civic', 'mustang', 'camry'])\n",
    "\n",
    "print(asking_prices)\n",
    "# civic      5000\n",
    "# civic      7600\n",
    "# camry      9000\n",
    "# mustang    8500\n",
    "# mustang    7000\n",
    "# dtype: int64\n",
    "\n",
    "print(fair_prices)\n",
    "# civic      5500\n",
    "# mustang    7500\n",
    "# camry      7500\n",
    "# dtype: int64"
   ]
  },
  {
   "cell_type": "markdown",
   "metadata": {
    "id": "b6_u7yFwIsLo"
   },
   "source": [
    "The result should be a **list of integer indices** corresponding to the good deals in `asking_prices`."
   ]
  },
  {
   "cell_type": "markdown",
   "metadata": {
    "id": "h7D8d-J5cela"
   },
   "source": [
    "---"
   ]
  },
  {
   "cell_type": "code",
   "execution_count": null,
   "metadata": {
    "id": "CWwTWfYCa4k0"
   },
   "outputs": [],
   "source": [
    "# Your brilliant solution here!"
   ]
  }
 ],
 "metadata": {
  "colab": {
   "collapsed_sections": [],
   "name": "car-shopping.ipynb",
   "provenance": []
  },
  "kernelspec": {
   "display_name": "Python 3",
   "name": "python3"
  },
  "language_info": {
   "name": "python"
  }
 },
 "nbformat": 4,
 "nbformat_minor": 0
}
