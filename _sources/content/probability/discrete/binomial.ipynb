{
 "cells": [
  {
   "cell_type": "markdown",
   "id": "8bae5744",
   "metadata": {},
   "source": [
    "# Binomial Distribution\n",
    "This section covers the Binomial distribution, which generalizes the Bernoulli distribution to the number of successes in n independent Bernoulli trials."
   ]
  }
 ],
 "metadata": {
  "language_info": {
   "name": "python"
  }
 },
 "nbformat": 4,
 "nbformat_minor": 5
}
