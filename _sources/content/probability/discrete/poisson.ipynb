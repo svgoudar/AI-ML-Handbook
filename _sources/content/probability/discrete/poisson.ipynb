{
 "cells": [
  {
   "cell_type": "markdown",
   "id": "5fc1b0a9",
   "metadata": {},
   "source": [
    "# Poisson Distribution\n",
    "This section covers the Poisson distribution, which expresses the probability of a given number of events occurring in a fixed interval of time or space."
   ]
  }
 ],
 "metadata": {
  "language_info": {
   "name": "python"
  }
 },
 "nbformat": 4,
 "nbformat_minor": 5
}
