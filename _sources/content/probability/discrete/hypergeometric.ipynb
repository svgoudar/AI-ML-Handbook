{
 "cells": [
  {
   "cell_type": "markdown",
   "id": "ca260866",
   "metadata": {},
   "source": [
    "# Hypergeometric Distribution\n",
    "This section covers the Hypergeometric distribution, which describes the probability of k successes in n draws from a finite population without replacement."
   ]
  }
 ],
 "metadata": {
  "language_info": {
   "name": "python"
  }
 },
 "nbformat": 4,
 "nbformat_minor": 5
}
