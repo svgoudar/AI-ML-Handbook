{
 "cells": [
  {
   "cell_type": "markdown",
   "id": "436d8e4b",
   "metadata": {},
   "source": [
    "\n",
    "## Types of Probability \n",
    "\n",
    "- **Different Ways to Quantify Likelihood**\n",
    "\n",
    "----------------\n",
    "\n",
    "### Classical Probability \n",
    "- **Priori Probability - *Based on Logic and Symmetry***\n",
    "\n",
    "This is the oldest and most straightforward approach, assuming a perfectly balanced or fair system where all outcomes are equally likely. It's \"a priori\" because you can determine the probability *before* any experiment is performed, simply by reasoning.\n",
    "\n",
    "* **Core Assumption:** Each outcome in the sample space has an equal chance of occurring. This is a strong assumption and limits its applicability to ideal scenarios.\n",
    "* **Calculation:**\n",
    "    $P(E) = \\frac{\\text{Number of favorable outcomes for event E}}{\\text{Total number of distinct, equally likely outcomes in the sample space}}$\n",
    "* **Detailed Example:** A bag contains 5 red marbles, 3 blue marbles, and 2 green marbles. What is the probability of drawing a blue marble?\n",
    "    * Total outcomes (marbles): $5 + 3 + 2 = 10$.\n",
    "    * Favorable outcomes (blue marbles): 3.\n",
    "    * $P(\\text{Blue Marble}) = \\frac{3}{10} = 0.3$.\n",
    "* **Limitations:** Not applicable when outcomes are not equally likely (e.g., a loaded die) or when the sample space is infinitely large (e.g., continuous variables).\n",
    "\n",
    "### Empirical Probability \n",
    "\n",
    "- **Posteriori Probability or Relative Frequency - *Based on Observation and Experimentation***\n",
    "\n",
    "This type of probability is derived from actual data, observations, or experiments. It's \"a posteriori\" because it's determined *after* an experiment has been conducted.\n",
    "\n",
    "* **Core Idea:** The probability of an event is estimated by its observed frequency in a long series of trials.\n",
    "* **Calculation:**\n",
    "    $P(E) = \\frac{\\text{Number of times event E occurred in trials}}{\\text{Total number of trials}}$\n",
    "* **Detailed Example:** A quality control inspector checks 500 light bulbs and finds 15 of them are defective. What is the empirical probability that a randomly chosen light bulb from this production batch is defective?\n",
    "    * Number of defective bulbs (favorable outcomes): 15\n",
    "    * Total bulbs inspected (total trials): 500\n",
    "    * $P(\\text{Defective}) = \\frac{15}{500} = \\frac{3}{100} = 0.03$.\n",
    "* **Law of Large Numbers:** A crucial concept here. As the number of trials in an experiment increases, the empirical probability of an event tends to get closer and closer to its true (theoretical) probability. This is why polling larger samples often leads to more accurate predictions.\n",
    "* **Applications:** Widely used in science, engineering, finance, insurance (actuarial science), and public health.\n",
    "\n",
    "\n",
    "### Subjective Probability \n",
    "\n",
    "- **Based on Personal Belief and Expert Judgment**\n",
    "\n",
    "This is the least formal but often necessary type of probability. It reflects an individual's personal assessment of the likelihood of an event, based on available information, intuition, experience, and sometimes even biases.\n",
    "\n",
    "* **Core Idea:** It quantifies a degree of belief.\n",
    "* **Characteristics:**\n",
    "    * **Personal:** Different individuals may assign different subjective probabilities to the same event.\n",
    "    * **Dynamic:** Can change as new information becomes available.\n",
    "    * **Not Falsifiable by Single Event:** You can't prove a subjective probability wrong with one outcome (e.g., if a meteorologist says 70% chance of rain and it doesn't rain, their prediction isn't necessarily \"wrong\" if their reasoning was sound).\n",
    "* **Detailed Example:**\n",
    "    * A venture capitalist estimates a 40% chance that a particular startup will become profitable within five years, based on the business plan, team, market analysis, and their past experience.\n",
    "    * A jury member assigns a 90% probability that the defendant is guilty based on the presented evidence.\n",
    "    * A poker player estimates the probability of their opponent having a certain hand.\n",
    "* **Applications:** Decision-making under uncertainty, particularly in business strategy, legal judgments, sports betting, and personal finance where objective data might be scarce or inconclusive."
   ]
  },
  {
   "cell_type": "markdown",
   "id": "9fa63381",
   "metadata": {},
   "source": []
  }
 ],
 "metadata": {
  "language_info": {
   "name": "python"
  }
 },
 "nbformat": 4,
 "nbformat_minor": 5
}
