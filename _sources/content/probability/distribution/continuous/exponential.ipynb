{
 "cells": [
  {
   "cell_type": "markdown",
   "id": "2791ab52",
   "metadata": {},
   "source": [
    "# Exponential Distribution\n",
    "This section covers the Exponential distribution, which describes the time between events in a Poisson process."
   ]
  }
 ],
 "metadata": {
  "language_info": {
   "name": "python"
  }
 },
 "nbformat": 4,
 "nbformat_minor": 5
}
