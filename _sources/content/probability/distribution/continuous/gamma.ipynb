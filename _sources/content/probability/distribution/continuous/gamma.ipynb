{
 "cells": [
  {
   "cell_type": "markdown",
   "id": "4978d450",
   "metadata": {},
   "source": [
    "# Gamma Distribution\n",
    "This section covers the Gamma distribution, a two-parameter family of continuous probability distributions."
   ]
  }
 ],
 "metadata": {
  "language_info": {
   "name": "python"
  }
 },
 "nbformat": 4,
 "nbformat_minor": 5
}
