{
 "cells": [
  {
   "cell_type": "markdown",
   "id": "5494f96d",
   "metadata": {},
   "source": [
    "---\n",
    "noteId: \"fe9ea8a0803811f0804169989e720e9f\"\n",
    "tags: []\n",
    "\n",
    "---\n",
    "\n",
    "# Discrete Probability Distributions\n",
    "\n",
    "A **discrete probability distribution** describes the probabilities of outcomes of a *discrete random variable* — one that takes only **countable values** (finite or infinite).  \n",
    "Examples: number of coin tosses until heads, number of emails in an hour, or dice outcomes.\n",
    "\n",
    "Key properties:  \n",
    "- The probability of each outcome is **between 0 and 1**.  \n",
    "- The sum of all probabilities equals **1**.  \n",
    "\n",
    "Common discrete distributions include:\n",
    "- **Bernoulli Distribution** – models a single trial with success/failure.  \n",
    "- **Binomial Distribution** – number of successes in multiple independent trials.  \n",
    "- **Poisson Distribution** – counts of events occurring in a fixed interval.  \n",
    "- **Geometric & Negative Binomial Distributions** – number of trials until success.  \n",
    "- **Discrete Uniform Distribution** – equally likely outcomes.  \n",
    "\n",
    "```{tableofcontents}\n"
   ]
  }
 ],
 "metadata": {
  "language_info": {
   "name": "python"
  }
 },
 "nbformat": 4,
 "nbformat_minor": 5
}
