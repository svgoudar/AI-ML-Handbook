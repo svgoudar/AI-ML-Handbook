{
 "cells": [
  {
   "cell_type": "markdown",
   "id": "f2cf0849",
   "metadata": {},
   "source": [
    "# Geometric Distribution\n",
    "This section covers the Geometric distribution, which models the number of trials needed to get the first success in repeated, independent Bernoulli trials."
   ]
  }
 ],
 "metadata": {
  "language_info": {
   "name": "python"
  }
 },
 "nbformat": 4,
 "nbformat_minor": 5
}
