{
 "cells": [
  {
   "cell_type": "markdown",
   "id": "26f5b768",
   "metadata": {},
   "source": [
    "## Bernoulli Distribution"
   ]
  },
  {
   "cell_type": "markdown",
   "id": "9afff6a1",
   "metadata": {},
   "source": [
    "The **Bernoulli Distribution** is the simplest discrete probability distribution, used to model random experiments with exactly **two possible outcomes**—commonly called **success** (with probability \\$p\\$) and **failure** (with probability \\$1-p\\$, or \\$q\\$).\n",
    "\n",
    "### 🔑 Key Ideas\n",
    "\n",
    "* **Binary Outcomes:** Each trial results in either \\$1\\$ (success) or \\$0\\$ (failure). Examples include flipping a coin (heads/tails) or passing/failing a test.\n",
    "* **Parameters:** Defined by one parameter—the probability of success \\$p\\$ (where \\$0 \\leq p \\leq 1\\$). Failure occurs with probability \\$q = 1-p\\$.\n",
    "* **Probability Mass Function (PMF):**\n",
    "\n",
    "  $$\n",
    "  P(X = k) = p^k \\cdot (1-p)^{1-k}, \\quad k \\in \\{0,1\\}\n",
    "  $$\n",
    "\n",
    "  * For $k=1$ (success): $P(X=1) = p$\n",
    "  * For $k=0$ (failure): $P(X=0) = q = 1-p$\n",
    "\n",
    "Graphically, the PMF is shown as two bars—one for \\$k=0\\$, one for \\$k=1\\$.\n",
    "\n",
    "### 📊 Statistical Properties\n",
    "\n",
    "* **Mean (Expected Value):** \\$E\\[X] = p\\$\n",
    "* **Median:**\n",
    "\n",
    "  * $0$ if $p < 0.5$\n",
    "  * $1$ if $p > 0.5$\n",
    "  * Either $0$ or $1$ if $p = 0.5$\n",
    "* **Mode (Most Likely Outcome):**\n",
    "\n",
    "  * $1$ if $p > 0.5$\n",
    "  * $0$ if $p < 0.5$\n",
    "  * Both if $p = 0.5$\n",
    "* **Variance:** $\\text{Var}(X) = p(1-p)$\n",
    "* **Standard Deviation:** $\\sqrt{p(1-p)}$\n",
    "\n"
   ]
  }
 ],
 "metadata": {
  "language_info": {
   "name": "python"
  }
 },
 "nbformat": 4,
 "nbformat_minor": 5
}
