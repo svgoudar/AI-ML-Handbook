{
 "cells": [
  {
   "cell_type": "markdown",
   "id": "9afff6a1",
   "metadata": {},
   "source": [
    "# Bernoulli Distribution\n",
    "This section covers the Bernoulli distribution, a discrete probability distribution for a random variable which takes the value 1 with probability p and the value 0 with probability 1-p."
   ]
  }
 ],
 "metadata": {
  "language_info": {
   "name": "python"
  }
 },
 "nbformat": 4,
 "nbformat_minor": 5
}
