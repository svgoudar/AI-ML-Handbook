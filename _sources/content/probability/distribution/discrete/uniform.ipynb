{
 "cells": [
  {
   "cell_type": "markdown",
   "id": "ee282976",
   "metadata": {
    "notebookRunGroups": {
     "groupValue": "2"
    }
   },
   "source": [
    "```{contents}\n",
    ":local:\n",
    ":depth: 2\n",
    "```"
   ]
  },
  {
   "cell_type": "markdown",
   "id": "8e929fd1",
   "metadata": {},
   "source": [
    "# Discrete Uniform Distribution\n",
    "\n",
    "The **Discrete Uniform Distribution** is one of the simplest probability distributions.\n",
    "It describes a scenario where **all outcomes in a finite set are equally likely**.\n",
    "\n",
    "---\n",
    "\n",
    "## Definition\n",
    "\n",
    "If a random variable $X$ can take on **$n$ distinct values** $\\{x_1, x_2, \\dots, x_n\\}$,\n",
    "and each value is **equally likely**, then:\n",
    "\n",
    "$$\n",
    "P(X = x_i) = \\frac{1}{n}, \\quad i = 1, 2, \\dots, n\n",
    "$$\n",
    "\n",
    "---\n",
    "\n",
    "## Parameters\n",
    "\n",
    "* **Lower bound**: $a$ (smallest value)\n",
    "* **Upper bound**: $b$ (largest value)\n",
    "* Number of possible values: $n = b - a + 1$\n",
    "\n",
    "---\n",
    "\n",
    "## Probability Mass Function (PMF)\n",
    "\n",
    "$$\n",
    "P(X = x) =\n",
    "\\begin{cases} \n",
    "\\frac{1}{n}, & x \\in \\{a, a+1, \\dots, b\\} \\\\\n",
    "0, & \\text{otherwise}\n",
    "\\end{cases}\n",
    "$$\n",
    "\n",
    "---\n",
    "\n",
    "## Statistical Measures\n",
    "\n",
    "1. **Mean (Expected Value):**\n",
    "\n",
    "$$\n",
    "E[X] = \\frac{a+b}{2}\n",
    "$$\n",
    "\n",
    "2. **Variance:**\n",
    "\n",
    "$$\n",
    "Var(X) = \\frac{(n^2 - 1)}{12}\n",
    "$$\n",
    "\n",
    "where $n = b-a+1$.\n",
    "\n",
    "3. **Standard Deviation:**\n",
    "\n",
    "$$\n",
    "\\sigma = \\sqrt{Var(X)}\n",
    "$$\n",
    "\n",
    "---\n",
    "\n",
    "## Example \n",
    "\n",
    "1. **Rolling a fair die:**\n",
    "\n",
    "   * Possible outcomes: $\\{1,2,3,4,5,6\\}$\n",
    "   * Each has probability $\\frac{1}{6}$.\n",
    "   * Mean = $\\frac{1+6}{2} = 3.5$.\n",
    "   * Variance = $\\frac{6^2 - 1}{12} = \\frac{35}{12} \\approx 2.92$.\n",
    "   * Std. deviation = $\\sqrt{2.92} \\approx 1.71$.\n",
    "\n",
    "2. **Choosing a random card rank from a standard deck:**\n",
    "\n",
    "   * Outcomes = 13 (Ace to King).\n",
    "   * Each rank has probability $1/13$.\n",
    "\n",
    "---\n",
    "\n",
    "## Applications\n",
    "\n",
    "* **Games of chance** (dice, cards, lotteries).\n",
    "* **Random sampling** from a finite set where each element has equal chance.\n",
    "* **Simulation models** where fair random integers are needed.\n",
    "\n",
    "---\n",
    "\n",
    "✅ **Key takeaway:**\n",
    "The **Discrete Uniform Distribution** is the most “fair” distribution: every possible outcome is equally probable.\n",
    "\n"
   ]
  },
  {
   "cell_type": "code",
   "execution_count": 1,
   "id": "931e835c",
   "metadata": {},
   "outputs": [
    {
     "data": {
      "image/png": "[encoded data removed]",
      "text/plain": [
       "<Figure size 640x480 with 1 Axes>"
      ]
     },
     "metadata": {},
     "output_type": "display_data"
    },
    {
     "data": {
      "text/plain": [
       "(np.float64(9.095238095238095), np.float64(0.4285297668791199))"
      ]
     },
     "execution_count": 1,
     "metadata": {},
     "output_type": "execute_result"
    }
   ],
   "source": [
    "import numpy as np\n",
    "import matplotlib.pyplot as plt\n",
    "from scipy.stats import chisquare\n",
    "\n",
    "# Simulate 315 interior digits (fraud-free: uniform distribution 0-9)\n",
    "np.random.seed(42)\n",
    "digits_uniform = np.random.randint(0, 10, 315)\n",
    "\n",
    "# Count frequency of each digit (0–9)\n",
    "observed_counts, _ = np.histogram(digits_uniform, bins=np.arange(11))\n",
    "\n",
    "# Expected frequency for each digit (uniform)\n",
    "expected_counts = np.full(10, 315/10)\n",
    "\n",
    "# Perform Chi-square test\n",
    "chi2_stat, p_value = chisquare(observed_counts, expected_counts)\n",
    "\n",
    "# Plot observed vs expected frequencies\n",
    "plt.bar(range(10), observed_counts, alpha=0.6, label=\"Observed\")\n",
    "plt.axhline(y=expected_counts[0], color=\"red\", linestyle=\"--\", label=\"Expected (31.5)\")\n",
    "plt.xlabel(\"Digits (0–9)\")\n",
    "plt.ylabel(\"Frequency\")\n",
    "plt.title(\"Uniform Distribution of Digits (Fraud-Free Simulation)\")\n",
    "plt.legend()\n",
    "plt.show()\n",
    "\n",
    "chi2_stat, p_value\n"
   ]
  }
 ],
 "metadata": {
  "kernelspec": {
   "display_name": "Python 3",
   "language": "python",
   "name": "python3"
  },
  "language_info": {
   "codemirror_mode": {
    "name": "ipython",
    "version": 3
   },
   "file_extension": ".py",
   "mimetype": "text/x-python",
   "name": "python",
   "nbconvert_exporter": "python",
   "pygments_lexer": "ipython3",
   "version": "3.12.0"
  }
 },
 "nbformat": 4,
 "nbformat_minor": 5
}
