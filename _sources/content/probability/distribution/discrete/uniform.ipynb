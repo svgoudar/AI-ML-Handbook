{
 "cells": [
  {
   "cell_type": "markdown",
   "id": "8e929fd1",
   "metadata": {},
   "source": [
    "# Discrete Uniform Distribution\n",
    "This section covers the Discrete Uniform distribution, where a finite number of values are equally likely to be observed."
   ]
  }
 ],
 "metadata": {
  "language_info": {
   "name": "python"
  }
 },
 "nbformat": 4,
 "nbformat_minor": 5
}
