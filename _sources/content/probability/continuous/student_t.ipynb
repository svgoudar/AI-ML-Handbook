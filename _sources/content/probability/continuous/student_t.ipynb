{
 "cells": [
  {
   "cell_type": "markdown",
   "id": "72f32195",
   "metadata": {},
   "source": [
    "# Student's t-Distribution\n",
    "This section covers the Student's t-distribution, which arises when estimating the mean of a normally distributed population in situations where the sample size is small."
   ]
  }
 ],
 "metadata": {
  "language_info": {
   "name": "python"
  }
 },
 "nbformat": 4,
 "nbformat_minor": 5
}
