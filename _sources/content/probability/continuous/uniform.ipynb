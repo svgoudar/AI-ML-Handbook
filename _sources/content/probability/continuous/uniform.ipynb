{
 "cells": [
  {
   "cell_type": "markdown",
   "id": "f1a8f1c1",
   "metadata": {},
   "source": [
    "# Continuous Uniform Distribution\n",
    "This section covers the Continuous Uniform distribution, where all intervals of the same length are equally probable."
   ]
  }
 ],
 "metadata": {
  "language_info": {
   "name": "python"
  }
 },
 "nbformat": 4,
 "nbformat_minor": 5
}
