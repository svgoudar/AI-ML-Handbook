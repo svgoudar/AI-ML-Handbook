{
 "cells": [
  {
   "cell_type": "markdown",
   "id": "08c9f636",
   "metadata": {},
   "source": [
    "# Chi-Square Distribution\n",
    "This section covers the Chi-Square distribution, which is widely used in hypothesis testing and construction of confidence intervals."
   ]
  }
 ],
 "metadata": {
  "language_info": {
   "name": "python"
  }
 },
 "nbformat": 4,
 "nbformat_minor": 5
}
