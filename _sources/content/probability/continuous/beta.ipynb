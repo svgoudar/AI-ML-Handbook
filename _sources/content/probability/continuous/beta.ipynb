{
 "cells": [
  {
   "cell_type": "markdown",
   "id": "4c7ba1a2",
   "metadata": {},
   "source": [
    "# Beta Distribution\n",
    "This section covers the Beta distribution, a family of continuous probability distributions defined on the interval [0, 1]."
   ]
  }
 ],
 "metadata": {
  "language_info": {
   "name": "python"
  }
 },
 "nbformat": 4,
 "nbformat_minor": 5
}
