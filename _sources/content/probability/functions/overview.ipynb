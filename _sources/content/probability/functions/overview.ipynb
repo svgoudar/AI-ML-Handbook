{
 "cells": [
  {
   "cell_type": "markdown",
   "id": "ac0b3497",
   "metadata": {},
   "source": [
    "```{contents}\n",
    ":local:\n",
    ":depth: 2\n",
    "```"
   ]
  },
  {
   "cell_type": "markdown",
   "id": "1fe080f6",
   "metadata": {},
   "source": [
    "## Probability Functions Overview\n",
    "\n",
    "Probability functions describe how probabilities are assigned to outcomes of random variables. Depending on whether the variable is **discrete** or **continuous**, we use different functions.\n",
    "\n",
    "### What is a Probability Distribution Function?\n",
    "\n",
    "A **probability distribution function** tells us how the probabilities of different outcomes are spread across the possible values of a random variable.\n",
    "\n",
    "It answers:\n",
    "➡️ *“If I pick a value of this random variable, what is the chance it occurs?”*\n",
    "\n",
    "There are two main types depending on whether the variable is **discrete** or **continuous**:\n",
    "\n",
    "---\n",
    "\n",
    "### 1. Discrete Random Variables → *Probability Mass Function (PMF)*\n",
    "\n",
    "* Used when outcomes are **countable** (like rolling a die or flipping a coin).\n",
    "* PMF gives the probability of each exact value.\n",
    "\n",
    "Example:\n",
    "For a fair die 🎲,\n",
    "\n",
    "$$\n",
    "P(X=k) = \\frac{1}{6}, \\quad k = 1,2,3,4,5,6\n",
    "$$\n",
    "\n",
    "---\n",
    "\n",
    "### 2. Continuous Random Variables → *Probability Density Function (PDF)*\n",
    "\n",
    "* Used when outcomes can take **any value in a range** (like height, weight, or time).\n",
    "* PDF doesn’t give probabilities directly; instead, **areas under the curve** represent probabilities.\n",
    "\n",
    "Example:\n",
    "If heights follow a **normal distribution**,\n",
    "\n",
    "$$\n",
    "P(a \\leq X \\leq b) = \\int_a^b f(x)\\,dx\n",
    "$$\n",
    "\n",
    "(where $f(x)$ is the PDF).\n",
    "\n",
    "---\n",
    "\n",
    "### 3. Cumulative Distribution Function (CDF)\n",
    "\n",
    "* Applies to both discrete & continuous variables.\n",
    "* Describes the probability that a random variable is **less than or equal to** some value.\n",
    "\n",
    "Formally:\n",
    "\n",
    "$$\n",
    "F(x) = P(X \\leq x)\n",
    "$$\n",
    "\n",
    "Example:\n",
    "For a die,\n",
    "\n",
    "$$\n",
    "F(3) = P(X \\leq 3) = P(1) + P(2) + P(3) = \\frac{3}{6} = 0.5\n",
    "$$\n",
    "\n",
    "---\n",
    "\n",
    "✅ **In short:**\n",
    "\n",
    "* **PMF** → exact probability of discrete outcomes\n",
    "* **PDF** → describes shape of probability for continuous outcomes\n",
    "* **CDF** → cumulative probability up to a value\n",
    "\n"
   ]
  },
  {
   "cell_type": "markdown",
   "id": "99140edc",
   "metadata": {},
   "source": [
    "| Function | Variable Type | What it Represents                           | Key Feature           |\n",
    "| -------- | ------------- | -------------------------------------------- | --------------------- |\n",
    "| **PMF**  | Discrete      | Probability of exact outcome                 | Sum of all probs = 1  |\n",
    "| **PDF**  | Continuous    | Probability density (not direct probability) | Area under curve = 1  |\n",
    "| **CDF**  | Both          | Probability that value ≤ x                   | Always non-decreasing |\n"
   ]
  },
  {
   "cell_type": "markdown",
   "id": "5c51c831",
   "metadata": {},
   "source": [
    "```{dropdown} Click here for Types of Probability Functions\n",
    "```{tableofcontents}\n"
   ]
  }
 ],
 "metadata": {
  "language_info": {
   "name": "python"
  }
 },
 "nbformat": 4,
 "nbformat_minor": 5
}
