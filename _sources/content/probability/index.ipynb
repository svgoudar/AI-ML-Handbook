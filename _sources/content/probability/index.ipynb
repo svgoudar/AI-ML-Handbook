{
 "cells": [
  {
   "cell_type": "markdown",
   "id": "c0249a82",
   "metadata": {},
   "source": [
    "# 🎲 Probability\n",
    "\n",
    "Jupyter Book supports many kinds of source files for your book's content.\n",
    "These sections cover the major types of content and how you can control their behavior in Jupyter Book.\n",
    "See the list of sections to the left for information about each type.\n",
    "\n",
    "```{dropdown} Click here for Sections\n",
    "```{tableofcontents}\n",
    ":class: mytoc\n",
    "\n",
    "\n"
   ]
  }
 ],
 "metadata": {
  "language_info": {
   "name": "python"
  }
 },
 "nbformat": 4,
 "nbformat_minor": 5
}
