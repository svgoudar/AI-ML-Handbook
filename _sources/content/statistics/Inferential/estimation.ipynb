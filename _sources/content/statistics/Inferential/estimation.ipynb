{
 "cells": [
  {
   "cell_type": "markdown",
   "id": "c3b10c59",
   "metadata": {},
   "source": [
    "# Estimation\n",
    "- Point Estimation\n",
    "- Interval Estimation\n",
    "- Confidence Intervals\n",
    "- Properties of Estimators"
   ]
  }
 ],
 "metadata": {
  "language_info": {
   "name": "python"
  }
 },
 "nbformat": 4,
 "nbformat_minor": 5
}
