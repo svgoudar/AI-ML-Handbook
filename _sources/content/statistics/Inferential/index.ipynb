{
 "cells": [
  {
   "cell_type": "markdown",
   "id": "154e77e6",
   "metadata": {},
   "source": [
    "# Inferential Statistics\n",
    "This section covers methods for making inferences and predictions about populations based on sample data."
   ]
  }
 ],
 "metadata": {
  "language_info": {
   "name": "python"
  }
 },
 "nbformat": 4,
 "nbformat_minor": 5
}
