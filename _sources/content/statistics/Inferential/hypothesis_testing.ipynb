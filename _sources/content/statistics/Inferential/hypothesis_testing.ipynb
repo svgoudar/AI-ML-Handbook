{
 "cells": [
  {
   "cell_type": "markdown",
   "id": "1e34911f",
   "metadata": {},
   "source": [
    "# Hypothesis Testing\n",
    "- Null and Alternative Hypotheses\n",
    "- Type I and Type II Errors\n",
    "- p-value\n",
    "- Test Statistics\n",
    "- One-tailed and Two-tailed Tests\n",
    "- Common Tests (z, t, chi-square, ANOVA)"
   ]
  }
 ],
 "metadata": {
  "language_info": {
   "name": "python"
  }
 },
 "nbformat": 4,
 "nbformat_minor": 5
}
