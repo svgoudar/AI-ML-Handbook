{
 "cells": [
  {
   "cell_type": "markdown",
   "id": "67fdb9c7",
   "metadata": {},
   "source": [
    "```{contents}\n",
    "```"
   ]
  },
  {
   "cell_type": "markdown",
   "id": "d4afad30",
   "metadata": {},
   "source": [
    "# Integration Calculus\n",
    "\n",
    "Integration is the process of **adding up infinitely small pieces** to find the whole.\n",
    "It is often described as the **reverse of differentiation**.\n",
    "\n",
    "---\n",
    "\n",
    "## What Integration Tells Us\n",
    "\n",
    "1. **Area under a curve**\n",
    "   If you have a function $f(x)$, the integral\n",
    "\n",
    "   $$\n",
    "   \\int f(x)\\,dx\n",
    "   $$\n",
    "\n",
    "   gives the total area under the curve between two points.\n",
    "\n",
    "2. **Accumulation**\n",
    "   It measures **total change** when you know the **rate of change**.\n",
    "\n",
    "   * Example: If velocity $v(t)$ is given, then\n",
    "\n",
    "     $$\n",
    "     \\int v(t)\\,dt = \\text{distance traveled}\n",
    "     $$\n",
    "\n",
    "---\n",
    "\n",
    "### Types of Integrals\n",
    "\n",
    "1. **Indefinite Integral**\n",
    "\n",
    "   * No limits of integration.\n",
    "   * Represents a **family of functions** (plus a constant $C$).\n",
    "   * Example:\n",
    "\n",
    "     $$\n",
    "     \\int 2x\\,dx = x^2 + C\n",
    "     $$\n",
    "\n",
    "2. **Definite Integral**\n",
    "\n",
    "   * With limits (from $a$ to $b$).\n",
    "   * Represents a **specific numerical value** (area/total).\n",
    "   * Example:\n",
    "\n",
    "     $$\n",
    "     \\int_{0}^{2} 2x\\,dx = [x^2]_{0}^{2} = 4\n",
    "     $$\n",
    "\n",
    "---\n",
    "\n",
    "### Why Integration is Important\n",
    "\n",
    "* Physics → distance, work, energy.\n",
    "* Economics → total cost, profit, revenue.\n",
    "* Probability → finding probabilities using curves.\n",
    "* Engineering & Data Science → optimization, continuous models.\n",
    "\n",
    "---\n",
    "\n",
    "**In short:**\n",
    "Integration = **Summing up small parts** to get the **whole** (area, volume, total change).\n",
    "\n"
   ]
  },
  {
   "cell_type": "markdown",
   "id": "a7dc9e89",
   "metadata": {},
   "source": []
  }
 ],
 "metadata": {
  "language_info": {
   "name": "python"
  }
 },
 "nbformat": 4,
 "nbformat_minor": 5
}
