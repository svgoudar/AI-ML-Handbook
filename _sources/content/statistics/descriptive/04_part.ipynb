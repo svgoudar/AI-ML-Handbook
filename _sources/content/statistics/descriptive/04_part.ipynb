{
 "cells": [
  {
   "cell_type": "markdown",
   "id": "b750f18b",
   "metadata": {},
   "source": [
    "```{contents}\n",
    "\n",
    "```"
   ]
  },
  {
   "cell_type": "markdown",
   "id": "0ebf993f",
   "metadata": {},
   "source": [
    "\n",
    "## Random Variables\n",
    "\n",
    "* A **random variable** is a function whose values are derived from a process or experiment.\n",
    "* Denoted by a **capital letter** (e.g., $X$).\n",
    "\n",
    "---\n",
    "\n",
    "### Examples of Random Processes\n",
    "\n",
    "1. **Tossing a coin** → Outcomes: Head / Tail\n",
    "\n",
    "   * Assign values: Head = 0, Tail = 1\n",
    "   * → Discrete random variable\n",
    "2. **Rolling a dice** → Outcomes: 1,2,3,4,5,6\n",
    "\n",
    "   * → Discrete random variable\n",
    "3. **Rainfall tomorrow (in inches)** → Possible values: 1.1, 5.5, 10.75, … (any real number ≥ 0)\n",
    "\n",
    "   * → Continuous random variable\n",
    "4. **Height of people at an event** → 150 cm, 160.1 cm, …\n",
    "\n",
    "   * → Continuous random variable\n",
    "\n",
    "---\n",
    "\n",
    "### Types of Random Variables\n",
    "\n",
    "1. **Discrete Random Variable**\n",
    "\n",
    "   * Takes **countable values** (whole numbers).\n",
    "   * Examples: Coin toss, dice roll.\n",
    "\n",
    "2. **Continuous Random Variable**\n",
    "\n",
    "   * Takes **any value (including fractions)** within a range, often infinite.\n",
    "   * Examples: Rainfall amount, human height.\n",
    "\n",
    "---\n",
    "\n",
    "### Key Idea\n",
    "\n",
    "👉 A random variable is not just a number—it’s a **function that maps the outcome of a random process to numerical values**.\n",
    "\n",
    "Later, we can describe them further using **probability mass function (PMF)** for discrete variables and **probability density function (PDF)** for continuous variables.\n",
    "\n"
   ]
  }
 ],
 "metadata": {
  "language_info": {
   "name": "python"
  }
 },
 "nbformat": 4,
 "nbformat_minor": 5
}
