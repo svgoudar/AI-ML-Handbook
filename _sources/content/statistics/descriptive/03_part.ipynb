{
 "cells": [
  {
   "cell_type": "markdown",
   "id": "64b1271a",
   "metadata": {},
   "source": [
    "```{contents}\n",
    "\n",
    "```"
   ]
  },
  {
   "cell_type": "markdown",
   "id": "adf27434",
   "metadata": {},
   "source": [
    "## Bessel’s Correction\n",
    "\n",
    "Bessel’s correction refers to the practice of dividing by **$n-1$** instead of $n$ when calculating the **sample variance** or **sample standard deviation**.\n",
    "\n",
    "### Population Variance Formula\n",
    "\n",
    "$$\n",
    "\\sigma^2 = \\frac{1}{N}\\sum_{i=1}^N (x_i - \\mu)^2\n",
    "$$\n",
    "\n",
    "* Here we divide by **$N$** (total population size).\n",
    "* Because we know the **true mean ($\\mu$)**, the calculation is exact — no bias.\n",
    "\n",
    "---\n",
    "\n",
    "### Sample Variance Formula\n",
    "\n",
    "$$\n",
    "s^2 = \\frac{1}{n-1}\\sum_{i=1}^n (x_i - \\bar{x})^2\n",
    "$$\n",
    "\n",
    "### Why **$n-1$** instead of **$n$?**\n",
    "\n",
    "1. **Sample Mean vs. Population Mean**\n",
    "\n",
    "   * In the population variance, we subtract $\\mu$ (true mean).\n",
    "   * In the sample variance, we subtract $\\bar{x}$ (sample mean), which itself is **estimated from the data**.\n",
    "   * This makes the deviations “slightly smaller” than they should be → underestimation of variance.\n",
    "\n",
    "2. **Correction for Underestimation**\n",
    "\n",
    "   * If we divide by $n$, we get a **biased (systematically too small)** estimate of the true variance.\n",
    "   * Dividing by $n-1$ makes the estimator **unbiased** — on average across repeated sampling, it matches the true variance.\n",
    "\n",
    "3. **Degrees of Freedom (DoF)**\n",
    "\n",
    "   * When computing variance, **one degree of freedom is lost** because the sample mean $\\bar{x}$ is already “fixed” from the data.\n",
    "   * Hence, only $n-1$ values are “free to vary.”\n",
    "   * That’s why denominator = $n-1$.\n",
    "\n",
    "---\n",
    "\n",
    "### Key Interview Phrases\n",
    "\n",
    "* \"We divide by **$n-1$** to correct for the bias in estimating population variance from a sample.\"\n",
    "* \"This correction is called **Bessel’s correction**.\"\n",
    "* \"It happens because the sample mean is itself an estimate, so one degree of freedom is lost.\"\n",
    "* \"Using $n-1$ ensures that, on average, the sample variance equals the true population variance.\"\n",
    "\n"
   ]
  },
  {
   "cell_type": "markdown",
   "id": "b1b5d3a7",
   "metadata": {},
   "source": []
  }
 ],
 "metadata": {
  "language_info": {
   "name": "python"
  }
 },
 "nbformat": 4,
 "nbformat_minor": 5
}
