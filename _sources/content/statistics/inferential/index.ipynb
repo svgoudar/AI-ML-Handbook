{
 "cells": [
  {
   "cell_type": "markdown",
   "id": "5412a917",
   "metadata": {},
   "source": [
    "### Inferential Statistics \n",
    "Inferential statistics aims to **generalize from a sample to a population**, accounting for uncertainty.\n",
    "\n",
    "**History:**\n",
    "Rooted in probability theory (Bayes, Laplace, Gauss), formalized by Galton, Pearson, and Fisher. Later expanded by Tukey to include data analysis and links to computer science.\n",
    "\n",
    "**Key Concepts:**\n",
    "\n",
    "* **Sampling Distribution:** Distribution of sample statistics across repeated samples; narrower with larger samples.\n",
    "* **Central Limit Theorem (CLT):** Sample means approximate a normal distribution as sample size grows.\n",
    "* **Standard Error:** Measures variability of a sample statistic, shrinking with larger sample size.\n",
    "* **Bootstrap:** Resampling with replacement to empirically estimate variability; avoids strict assumptions.\n",
    "* **Confidence Intervals:** Ranges around estimates to reflect uncertainty, wider with higher confidence or smaller samples.\n",
    "* **Hypothesis Testing:** Framework to test effects vs. chance. Includes p-values, alpha, Type I/II errors, permutation tests, t-tests, ANOVA, chi-square, and adjustments for multiple testing.\n",
    "* **Degrees of Freedom:** Values that can vary in a calculation; often \\$n-1\\$ for variance, less critical with large data.\n",
    "\n",
    "The **sampling distribution** is the distribution of a sample statistic (e.g., mean) across many samples from the same population. It differs from the **data distribution**, which shows frequencies of individual values in one dataset. Sampling distributions reveal how estimates vary across samples and are key for statistical inference.\n",
    "\n",
    "\n",
    "**Relevance to Data Science:**\n",
    "\n",
    "* Less emphasis on formal hypothesis testing and confidence intervals.\n",
    "* Greater reliance on empirical methods (bootstrap, permutation).\n",
    "* Focus on **prediction and practical outcomes** over theoretical inference.\n",
    "* Awareness of **bias** (sampling, data snooping, vast search effect) is critical.\n",
    "\n",
    "**In essence:**\n",
    "Traditional inferential statistics offers the foundation, but **data science favors flexible, computational methods** to handle uncertainty—prioritizing predictive accuracy and practical insights over strict statistical proofs.\n",
    "\n"
   ]
  },
  {
   "cell_type": "markdown",
   "id": "3a31276b",
   "metadata": {},
   "source": [
    "\n",
    "```{tableofcontents}\n"
   ]
  }
 ],
 "metadata": {
  "language_info": {
   "name": "python"
  }
 },
 "nbformat": 4,
 "nbformat_minor": 5
}
