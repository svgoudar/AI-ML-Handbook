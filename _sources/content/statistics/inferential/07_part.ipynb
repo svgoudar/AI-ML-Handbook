{
 "cells": [
  {
   "cell_type": "markdown",
   "id": "0bb484e2",
   "metadata": {},
   "source": [
    "```{contents}\n",
    "\n",
    "```"
   ]
  },
  {
   "cell_type": "markdown",
   "id": "1555b373",
   "metadata": {},
   "source": [
    "## Bayesian Statistics\n",
    "\n",
    "* **Definition**: Bayesian statistics is an approach to data analysis and parameter estimation based on **Bayes theorem**.\n",
    "* **Goal**: Helps in updating beliefs about probabilities when new evidence is available.\n",
    "\n",
    "---\n",
    "\n",
    "### Independent vs Dependent Events\n",
    "\n",
    "* **Independent Events**: One event does not affect another.\n",
    "\n",
    "  * Example: Rolling a die (P(1) = 1/6, independent of next roll).\n",
    "  * Example: Tossing a coin (P(Head) = 0.5, independent of next toss).\n",
    "* **Dependent Events**: One event affects the probability of another.\n",
    "\n",
    "  * Example: Bag with 3 yellow & 2 red marbles.\n",
    "\n",
    "    * P(Red) = 2/5\n",
    "    * If Red is removed, P(Yellow) = 3/4 (changed due to prior event).\n",
    "  * Leads to **Conditional Probability**:\n",
    "\n",
    "    * $P(Red ∧ Yellow) = P(Red) × P(Yellow | Red)$\n",
    "\n",
    "---\n",
    "\n",
    "### Bayes Theorem\n",
    "\n",
    "* Derived from conditional probability.\n",
    "* **Formula**:\n",
    "\n",
    "  $$\n",
    "  P(A|B) = \\frac{P(A) \\cdot P(B|A)}{P(B)}\n",
    "  $$\n",
    "* Meaning: Probability of event **A given B has occurred**.\n",
    "\n",
    "---\n",
    "\n",
    "### Importance in Machine Learning (Naïve Bayes)\n",
    "\n",
    "* Dataset Example: Features → (size of house, no. of rooms, location), Target → price.\n",
    "* We use Bayes theorem to calculate probability of output (price) given features.\n",
    "* Formula:\n",
    "\n",
    "  $$\n",
    "  P(Y | X_1, X_2, X_3) = \\frac{P(Y) \\cdot P(X_1, X_2, X_3 | Y)}{P(X_1, X_2, X_3)}\n",
    "  $$\n",
    "* This is the foundation of **Naïve Bayes Algorithm**, widely used in classification tasks.\n",
    "\n",
    "---\n",
    "\n",
    "✅ **Key Takeaways**\n",
    "\n",
    "* Bayes theorem connects prior probability (belief before evidence) with conditional probability (after seeing evidence).\n",
    "* Independent vs dependent events help build intuition.\n",
    "* In ML, Naïve Bayes applies Bayes theorem to predict outcomes based on features.\n",
    "\n"
   ]
  },
  {
   "cell_type": "markdown",
   "id": "bfb760c4",
   "metadata": {},
   "source": []
  }
 ],
 "metadata": {
  "kernelspec": {
   "display_name": "Python 3.12",
   "language": "python",
   "name": "py12"
  },
  "language_info": {
   "codemirror_mode": {
    "name": "ipython",
    "version": 3
   },
   "file_extension": ".py",
   "mimetype": "text/x-python",
   "name": "python",
   "nbconvert_exporter": "python",
   "pygments_lexer": "ipython3",
   "version": "3.12.0"
  }
 },
 "nbformat": 4,
 "nbformat_minor": 5
}
