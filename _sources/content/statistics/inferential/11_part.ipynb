{
 "cells": [
  {
   "cell_type": "markdown",
   "id": "84c61503",
   "metadata": {},
   "source": [
    "```{contents}\n",
    "\n",
    "```"
   ]
  },
  {
   "cell_type": "markdown",
   "id": "93ca8005",
   "metadata": {},
   "source": [
    "\n",
    "##  Central Limit Theorem (CLT)\n",
    "\n",
    "### Definition\n",
    "\n",
    "The **Central Limit Theorem (CLT)** states that:\n",
    "\n",
    "> When we take repeated random samples from a population and calculate their means, the distribution of these sample means will **approximate a normal distribution (bell curve)** — regardless of the shape of the original population distribution — **if the sample size is large enough (n ≥ 30 is a common rule of thumb).**\n",
    "\n",
    "---\n",
    "\n",
    "### Key Points\n",
    "\n",
    "1. Works even if the population distribution is **not normal** (e.g., skewed, uniform).\n",
    "2. The **larger the sample size (n)** → the closer the sample mean distribution is to a **normal distribution**.\n",
    "3. The **mean of the sample means** = the **population mean (μ)**.\n",
    "4. The **spread of sample means** is smaller than population spread, and is given by the **Standard Error (SE):**\n",
    "\n",
    "$$\n",
    "SE = \\frac{\\sigma}{\\sqrt{n}}\n",
    "$$\n",
    "\n",
    "where\n",
    "\n",
    "* $\\sigma$ = population standard deviation\n",
    "* $n$ = sample size\n",
    "\n",
    "---\n",
    "\n",
    "###  Why It’s Important?\n",
    "\n",
    "* It allows us to **use normal distribution methods** (Z-test, t-test, ANOVA) even when the population is not normal.\n",
    "* It is the **foundation of inferential statistics** → helps us make conclusions about populations from samples.\n",
    "\n",
    "---\n",
    "\n",
    "###  Example\n",
    "\n",
    "* Suppose exam scores in a college are **right-skewed** (most students score low, a few very high).\n",
    "* If we randomly take small samples (say 5 students each), their average will still look skewed.\n",
    "* But if we take **many larger samples (say n = 50 students each)** and plot the means → the distribution of those means will look **normal (bell curve)**.\n",
    "\n",
    "---\n",
    "\n",
    "### Visual Idea\n",
    "\n",
    "Population distribution → could be skewed, uniform, exponential, etc.\n",
    "⬇️\n",
    "Take many random samples (n ≥ 30) and calculate means.\n",
    "⬇️\n",
    "Distribution of sample means → looks **normal**.\n",
    "\n"
   ]
  }
 ],
 "metadata": {
  "kernelspec": {
   "display_name": "Python 3.12",
   "language": "python",
   "name": "py12"
  },
  "language_info": {
   "codemirror_mode": {
    "name": "ipython",
    "version": 3
   },
   "file_extension": ".py",
   "mimetype": "text/x-python",
   "name": "python",
   "nbconvert_exporter": "python",
   "pygments_lexer": "ipython3",
   "version": "3.12.0"
  }
 },
 "nbformat": 4,
 "nbformat_minor": 5
}
