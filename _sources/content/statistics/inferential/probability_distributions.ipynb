{
 "cells": [
  {
   "cell_type": "markdown",
   "id": "c0285558",
   "metadata": {},
   "source": [
    "# Probability Distributions\n",
    "- Discrete and Continuous Distributions\n",
    "- Binomial, Poisson, Normal, t, Chi-square, F\n",
    "- Properties and Applications"
   ]
  }
 ],
 "metadata": {
  "language_info": {
   "name": "python"
  }
 },
 "nbformat": 4,
 "nbformat_minor": 5
}
