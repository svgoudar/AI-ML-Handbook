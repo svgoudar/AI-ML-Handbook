{
 "cells": [
  {
   "cell_type": "markdown",
   "id": "870c8736",
   "metadata": {},
   "source": [
    "```{contents}\n",
    "\n",
    "```"
   ]
  },
  {
   "cell_type": "markdown",
   "id": "ae94138b",
   "metadata": {},
   "source": [
    "## Hypothesis Testing\n",
    "\n",
    "* **Goal:** Draw conclusions about a **population parameter** (mean, variance, etc.) using **sample data**.\n",
    "* Since collecting entire population data is hard, we rely on **samples** and make inferences.\n",
    "\n",
    "---\n",
    "\n",
    "### Steps in Hypothesis Testing\n",
    "\n",
    "1. **State the Null Hypothesis (H₀):**\n",
    "\n",
    "   * Default assumption (e.g., *person is not guilty*, *mean = 85%*).\n",
    "\n",
    "2. **State the Alternate Hypothesis (H₁):**\n",
    "\n",
    "   * Opposite of H₀ (e.g., *person is guilty*, *mean ≠ 85%*).\n",
    "\n",
    "3. **Conduct Experiments / Statistical Analysis:**\n",
    "\n",
    "   * Use statistical tests (Z-test, T-test, Chi-square, ANOVA, F-test, etc.) to analyze sample data.\n",
    "   * Collect evidence (e.g., DNA, fingerprints in crime analogy).\n",
    "\n",
    "4. **Decision Making:**\n",
    "\n",
    "   * Based on results, either **accept H₀** (keep the assumption) or **reject H₀** (support H₁).\n",
    "\n",
    "---\n",
    "\n",
    "### Example\n",
    "\n",
    "* **Claim:** College A’s average pass % = 85%.\n",
    "* **Sample:** 100 students, mean = 90%, std. dev. = 4%.\n",
    "* **Hypotheses:**\n",
    "\n",
    "  * H₀: μ = 85%\n",
    "  * H₁: μ ≠ 85%\n",
    "* Since the question asks if pass % is “different,” we test for **not equal to**.\n",
    "\n",
    "---\n",
    "\n",
    "\n",
    "---\n",
    "\n",
    "⚡In short: Hypothesis testing is about **starting with a default assumption (H₀), testing sample data, and deciding whether to keep or reject that assumption** using statistical evidence.\n"
   ]
  },
  {
   "cell_type": "markdown",
   "id": "05782e2d",
   "metadata": {},
   "source": []
  }
 ],
 "metadata": {
  "kernelspec": {
   "display_name": "base",
   "language": "python",
   "name": "python3"
  },
  "language_info": {
   "codemirror_mode": {
    "name": "ipython",
    "version": 3
   },
   "file_extension": ".py",
   "mimetype": "text/x-python",
   "name": "python",
   "nbconvert_exporter": "python",
   "pygments_lexer": "ipython3",
   "version": "3.12.7"
  }
 },
 "nbformat": 4,
 "nbformat_minor": 5
}
