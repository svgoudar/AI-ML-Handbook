{
 "cells": [
  {
   "cell_type": "markdown",
   "id": "2bc088c1",
   "metadata": {},
   "source": [
    "```{contents}\n",
    ":local:\n",
    ":depth: 2\n",
    "```"
   ]
  },
  {
   "cell_type": "markdown",
   "id": "c3b10c59",
   "metadata": {},
   "source": [
    "# Estimation\n",
    "- Point Estimation\n",
    "- Interval Estimation\n",
    "- Confidence Intervals\n",
    "- Properties of Estimators"
   ]
  }
 ],
 "metadata": {
  "language_info": {
   "name": "python"
  }
 },
 "nbformat": 4,
 "nbformat_minor": 5
}
