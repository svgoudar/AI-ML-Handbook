{
 "cells": [
  {
   "cell_type": "markdown",
   "id": "eb200205",
   "metadata": {},
   "source": [
    "# Foundations of Statistics\n",
    "This section introduces the basic concepts and terminology of statistics."
   ]
  }
 ],
 "metadata": {
  "language_info": {
   "name": "python"
  }
 },
 "nbformat": 4,
 "nbformat_minor": 5
}
