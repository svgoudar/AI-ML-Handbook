{
 "cells": [
  {
   "cell_type": "markdown",
   "id": "d3f0cbe6",
   "metadata": {},
   "source": [
    "# Descriptive Statistics\n",
    "This section covers methods for summarizing and describing the important features of data."
   ]
  }
 ],
 "metadata": {
  "language_info": {
   "name": "python"
  }
 },
 "nbformat": 4,
 "nbformat_minor": 5
}
