{
 "cells": [
  {
   "cell_type": "markdown",
   "id": "d3f0cbe6",
   "metadata": {},
   "source": []
  }
 ],
 "metadata": {
  "language_info": {
   "name": "python"
  }
 },
 "nbformat": 4,
 "nbformat_minor": 5
}
