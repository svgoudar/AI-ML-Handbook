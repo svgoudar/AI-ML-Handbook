{
 "cells": [
  {
   "cell_type": "markdown",
   "id": "ca69076d",
   "metadata": {},
   "source": [
    "# Measures of Dispersion\n",
    "- Range\n",
    "- Variance\n",
    "- Standard Deviation\n",
    "- Interquartile Range\n",
    "- Coefficient of Variation\n",
    "- Calculation Examples"
   ]
  },
  {
   "cell_type": "markdown",
   "id": "f59b787a",
   "metadata": {},
   "source": []
  }
 ],
 "metadata": {
  "language_info": {
   "name": "python"
  }
 },
 "nbformat": 4,
 "nbformat_minor": 5
}
