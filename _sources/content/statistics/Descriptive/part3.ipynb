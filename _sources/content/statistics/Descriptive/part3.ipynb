{
 "cells": [
  {
   "cell_type": "markdown",
   "id": "eefa41ff",
   "metadata": {},
   "source": [
    "# Data Visualization\n",
    "- Frequency Distributions\n",
    "- Histograms\n",
    "- Bar Charts\n",
    "- Pie Charts\n",
    "- Box Plots\n",
    "- Scatter Plots\n",
    "- Stem-and-Leaf Plots"
   ]
  }
 ],
 "metadata": {
  "language_info": {
   "name": "python"
  }
 },
 "nbformat": 4,
 "nbformat_minor": 5
}
