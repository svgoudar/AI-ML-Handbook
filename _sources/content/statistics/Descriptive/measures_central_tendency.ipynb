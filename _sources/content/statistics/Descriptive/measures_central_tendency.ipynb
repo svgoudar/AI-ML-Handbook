{
 "cells": [
  {
   "cell_type": "markdown",
   "id": "18de99d8",
   "metadata": {},
   "source": [
    "# Measures of Central Tendency\n",
    "- Mean\n",
    "- Median\n",
    "- Mode\n",
    "- Properties and Applications\n",
    "- Calculation Examples"
   ]
  }
 ],
 "metadata": {
  "language_info": {
   "name": "python"
  }
 },
 "nbformat": 4,
 "nbformat_minor": 5
}
