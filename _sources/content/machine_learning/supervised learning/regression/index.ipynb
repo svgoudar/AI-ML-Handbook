{
 "cells": [
  {
   "cell_type": "markdown",
   "id": "41d28b42",
   "metadata": {},
   "source": [
    "### Regression\n",
    "\n",
    "* Goal: Predict **continuous numeric values**.\n",
    "* Input: Features (independent variables).\n",
    "* Output: Real number (dependent variable).\n",
    "* Example: Predicting house price, temperature, stock value.\n",
    "* Algorithms:\n",
    "\n",
    "  * Linear Regression\n",
    "  * Polynomial Regression\n",
    "  * Decision Trees (for regression)\n",
    "  * Random Forest Regressor\n",
    "\n"
   ]
  },
  {
   "cell_type": "markdown",
   "id": "5f2ab766",
   "metadata": {},
   "source": [
    "```{dropdown} Click here for Sections\n",
    "```{tableofcontents}"
   ]
  }
 ],
 "metadata": {
  "language_info": {
   "name": "python"
  }
 },
 "nbformat": 4,
 "nbformat_minor": 5
}
