{
 "cells": [
  {
   "cell_type": "markdown",
   "id": "bf9f4cb5",
   "metadata": {},
   "source": [
    "# 📐Calculus\n",
    "\n",
    "Calculus is the branch of mathematics that studies **change and accumulation**.\n",
    "It helps us understand how things **vary instantly** (like speed at a moment) and how things **add up** (like total distance).\n",
    "\n",
    "---\n",
    "\n",
    "## Types of Calculus\n",
    "\n",
    "1. **Differential Calculus**\n",
    "\n",
    "   * Focus: **Rate of change** and **slopes of curves**.\n",
    "   * Tool: **Derivatives**.\n",
    "   * Example: Finding how fast a car is moving *right now*.\n",
    "\n",
    "2. **Integral Calculus**\n",
    "\n",
    "   * Focus: **Total accumulation** and **area under curves**.\n",
    "   * Tool: **Integrals**.\n",
    "   * Example: Calculating the total distance traveled from a speed graph."
   ]
  },
  {
   "cell_type": "markdown",
   "id": "1c22557b",
   "metadata": {},
   "source": [
    "\n",
    "```{dropdown} Click here for Sections\n",
    "```{tableofcontents}\n",
    "\n"
   ]
  }
 ],
 "metadata": {
  "language_info": {
   "name": "python"
  }
 },
 "nbformat": 4,
 "nbformat_minor": 5
}
