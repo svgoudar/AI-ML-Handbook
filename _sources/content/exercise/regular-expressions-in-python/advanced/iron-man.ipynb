{
 "cells": [
  {
   "cell_type": "markdown",
   "metadata": {
    "id": "M6yShpelZy-I"
   },
   "source": [
    "Here's a quote from [Iron Man](https://en.wikipedia.org/wiki/Iron_Man_(2008_film))."
   ]
  },
  {
   "cell_type": "code",
   "execution_count": null,
   "metadata": {
    "id": "ZlHN2R3QaPX3"
   },
   "outputs": [],
   "source": [
    "quote = \"i told you, I don’t want to join your super secret boy band.\""
   ]
  },
  {
   "cell_type": "markdown",
   "metadata": {
    "id": "eHsmvgEbWQgu"
   },
   "source": [
    "Find consecutive pairs of characters such that\n",
    "\n",
    "- each character is a letter in the phrase \"iron man\" (excluding the space)\n",
    "- overlapping pairs are allowed.\n",
    "\n",
    "**Expected Result**"
   ]
  },
  {
   "cell_type": "code",
   "execution_count": null,
   "metadata": {
    "id": "ApRH0t9aXW0x"
   },
   "outputs": [],
   "source": [
    "charpairs = [\n",
    "    'on', # ...I don’t want...\n",
    "    'an', # ...don’t want to...\n",
    "    'oi', # ...to join your...\n",
    "    'in', # ...to join your...\n",
    "    'an'  # ...boy band.\n",
    "]"
   ]
  },
  {
   "cell_type": "markdown",
   "metadata": {
    "id": "h7D8d-J5cela"
   },
   "source": [
    "---"
   ]
  },
  {
   "cell_type": "code",
   "execution_count": null,
   "metadata": {
    "id": "CWwTWfYCa4k0"
   },
   "outputs": [],
   "source": [
    "# Your brilliant solution here!"
   ]
  }
 ],
 "metadata": {
  "colab": {
   "collapsed_sections": [],
   "name": "iron-man.ipynb",
   "provenance": []
  },
  "kernelspec": {
   "display_name": "Python 3",
   "name": "python3"
  },
  "language_info": {
   "name": "python"
  }
 },
 "nbformat": 4,
 "nbformat_minor": 0
}
