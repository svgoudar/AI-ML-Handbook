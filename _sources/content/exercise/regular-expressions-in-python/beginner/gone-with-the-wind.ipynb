{
 "cells": [
  {
   "cell_type": "markdown",
   "metadata": {
    "id": "M6yShpelZy-I"
   },
   "source": [
    "Here's a quote from [Gone with the Wind](https://en.wikipedia.org/wiki/Gone_with_the_Wind_(film)) 👫."
   ]
  },
  {
   "cell_type": "code",
   "execution_count": null,
   "metadata": {
    "id": "ZlHN2R3QaPX3"
   },
   "outputs": [],
   "source": [
    "quote = \"Frankly my dear, I don't give a darn.\""
   ]
  },
  {
   "cell_type": "markdown",
   "metadata": {
    "id": "eHsmvgEbWQgu"
   },
   "source": [
    "Check if it contains\n",
    "\n",
    "- a lowercase letter\n",
    "- followed by a single space\n",
    "- followed by the letter g\n",
    "\n",
    "**Expected Result**\n",
    "\n",
    "Should return `True`."
   ]
  },
  {
   "cell_type": "markdown",
   "metadata": {
    "id": "h7D8d-J5cela"
   },
   "source": [
    "---"
   ]
  },
  {
   "cell_type": "code",
   "execution_count": null,
   "metadata": {
    "id": "CWwTWfYCa4k0"
   },
   "outputs": [],
   "source": [
    "# Your brilliant solution here!"
   ]
  }
 ],
 "metadata": {
  "colab": {
   "collapsed_sections": [],
   "name": "gone-with-the-wind.ipynb",
   "provenance": []
  },
  "kernelspec": {
   "display_name": "Python 3",
   "name": "python3"
  },
  "language_info": {
   "name": "python"
  }
 },
 "nbformat": 4,
 "nbformat_minor": 0
}
