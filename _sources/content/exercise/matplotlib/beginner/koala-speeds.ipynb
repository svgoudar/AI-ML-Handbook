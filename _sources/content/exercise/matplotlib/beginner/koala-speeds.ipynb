{
 "cells": [
  {
   "cell_type": "code",
   "execution_count": null,
   "metadata": {
    "id": "ZlHN2R3QaPX3"
   },
   "outputs": [],
   "source": [
    "import numpy as np\n",
    "\n",
    "# Create a random number generator\n",
    "rng = np.random.default_rng(4321) \n",
    "\n",
    "# Make data\n",
    "weights = rng.uniform(low=10, high=20, size=35)\n",
    "speeds =  -0.08* weights + 7.2 + rng.normal(loc=0, scale=0.5, size=len(weights))\n",
    "ages = rng.uniform(low=3, high=18, size=len(weights))\n",
    "\n",
    "print(weights)  # [10.03 18.08 15.33 ... 17.07 13.32 10.08]\n",
    "print(speeds)   # [6.33 5.55 6.33 ... 5.48 6.41 6.55]\n",
    "print(ages)     # [12.51 11.16 10.36 ... 17.24 16.06  7.89]"
   ]
  },
  {
   "cell_type": "markdown",
   "metadata": {
    "id": "PQhSBjgDHtcM"
   },
   "source": [
    "You fit a linear regression model to this data, `y = mx + b`, with slope `m = -0.15` and offset `b = 8.2`.\n",
    "\n",
    "- Make a scatter plot of *speed (y) vs weight (x)*, varying the size of each point by the koala's `age`.\n",
    "- Overlay the linear regression line defined by `m` and `b`.\n",
    "- Include the linear regression equation inside the Axes, near the top right. (**Make the position of the equation independent of the data!**)"
   ]
  },
  {
   "cell_type": "markdown",
   "metadata": {
    "id": "42ONCyRPH8X5"
   },
   "source": [
    "## Expected Plot\n",
    "\n",
    "<img src=\"https://www.practiceprobs.com/problemsets/matplotlib/images/koalas.png\" width=\"800px\"/>"
   ]
  },
  {
   "cell_type": "markdown",
   "metadata": {
    "id": "h7D8d-J5cela"
   },
   "source": [
    "---"
   ]
  },
  {
   "cell_type": "code",
   "execution_count": null,
   "metadata": {
    "id": "CWwTWfYCa4k0"
   },
   "outputs": [],
   "source": [
    "# Your brilliant solution here!"
   ]
  }
 ],
 "metadata": {
  "colab": {
   "collapsed_sections": [],
   "name": "koala-speeds.ipynb",
   "provenance": []
  },
  "kernelspec": {
   "display_name": "Python 3",
   "name": "python3"
  },
  "language_info": {
   "name": "python"
  }
 },
 "nbformat": 4,
 "nbformat_minor": 0
}
