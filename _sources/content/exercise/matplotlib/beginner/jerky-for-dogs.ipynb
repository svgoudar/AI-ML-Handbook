{
 "cells": [
  {
   "cell_type": "markdown",
   "metadata": {
    "id": "t1VEtnSjbu-d"
   },
   "source": [
    "Jerky for Dogs\n",
    "\n",
    "Visualize the data for dog jerky sales using matplotlib."
   ]
  },
  {
   "cell_type": "code",
   "execution_count": null,
   "metadata": {
    "id": "ZlHN2R3QaPX3"
   },
   "outputs": [],
   "source": [
    "import numpy as np\n",
    "\n",
    "# Create a random number generator\n",
    "rng = np.random.default_rng(1234) \n",
    "\n",
    "# Make data\n",
    "dates = ['2022-01-01', '2022-01-08', '2022-01-15', '2022-01-22', '2022-01-29']\n",
    "dates = np.repeat(np.array(dates, dtype='datetime64[D]'), repeats=4)\n",
    "flavors = np.tile(['traditional', 'salsa', 'sweet orange', 'smokey'], reps=5)\n",
    "sales = np.round(rng.lognormal(mean=3, sigma=2.5, size=len(dates)), 2)\n",
    "dates, flavors, sales = dates[:-1], flavors[:-1], sales[:-1]\n",
    "\n",
    "print(dates)   # ['2022-01-01'   '2022-01-01' ... '2022-01-29'   '2022-01-29']\n",
    "print(flavors) # [     'salsa' 'sweet orange' ...      'salsa' 'sweet orange']\n",
    "print(sales)   # [      82.02           11.43 ...      1358.36           0.09]"
   ]
  },
  {
   "cell_type": "markdown",
   "metadata": {
    "id": "PQhSBjgDHtcM"
   },
   "source": [
    "Build a plot like the one below showcasing `sales` vs `date`, with a separate Axes for each `flavor`. Note that each Axes has the same x and y scale!"
   ]
  },
  {
   "cell_type": "markdown",
   "metadata": {
    "id": "42ONCyRPH8X5"
   },
   "source": [
    "## Expected Plot\n",
    "\n",
    "<img src=\"https://www.practiceprobs.com/problemsets/matplotlib/images/dog-jerky-draft4.png\" width=\"800px\"/>"
   ]
  },
  {
   "cell_type": "markdown",
   "metadata": {
    "id": "h7D8d-J5cela"
   },
   "source": [
    "---"
   ]
  },
  {
   "cell_type": "code",
   "execution_count": null,
   "metadata": {
    "id": "CWwTWfYCa4k0"
   },
   "outputs": [],
   "source": [
    "# Your brilliant solution here!"
   ]
  }
 ],
 "metadata": {
  "colab": {
   "collapsed_sections": [],
   "name": "jerky-for-dogs.ipynb",
   "provenance": []
  },
  "kernelspec": {
   "display_name": "Python 3",
   "name": "python3"
  },
  "language_info": {
   "name": "python"
  }
 },
 "nbformat": 4,
 "nbformat_minor": 0
}
