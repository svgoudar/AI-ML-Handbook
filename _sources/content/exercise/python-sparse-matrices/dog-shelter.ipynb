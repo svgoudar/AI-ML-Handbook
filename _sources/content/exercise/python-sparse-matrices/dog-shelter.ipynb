{
 "cells": [
  {
   "cell_type": "markdown",
   "metadata": {
    "id": "M6yShpelZy-I"
   },
   "source": [
    "You operate a dog shelter 🐶, and you're building a model to predict the probability of a dog getting adopted based on its age, weight, and breed. You have the following data."
   ]
  },
  {
   "cell_type": "code",
   "execution_count": null,
   "metadata": {
    "id": "ZlHN2R3QaPX3"
   },
   "outputs": [],
   "source": [
    "import numpy as np\n",
    "import pandas as pd\n",
    "\n",
    "# dog breeds list\n",
    "breeds = [\n",
    "    'english pointer', 'english setter', 'kerry blue terrier', 'cairn terrier', 'english cocker spaniel',\n",
    "    'gordon setter', 'airedale terrier', 'australian terrier', 'bedlington terrier', 'border terrier',\n",
    "    'bull terrier', 'fox terrier (smooth)', 'english toy terrier (black &tan)', 'swedish vallhund',\n",
    "    'belgian shepherd dog', 'old english sheepdog', 'griffon nivernais', 'briquet griffon vendeen',\n",
    "    'ariegeois', 'gascon saintongeois', 'great gascony blue', 'poitevin', 'billy', 'artois hound',\n",
    "    'porcelaine', 'small blue gascony', 'blue gascony griffon', 'grand basset griffon vendeen',\n",
    "    'norman artesien basset', 'blue gascony basset'\n",
    "]\n",
    "\n",
    "# random generator\n",
    "rng = np.random.default_rng(1)\n",
    "\n",
    "# training DataFrame\n",
    "Ndogs = 10\n",
    "dogs = pd.DataFrame({\n",
    "    'id': rng.choice(1000000, size=Ndogs, replace=False),\n",
    "    'age': rng.uniform(low=0, high=16, size=Ndogs).round(0),\n",
    "    'weight': rng.uniform(low=10, high=115, size=Ndogs).round(1),\n",
    "    'breed': pd.Categorical(rng.choice(breeds[:25], size=Ndogs, replace=True), categories=breeds),\n",
    "    'adopted': rng.choice([True, False], size=Ndogs, replace=True)\n",
    "})\n",
    "\n",
    "# Insert some NaNs\n",
    "dogs.iloc[rng.choice(Ndogs, size=int(Ndogs * 0.25), replace=False), 1] = np.nan\n",
    "\n",
    "print(dogs)\n",
    "#        id   age  weight                             breed  adopted\n",
    "# 0  311831   NaN    88.8                   english pointer    False\n",
    "# 1  473184   9.0    39.4                      bull terrier    False\n",
    "# 2  822941   5.0    60.9  english toy terrier (black &tan)    False\n",
    "# 3   34852  13.0   113.0                australian terrier     True\n",
    "# 4  948647   NaN   111.0                kerry blue terrier     True\n",
    "# 5  511817   7.0    86.1                      bull terrier    False\n",
    "# 6  144159   2.0    66.8              old english sheepdog    False\n",
    "# 7  755162   6.0    39.1              fox terrier (smooth)    False\n",
    "# 8  950457   3.0    26.9               gascon saintongeois     True\n",
    "# 9  249228   4.0   111.8                    border terrier     True"
   ]
  },
  {
   "cell_type": "markdown",
   "metadata": {
    "id": "WFnb1Ne1NTtu"
   },
   "source": [
    "Build a compressed sparse column matrix to represent the training features. Be sure to one-hot-encode the dog breeds into indicator columns, one for each possible breed (not just the *observed* breeds 😉).\n",
    "\n",
    "The output matrix should look something like this:\n",
    "\n",
    "```\n",
    "    age  weight  is_english_pointer  is_english_setter ...\n",
    "0   NaN    88.8                 1.0                0.0\n",
    "1   9.0    39.4                 0.0                0.0\n",
    "2   5.0    60.9                 0.0                0.0\n",
    "3  13.0   113.0                 0.0                0.0\n",
    "4   NaN   111.0                 0.0                0.0\n",
    "...\n",
    "```"
   ]
  },
  {
   "cell_type": "markdown",
   "metadata": {
    "id": "h7D8d-J5cela"
   },
   "source": [
    "---"
   ]
  },
  {
   "cell_type": "code",
   "execution_count": null,
   "metadata": {
    "id": "CWwTWfYCa4k0"
   },
   "outputs": [],
   "source": [
    "# Your brilliant solution here!"
   ]
  }
 ],
 "metadata": {
  "colab": {
   "collapsed_sections": [],
   "name": "dog-shelter.ipynb",
   "provenance": []
  },
  "kernelspec": {
   "display_name": "Python 3",
   "name": "python3"
  },
  "language_info": {
   "name": "python"
  }
 },
 "nbformat": 4,
 "nbformat_minor": 0
}
