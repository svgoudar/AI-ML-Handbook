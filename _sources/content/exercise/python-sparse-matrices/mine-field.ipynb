{
 "cells": [
  {
   "cell_type": "markdown",
   "metadata": {
    "id": "M6yShpelZy-I"
   },
   "source": [
    "You're developing a game called *Mine Field*. In the game, you need to represent a 10,000x10,000 grid of mines, where each cell in the grid has a 0.002 probability of containing a mine. Build a sparse matrix called `minefield` to those specs.\n",
    "\n",
    "**Note**: you anticipate frequently needing to fetch *rows* from minefield."
   ]
  },
  {
   "cell_type": "markdown",
   "metadata": {
    "id": "h7D8d-J5cela"
   },
   "source": [
    "---"
   ]
  }
 ],
 "metadata": {
  "colab": {
   "collapsed_sections": [],
   "name": "mine-field.ipynb",
   "provenance": []
  },
  "kernelspec": {
   "display_name": "Python 3",
   "name": "python3"
  },
  "language_info": {
   "name": "python"
  }
 },
 "nbformat": 4,
 "nbformat_minor": 0
}
