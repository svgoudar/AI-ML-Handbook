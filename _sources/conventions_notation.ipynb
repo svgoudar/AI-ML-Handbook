{
 "cells": [
  {
   "cell_type": "markdown",
   "id": "dcee9bc8",
   "metadata": {},
   "source": [
    "\n",
    "**Title:** Conventions and Notations\n",
    "\n",
    "**Content:**\n",
    "\n",
    "* **Mathematical Symbols:**\n",
    "\n",
    "  * μ: Population mean\n",
    "  * σ²: Population variance\n",
    "  * x̄: Sample mean\n",
    "  * s²: Sample variance\n",
    "  * P(A): Probability of event A\n",
    "  * H₀ / H₁: Null and Alternative hypotheses\n",
    "\n",
    "* **Programming Conventions:**\n",
    "\n",
    "  * Python: `snake_case` for variables/functions\n",
    "\n",
    "* **Data Conventions:**\n",
    "\n",
    "  * Missing values: `NaN` in Python / `NA` in R\n",
    "  * Categorical variables: encoded using integers or strings\n",
    "  * Continuous variables: numeric types\n",
    "\n",
    "* **Notebook Usage Tips:**\n",
    "\n",
    "  * Each code cell includes explanations.\n",
    "  * Outputs are shown for clarity.\n",
    "  * Exercises provided at the end of each chapter.\n"
   ]
  }
 ],
 "metadata": {
  "language_info": {
   "name": "python"
  }
 },
 "nbformat": 4,
 "nbformat_minor": 5
}
