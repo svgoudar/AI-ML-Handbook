{
 "cells": [
  {
   "cell_type": "markdown",
   "id": "d7a1494a",
   "metadata": {},
   "source": [
    "# Table of Contents \n",
    "\n",
    "\n",
    "\n",
    "1. **Ordinary Linear Regression**\n",
    "   \n",
    "   1. The Loss-Minimization Perspective\n",
    "   2. The Likelihood-Maximization Perspective\n",
    "   \n",
    "2. **Linear Regression Extensions** \n",
    "   \n",
    "   1. Regularized Regression (Ridge and Lasso)\n",
    "   2. Bayesian Regression\n",
    "   4. Generalized Linear Models (GLMs)\n",
    "   \n",
    "3. **Discriminative Classification**\n",
    "   \n",
    "   1. Logistic Regression\n",
    "   2. The Perceptron Algorithm\n",
    "   3. Fisher's Linear Discriminant\n",
    "   \n",
    "4. **Generative Classification** \n",
    "\n",
    "   (Linear and Quadratic Discriminant Analysis, Naive Bayes)\n",
    "\n",
    "5. **Decision Trees**\n",
    "\n",
    "   1. Regression Trees\n",
    "   2. Classification Trees\n",
    "\n",
    "6. **Tree Ensemble Methods** \n",
    "\n",
    "   1. Bagging\n",
    "   2. Random Forests\n",
    "   3. Boosting\n",
    "\n",
    "7. **Neural Networks**"
   ]
  }
 ],
 "metadata": {
  "language_info": {
   "name": "python"
  }
 },
 "nbformat": 4,
 "nbformat_minor": 5
}
