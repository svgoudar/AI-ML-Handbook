{
 "cells": [
  {
   "cell_type": "markdown",
   "id": "c8d616bc",
   "metadata": {},
   "source": [
    "```{contents}\n",
    "```"
   ]
  },
  {
   "cell_type": "markdown",
   "id": "a66ecfc4",
   "metadata": {},
   "source": [
    "# Indexing & Slicing"
   ]
  },
  {
   "cell_type": "markdown",
   "id": "1d51f3aa",
   "metadata": {},
   "source": [
    "## Indexing (single elements)\n",
    "\n",
    "### 1-D array indexing"
   ]
  },
  {
   "cell_type": "code",
   "execution_count": 1,
   "id": "beff97d0",
   "metadata": {},
   "outputs": [
    {
     "name": "stdout",
     "output_type": "stream",
     "text": [
      "10\n",
      "50\n"
     ]
    }
   ],
   "source": [
    "import numpy as np\n",
    "a = np.array([10, 20, 30, 40, 50])\n",
    "\n",
    "print(a[0])  # 10\n",
    "print(a[-1]) # 50 (last element)\n"
   ]
  },
  {
   "cell_type": "markdown",
   "id": "d974ff07",
   "metadata": {},
   "source": [
    "### 2-D array indexing\n",
    "\n",
    "You access elements by `[row, column]`.\n"
   ]
  },
  {
   "cell_type": "code",
   "execution_count": 2,
   "id": "b156b81e",
   "metadata": {},
   "outputs": [
    {
     "name": "stdout",
     "output_type": "stream",
     "text": [
      "2\n",
      "7\n"
     ]
    }
   ],
   "source": [
    "b = np.array([[1, 2, 3],\n",
    "              [4, 5, 6],\n",
    "              [7, 8, 9]])\n",
    "\n",
    "print(b[0, 1])  # 2  (1st row, 2nd column)\n",
    "print(b[2, 0])  # 7  (3rd row, 1st column)\n",
    "\n"
   ]
  },
  {
   "cell_type": "markdown",
   "id": "33b63a70",
   "metadata": {},
   "source": [
    "### 3-D array indexing\n",
    "\n",
    "Add more indices: `[depth, row, column]`.\n"
   ]
  },
  {
   "cell_type": "code",
   "execution_count": 3,
   "id": "999b6af0",
   "metadata": {},
   "outputs": [
    {
     "name": "stdout",
     "output_type": "stream",
     "text": [
      "4\n",
      "5\n"
     ]
    }
   ],
   "source": [
    "c = np.array([[[1, 2], [3, 4]],\n",
    "              [[5, 6], [7, 8]]])\n",
    "\n",
    "print(c[0, 1, 1]) # 4\n",
    "print(c[1, 0, 0]) # 5\n"
   ]
  },
  {
   "cell_type": "markdown",
   "id": "59728d9f",
   "metadata": {},
   "source": [
    "## Slicing (subarrays)\n",
    "\n",
    "The format is always:\n",
    "\n",
    "```\n",
    "[start:stop:step]\n",
    "```\n",
    "\n",
    "like Python lists.\n",
    "\n",
    "---\n",
    "\n",
    "### 1-D slicing\n"
   ]
  },
  {
   "cell_type": "code",
   "execution_count": 4,
   "id": "76ba36a0",
   "metadata": {},
   "outputs": [
    {
     "name": "stdout",
     "output_type": "stream",
     "text": [
      "[20 30 40]\n",
      "[10 20 30]\n",
      "[10 30 50]\n",
      "[50 40 30 20 10]\n"
     ]
    }
   ],
   "source": [
    "\n",
    "a = np.array([10, 20, 30, 40, 50])\n",
    "print(a[1:4])   # [20 30 40]\n",
    "print(a[:3])    # [10 20 30]\n",
    "print(a[::2])   # [10 30 50]\n",
    "print(a[::-1])  # [50 40 30 20 10] (reversed)\n"
   ]
  },
  {
   "cell_type": "markdown",
   "id": "3ea67e29",
   "metadata": {},
   "source": [
    "### 2-D slicing\n",
    "\n",
    "You slice **rows** and **columns** separately:\n",
    "\n",
    "```\n",
    "array[rows, columns]\n",
    "```\n"
   ]
  },
  {
   "cell_type": "code",
   "execution_count": 5,
   "id": "d54d7b68",
   "metadata": {},
   "outputs": [
    {
     "name": "stdout",
     "output_type": "stream",
     "text": [
      "[[2 3]\n",
      " [6 7]]\n",
      "[ 3  7 11]\n",
      "[5 6 7 8]\n"
     ]
    }
   ],
   "source": [
    "b = np.array([[1, 2, 3, 4],\n",
    "              [5, 6, 7, 8],\n",
    "              [9,10,11,12]])\n",
    "\n",
    "print(b[0:2, 1:3])\n",
    "# [[2 3]\n",
    "#  [6 7]]\n",
    "\n",
    "print(b[:, 2])\n",
    "# [ 3  7 11] (all rows, 3rd column)\n",
    "\n",
    "print(b[1, :])\n",
    "# [5 6 7 8] (2nd row, all columns)\n"
   ]
  },
  {
   "cell_type": "markdown",
   "id": "d1075998",
   "metadata": {},
   "source": [
    "### Fancy slicing: steps"
   ]
  },
  {
   "cell_type": "code",
   "execution_count": 6,
   "id": "8d2d5fe8",
   "metadata": {},
   "outputs": [
    {
     "name": "stdout",
     "output_type": "stream",
     "text": [
      "[10 20 30 40 50]\n",
      "[10 30 50]\n",
      "[ 2 11]\n",
      "[[ 1  3]\n",
      " [ 9 11]]\n"
     ]
    }
   ],
   "source": [
    "print(a)\n",
    "print(a[[0, 2, 4]])\n",
    "# [10 30 50]\n",
    "\n",
    "print(b[[0, 2], [1, 2]])\n",
    "# [2 9]\n",
    "print(b[::2, ::2])\n",
    "# [[ 1  3]\n",
    "#  [ 9 11]]\n"
   ]
  },
  {
   "cell_type": "markdown",
   "id": "e1305fe3",
   "metadata": {},
   "source": [
    "## Boolean indexing (masking)\n",
    "\n",
    "This is powerful: select elements by condition."
   ]
  },
  {
   "cell_type": "code",
   "execution_count": 7,
   "id": "f6e9c5a6",
   "metadata": {},
   "outputs": [
    {
     "name": "stdout",
     "output_type": "stream",
     "text": [
      "[False False  True  True  True]\n",
      "[20 25 30]\n"
     ]
    }
   ],
   "source": [
    "a = np.array([10, 15, 20, 25, 30])\n",
    "mask = a > 18\n",
    "print(mask)\n",
    "# [False False  True  True  True]\n",
    "\n",
    "print(a[mask])\n",
    "# [20 25 30]\n"
   ]
  },
  {
   "cell_type": "code",
   "execution_count": 8,
   "id": "98116518",
   "metadata": {},
   "outputs": [
    {
     "name": "stdout",
     "output_type": "stream",
     "text": [
      "[10 20 30]\n"
     ]
    }
   ],
   "source": [
    "print(a[a % 2 == 0])\n",
    "# [10 20 30]\n"
   ]
  },
  {
   "cell_type": "markdown",
   "id": "99398992",
   "metadata": {},
   "source": [
    "## Ellipsis (...) in Indexing\n",
    "The ellipsis (...) can be used to select all dimensions which are not explicitly mentioned. This is helpful in multidimensional arrays when we don’t want to specify every dimension."
   ]
  },
  {
   "cell_type": "code",
   "execution_count": 9,
   "id": "12a0405c",
   "metadata": {},
   "outputs": [
    {
     "name": "stdout",
     "output_type": "stream",
     "text": [
      "[[[0.19466659 0.99583914 0.06214166 0.46225893 0.54264889]\n",
      "  [0.62582957 0.16027494 0.53506968 0.48652034 0.20508076]\n",
      "  [0.10076008 0.08426485 0.76114353 0.86856263 0.24942437]\n",
      "  [0.55528872 0.13290606 0.12841531 0.02415321 0.64236726]]\n",
      "\n",
      " [[0.42209079 0.0330078  0.24109408 0.25804814 0.10756808]\n",
      "  [0.31733218 0.54798113 0.86912194 0.5081594  0.36608296]\n",
      "  [0.53446594 0.61438198 0.95283402 0.3625896  0.01894572]\n",
      "  [0.18297324 0.66145783 0.53888124 0.04146623 0.63238176]]\n",
      "\n",
      " [[0.84496786 0.11160712 0.72748286 0.91819766 0.64385667]\n",
      "  [0.95553521 0.77779115 0.87385391 0.18157141 0.45478466]\n",
      "  [0.72141464 0.14130256 0.5486627  0.26004007 0.07745392]\n",
      "  [0.6262586  0.95231382 0.01758507 0.6924432  0.82920238]]\n",
      "\n",
      " [[0.75740174 0.17167576 0.49289104 0.02673468 0.70750808]\n",
      "  [0.91600225 0.26182448 0.55792286 0.66396555 0.74138938]\n",
      "  [0.13137058 0.25114286 0.20551354 0.96529242 0.00583859]\n",
      "  [0.32941053 0.32664761 0.11857286 0.11739527 0.29799317]]]\n",
      "[[0.19466659 0.62582957 0.10076008 0.55528872]\n",
      " [0.42209079 0.31733218 0.53446594 0.18297324]\n",
      " [0.84496786 0.95553521 0.72141464 0.6262586 ]\n",
      " [0.75740174 0.91600225 0.13137058 0.32941053]]\n"
     ]
    }
   ],
   "source": [
    "import numpy as np\n",
    "\n",
    "cube = np.random.rand(4, 4, 5)\n",
    "print(cube)\n",
    "print(cube[..., 0])"
   ]
  },
  {
   "cell_type": "markdown",
   "id": "19c77a69",
   "metadata": {},
   "source": [
    "## Quick summary table\n",
    "\n",
    "| Operation          | Example       | Result                 |\n",
    "| ------------------ | ------------- | ---------------------- |\n",
    "| Single index       | `a[1]`        | Single element         |\n",
    "| 2D access          | `b[1,2]`      | Element at row=1,col=2 |\n",
    "| Slice 1D           | `a[1:4]`      | Elements 1 to 3        |\n",
    "| Slice rows/columns | `b[0:2, 1:3]` | Submatrix              |\n",
    "| All rows in col 2  | `b[:,2]`      | 1D array of column     |\n",
    "| All cols in row 1  | `b[1,:]`      | 1D array of row        |\n",
    "| Steps              | `a[::2]`      | Every 2nd element      |\n",
    "| Reverse            | `a[::-1]`     | Array reversed         |\n",
    "| Boolean mask       | `a[a>20]`     | Elements > 20          |"
   ]
  },
  {
   "cell_type": "code",
   "execution_count": 10,
   "id": "70bc5013",
   "metadata": {},
   "outputs": [
    {
     "name": "stdout",
     "output_type": "stream",
     "text": [
      "[[[ 0  1  2  3]\n",
      "  [ 4  5  6  7]\n",
      "  [ 8  9 10 11]]\n",
      "\n",
      " [[12 13 14 15]\n",
      "  [16 17 18 19]\n",
      "  [20 21 22 23]]]\n",
      "[[ 4  5  6  7]\n",
      " [16 17 18 19]]\n"
     ]
    }
   ],
   "source": [
    "c = np.arange(24).reshape(2,3,4)\n",
    "# shape (2,3,4) -> 2 blocks, each 3x4\n",
    "print(c)\n",
    "print(c[:, 1, :])\n",
    "# Picks the 2nd row from each block\n"
   ]
  },
  {
   "cell_type": "code",
   "execution_count": 11,
   "id": "f3efa33a",
   "metadata": {},
   "outputs": [
    {
     "name": "stdout",
     "output_type": "stream",
     "text": [
      "Given Array :\n",
      "[[  1  20   3   1]\n",
      " [ 40   5  66   7]\n",
      " [ 70  88   9  11]\n",
      " [ 80 100  50  77]]\n",
      "\n",
      "Accessed Rows :\n",
      "[[40  5 66  7]\n",
      " [70 88  9 11]]\n"
     ]
    }
   ],
   "source": [
    "# Importing Numpy module\n",
    "import numpy as np\n",
    "\n",
    "# Creating a 4X4 2-D Numpy array\n",
    "arr = np.array([[1, 20, 3, 1], \n",
    "                [40, 5, 66, 7], \n",
    "                [70, 88, 9, 11],\n",
    "               [80, 100, 50, 77]])\n",
    "\n",
    "print(\"Given Array :\")\n",
    "print(arr)\n",
    "\n",
    "# Access the Last three rows of array\n",
    "res_arr = arr[[1,2]]\n",
    "print(\"\\nAccessed Rows :\")\n",
    "print(res_arr)"
   ]
  },
  {
   "cell_type": "markdown",
   "id": "454b2849",
   "metadata": {},
   "source": [
    "## Accessing the First and Last rows of 3-D NumPy array"
   ]
  },
  {
   "cell_type": "code",
   "execution_count": 12,
   "id": "026012ff",
   "metadata": {},
   "outputs": [],
   "source": [
    "n_arr = np.array([[[10, 25, 70], [30, 45, 55], [20, 45, 7]], \n",
    "                  [[50, 65, 8], [70, 85, 10], [11, 22, 33]],\n",
    "                 [[19, 69, 36], [1, 5, 24], [4, 20, 96]]])"
   ]
  },
  {
   "cell_type": "code",
   "execution_count": 13,
   "id": "cfcee093",
   "metadata": {},
   "outputs": [
    {
     "data": {
      "text/plain": [
       "array([[[10, 25, 70],\n",
       "        [20, 45,  7]],\n",
       "\n",
       "       [[50, 65,  8],\n",
       "        [11, 22, 33]],\n",
       "\n",
       "       [[19, 69, 36],\n",
       "        [ 4, 20, 96]]])"
      ]
     },
     "execution_count": 13,
     "metadata": {},
     "output_type": "execute_result"
    }
   ],
   "source": [
    "n_arr[:,[0,2]]"
   ]
  },
  {
   "cell_type": "code",
   "execution_count": 14,
   "id": "3b581f0f",
   "metadata": {},
   "outputs": [],
   "source": [
    "import numpy as np\n",
    "\n",
    "arr = np.array([[ 0,  1,  2,  3],\n",
    "                [10, 11, 12, 13],\n",
    "                [20, 21, 22, 23],\n",
    "                [30, 31, 32, 33],\n",
    "                [40, 41, 42, 43]])\n"
   ]
  },
  {
   "cell_type": "code",
   "execution_count": 15,
   "id": "54436059",
   "metadata": {},
   "outputs": [
    {
     "data": {
      "text/plain": [
       "'\\narray([[41, 42, 43],\\n       [31, 32, 33],\\n       [21, 22, 23],\\n       [11, 12, 13],\\n       [ 1,  2,  3]])\\n'"
      ]
     },
     "execution_count": 15,
     "metadata": {},
     "output_type": "execute_result"
    }
   ],
   "source": [
    "arr[1:3,[1,2]]\n",
    "'''\n",
    "array([[11, 12],\n",
    "       [21, 22]])       \n",
    "'''\n",
    "arr[1, 2]\n",
    "'''\n",
    "12\n",
    "'''\n",
    "arr[1:4, 1:3]\n",
    "'''\n",
    "array([[11, 12],\n",
    "       [21, 22],\n",
    "       [31, 32]])\n",
    "'''\n",
    "arr[:3, [0,2]]\n",
    "'''\n",
    "array([[ 0,  2],\n",
    "       [10, 12],\n",
    "       [20, 22]])\n",
    "'''\n",
    "arr[[0, 2, 4], [1, 2, 3]] # this gives elements at positions (0,1), (2,2), (4,3))\n",
    "'''\n",
    "array([ 1, 22, 43])\n",
    "'''\n",
    "arr[::2, ::2]\n",
    "'''\n",
    "array([[ 0,  2],\n",
    "       [20, 22],\n",
    "       [40, 42]])\n",
    "'''\n",
    "arr[:, 2]\n",
    "'''\n",
    "array([ 2, 12, 22, 32, 42])\n",
    "'''\n",
    "arr[::-1,1:4]\n",
    "'''\n",
    "array([[41, 42, 43],\n",
    "       [31, 32, 33],\n",
    "       [21, 22, 23],\n",
    "       [11, 12, 13],\n",
    "       [ 1,  2,  3]])\n",
    "'''"
   ]
  },
  {
   "cell_type": "code",
   "execution_count": 16,
   "id": "42156a20",
   "metadata": {},
   "outputs": [],
   "source": [
    "arr = np.array([[ 0,  1,  2,  3],\n",
    "                [10, 11, 12, 13],\n",
    "                [20, 21, 22, 23],\n",
    "                [30, 31, 32, 33],\n",
    "                [40, 41, 42, 43]])"
   ]
  },
  {
   "cell_type": "code",
   "execution_count": 17,
   "id": "cea22d7c",
   "metadata": {},
   "outputs": [
    {
     "data": {
      "text/plain": [
       "'array([[10, 11, 12, 13],\\n       [30, 31, 32, 33]])\\n'"
      ]
     },
     "execution_count": 17,
     "metadata": {},
     "output_type": "execute_result"
    }
   ],
   "source": [
    "arr[[1,3]]\n",
    "\n",
    "'''array([[10, 11, 12, 13],\n",
    "       [30, 31, 32, 33]])\n",
    "'''"
   ]
  },
  {
   "cell_type": "markdown",
   "id": "4b41e843",
   "metadata": {},
   "source": [
    "## Solutions\n",
    "\n",
    "## Basic indexing\n",
    "\n",
    "### `arr[3,1]`\n",
    "\n",
    "```python\n",
    "arr[3,1]\n",
    "# -> 31\n",
    "```\n",
    "\n",
    "(4th row, 2nd column)\n",
    "\n",
    "---\n",
    "\n",
    "### `arr[-1,-2]`\n",
    "\n",
    "```python\n",
    "arr[-1,-2]\n",
    "# -> 42\n",
    "```\n",
    "\n",
    "(last row, 2nd last column)\n",
    "\n",
    "---\n",
    "\n",
    "### `arr[5,1]`\n",
    "\n",
    "```python\n",
    "# IndexError: index 5 is out of bounds for axis 0 with size 5\n",
    "```\n",
    "\n",
    "Because rows only go from `0` to `4`.\n",
    "\n",
    "---\n",
    "\n",
    "## Slicing\n",
    "\n",
    "### `arr[1:4, 2:4]`\n",
    "\n",
    "```python\n",
    "arr[1:4, 2:4]\n",
    "# -> array([[12, 13],\n",
    "#           [22, 23],\n",
    "#           [32, 33]])\n",
    "```\n",
    "\n",
    "---\n",
    "\n",
    "### `arr[:3, :2]`\n",
    "\n",
    "```python\n",
    "arr[:3, :2]\n",
    "# -> array([[ 0,  1],\n",
    "#           [10, 11],\n",
    "#           [20, 21]])\n",
    "```\n",
    "\n",
    "---\n",
    "\n",
    "### Last 2 rows and last 3 columns\n",
    "\n",
    "```python\n",
    "arr[-2:, -3:]\n",
    "# -> array([[31, 32, 33],\n",
    "#           [41, 42, 43]])\n",
    "```\n",
    "\n",
    "---\n",
    "\n",
    "## Steps / strides\n",
    "\n",
    "###  `arr[::2, ::2]`\n",
    "\n",
    "```python\n",
    "arr[::2, ::2]\n",
    "# -> array([[ 0,  2],\n",
    "#           [20, 22],\n",
    "#           [40, 42]])\n",
    "```\n",
    "\n",
    "(every other row & column)\n",
    "\n",
    "---\n",
    "\n",
    "### Reverse rows\n",
    "\n",
    "```python\n",
    "arr[::-1, :]\n",
    "# -> array([[40,41,42,43],\n",
    "#           [30,31,32,33],\n",
    "#           [20,21,22,23],\n",
    "#           [10,11,12,13],\n",
    "#           [ 0, 1, 2, 3]])\n",
    "```\n",
    "\n",
    "---\n",
    "\n",
    "### Reverse both rows & columns\n",
    "\n",
    "```python\n",
    "arr[::-1, ::-1]\n",
    "# -> array([[43,42,41,40],\n",
    "#           [33,32,31,30],\n",
    "#           [23,22,21,20],\n",
    "#           [13,12,11,10],\n",
    "#           [ 3, 2, 1, 0]])\n",
    "```\n",
    "\n",
    "---\n",
    "\n",
    "## Boolean indexing\n",
    "\n",
    "### `arr[arr > 25]`\n",
    "\n",
    "```python\n",
    "arr[arr > 25]\n",
    "# -> array([30,31,32,33,40,41,42,43])\n",
    "```\n",
    "\n",
    "---\n",
    "\n",
    "### Elements divisible by 10\n",
    "\n",
    "```python\n",
    "arr[arr % 10 == 0]\n",
    "# -> array([ 0,10,20,30,40])\n",
    "```\n",
    "\n",
    "---\n",
    "\n",
    "### Set all elements >30 to 999\n",
    "\n",
    "```python\n",
    "arr[arr > 30] = 999\n",
    "# arr now becomes:\n",
    "# [[  0   1   2   3]\n",
    "#  [ 10  11  12  13]\n",
    "#  [ 20  21  22  23]\n",
    "#  [ 30  31  32  33]\n",
    "#  [ 40  41  42  43]]\n",
    "\n",
    "# after assignment\n",
    "# [[  0   1   2   3]\n",
    "#  [ 10  11  12  13]\n",
    "#  [ 20  21  22  23]\n",
    "#  [ 30 999 999 999]\n",
    "#  [999 999 999 999]]\n",
    "```\n",
    "\n",
    "---\n",
    "\n",
    "## Fancy indexing\n",
    "\n",
    "### `arr[[0,2,4], [1,2,3]]`\n",
    "\n",
    "```python\n",
    "arr[[0,2,4], [1,2,3]]\n",
    "# -> array([ 1,22,43])\n",
    "```\n",
    "\n",
    "It pulls elements from positions: `(0,1)`, `(2,2)`, `(4,3)`.\n",
    "\n",
    "---\n",
    "\n",
    "### Get rows 1 & 3\n",
    "\n",
    "```python\n",
    "arr[[1,3]]\n",
    "# -> array([[10,11,12,13],\n",
    "#           [30,31,32,33]])\n",
    "```\n",
    "\n",
    "---\n",
    "\n",
    "## Using `np.ix_`\n",
    "\n",
    "### ➡️ 15. Using `np.ix_`\n",
    "\n",
    "```python\n",
    "rows = [1,3]\n",
    "cols = [0,2]\n",
    "arr[np.ix_(rows, cols)]\n",
    "# -> array([[10,12],\n",
    "#           [30,32]])\n",
    "```\n",
    "\n",
    "---\n",
    "\n",
    "### 16. Why `arr[[1,3]][:,[0,2]]` might differ\n",
    "\n",
    "* `arr[[1,3]]` first gives a **(2,4) array**, then `[:,[0,2]]` works on this smaller slice.\n",
    "* It might not match intended indices if you meant to pick original global `(1,0)` and `(3,2)`.\n",
    "\n",
    "`np.ix_` always references **original indices together**, building a true submatrix.\n",
    "\n",
    "---\n",
    "\n",
    "## 1D vs 2D slicing\n",
    "\n",
    "### 2nd column as flat array\n",
    "\n",
    "```python\n",
    "arr[:,1]\n",
    "# -> array([ 1,11,21,31,41])\n",
    "```\n",
    "\n",
    "---\n",
    "\n",
    "### As column matrix (5,1)\n",
    "\n",
    "```python\n",
    "arr[:,1:2]\n",
    "# -> array([[ 1],\n",
    "#           [11],\n",
    "#           [21],\n",
    "#           [31],\n",
    "#           [41]])\n",
    "```\n",
    "\n",
    "---\n",
    "\n",
    "## 3D array practice\n",
    "\n",
    "Given:\n",
    "\n",
    "```python\n",
    "b = np.arange(24).reshape(2,3,4)\n",
    "```\n",
    "\n",
    "---\n",
    "\n",
    "### ➡️ 19. `b[1,2,3]`\n",
    "\n",
    "```python\n",
    "b[1,2,3]\n",
    "# -> 23\n",
    "```\n",
    "\n",
    "2nd block, 3rd row, 4th column.\n",
    "\n",
    "---\n",
    "\n",
    "### Last row of each block\n",
    "\n",
    "```python\n",
    "b[:, -1, :]\n",
    "# -> array([[ 8,  9, 10, 11],\n",
    "#           [20, 21, 22, 23]])\n",
    "```\n",
    "\n",
    "---\n",
    "\n",
    "## Bonus challenge solution\n",
    "\n",
    "### Every other row & last-to-first columns\n",
    "\n",
    "```python\n",
    "arr[::2, ::-2]\n",
    "# -> array([[ 3,  1],\n",
    "#           [23, 21],\n",
    "#           [43, 41]])\n",
    "```"
   ]
  },
  {
   "cell_type": "markdown",
   "id": "b413d7e3",
   "metadata": {},
   "source": []
  }
 ],
 "metadata": {
  "kernelspec": {
   "display_name": "Python 3",
   "language": "python",
   "name": "python3"
  },
  "language_info": {
   "codemirror_mode": {
    "name": "ipython",
    "version": 3
   },
   "file_extension": ".py",
   "mimetype": "text/x-python",
   "name": "python",
   "nbconvert_exporter": "python",
   "pygments_lexer": "ipython3",
   "version": "3.12.0"
  }
 },
 "nbformat": 4,
 "nbformat_minor": 5
}
