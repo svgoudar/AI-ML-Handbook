{
 "cells": [
  {
   "cell_type": "markdown",
   "id": "30c5a59a",
   "metadata": {},
   "source": [
    "```{contents}\n",
    "```"
   ]
  },
  {
   "cell_type": "markdown",
   "id": "b58b42cc",
   "metadata": {},
   "source": [
    "## Linear Algebra Methods"
   ]
  },
  {
   "cell_type": "code",
   "execution_count": 17,
   "id": "ff849d99",
   "metadata": {},
   "outputs": [],
   "source": [
    "import numpy as np\n",
    "\n",
    "# Matrix creation\n",
    "A = np.array([[1, 2], [3, 4]])\n",
    "B = np.array([[5, 6], [7, 8]])\n",
    "x = np.array([1, 2])\n"
   ]
  },
  {
   "cell_type": "markdown",
   "id": "3f8e497b",
   "metadata": {},
   "source": [
    "### Element-wise operations"
   ]
  },
  {
   "cell_type": "code",
   "execution_count": 18,
   "id": "813dee4c",
   "metadata": {},
   "outputs": [
    {
     "name": "stdout",
     "output_type": "stream",
     "text": [
      "A + B:\n",
      " [[ 6  8]\n",
      " [10 12]]\n",
      "A - B:\n",
      " [[-4 -4]\n",
      " [-4 -4]]\n",
      "A * B (element-wise):\n",
      " [[ 5 12]\n",
      " [21 32]]\n",
      "A / B:\n",
      " [[0.2        0.33333333]\n",
      " [0.42857143 0.5       ]]\n",
      "A squared:\n",
      " [[ 1  4]\n",
      " [ 9 16]]\n"
     ]
    }
   ],
   "source": [
    "print(\"A + B:\\n\", A + B)\n",
    "print(\"A - B:\\n\", A - B)\n",
    "print(\"A * B (element-wise):\\n\", A * B)\n",
    "print(\"A / B:\\n\", A / B)\n",
    "print(\"A squared:\\n\", A ** 2)\n"
   ]
  },
  {
   "cell_type": "markdown",
   "id": "68001ade",
   "metadata": {},
   "source": [
    "### Matrix multiplication"
   ]
  },
  {
   "cell_type": "code",
   "execution_count": 19,
   "id": "b4bcc98b",
   "metadata": {},
   "outputs": [
    {
     "name": "stdout",
     "output_type": "stream",
     "text": [
      "A @ B (matrix multiplication):\n",
      " [[19 22]\n",
      " [43 50]]\n",
      "np.dot(A, B):\n",
      " [[19 22]\n",
      " [43 50]]\n"
     ]
    }
   ],
   "source": [
    "print(\"A @ B (matrix multiplication):\\n\", A @ B)\n",
    "print(\"np.dot(A, B):\\n\", np.dot(A, B))"
   ]
  },
  {
   "cell_type": "markdown",
   "id": "551fa9eb",
   "metadata": {},
   "source": [
    "### Transpose"
   ]
  },
  {
   "cell_type": "code",
   "execution_count": 20,
   "id": "ca8a2404",
   "metadata": {},
   "outputs": [
    {
     "data": {
      "text/plain": [
       "array([[1, 3],\n",
       "       [2, 4]])"
      ]
     },
     "execution_count": 20,
     "metadata": {},
     "output_type": "execute_result"
    }
   ],
   "source": [
    "A.T\n"
   ]
  },
  {
   "cell_type": "markdown",
   "id": "8f088948",
   "metadata": {},
   "source": [
    "### Reshape and Flatten"
   ]
  },
  {
   "cell_type": "code",
   "execution_count": 21,
   "id": "74bf0296",
   "metadata": {},
   "outputs": [
    {
     "name": "stdout",
     "output_type": "stream",
     "text": [
      "A reshaped to (4,1):\n",
      " [[1]\n",
      " [2]\n",
      " [3]\n",
      " [4]]\n",
      "A flattened:\n",
      " [1 2 3 4]\n"
     ]
    }
   ],
   "source": [
    "print(\"A reshaped to (4,1):\\n\", A.reshape(4,1))\n",
    "print(\"A flattened:\\n\", A.flatten())\n"
   ]
  },
  {
   "cell_type": "markdown",
   "id": "e1887daf",
   "metadata": {},
   "source": [
    "\n",
    "### Inverse and Determinant\n"
   ]
  },
  {
   "cell_type": "code",
   "execution_count": 22,
   "id": "5ee98570",
   "metadata": {},
   "outputs": [
    {
     "name": "stdout",
     "output_type": "stream",
     "text": [
      "Inverse of A:\n",
      " [[-2.   1. ]\n",
      " [ 1.5 -0.5]]\n",
      "Determinant of A: -2.0000000000000004\n"
     ]
    }
   ],
   "source": [
    "\n",
    "print(\"Inverse of A:\\n\", np.linalg.inv(A))\n",
    "print(\"Determinant of A:\", np.linalg.det(A))\n",
    "\n"
   ]
  },
  {
   "cell_type": "markdown",
   "id": "091472b8",
   "metadata": {},
   "source": [
    "### Solving Linear Systems"
   ]
  },
  {
   "cell_type": "code",
   "execution_count": 23,
   "id": "ec50ec7a",
   "metadata": {},
   "outputs": [
    {
     "name": "stdout",
     "output_type": "stream",
     "text": [
      "Solution to Ax = x: [0.  0.5]\n"
     ]
    }
   ],
   "source": [
    "print(\"Solution to Ax = x:\", np.linalg.solve(A, x))\n"
   ]
  },
  {
   "cell_type": "markdown",
   "id": "044d3eb0",
   "metadata": {},
   "source": [
    "### Eigenvalues and Eigenvectors"
   ]
  },
  {
   "cell_type": "code",
   "execution_count": 24,
   "id": "d534344b",
   "metadata": {},
   "outputs": [
    {
     "name": "stdout",
     "output_type": "stream",
     "text": [
      "Eigenvalues: [-0.37228132  5.37228132]\n",
      "Eigenvectors:\n",
      " [[-0.82456484 -0.41597356]\n",
      " [ 0.56576746 -0.90937671]]\n"
     ]
    }
   ],
   "source": [
    "eigvals, eigvecs = np.linalg.eig(A)\n",
    "print(\"Eigenvalues:\", eigvals)\n",
    "print(\"Eigenvectors:\\n\", eigvecs)\n",
    "\n"
   ]
  },
  {
   "cell_type": "markdown",
   "id": "86bb103a",
   "metadata": {},
   "source": [
    "### Singular Value Decomposition (SVD)"
   ]
  },
  {
   "cell_type": "code",
   "execution_count": 25,
   "id": "80f5a83c",
   "metadata": {},
   "outputs": [
    {
     "name": "stdout",
     "output_type": "stream",
     "text": [
      "SVD U:\n",
      " [[-0.40455358 -0.9145143 ]\n",
      " [-0.9145143   0.40455358]]\n",
      "SVD S: [5.4649857  0.36596619]\n",
      "SVD Vt:\n",
      " [[-0.57604844 -0.81741556]\n",
      " [ 0.81741556 -0.57604844]]\n"
     ]
    }
   ],
   "source": [
    "U, S, Vt = np.linalg.svd(A)\n",
    "print(\"SVD U:\\n\", U)\n",
    "print(\"SVD S:\", S)\n",
    "print(\"SVD Vt:\\n\", Vt)\n"
   ]
  },
  {
   "cell_type": "markdown",
   "id": "ac61d734",
   "metadata": {},
   "source": [
    "### Norm and Trace"
   ]
  },
  {
   "cell_type": "code",
   "execution_count": 26,
   "id": "ff86914f",
   "metadata": {},
   "outputs": [
    {
     "name": "stdout",
     "output_type": "stream",
     "text": [
      "Frobenius norm: 5.477225575051661\n",
      "Trace (sum of diagonal): 5\n"
     ]
    }
   ],
   "source": [
    "print(\"Frobenius norm:\", np.linalg.norm(A))\n",
    "print(\"Trace (sum of diagonal):\", np.trace(A))\n"
   ]
  },
  {
   "cell_type": "markdown",
   "id": "ec3dd629",
   "metadata": {},
   "source": [
    "### Diagonal Operations"
   ]
  },
  {
   "cell_type": "code",
   "execution_count": 27,
   "id": "2acd4042",
   "metadata": {},
   "outputs": [
    {
     "name": "stdout",
     "output_type": "stream",
     "text": [
      "Extract diagonal: [1 4]\n",
      "Create diagonal matrix: [[10  0]\n",
      " [ 0 20]]\n"
     ]
    }
   ],
   "source": [
    "print(\"Extract diagonal:\", np.diag(A))\n",
    "print(\"Create diagonal matrix:\", np.diag([10, 20]))\n"
   ]
  },
  {
   "cell_type": "markdown",
   "id": "a5e1f2fd",
   "metadata": {},
   "source": [
    "---\n",
    "\n",
    "### Triangular Matrices\n"
   ]
  },
  {
   "cell_type": "code",
   "execution_count": 28,
   "id": "13d63e7b",
   "metadata": {},
   "outputs": [
    {
     "name": "stdout",
     "output_type": "stream",
     "text": [
      "Upper triangle:\n",
      " [[1 2]\n",
      " [0 4]]\n",
      "Lower triangle:\n",
      " [[1 0]\n",
      " [3 4]]\n"
     ]
    }
   ],
   "source": [
    "print(\"Upper triangle:\\n\", np.triu(A))\n",
    "print(\"Lower triangle:\\n\", np.tril(A))\n"
   ]
  },
  {
   "cell_type": "markdown",
   "id": "f517413f",
   "metadata": {},
   "source": [
    "### Outer and Inner Products"
   ]
  },
  {
   "cell_type": "code",
   "execution_count": 29,
   "id": "5a0b7b9a",
   "metadata": {},
   "outputs": [
    {
     "name": "stdout",
     "output_type": "stream",
     "text": [
      "Outer product of x and itself:\n",
      " [[1 2]\n",
      " [2 4]]\n",
      "Inner product (dot) of x with itself: 5\n"
     ]
    }
   ],
   "source": [
    "print(\"Outer product of x and itself:\\n\", np.outer(x, x))\n",
    "print(\"Inner product (dot) of x with itself:\", np.inner(x, x))\n"
   ]
  }
 ],
 "metadata": {
  "kernelspec": {
   "display_name": "Python 3",
   "language": "python",
   "name": "python3"
  },
  "language_info": {
   "codemirror_mode": {
    "name": "ipython",
    "version": 3
   },
   "file_extension": ".py",
   "mimetype": "text/x-python",
   "name": "python",
   "nbconvert_exporter": "python",
   "pygments_lexer": "ipython3",
   "version": "3.12.0"
  }
 },
 "nbformat": 4,
 "nbformat_minor": 5
}
