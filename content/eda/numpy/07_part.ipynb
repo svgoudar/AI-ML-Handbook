{
 "cells": [
  {
   "cell_type": "markdown",
   "id": "22f25652",
   "metadata": {},
   "source": [
    "```{contents}\n",
    "```"
   ]
  },
  {
   "cell_type": "markdown",
   "id": "5a5a92a3",
   "metadata": {},
   "source": [
    "# Broadcasting \n",
    "\n",
    "NumPy broadcasting is a powerful mechanism that allows NumPy to work with arrays of different shapes during arithmetic operations. It simplifies code and improves performance by avoiding unnecessary data replication.\n",
    "\n",
    "---"
   ]
  },
  {
   "cell_type": "code",
   "execution_count": 3,
   "id": "d91450da",
   "metadata": {},
   "outputs": [
    {
     "name": "stdout",
     "output_type": "stream",
     "text": [
      "[11 12 13]\n"
     ]
    }
   ],
   "source": [
    "import numpy as np\n",
    "\n",
    "A = np.array([1, 2, 3])\n",
    "print(A + 10)\n"
   ]
  },
  {
   "cell_type": "markdown",
   "id": "8656a2a3",
   "metadata": {},
   "source": [
    "## Broadcasting Rules\n",
    "\n",
    "Broadcasting follows a set of rules to determine if two arrays are compatible for element-wise operations. If the arrays do not have the same shape, NumPy compares their shapes element-wise, starting from the trailing dimensions."
   ]
  },
  {
   "cell_type": "code",
   "execution_count": 4,
   "id": "e39f73c0",
   "metadata": {},
   "outputs": [
    {
     "name": "stdout",
     "output_type": "stream",
     "text": [
      "[[11 22 33]\n",
      " [14 25 36]]\n"
     ]
    }
   ],
   "source": [
    "A = np.array([[1, 2, 3],\n",
    "              [4, 5, 6]])\n",
    "\n",
    "B = np.array([10, 20, 30])\n",
    "print(A + B)\n"
   ]
  },
  {
   "cell_type": "markdown",
   "id": "30a7ae51",
   "metadata": {},
   "source": [
    "### Example 1: Adding a Scalar to an Array\n",
    "\n",
    "When a scalar is added to an array, the scalar is broadcast to the shape of the array."
   ]
  },
  {
   "cell_type": "code",
   "execution_count": 5,
   "id": "023cf483",
   "metadata": {},
   "outputs": [
    {
     "name": "stdout",
     "output_type": "stream",
     "text": [
      "[[11 21 31]\n",
      " [12 22 32]\n",
      " [13 23 33]]\n"
     ]
    }
   ],
   "source": [
    "C = np.array([[1],\n",
    "              [2],\n",
    "              [3]])\n",
    "\n",
    "D = np.array([10, 20, 30])\n",
    "print(C + D)\n"
   ]
  },
  {
   "cell_type": "markdown",
   "id": "c12a08b8",
   "metadata": {},
   "source": [
    "### Example 2: Adding Arrays of Different Shapes\n",
    "\n",
    "NumPy can automatically expand the smaller array to match the shape of the larger one, following broadcasting rules."
   ]
  },
  {
   "cell_type": "code",
   "execution_count": 11,
   "id": "33307c40",
   "metadata": {},
   "outputs": [],
   "source": [
    "# A = np.array([1, 2, 3])\n",
    "# B = np.array([10, 20])\n",
    "# A + B\n"
   ]
  },
  {
   "cell_type": "markdown",
   "id": "21344bab",
   "metadata": {},
   "source": [
    "### Broadcasting Limitations\n",
    "\n",
    "Not all shapes are compatible for broadcasting. If the rules are not met, NumPy will raise a `ValueError`."
   ]
  },
  {
   "cell_type": "code",
   "execution_count": 10,
   "id": "18fd93dd",
   "metadata": {},
   "outputs": [
    {
     "data": {
      "text/plain": [
       "array([1, 2, 3])"
      ]
     },
     "execution_count": 10,
     "metadata": {},
     "output_type": "execute_result"
    }
   ],
   "source": [
    "A"
   ]
  },
  {
   "cell_type": "code",
   "execution_count": 9,
   "id": "882337cb",
   "metadata": {},
   "outputs": [],
   "source": [
    "# for i in range(len(A)):\n",
    "#     C[i] = A[i] + B"
   ]
  },
  {
   "cell_type": "markdown",
   "id": "eb99e120",
   "metadata": {},
   "source": [
    "## Summary\n",
    "\n",
    "- Broadcasting allows NumPy to perform operations on arrays of different shapes.\n",
    "- It follows specific rules to determine compatibility.\n",
    "- Broadcasting simplifies code and improves performance."
   ]
  },
  {
   "cell_type": "code",
   "execution_count": 13,
   "id": "9398285b",
   "metadata": {},
   "outputs": [
    {
     "data": {
      "text/plain": [
       "(2,)"
      ]
     },
     "execution_count": 13,
     "metadata": {},
     "output_type": "execute_result"
    }
   ],
   "source": [
    "np.array([[1, 2], [3, 4]]).shape\n",
    "np.array([10, 20]).shape"
   ]
  }
 ],
 "metadata": {
  "kernelspec": {
   "display_name": "Python 3",
   "language": "python",
   "name": "python3"
  },
  "language_info": {
   "codemirror_mode": {
    "name": "ipython",
    "version": 3
   },
   "file_extension": ".py",
   "mimetype": "text/x-python",
   "name": "python",
   "nbconvert_exporter": "python",
   "pygments_lexer": "ipython3",
   "version": "3.13.5"
  }
 },
 "nbformat": 4,
 "nbformat_minor": 5
}
