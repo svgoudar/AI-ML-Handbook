{
 "cells": [
  {
   "cell_type": "markdown",
   "id": "19d4eaf4",
   "metadata": {},
   "source": [
    "```{contents}\n",
    "```"
   ]
  },
  {
   "cell_type": "markdown",
   "id": "8ef7cd49",
   "metadata": {
    "vscode": {
     "languageId": "plaintext"
    }
   },
   "source": [
    "# Memory Management\n",
    "\n",
    "## Contiguous memory blocks\n",
    "\n",
    "* NumPy arrays (`ndarray`) store elements in a **single contiguous block** of memory.\n",
    "* All elements have the same fixed size (`dtype`).\n",
    "* This allows fast vectorized operations using CPU instructions (SIMD).\n",
    "\n",
    "---\n",
    "\n",
    "## Array metadata\n",
    "\n",
    "Each `ndarray` has two parts:\n",
    "\n",
    "1. **Data buffer** → raw memory with values.\n",
    "2. **Metadata** → tells NumPy how to interpret the buffer:\n",
    "\n",
    "   * `shape`: dimensions\n",
    "   * `dtype`: element type\n",
    "   * `strides`: step (in bytes) to move along each axis\n",
    "   * `order`: memory layout (C or Fortran)\n",
    "\n",
    "The metadata is lightweight compared to the data buffer.\n",
    "\n",
    "---\n",
    "\n",
    "## Strides and views\n",
    "\n",
    "* Views reuse the same memory with different `strides` and `shape`.\n",
    "* Example: transpose, slicing.\n",
    "* No copy happens, only metadata changes.\n",
    "\n"
   ]
  },
  {
   "cell_type": "markdown",
   "id": "2a90caba",
   "metadata": {},
   "source": [
    "Here is a **focused code walkthrough** on **strides and views** in NumPy:\n",
    "\n",
    "---\n",
    "\n",
    "## Basic strides\n"
   ]
  },
  {
   "cell_type": "code",
   "execution_count": 7,
   "id": "140b39d0",
   "metadata": {},
   "outputs": [
    {
     "name": "stdout",
     "output_type": "stream",
     "text": [
      "Array:\n",
      " [[ 0  1  2  3]\n",
      " [ 4  5  6  7]\n",
      " [ 8  9 10 11]]\n",
      "Shape: (3, 4)\n",
      "Strides: (32, 8)\n"
     ]
    }
   ],
   "source": [
    "import numpy as np\n",
    "\n",
    "a = np.arange(12).reshape(3,4)   # 3x4 array\n",
    "print(\"Array:\\n\", a)\n",
    "print(\"Shape:\", a.shape)\n",
    "print(\"Strides:\", a.strides)\n"
   ]
  },
  {
   "cell_type": "markdown",
   "id": "e51bdb80",
   "metadata": {},
   "source": [
    "\n",
    "* `dtype=int64` → 8 bytes per element\n",
    "* Strides `(32, 8)` →\n",
    "\n",
    "  * Row stride = 4 × 8 = 32 bytes\n",
    "  * Column stride = 8 bytes\n",
    "\n",
    "---\n",
    "\n",
    "## Transpose (changes strides, not data)\n"
   ]
  },
  {
   "cell_type": "code",
   "execution_count": 8,
   "id": "653f51be",
   "metadata": {},
   "outputs": [
    {
     "name": "stdout",
     "output_type": "stream",
     "text": [
      "\n",
      "Transpose:\n",
      " [[ 0  4  8]\n",
      " [ 1  5  9]\n",
      " [ 2  6 10]\n",
      " [ 3  7 11]]\n",
      "Shape: (4, 3)\n",
      "Strides: (8, 32)\n",
      "Shares memory: False\n"
     ]
    }
   ],
   "source": [
    "b = a.T\n",
    "print(\"\\nTranspose:\\n\", b)\n",
    "print(\"Shape:\", b.shape)\n",
    "print(\"Strides:\", b.strides)\n",
    "print(\"Shares memory:\", b.base is a)\n"
   ]
  },
  {
   "cell_type": "markdown",
   "id": "a363e296",
   "metadata": {},
   "source": [
    "\n",
    "\n",
    "* Strides swapped → `(8, 32)`\n",
    "* No copy, just different view.\n",
    "\n",
    "---\n",
    "\n",
    "## Slicing (skipping columns)\n"
   ]
  },
  {
   "cell_type": "code",
   "execution_count": 9,
   "id": "3fe37a27",
   "metadata": {},
   "outputs": [
    {
     "name": "stdout",
     "output_type": "stream",
     "text": [
      "\n",
      "Slice every 2nd column:\n",
      " [[ 0  2]\n",
      " [ 4  6]\n",
      " [ 8 10]]\n",
      "Shape: (3, 2)\n",
      "Strides: (32, 16)\n",
      "Shares memory: False\n"
     ]
    }
   ],
   "source": [
    "c = a[:, ::2]   # every 2nd column\n",
    "print(\"\\nSlice every 2nd column:\\n\", c)\n",
    "print(\"Shape:\", c.shape)\n",
    "print(\"Strides:\", c.strides)\n",
    "print(\"Shares memory:\", c.base is a)"
   ]
  },
  {
   "cell_type": "markdown",
   "id": "eeb7d862",
   "metadata": {},
   "source": [
    "* Column stride doubles: `(32, 16)`\n",
    "* Still a view on `a`.\n",
    "\n",
    "---\n",
    "\n",
    "## Forcing a copy"
   ]
  },
  {
   "cell_type": "code",
   "execution_count": null,
   "id": "8bf3c768",
   "metadata": {},
   "outputs": [
    {
     "name": "stdout",
     "output_type": "stream",
     "text": [
      "\n",
      "Copy of slice:\n",
      " [[ 0  2]\n",
      " [ 4  6]\n",
      " [ 8 10]]\n",
      "Shares memory: False\n"
     ]
    }
   ],
   "source": [
    "d = a[:, ::2].copy()\n",
    "print(\"\\nCopy of slice:\\n\", d)\n",
    "print(\"Shares memory:\", d.base is a)"
   ]
  },
  {
   "cell_type": "markdown",
   "id": "10d78e24",
   "metadata": {},
   "source": [
    "\n",
    "\n",
    "* Copy breaks the link → new memory.\n",
    "\n",
    "---\n",
    "\n",
    "## Broadcasting creates fake strides\n"
   ]
  },
  {
   "cell_type": "code",
   "execution_count": 11,
   "id": "1bed458d",
   "metadata": {},
   "outputs": [
    {
     "name": "stdout",
     "output_type": "stream",
     "text": [
      "\n",
      "Broadcast result:\n",
      " [[2 3 4]\n",
      " [2 3 4]\n",
      " [2 3 4]]\n",
      "e.strides: (8,)\n",
      "Broadcasted shape: (3, 3)\n"
     ]
    }
   ],
   "source": [
    "e = np.array([1,2,3])\n",
    "f = np.ones((3,3), dtype=int)\n",
    "g = e + f\n",
    "print(\"\\nBroadcast result:\\n\", g)\n",
    "print(\"e.strides:\", e.strides)\n",
    "print(\"Broadcasted shape:\", g.shape)\n"
   ]
  },
  {
   "cell_type": "markdown",
   "id": "3b012987",
   "metadata": {},
   "source": [
    "\n",
    "* Broadcasting simulates repetition using stride tricks instead of copying.\n",
    "\n",
    "**Key takeaway**:\n",
    "\n",
    "* **Views** = same data buffer, different strides.\n",
    "* **Copies** = new memory allocation.\n",
    "* Strides are the mechanism that lets NumPy slice, transpose, and broadcast **without duplicating data**.\n",
    "\n"
   ]
  },
  {
   "cell_type": "markdown",
   "id": "a68d3b8f",
   "metadata": {},
   "source": [
    "\n",
    "```python\n",
    "import numpy as np\n",
    "a = np.arange(12).reshape(3,4)\n",
    "b = a.T\n",
    "print(b.base is a)  # True → shares memory\n",
    "```\n",
    "\n",
    "\n",
    "## Copies vs views\n",
    "\n",
    "* **View**: No extra memory, just different strides.\n",
    "* **Copy**: New memory allocation. Happens when:\n",
    "\n",
    "  * Changing dtype\n",
    "  * Forcing contiguity (`np.ascontiguousarray`)\n",
    "  * Some reshapes (e.g., `.ravel(order='F')` on C-ordered array).\n"
   ]
  },
  {
   "cell_type": "code",
   "execution_count": 12,
   "id": "1ff1d147",
   "metadata": {},
   "outputs": [
    {
     "name": "stdout",
     "output_type": "stream",
     "text": [
      "Original: [ 0  1 99  3  4  5  6  7  8  9]\n",
      "Slice: [99  3  4  5  6]\n",
      "Is view: True\n"
     ]
    }
   ],
   "source": [
    "import numpy as np\n",
    "\n",
    "a = np.arange(10)\n",
    "b = a[2:7]   # slice\n",
    "b[0] = 99    # modify slice\n",
    "print(\"Original:\", a)   # a is changed\n",
    "print(\"Slice:\", b)\n",
    "print(\"Is view:\", b.base is a)\n"
   ]
  },
  {
   "cell_type": "code",
   "execution_count": 14,
   "id": "849bf736",
   "metadata": {},
   "outputs": [
    {
     "name": "stdout",
     "output_type": "stream",
     "text": [
      "Original after copy change: [ 0  1 99  3  4  5  6  7  8  9]\n",
      "Copy: [-1  3  4  5  6]\n",
      "Is copy: False\n"
     ]
    }
   ],
   "source": [
    "c = a[2:7].copy()\n",
    "c[0] = -1\n",
    "print(\"Original after copy change:\", a)  # unchanged\n",
    "print(\"Copy:\", c)\n",
    "print(\"Is copy:\", c.base is a)"
   ]
  },
  {
   "cell_type": "markdown",
   "id": "63bdb953",
   "metadata": {},
   "source": [
    "\n",
    "---\n",
    "\n",
    "## Memory order\n",
    "\n",
    "* **C-order (row-major)**: last axis changes fastest (default in NumPy).\n",
    "* **Fortran-order (column-major)**: first axis changes fastest.\n",
    "* Impacts performance in loops and external library compatibility.\n",
    "\n"
   ]
  },
  {
   "cell_type": "code",
   "execution_count": 15,
   "id": "95f9907c",
   "metadata": {},
   "outputs": [
    {
     "name": "stdout",
     "output_type": "stream",
     "text": [
      "Array (C-order):\n",
      " [[1 2 3]\n",
      " [4 5 6]]\n",
      "Shape: (2, 3)\n",
      "Strides: (24, 8)\n",
      "Flatten (C-order): [1 2 3 4 5 6]\n",
      "Flatten (F-order): [1 4 2 5 3 6]\n"
     ]
    }
   ],
   "source": [
    "import numpy as np\n",
    "\n",
    "a = np.array([[1,2,3],\n",
    "              [4,5,6]], order='C')\n",
    "\n",
    "print(\"Array (C-order):\\n\", a)\n",
    "print(\"Shape:\", a.shape)\n",
    "print(\"Strides:\", a.strides)\n",
    "print(\"Flatten (C-order):\", a.ravel(order='C'))\n",
    "print(\"Flatten (F-order):\", a.ravel(order='F'))\n"
   ]
  },
  {
   "cell_type": "code",
   "execution_count": 17,
   "id": "3269d32d",
   "metadata": {},
   "outputs": [
    {
     "name": "stdout",
     "output_type": "stream",
     "text": [
      "\n",
      "Array (F-order):\n",
      " [[1 2 3]\n",
      " [4 5 6]]\n",
      "Shape: (2, 3)\n",
      "Strides: (8, 16)\n",
      "Flatten (C-order): [1 2 3 4 5 6]\n",
      "Flatten (F-order): [1 4 2 5 3 6]\n"
     ]
    }
   ],
   "source": [
    "b = np.array([[1,2,3],\n",
    "              [4,5,6]], order='F')\n",
    "\n",
    "print(\"\\nArray (F-order):\\n\", b)\n",
    "print(\"Shape:\", b.shape)\n",
    "print(\"Strides:\", b.strides)\n",
    "print(\"Flatten (C-order):\", b.ravel(order='C'))\n",
    "print(\"Flatten (F-order):\", b.ravel(order='F'))\n"
   ]
  },
  {
   "cell_type": "code",
   "execution_count": 18,
   "id": "39d4a825",
   "metadata": {},
   "outputs": [
    {
     "name": "stdout",
     "output_type": "stream",
     "text": [
      "a.flags.c_contiguous: True\n",
      "a.flags.f_contiguous: False\n",
      "b.flags.c_contiguous: False\n",
      "b.flags.f_contiguous: True\n"
     ]
    }
   ],
   "source": [
    "print(\"a.flags.c_contiguous:\", a.flags.c_contiguous)\n",
    "print(\"a.flags.f_contiguous:\", a.flags.f_contiguous)\n",
    "\n",
    "print(\"b.flags.c_contiguous:\", b.flags.c_contiguous)\n",
    "print(\"b.flags.f_contiguous:\", b.flags.f_contiguous)\n"
   ]
  },
  {
   "cell_type": "markdown",
   "id": "cb29360b",
   "metadata": {},
   "source": [
    "\n",
    "\n",
    "---\n",
    "\n",
    "## Broadcasting\n",
    "\n",
    "* NumPy does not copy smaller arrays when shapes differ.\n",
    "* It simulates repetition by adjusting **strides** (zero strides for broadcasted dimensions).\n",
    "* Saves memory, enables vectorized operations.\n",
    "\n",
    "---\n",
    "\n",
    "## Underlying implementation\n",
    "\n",
    "* NumPy arrays are thin wrappers around **C-contiguous buffers**.\n",
    "* Uses `malloc` / `free` internally, not Python’s object memory model.\n",
    "* This avoids Python’s object overhead for each element.\n",
    "\n",
    "---\n",
    "\n",
    "## Memory efficiency\n",
    "\n",
    "* Fixed-size homogeneous elements → compact storage.\n",
    "* Much smaller than Python lists (which store full Python objects + pointers).\n",
    "* Example:\n",
    "\n",
    "  * `list` of 1e6 ints → \\~35–40 MB\n",
    "  * `np.array` of 1e6 int32 → \\~4 MB\n",
    "\n",
    "---\n",
    "\n",
    "**Summary**\n",
    "NumPy manages memory by:\n",
    "\n",
    "* Storing data in contiguous blocks\n",
    "* Using fixed dtypes\n",
    "* Exposing memory via `shape`, `strides`, and `order`\n",
    "* Returning views when possible to avoid copies\n",
    "* Broadcasting with stride tricks instead of replication\n",
    "\n"
   ]
  },
  {
   "cell_type": "code",
   "execution_count": null,
   "metadata": {},
   "outputs": [],
   "source": []
  }
 ],
 "metadata": {
  "kernelspec": {
   "display_name": "Python 3",
   "language": "python",
   "name": "python3"
  },
  "language_info": {
   "codemirror_mode": {
    "name": "ipython",
    "version": 3
   },
   "file_extension": ".py",
   "mimetype": "text/x-python",
   "name": "python",
   "nbconvert_exporter": "python",
   "pygments_lexer": "ipython3",
   "version": "3.12.0"
  }
 },
 "nbformat": 4,
 "nbformat_minor": 5
}
