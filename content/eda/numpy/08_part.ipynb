{
 "cells": [
  {
   "cell_type": "markdown",
   "id": "4b696d55",
   "metadata": {},
   "source": [
    "```{contents}\n",
    "```"
   ]
  },
  {
   "cell_type": "markdown",
   "id": "ef0de239",
   "metadata": {},
   "source": [
    "# Arithmetic Operations"
   ]
  },
  {
   "cell_type": "markdown",
   "id": "0931cb6c",
   "metadata": {},
   "source": [
    "| Operator | Function      | Meaning                     |\n",
    "| -------- | ------------- | --------------------------- |\n",
    "| `+`      | `np.add`      | element-wise addition       |\n",
    "| `-`      | `np.subtract` | element-wise subtraction    |\n",
    "| `*`      | `np.multiply` | element-wise multiplication |\n",
    "| `/`      | `np.divide`   | element-wise division       |\n",
    "| `**`     | `np.power`    | element-wise exponent       |\n",
    "| `%`      | `np.mod`      | element-wise modulus        |\n",
    "\n",
    "---\n",
    "\n",
    "## Examples of arithmetic operations\n",
    "\n",
    "---\n",
    "\n",
    "### Element-wise addition\n"
   ]
  },
  {
   "cell_type": "code",
   "execution_count": 3,
   "id": "5527c4a8",
   "metadata": {},
   "outputs": [
    {
     "name": "stdout",
     "output_type": "stream",
     "text": [
      "[11 22 33]\n"
     ]
    }
   ],
   "source": [
    "import numpy as np\n",
    "\n",
    "a = np.array([1, 2, 3])\n",
    "b = np.array([10, 20, 30])\n",
    "\n",
    "c = a + b\n",
    "print(c)  # [11 22 33]\n"
   ]
  },
  {
   "cell_type": "markdown",
   "id": "6c52cb57",
   "metadata": {},
   "source": [
    "\n",
    "\n",
    "This is **not matrix addition**, it’s adding each element in `a` to each element in `b`.\n",
    "\n",
    "---\n",
    "\n",
    "### Element-wise multiplication\n"
   ]
  },
  {
   "cell_type": "code",
   "execution_count": 4,
   "id": "bea2b4e6",
   "metadata": {},
   "outputs": [
    {
     "name": "stdout",
     "output_type": "stream",
     "text": [
      "[10 40 90]\n"
     ]
    }
   ],
   "source": [
    "d = a * b\n",
    "print(d)  # [10 40 90]\n"
   ]
  },
  {
   "cell_type": "markdown",
   "id": "ca6c132f",
   "metadata": {},
   "source": [
    "\n",
    "\n",
    "It multiplies `1*10`, `2*20`, `3*30`.\n",
    "\n",
    "---\n",
    "\n",
    "### Element-wise power\n"
   ]
  },
  {
   "cell_type": "code",
   "execution_count": 5,
   "id": "64021a33",
   "metadata": {},
   "outputs": [
    {
     "name": "stdout",
     "output_type": "stream",
     "text": [
      "[1 4 9]\n"
     ]
    }
   ],
   "source": [
    "print(a ** 2)  # [1 4 9]"
   ]
  },
  {
   "cell_type": "markdown",
   "id": "decc7b59",
   "metadata": {},
   "source": [
    "\n",
    "### Element-wise division"
   ]
  },
  {
   "cell_type": "code",
   "execution_count": 6,
   "id": "c91d75e6",
   "metadata": {},
   "outputs": [
    {
     "name": "stdout",
     "output_type": "stream",
     "text": [
      "[10. 10. 10.]\n"
     ]
    }
   ],
   "source": [
    "print(b / a)  # [10. 10. 10.]"
   ]
  },
  {
   "cell_type": "markdown",
   "id": "3f4ba1d7",
   "metadata": {},
   "source": [
    "\n",
    "\n",
    "---\n",
    "\n",
    "### Broadcasting makes this powerful\n",
    "\n",
    "You can mix arrays of **different shapes**, and NumPy will broadcast:\n"
   ]
  },
  {
   "cell_type": "code",
   "execution_count": 7,
   "id": "2b656fec",
   "metadata": {},
   "outputs": [
    {
     "name": "stdout",
     "output_type": "stream",
     "text": [
      "[[11 12 13]\n",
      " [14 15 16]]\n"
     ]
    }
   ],
   "source": [
    "M = np.array([[1, 2, 3],\n",
    "              [4, 5, 6]])\n",
    "\n",
    "print(M + 10)\n"
   ]
  },
  {
   "cell_type": "markdown",
   "id": "a45b1f23",
   "metadata": {},
   "source": [
    "\n",
    "`10` is broadcast across each element.\n",
    "\n",
    "Output:\n",
    "\n",
    "```\n",
    "[[11 12 13]\n",
    " [14 15 16]]\n",
    "```\n",
    "\n",
    "---\n",
    "\n",
    "## More advanced functions\n",
    "\n",
    "NumPy also provides **universal functions (ufuncs)** which work element-wise:\n"
   ]
  },
  {
   "cell_type": "code",
   "execution_count": 8,
   "id": "44108752",
   "metadata": {},
   "outputs": [
    {
     "name": "stdout",
     "output_type": "stream",
     "text": [
      "[1.         1.41421356 1.73205081]\n",
      "[ 2.71828183  7.3890561  20.08553692]\n",
      "[0.84147098 0.90929743 0.14112001]\n",
      "[0.         0.69314718 1.09861229]\n"
     ]
    }
   ],
   "source": [
    "print(np.sqrt(a))     # element-wise square root\n",
    "print(np.exp(a))      # e^x\n",
    "print(np.sin(a))      # sine\n",
    "print(np.log(a))      # natural logarithm\n"
   ]
  },
  {
   "cell_type": "markdown",
   "id": "d9c915b8",
   "metadata": {},
   "source": [
    "## Comparison operations also work element-wise"
   ]
  },
  {
   "cell_type": "code",
   "execution_count": 9,
   "id": "1a8bcee3",
   "metadata": {},
   "outputs": [
    {
     "name": "stdout",
     "output_type": "stream",
     "text": [
      "[False  True  True]\n",
      "[False  True False]\n"
     ]
    }
   ],
   "source": [
    "\n",
    "print(a > 1)   # [False True True]\n",
    "print(a == 2)  # [False True False]\n"
   ]
  },
  {
   "cell_type": "markdown",
   "id": "17a37750",
   "metadata": {},
   "source": [
    "It gives a **boolean array**.\n"
   ]
  },
  {
   "cell_type": "markdown",
   "id": "831ff8fd",
   "metadata": {},
   "source": [
    "\n",
    "---\n",
    "\n",
    "### In-place vs out-of-place operations\n",
    "\n",
    "```python\n",
    "a += 5    # modifies `a` in place\n",
    "```\n",
    "\n",
    "vs\n",
    "\n",
    "```python\n",
    "b = a + 5  # creates a new array\n",
    "```\n",
    "\n",
    "---\n",
    "\n",
    "**Summary table**\n",
    "\n",
    "| Expression  | Meaning                     |\n",
    "| ----------- | --------------------------- |\n",
    "| `a + b`     | element-wise addition       |\n",
    "| `a - b`     | element-wise subtraction    |\n",
    "| `a * b`     | element-wise multiplication |\n",
    "| `a / b`     | element-wise division       |\n",
    "| `a ** 2`    | element-wise power          |\n",
    "| `np.sin(a)` | element-wise sine           |\n",
    "| `a > 2`     | element-wise comparison     |"
   ]
  },
  {
   "cell_type": "markdown",
   "id": "a7ec35cf",
   "metadata": {},
   "source": [
    "## Flattening the Array\n",
    "\n",
    "### `ravel()`\n",
    "\n",
    "Returns a **flattened view** if possible, otherwise a copy.\n",
    "\n",
    "```python\n",
    "import numpy as np\n",
    "\n",
    "a = np.array([[1,2],[3,4]])\n",
    "print(a.ravel())   # [1 2 3 4]\n",
    "```\n",
    "\n",
    "* Default: row-major (C-order).\n",
    "* Can specify order: `a.ravel(order='F')` → column-major flatten.\n",
    "\n",
    "---\n",
    "\n",
    "### `flatten()`\n",
    "\n",
    "Always returns a **copy** of the data.\n",
    "\n",
    "```python\n",
    "b = a.flatten()\n",
    "print(b)   # [1 2 3 4]\n",
    "```\n",
    "\n",
    "* Modifying `b` will not affect `a`.\n",
    "\n",
    "---\n",
    "\n",
    "### `reshape(-1)`\n",
    "\n",
    "General method using `reshape`.\n",
    "\n",
    "```python\n",
    "c = a.reshape(-1)\n",
    "print(c)   # [1 2 3 4]\n",
    "```\n",
    "\n",
    "* Returns a view when possible (like `ravel`).\n",
    "\n",
    "---\n",
    "\n",
    "### `np.flat`\n",
    "\n",
    "Returns an **iterator** over the array in flattened order.\n",
    "\n",
    "```python\n",
    "for x in a.flat:\n",
    "    print(x, end=\" \")\n",
    "# 1 2 3 4\n",
    "```\n",
    "\n",
    "---\n",
    "\n",
    "### Differences\n",
    "\n",
    "| Method        | View/Copy        | Notes                      |\n",
    "| ------------- | ---------------- | -------------------------- |\n",
    "| `ravel()`     | View if possible | Fastest, memory-efficient  |\n",
    "| `flatten()`   | Always copy      | Safe but uses more memory  |\n",
    "| `reshape(-1)` | View if possible | Most general reshape trick |\n",
    "| `flat`        | Iterator         | For looping element-wise   |\n",
    "\n"
   ]
  }
 ],
 "metadata": {
  "kernelspec": {
   "display_name": "Python 3",
   "language": "python",
   "name": "python3"
  },
  "language_info": {
   "codemirror_mode": {
    "name": "ipython",
    "version": 3
   },
   "file_extension": ".py",
   "mimetype": "text/x-python",
   "name": "python",
   "nbconvert_exporter": "python",
   "pygments_lexer": "ipython3",
   "version": "3.12.0"
  }
 },
 "nbformat": 4,
 "nbformat_minor": 5
}
