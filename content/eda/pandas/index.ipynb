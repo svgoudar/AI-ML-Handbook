{
 "cells": [
  {
   "cell_type": "markdown",
   "id": "32fd4bbb",
   "metadata": {},
   "source": [
    "## Pandas\n",
    "\n",
    "> **Pandas** is a **Python library for data manipulation and analysis**. It provides **fast, flexible, and expressive data structures** to work with **structured data**, like CSVs, Excel files, SQL tables, or JSON.\n"
   ]
  },
  {
   "cell_type": "markdown",
   "id": "b3fc2d47",
   "metadata": {},
   "source": [
    "```{dropdown} Click here for Sections\n",
    "```{tableofcontents}"
   ]
  }
 ],
 "metadata": {
  "language_info": {
   "name": "python"
  }
 },
 "nbformat": 4,
 "nbformat_minor": 5
}
