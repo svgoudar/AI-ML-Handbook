{
 "cells": [
  {
   "cell_type": "markdown",
   "id": "378e5303",
   "metadata": {},
   "source": [
    "```{contents}\n",
    "```"
   ]
  },
  {
   "cell_type": "markdown",
   "id": "a96e2fba",
   "metadata": {},
   "source": [
    "\n",
    "## Data Aggregation"
   ]
  },
  {
   "cell_type": "code",
   "execution_count": 5,
   "id": "87b28714",
   "metadata": {},
   "outputs": [],
   "source": [
    "import pandas as pd\n",
    "\n",
    "# Sample loan applications dataset\n",
    "data1 = {\n",
    "    'application_id': ['A1','A2','A3','A4'],\n",
    "    'customer_id': ['C1','C2','C3','C4'],\n",
    "    'loan_type': ['Business Loan', 'Car Loan', 'Education Loan', 'Car Loan'],\n",
    "    'loan_amount_requested': [604000, 100000, 431000, 324000],\n",
    "    'loan_status': ['Approved','Approved','Approved','Declined']\n",
    "}\n",
    "\n",
    "df1 = pd.DataFrame(data1)\n",
    "\n",
    "# Sample customer info dataset\n",
    "data2 = {\n",
    "    'customer_id': ['C1','C2','C3','C5'],\n",
    "    'monthly_income': [34700, 51600, 14800, 40000],\n",
    "    'employment_status': ['Retired','Unemployed','Self-Employed','Employed']\n",
    "}\n",
    "\n",
    "df2 = pd.DataFrame(data2)\n"
   ]
  },
  {
   "cell_type": "markdown",
   "id": "197f0f83",
   "metadata": {},
   "source": [
    "\n",
    "---\n",
    "\n",
    "### Aggregation\n",
    "\n"
   ]
  },
  {
   "cell_type": "code",
   "execution_count": 6,
   "id": "03a72b98",
   "metadata": {},
   "outputs": [
    {
     "data": {
      "application/vnd.microsoft.datawrangler.viewer.v0+json": {
       "columns": [
        {
         "name": "loan_status",
         "rawType": "object",
         "type": "string"
        },
        {
         "name": "application_id",
         "rawType": "int64",
         "type": "integer"
        }
       ],
       "ref": "26fe3343-7ad4-4d3a-b923-6eaedc93bfd4",
       "rows": [
        [
         "Approved",
         "3"
        ],
        [
         "Declined",
         "1"
        ]
       ],
       "shape": {
        "columns": 1,
        "rows": 2
       }
      },
      "text/plain": [
       "loan_status\n",
       "Approved    3\n",
       "Declined    1\n",
       "Name: application_id, dtype: int64"
      ]
     },
     "execution_count": 6,
     "metadata": {},
     "output_type": "execute_result"
    }
   ],
   "source": [
    "\n",
    "# Sum, mean, max of loan amount\n",
    "df1['loan_amount_requested'].agg(['sum','mean','max'])\n",
    "\n",
    "# Group by loan type\n",
    "df1.groupby('loan_type')['loan_amount_requested'].agg(['mean','sum','max'])\n",
    "\n",
    "# Count of loans by status\n",
    "df1.groupby('loan_status')['application_id'].count()\n"
   ]
  },
  {
   "cell_type": "markdown",
   "id": "145c27a1",
   "metadata": {},
   "source": [
    "\n",
    "\n",
    "---\n",
    "\n",
    "### Joining / Concatenation"
   ]
  },
  {
   "cell_type": "code",
   "execution_count": 7,
   "id": "fc0de109",
   "metadata": {},
   "outputs": [],
   "source": [
    "\n",
    "# Concatenate two dataframes vertically (stack rows)\n",
    "df_vertical = pd.concat([df1, df1], ignore_index=True)\n",
    "\n",
    "# Concatenate horizontally (add columns)\n",
    "df_horizontal = pd.concat([df1, df2], axis=1)\n"
   ]
  },
  {
   "cell_type": "markdown",
   "id": "236e533e",
   "metadata": {},
   "source": [
    "\n",
    "\n",
    "---\n",
    "\n",
    "### Merging / Join on key column\n",
    "\n"
   ]
  },
  {
   "cell_type": "code",
   "execution_count": 8,
   "id": "4b4c2d57",
   "metadata": {},
   "outputs": [
    {
     "data": {
      "application/vnd.microsoft.datawrangler.viewer.v0+json": {
       "columns": [
        {
         "name": "index",
         "rawType": "int64",
         "type": "integer"
        },
        {
         "name": "application_id",
         "rawType": "object",
         "type": "string"
        },
        {
         "name": "customer_id",
         "rawType": "object",
         "type": "string"
        },
        {
         "name": "loan_type",
         "rawType": "object",
         "type": "string"
        },
        {
         "name": "loan_amount_requested",
         "rawType": "int64",
         "type": "integer"
        },
        {
         "name": "loan_status",
         "rawType": "object",
         "type": "string"
        },
        {
         "name": "monthly_income",
         "rawType": "int64",
         "type": "integer"
        },
        {
         "name": "employment_status",
         "rawType": "object",
         "type": "string"
        }
       ],
       "ref": "e821f916-6d0e-4d79-913f-55cdef223e8f",
       "rows": [
        [
         "0",
         "A1",
         "C1",
         "Business Loan",
         "604000",
         "Approved",
         "34700",
         "Retired"
        ],
        [
         "1",
         "A2",
         "C2",
         "Car Loan",
         "100000",
         "Approved",
         "51600",
         "Unemployed"
        ],
        [
         "2",
         "A3",
         "C3",
         "Education Loan",
         "431000",
         "Approved",
         "14800",
         "Self-Employed"
        ]
       ],
       "shape": {
        "columns": 7,
        "rows": 3
       }
      },
      "text/html": [
       "<div>\n",
       "<style scoped>\n",
       "    .dataframe tbody tr th:only-of-type {\n",
       "        vertical-align: middle;\n",
       "    }\n",
       "\n",
       "    .dataframe tbody tr th {\n",
       "        vertical-align: top;\n",
       "    }\n",
       "\n",
       "    .dataframe thead th {\n",
       "        text-align: right;\n",
       "    }\n",
       "</style>\n",
       "<table border=\"1\" class=\"dataframe\">\n",
       "  <thead>\n",
       "    <tr style=\"text-align: right;\">\n",
       "      <th></th>\n",
       "      <th>application_id</th>\n",
       "      <th>customer_id</th>\n",
       "      <th>loan_type</th>\n",
       "      <th>loan_amount_requested</th>\n",
       "      <th>loan_status</th>\n",
       "      <th>monthly_income</th>\n",
       "      <th>employment_status</th>\n",
       "    </tr>\n",
       "  </thead>\n",
       "  <tbody>\n",
       "    <tr>\n",
       "      <th>0</th>\n",
       "      <td>A1</td>\n",
       "      <td>C1</td>\n",
       "      <td>Business Loan</td>\n",
       "      <td>604000</td>\n",
       "      <td>Approved</td>\n",
       "      <td>34700</td>\n",
       "      <td>Retired</td>\n",
       "    </tr>\n",
       "    <tr>\n",
       "      <th>1</th>\n",
       "      <td>A2</td>\n",
       "      <td>C2</td>\n",
       "      <td>Car Loan</td>\n",
       "      <td>100000</td>\n",
       "      <td>Approved</td>\n",
       "      <td>51600</td>\n",
       "      <td>Unemployed</td>\n",
       "    </tr>\n",
       "    <tr>\n",
       "      <th>2</th>\n",
       "      <td>A3</td>\n",
       "      <td>C3</td>\n",
       "      <td>Education Loan</td>\n",
       "      <td>431000</td>\n",
       "      <td>Approved</td>\n",
       "      <td>14800</td>\n",
       "      <td>Self-Employed</td>\n",
       "    </tr>\n",
       "  </tbody>\n",
       "</table>\n",
       "</div>"
      ],
      "text/plain": [
       "  application_id customer_id       loan_type  loan_amount_requested  \\\n",
       "0             A1          C1   Business Loan                 604000   \n",
       "1             A2          C2        Car Loan                 100000   \n",
       "2             A3          C3  Education Loan                 431000   \n",
       "\n",
       "  loan_status  monthly_income employment_status  \n",
       "0    Approved           34700           Retired  \n",
       "1    Approved           51600        Unemployed  \n",
       "2    Approved           14800     Self-Employed  "
      ]
     },
     "execution_count": 8,
     "metadata": {},
     "output_type": "execute_result"
    }
   ],
   "source": [
    "\n",
    "# Merge on customer_id (like SQL JOIN)\n",
    "df_merged = pd.merge(df1, df2, on='customer_id', how='inner')  # inner join\n",
    "df_merged_left = pd.merge(df1, df2, on='customer_id', how='left')  # left join\n",
    "df_merged_outer = pd.merge(df1, df2, on='customer_id', how='outer')  # outer join\n",
    "\n",
    "df_merged\n"
   ]
  },
  {
   "cell_type": "markdown",
   "id": "69b88800",
   "metadata": {},
   "source": [
    "\n",
    "\n",
    "---\n",
    "\n",
    "### Windowing / Rolling & Expanding\n",
    "\n",
    "   - Windowing allows **calculations over a moving set of rows** (rolling) or **expanding set**.\n",
    "\n"
   ]
  },
  {
   "cell_type": "code",
   "execution_count": 9,
   "id": "2c5373e6",
   "metadata": {},
   "outputs": [],
   "source": [
    "\n",
    "# Sample numeric column for demonstration\n",
    "df1['loan_amount_cumsum'] = df1['loan_amount_requested'].cumsum()  # cumulative sum\n",
    "df1['loan_amount_rolling_mean'] = df1['loan_amount_requested'].rolling(window=2).mean()  # rolling mean\n",
    "df1['loan_amount_expanding_mean'] = df1['loan_amount_requested'].expanding().mean()  # expanding mean\n",
    "df1['loan_amount_rank'] = df1['loan_amount_requested'].rank()  # ranking\n",
    "df1['loan_amount_pct_change'] = df1['loan_amount_requested'].pct_change()  # percent change\n"
   ]
  },
  {
   "cell_type": "markdown",
   "id": "016d412e",
   "metadata": {},
   "source": [
    "---\n",
    "\n",
    "**Summary**\n",
    "\n",
    "| Operation               | Method / Function                                                     | Example                                                                |\n",
    "| ----------------------- | --------------------------------------------------------------------- | ---------------------------------------------------------------------- |\n",
    "| Aggregation             | `sum()`, `mean()`, `min()`, `max()`, `.agg()`, `.groupby()`           | `df.groupby('loan_type')['loan_amount_requested'].agg(['mean','sum'])` |\n",
    "| Joining / Concatenation | `pd.concat()`                                                         | `pd.concat([df1, df2], axis=0 or 1)`                                   |\n",
    "| Merging / Join          | `pd.merge()`                                                          | `pd.merge(df1, df2, on='customer_id', how='inner')`                    |\n",
    "| Windowing / Rolling     | `.rolling()`, `.expanding()`, `.cumsum()`, `.pct_change()`, `.rank()` | See code above                                                         |\n",
    "\n"
   ]
  },
  {
   "cell_type": "markdown",
   "id": "ab8f0ba0",
   "metadata": {},
   "source": []
  }
 ],
 "metadata": {
  "kernelspec": {
   "display_name": "Python 3",
   "language": "python",
   "name": "python3"
  },
  "language_info": {
   "codemirror_mode": {
    "name": "ipython",
    "version": 3
   },
   "file_extension": ".py",
   "mimetype": "text/x-python",
   "name": "python",
   "nbconvert_exporter": "python",
   "pygments_lexer": "ipython3",
   "version": "3.12.0"
  }
 },
 "nbformat": 4,
 "nbformat_minor": 5
}
