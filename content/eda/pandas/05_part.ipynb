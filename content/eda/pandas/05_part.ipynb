{
 "cells": [
  {
   "cell_type": "markdown",
   "id": "2def8aad",
   "metadata": {},
   "source": [
    "```{contents}\n",
    "```"
   ]
  },
  {
   "cell_type": "markdown",
   "id": "ee973002",
   "metadata": {},
   "source": [
    "## Data Cleaning"
   ]
  },
  {
   "cell_type": "code",
   "execution_count": 1,
   "id": "8213a21e",
   "metadata": {},
   "outputs": [
    {
     "data": {
      "application/vnd.microsoft.datawrangler.viewer.v0+json": {
       "columns": [
        {
         "name": "index",
         "rawType": "int64",
         "type": "integer"
        },
        {
         "name": "application_id",
         "rawType": "object",
         "type": "string"
        },
        {
         "name": "customer_id",
         "rawType": "object",
         "type": "string"
        },
        {
         "name": "application_date",
         "rawType": "object",
         "type": "string"
        },
        {
         "name": "loan_type",
         "rawType": "object",
         "type": "string"
        },
        {
         "name": "loan_amount_requested",
         "rawType": "float64",
         "type": "float"
        },
        {
         "name": "loan_tenure_months",
         "rawType": "int64",
         "type": "integer"
        },
        {
         "name": "interest_rate_offered",
         "rawType": "float64",
         "type": "float"
        },
        {
         "name": "purpose_of_loan",
         "rawType": "object",
         "type": "string"
        },
        {
         "name": "employment_status",
         "rawType": "object",
         "type": "string"
        },
        {
         "name": "monthly_income",
         "rawType": "float64",
         "type": "float"
        },
        {
         "name": "cibil_score",
         "rawType": "int64",
         "type": "integer"
        },
        {
         "name": "existing_emis_monthly",
         "rawType": "float64",
         "type": "float"
        },
        {
         "name": "debt_to_income_ratio",
         "rawType": "float64",
         "type": "float"
        },
        {
         "name": "property_ownership_status",
         "rawType": "object",
         "type": "string"
        },
        {
         "name": "residential_address",
         "rawType": "object",
         "type": "string"
        },
        {
         "name": "applicant_age",
         "rawType": "int64",
         "type": "integer"
        },
        {
         "name": "gender",
         "rawType": "object",
         "type": "string"
        },
        {
         "name": "number_of_dependents",
         "rawType": "int64",
         "type": "integer"
        },
        {
         "name": "loan_status",
         "rawType": "object",
         "type": "string"
        },
        {
         "name": "fraud_flag",
         "rawType": "int64",
         "type": "integer"
        },
        {
         "name": "fraud_type",
         "rawType": "object",
         "type": "unknown"
        }
       ],
       "ref": "5086b04e-cd34-4c98-a656-021340eb593e",
       "rows": [
        [
         "0",
         "c8bf0bea-70e6-4870-9125-41b8210c527f",
         "CUST109427",
         "2023-04-09",
         "Business Loan",
         "604000.0",
         "12",
         "11.66",
         "Medical Emergency",
         "Retired",
         "34700.0",
         "714",
         "1100.0",
         "3.17",
         "Rented",
         "94/31, Sehgal Zila, Vadodara-380521, Anantapur, Uttarakhand, 918055",
         "28",
         "Female",
         "3",
         "Approved",
         "0",
         null
        ],
        [
         "1",
         "91224cec-3544-4bc7-ac15-a9792da54c02",
         "CUST106146",
         "2023-09-23",
         "Car Loan",
         "100000.0",
         "240",
         "13.62",
         "Education",
         "Unemployed",
         "51600.0",
         "667",
         "0.0",
         "0.0",
         "Owned",
         "H.No. 00, Sheth Chowk, Ichalkaranji 006728, Imphal, Himachal Pradesh, 909564",
         "44",
         "Other",
         "3",
         "Approved",
         "0",
         null
        ],
        [
         "2",
         "4efcd02d-4a03-4ab7-9bd1-0ff430493d0c",
         "CUST100674",
         "2023-05-22",
         "Education Loan",
         "431000.0",
         "60",
         "11.4",
         "Medical Emergency",
         "Self-Employed",
         "14800.0",
         "808",
         "4600.0",
         "31.08",
         "Rented",
         "H.No. 81, Dutta Path, Kozhikode-340301, Tadepalligudem, Kerala, 797564",
         "56",
         "Other",
         "4",
         "Approved",
         "0",
         null
        ],
        [
         "3",
         "a61337d4-ba04-4a68-b492-2cb8266e6ed7",
         "CUST106466",
         "2024-07-09",
         "Car Loan",
         "324000.0",
         "120",
         "10.36",
         "Debt Consolidation",
         "Self-Employed",
         "28800.0",
         "647",
         "4000.0",
         "13.89",
         "Rented",
         "H.No. 022, Rege Road, Tiruvottiyur-927857, Aurangabad, Odisha, 097184",
         "27",
         "Other",
         "4",
         "Declined",
         "0",
         null
        ],
        [
         "4",
         "a8d1639e-170b-41b2-826a-55c7dae38d16",
         "CUST112319",
         "2023-11-20",
         "Personal Loan",
         "100000.0",
         "36",
         "14.14",
         "Business Expansion",
         "Salaried",
         "43900.0",
         "624",
         "1100.0",
         "2.51",
         "Rented",
         "85/24, Bali Zila, Sambalpur 922071, Tumkur, Kerala, 775386",
         "50",
         "Other",
         "0",
         "Declined",
         "0",
         null
        ]
       ],
       "shape": {
        "columns": 21,
        "rows": 5
       }
      },
      "text/html": [
       "<div>\n",
       "<style scoped>\n",
       "    .dataframe tbody tr th:only-of-type {\n",
       "        vertical-align: middle;\n",
       "    }\n",
       "\n",
       "    .dataframe tbody tr th {\n",
       "        vertical-align: top;\n",
       "    }\n",
       "\n",
       "    .dataframe thead th {\n",
       "        text-align: right;\n",
       "    }\n",
       "</style>\n",
       "<table border=\"1\" class=\"dataframe\">\n",
       "  <thead>\n",
       "    <tr style=\"text-align: right;\">\n",
       "      <th></th>\n",
       "      <th>application_id</th>\n",
       "      <th>customer_id</th>\n",
       "      <th>application_date</th>\n",
       "      <th>loan_type</th>\n",
       "      <th>loan_amount_requested</th>\n",
       "      <th>loan_tenure_months</th>\n",
       "      <th>interest_rate_offered</th>\n",
       "      <th>purpose_of_loan</th>\n",
       "      <th>employment_status</th>\n",
       "      <th>monthly_income</th>\n",
       "      <th>...</th>\n",
       "      <th>existing_emis_monthly</th>\n",
       "      <th>debt_to_income_ratio</th>\n",
       "      <th>property_ownership_status</th>\n",
       "      <th>residential_address</th>\n",
       "      <th>applicant_age</th>\n",
       "      <th>gender</th>\n",
       "      <th>number_of_dependents</th>\n",
       "      <th>loan_status</th>\n",
       "      <th>fraud_flag</th>\n",
       "      <th>fraud_type</th>\n",
       "    </tr>\n",
       "  </thead>\n",
       "  <tbody>\n",
       "    <tr>\n",
       "      <th>0</th>\n",
       "      <td>c8bf0bea-70e6-4870-9125-41b8210c527f</td>\n",
       "      <td>CUST109427</td>\n",
       "      <td>2023-04-09</td>\n",
       "      <td>Business Loan</td>\n",
       "      <td>604000.0</td>\n",
       "      <td>12</td>\n",
       "      <td>11.66</td>\n",
       "      <td>Medical Emergency</td>\n",
       "      <td>Retired</td>\n",
       "      <td>34700.0</td>\n",
       "      <td>...</td>\n",
       "      <td>1100.0</td>\n",
       "      <td>3.17</td>\n",
       "      <td>Rented</td>\n",
       "      <td>94/31, Sehgal Zila, Vadodara-380521, Anantapur...</td>\n",
       "      <td>28</td>\n",
       "      <td>Female</td>\n",
       "      <td>3</td>\n",
       "      <td>Approved</td>\n",
       "      <td>0</td>\n",
       "      <td>NaN</td>\n",
       "    </tr>\n",
       "    <tr>\n",
       "      <th>1</th>\n",
       "      <td>91224cec-3544-4bc7-ac15-a9792da54c02</td>\n",
       "      <td>CUST106146</td>\n",
       "      <td>2023-09-23</td>\n",
       "      <td>Car Loan</td>\n",
       "      <td>100000.0</td>\n",
       "      <td>240</td>\n",
       "      <td>13.62</td>\n",
       "      <td>Education</td>\n",
       "      <td>Unemployed</td>\n",
       "      <td>51600.0</td>\n",
       "      <td>...</td>\n",
       "      <td>0.0</td>\n",
       "      <td>0.00</td>\n",
       "      <td>Owned</td>\n",
       "      <td>H.No. 00, Sheth Chowk, Ichalkaranji 006728, Im...</td>\n",
       "      <td>44</td>\n",
       "      <td>Other</td>\n",
       "      <td>3</td>\n",
       "      <td>Approved</td>\n",
       "      <td>0</td>\n",
       "      <td>NaN</td>\n",
       "    </tr>\n",
       "    <tr>\n",
       "      <th>2</th>\n",
       "      <td>4efcd02d-4a03-4ab7-9bd1-0ff430493d0c</td>\n",
       "      <td>CUST100674</td>\n",
       "      <td>2023-05-22</td>\n",
       "      <td>Education Loan</td>\n",
       "      <td>431000.0</td>\n",
       "      <td>60</td>\n",
       "      <td>11.40</td>\n",
       "      <td>Medical Emergency</td>\n",
       "      <td>Self-Employed</td>\n",
       "      <td>14800.0</td>\n",
       "      <td>...</td>\n",
       "      <td>4600.0</td>\n",
       "      <td>31.08</td>\n",
       "      <td>Rented</td>\n",
       "      <td>H.No. 81, Dutta Path, Kozhikode-340301, Tadepa...</td>\n",
       "      <td>56</td>\n",
       "      <td>Other</td>\n",
       "      <td>4</td>\n",
       "      <td>Approved</td>\n",
       "      <td>0</td>\n",
       "      <td>NaN</td>\n",
       "    </tr>\n",
       "    <tr>\n",
       "      <th>3</th>\n",
       "      <td>a61337d4-ba04-4a68-b492-2cb8266e6ed7</td>\n",
       "      <td>CUST106466</td>\n",
       "      <td>2024-07-09</td>\n",
       "      <td>Car Loan</td>\n",
       "      <td>324000.0</td>\n",
       "      <td>120</td>\n",
       "      <td>10.36</td>\n",
       "      <td>Debt Consolidation</td>\n",
       "      <td>Self-Employed</td>\n",
       "      <td>28800.0</td>\n",
       "      <td>...</td>\n",
       "      <td>4000.0</td>\n",
       "      <td>13.89</td>\n",
       "      <td>Rented</td>\n",
       "      <td>H.No. 022, Rege Road, Tiruvottiyur-927857, Aur...</td>\n",
       "      <td>27</td>\n",
       "      <td>Other</td>\n",
       "      <td>4</td>\n",
       "      <td>Declined</td>\n",
       "      <td>0</td>\n",
       "      <td>NaN</td>\n",
       "    </tr>\n",
       "    <tr>\n",
       "      <th>4</th>\n",
       "      <td>a8d1639e-170b-41b2-826a-55c7dae38d16</td>\n",
       "      <td>CUST112319</td>\n",
       "      <td>2023-11-20</td>\n",
       "      <td>Personal Loan</td>\n",
       "      <td>100000.0</td>\n",
       "      <td>36</td>\n",
       "      <td>14.14</td>\n",
       "      <td>Business Expansion</td>\n",
       "      <td>Salaried</td>\n",
       "      <td>43900.0</td>\n",
       "      <td>...</td>\n",
       "      <td>1100.0</td>\n",
       "      <td>2.51</td>\n",
       "      <td>Rented</td>\n",
       "      <td>85/24, Bali Zila, Sambalpur 922071, Tumkur, Ke...</td>\n",
       "      <td>50</td>\n",
       "      <td>Other</td>\n",
       "      <td>0</td>\n",
       "      <td>Declined</td>\n",
       "      <td>0</td>\n",
       "      <td>NaN</td>\n",
       "    </tr>\n",
       "  </tbody>\n",
       "</table>\n",
       "<p>5 rows × 21 columns</p>\n",
       "</div>"
      ],
      "text/plain": [
       "                         application_id customer_id application_date  \\\n",
       "0  c8bf0bea-70e6-4870-9125-41b8210c527f  CUST109427       2023-04-09   \n",
       "1  91224cec-3544-4bc7-ac15-a9792da54c02  CUST106146       2023-09-23   \n",
       "2  4efcd02d-4a03-4ab7-9bd1-0ff430493d0c  CUST100674       2023-05-22   \n",
       "3  a61337d4-ba04-4a68-b492-2cb8266e6ed7  CUST106466       2024-07-09   \n",
       "4  a8d1639e-170b-41b2-826a-55c7dae38d16  CUST112319       2023-11-20   \n",
       "\n",
       "        loan_type  loan_amount_requested  loan_tenure_months  \\\n",
       "0   Business Loan               604000.0                  12   \n",
       "1        Car Loan               100000.0                 240   \n",
       "2  Education Loan               431000.0                  60   \n",
       "3        Car Loan               324000.0                 120   \n",
       "4   Personal Loan               100000.0                  36   \n",
       "\n",
       "   interest_rate_offered     purpose_of_loan employment_status  \\\n",
       "0                  11.66   Medical Emergency           Retired   \n",
       "1                  13.62           Education        Unemployed   \n",
       "2                  11.40   Medical Emergency     Self-Employed   \n",
       "3                  10.36  Debt Consolidation     Self-Employed   \n",
       "4                  14.14  Business Expansion          Salaried   \n",
       "\n",
       "   monthly_income  ...  existing_emis_monthly  debt_to_income_ratio  \\\n",
       "0         34700.0  ...                 1100.0                  3.17   \n",
       "1         51600.0  ...                    0.0                  0.00   \n",
       "2         14800.0  ...                 4600.0                 31.08   \n",
       "3         28800.0  ...                 4000.0                 13.89   \n",
       "4         43900.0  ...                 1100.0                  2.51   \n",
       "\n",
       "   property_ownership_status  \\\n",
       "0                     Rented   \n",
       "1                      Owned   \n",
       "2                     Rented   \n",
       "3                     Rented   \n",
       "4                     Rented   \n",
       "\n",
       "                                 residential_address applicant_age  gender  \\\n",
       "0  94/31, Sehgal Zila, Vadodara-380521, Anantapur...            28  Female   \n",
       "1  H.No. 00, Sheth Chowk, Ichalkaranji 006728, Im...            44   Other   \n",
       "2  H.No. 81, Dutta Path, Kozhikode-340301, Tadepa...            56   Other   \n",
       "3  H.No. 022, Rege Road, Tiruvottiyur-927857, Aur...            27   Other   \n",
       "4  85/24, Bali Zila, Sambalpur 922071, Tumkur, Ke...            50   Other   \n",
       "\n",
       "  number_of_dependents  loan_status fraud_flag  fraud_type  \n",
       "0                    3     Approved          0         NaN  \n",
       "1                    3     Approved          0         NaN  \n",
       "2                    4     Approved          0         NaN  \n",
       "3                    4     Declined          0         NaN  \n",
       "4                    0     Declined          0         NaN  \n",
       "\n",
       "[5 rows x 21 columns]"
      ]
     },
     "execution_count": 1,
     "metadata": {},
     "output_type": "execute_result"
    }
   ],
   "source": [
    "\n",
    "\n",
    "import pandas as pd\n",
    "\n",
    "url = \"https://github.com/svgoudar/datasets/blob/main/loan_applications.csv?raw=true\"\n",
    "df = pd.read_csv(url)\n",
    "\n",
    "# Quick overview\n",
    "df.head()\n"
   ]
  },
  {
   "cell_type": "markdown",
   "id": "9af737ec",
   "metadata": {},
   "source": [
    "\n",
    "\n",
    "---\n",
    "\n",
    "  ### Handling Missing Values\n"
   ]
  },
  {
   "cell_type": "code",
   "execution_count": 5,
   "id": "db720515",
   "metadata": {},
   "outputs": [
    {
     "name": "stdout",
     "output_type": "stream",
     "text": [
      "application_id                   0\n",
      "customer_id                      0\n",
      "application_date                 0\n",
      "loan_type                        0\n",
      "loan_amount_requested            0\n",
      "loan_tenure_months               0\n",
      "interest_rate_offered            0\n",
      "purpose_of_loan                  0\n",
      "employment_status                0\n",
      "monthly_income                   0\n",
      "cibil_score                      0\n",
      "existing_emis_monthly            0\n",
      "debt_to_income_ratio             0\n",
      "property_ownership_status        0\n",
      "residential_address              0\n",
      "applicant_age                    0\n",
      "gender                           0\n",
      "number_of_dependents             0\n",
      "loan_status                      0\n",
      "fraud_flag                       0\n",
      "fraud_type                   48974\n",
      "dtype: int64\n"
     ]
    },
    {
     "name": "stderr",
     "output_type": "stream",
     "text": [
      "C:\\Users\\sangouda\\AppData\\Local\\Temp\\ipykernel_20228\\1344120365.py:5: FutureWarning: A value is trying to be set on a copy of a DataFrame or Series through chained assignment using an inplace method.\n",
      "The behavior will change in pandas 3.0. This inplace method will never work because the intermediate object on which we are setting values always behaves as a copy.\n",
      "\n",
      "For example, when doing 'df[col].method(value, inplace=True)', try using 'df.method({col: value}, inplace=True)' or df[col] = df[col].method(value) instead, to perform the operation inplace on the original object.\n",
      "\n",
      "\n",
      "  df['loan_amount_requested'].fillna(df['loan_amount_requested'].mean(), inplace=True)\n"
     ]
    }
   ],
   "source": [
    "\n",
    "\n",
    "# Check missing values\n",
    "print(df.isnull().sum())\n",
    "\n",
    "# Fill missing loan_amount with mean\n",
    "df['loan_amount_requested'].fillna(df['loan_amount_requested'].mean(), inplace=True)\n",
    "\n",
    "# Drop rows with missing status\n",
    "df.dropna(subset=['loan_status'], inplace=True)\n",
    "\n",
    "# Interpolate missing numeric values (if any)\n",
    "df['loan_amount_requested'] = df['loan_amount_requested'].interpolate() \n"
   ]
  },
  {
   "cell_type": "markdown",
   "id": "46f8a8ed",
   "metadata": {},
   "source": [
    "\n",
    "\n",
    "---\n",
    "\n",
    "### Handling Duplicates\n"
   ]
  },
  {
   "cell_type": "code",
   "execution_count": null,
   "id": "f1531e36",
   "metadata": {},
   "outputs": [],
   "source": [
    "# Check duplicates\n",
    "print(df.duplicated().sum())\n",
    "\n",
    "# Drop duplicate rows based on customer_id and loan_amount\n",
    "df.drop_duplicates(subset=['customer_id', 'loan_amount'], inplace=True)\n",
    "\n"
   ]
  },
  {
   "cell_type": "markdown",
   "id": "dc398ca3",
   "metadata": {},
   "source": [
    "\n",
    "---\n",
    "\n",
    "### Data Type Conversion\n"
   ]
  },
  {
   "cell_type": "code",
   "execution_count": null,
   "id": "ff6330e5",
   "metadata": {},
   "outputs": [],
   "source": [
    "\n",
    "\n",
    "# Convert loan_amount to numeric\n",
    "df['loan_amount'] = pd.to_numeric(df['loan_amount'], errors='coerce')\n",
    "\n",
    "# Convert application_date to datetime\n",
    "df['application_date'] = pd.to_datetime(df['application_date'], errors='coerce')\n"
   ]
  },
  {
   "cell_type": "markdown",
   "id": "0a1e9cb0",
   "metadata": {},
   "source": [
    "\n",
    "\n",
    "---\n",
    "\n",
    "### String Cleaning / Formatting\n",
    "\n"
   ]
  },
  {
   "cell_type": "code",
   "execution_count": null,
   "id": "b419db50",
   "metadata": {},
   "outputs": [],
   "source": [
    "\n",
    "# Remove leading/trailing spaces and standardize case\n",
    "df['customer_name'] = df['customer_name'].str.strip().str.title()\n",
    "\n",
    "# Filter rows containing 'Approved' in status\n",
    "df = df[df['status'].str.contains('Approved')]\n"
   ]
  },
  {
   "cell_type": "markdown",
   "id": "c8952b78",
   "metadata": {},
   "source": [
    "\n",
    "\n",
    "---\n",
    "\n",
    "* ## Renaming / Reordering Columns\n"
   ]
  },
  {
   "cell_type": "code",
   "execution_count": 11,
   "id": "d28a6c9c",
   "metadata": {},
   "outputs": [
    {
     "data": {
      "application/vnd.microsoft.datawrangler.viewer.v0+json": {
       "columns": [
        {
         "name": "index",
         "rawType": "int64",
         "type": "integer"
        },
        {
         "name": "loan_status",
         "rawType": "object",
         "type": "string"
        }
       ],
       "ref": "d882d741-26b8-4ee3-93b2-a32c914479ce",
       "rows": [
        [
         "0",
         "Approved"
        ],
        [
         "1",
         "Approved"
        ],
        [
         "2",
         "Approved"
        ],
        [
         "3",
         "Declined"
        ],
        [
         "4",
         "Declined"
        ],
        [
         "5",
         "Approved"
        ],
        [
         "6",
         "Approved"
        ],
        [
         "7",
         "Approved"
        ],
        [
         "8",
         "Approved"
        ],
        [
         "9",
         "Approved"
        ],
        [
         "10",
         "Approved"
        ],
        [
         "11",
         "Approved"
        ],
        [
         "12",
         "Declined"
        ],
        [
         "13",
         "Declined"
        ],
        [
         "14",
         "Approved"
        ],
        [
         "15",
         "Approved"
        ],
        [
         "16",
         "Declined"
        ],
        [
         "17",
         "Approved"
        ],
        [
         "18",
         "Declined"
        ],
        [
         "19",
         "Approved"
        ],
        [
         "20",
         "Approved"
        ],
        [
         "21",
         "Approved"
        ],
        [
         "22",
         "Approved"
        ],
        [
         "23",
         "Approved"
        ],
        [
         "24",
         "Approved"
        ],
        [
         "25",
         "Approved"
        ],
        [
         "26",
         "Approved"
        ],
        [
         "27",
         "Approved"
        ],
        [
         "28",
         "Declined"
        ],
        [
         "29",
         "Approved"
        ],
        [
         "30",
         "Approved"
        ],
        [
         "31",
         "Approved"
        ],
        [
         "32",
         "Approved"
        ],
        [
         "33",
         "Approved"
        ],
        [
         "34",
         "Approved"
        ],
        [
         "35",
         "Approved"
        ],
        [
         "36",
         "Approved"
        ],
        [
         "37",
         "Declined"
        ],
        [
         "38",
         "Approved"
        ],
        [
         "39",
         "Declined"
        ],
        [
         "40",
         "Approved"
        ],
        [
         "41",
         "Approved"
        ],
        [
         "42",
         "Approved"
        ],
        [
         "43",
         "Approved"
        ],
        [
         "44",
         "Approved"
        ],
        [
         "45",
         "Approved"
        ],
        [
         "46",
         "Approved"
        ],
        [
         "47",
         "Declined"
        ],
        [
         "48",
         "Declined"
        ],
        [
         "49",
         "Approved"
        ]
       ],
       "shape": {
        "columns": 1,
        "rows": 50000
       }
      },
      "text/html": [
       "<div>\n",
       "<style scoped>\n",
       "    .dataframe tbody tr th:only-of-type {\n",
       "        vertical-align: middle;\n",
       "    }\n",
       "\n",
       "    .dataframe tbody tr th {\n",
       "        vertical-align: top;\n",
       "    }\n",
       "\n",
       "    .dataframe thead th {\n",
       "        text-align: right;\n",
       "    }\n",
       "</style>\n",
       "<table border=\"1\" class=\"dataframe\">\n",
       "  <thead>\n",
       "    <tr style=\"text-align: right;\">\n",
       "      <th></th>\n",
       "      <th>loan_status</th>\n",
       "    </tr>\n",
       "  </thead>\n",
       "  <tbody>\n",
       "    <tr>\n",
       "      <th>0</th>\n",
       "      <td>Approved</td>\n",
       "    </tr>\n",
       "    <tr>\n",
       "      <th>1</th>\n",
       "      <td>Approved</td>\n",
       "    </tr>\n",
       "    <tr>\n",
       "      <th>2</th>\n",
       "      <td>Approved</td>\n",
       "    </tr>\n",
       "    <tr>\n",
       "      <th>3</th>\n",
       "      <td>Declined</td>\n",
       "    </tr>\n",
       "    <tr>\n",
       "      <th>4</th>\n",
       "      <td>Declined</td>\n",
       "    </tr>\n",
       "    <tr>\n",
       "      <th>...</th>\n",
       "      <td>...</td>\n",
       "    </tr>\n",
       "    <tr>\n",
       "      <th>49995</th>\n",
       "      <td>Approved</td>\n",
       "    </tr>\n",
       "    <tr>\n",
       "      <th>49996</th>\n",
       "      <td>Approved</td>\n",
       "    </tr>\n",
       "    <tr>\n",
       "      <th>49997</th>\n",
       "      <td>Approved</td>\n",
       "    </tr>\n",
       "    <tr>\n",
       "      <th>49998</th>\n",
       "      <td>Approved</td>\n",
       "    </tr>\n",
       "    <tr>\n",
       "      <th>49999</th>\n",
       "      <td>Approved</td>\n",
       "    </tr>\n",
       "  </tbody>\n",
       "</table>\n",
       "<p>50000 rows × 1 columns</p>\n",
       "</div>"
      ],
      "text/plain": [
       "      loan_status\n",
       "0        Approved\n",
       "1        Approved\n",
       "2        Approved\n",
       "3        Declined\n",
       "4        Declined\n",
       "...           ...\n",
       "49995    Approved\n",
       "49996    Approved\n",
       "49997    Approved\n",
       "49998    Approved\n",
       "49999    Approved\n",
       "\n",
       "[50000 rows x 1 columns]"
      ]
     },
     "execution_count": 11,
     "metadata": {},
     "output_type": "execute_result"
    }
   ],
   "source": [
    "# Rename column\n",
    "df.rename(columns={'loan_amount_requested': 'amount'}, inplace=True)\n",
    "\n",
    "# Reorder columns\n",
    "df = df[['customer_id', 'amount', 'loan_status', 'application_date']]\n",
    "\n",
    "df.loc[:, df.columns.str.contains(\"loan\")]"
   ]
  },
  {
   "cell_type": "markdown",
   "id": "ea01c615",
   "metadata": {},
   "source": [
    "\n",
    "\n",
    "---\n",
    "\n",
    "### Handling Outliers / Filtering Invalid Data\n"
   ]
  },
  {
   "cell_type": "code",
   "execution_count": null,
   "id": "814d6e0a",
   "metadata": {},
   "outputs": [],
   "source": [
    "\n",
    "# Remove loans with negative or extremely high amounts\n",
    "df = df[(df['amount'] > 0) & (df['amount'] < 100000)]\n",
    "\n",
    "# Cap loan amount at 50000\n",
    "df['amount'] = df['amount'].clip(0, 50000)\n"
   ]
  },
  {
   "cell_type": "markdown",
   "id": "58c597fe",
   "metadata": {},
   "source": [
    "\n",
    "\n",
    "---\n",
    "\n",
    "### Replacing Values\n",
    "\n"
   ]
  },
  {
   "cell_type": "code",
   "execution_count": null,
   "id": "e92bc6fe",
   "metadata": {},
   "outputs": [],
   "source": [
    "# Standardize status values\n",
    "df['status'].replace({'approved': 'Approved', 'denied': 'Rejected'}, inplace=True)\n"
   ]
  },
  {
   "cell_type": "markdown",
   "id": "1378df9a",
   "metadata": {},
   "source": [
    "\n",
    "\n",
    "---\n",
    "\n",
    "### Reset / Set Index\n",
    "\n"
   ]
  },
  {
   "cell_type": "code",
   "execution_count": null,
   "id": "4e578b22",
   "metadata": {},
   "outputs": [],
   "source": [
    "\n",
    "# Set customer_id as index\n",
    "df.set_index('customer_id', inplace=True)\n",
    "\n",
    "# Reset index if needed\n",
    "df.reset_index(inplace=True)\n"
   ]
  },
  {
   "cell_type": "markdown",
   "id": "40422f76",
   "metadata": {},
   "source": [
    "\n",
    "\n",
    "---\n",
    "\n",
    "**Summary of Cleaning Steps Applied**\n",
    "\n",
    "1. Filled missing numeric values (`fillna`)\n",
    "2. Dropped rows with missing critical columns (`dropna`)\n",
    "3. Removed duplicates (`drop_duplicates`)\n",
    "4. Converted data types (`astype`, `to_numeric`, `to_datetime`)\n",
    "5. Cleaned strings (`.str.strip()`, `.str.title()`)\n",
    "6. Handled outliers (`clip`, boolean filtering)\n",
    "7. Replaced inconsistent values (`replace`)\n",
    "8. Managed index (`set_index`, `reset_index`)\n",
    "\n"
   ]
  }
 ],
 "metadata": {
  "kernelspec": {
   "display_name": "Python 3.12",
   "language": "python",
   "name": "py12"
  },
  "language_info": {
   "codemirror_mode": {
    "name": "ipython",
    "version": 3
   },
   "file_extension": ".py",
   "mimetype": "text/x-python",
   "name": "python",
   "nbconvert_exporter": "python",
   "pygments_lexer": "ipython3",
   "version": "3.12.0"
  }
 },
 "nbformat": 4,
 "nbformat_minor": 5
}
