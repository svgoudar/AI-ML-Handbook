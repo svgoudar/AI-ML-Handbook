{
 "cells": [
  {
   "cell_type": "markdown",
   "id": "51ea4e7c",
   "metadata": {},
   "source": [
    "```{contents}\n",
    "```"
   ]
  },
  {
   "cell_type": "markdown",
   "id": "6a515217",
   "metadata": {},
   "source": [
    "## Data Transformation"
   ]
  },
  {
   "cell_type": "code",
   "execution_count": 29,
   "id": "c6280c2c",
   "metadata": {},
   "outputs": [
    {
     "data": {
      "application/vnd.microsoft.datawrangler.viewer.v0+json": {
       "columns": [
        {
         "name": "index",
         "rawType": "int64",
         "type": "integer"
        },
        {
         "name": "application_id",
         "rawType": "object",
         "type": "string"
        },
        {
         "name": "customer_id",
         "rawType": "object",
         "type": "string"
        },
        {
         "name": "application_date",
         "rawType": "object",
         "type": "string"
        },
        {
         "name": "loan_type",
         "rawType": "object",
         "type": "string"
        },
        {
         "name": "loan_amount_requested",
         "rawType": "float64",
         "type": "float"
        },
        {
         "name": "loan_tenure_months",
         "rawType": "int64",
         "type": "integer"
        },
        {
         "name": "interest_rate_offered",
         "rawType": "float64",
         "type": "float"
        },
        {
         "name": "purpose_of_loan",
         "rawType": "object",
         "type": "string"
        },
        {
         "name": "employment_status",
         "rawType": "object",
         "type": "string"
        },
        {
         "name": "monthly_income",
         "rawType": "float64",
         "type": "float"
        },
        {
         "name": "cibil_score",
         "rawType": "int64",
         "type": "integer"
        },
        {
         "name": "existing_emis_monthly",
         "rawType": "float64",
         "type": "float"
        },
        {
         "name": "debt_to_income_ratio",
         "rawType": "float64",
         "type": "float"
        },
        {
         "name": "property_ownership_status",
         "rawType": "object",
         "type": "string"
        },
        {
         "name": "residential_address",
         "rawType": "object",
         "type": "string"
        },
        {
         "name": "applicant_age",
         "rawType": "int64",
         "type": "integer"
        },
        {
         "name": "gender",
         "rawType": "object",
         "type": "string"
        },
        {
         "name": "number_of_dependents",
         "rawType": "int64",
         "type": "integer"
        },
        {
         "name": "loan_status",
         "rawType": "object",
         "type": "string"
        },
        {
         "name": "fraud_flag",
         "rawType": "int64",
         "type": "integer"
        },
        {
         "name": "fraud_type",
         "rawType": "object",
         "type": "unknown"
        }
       ],
       "ref": "bcfd8ed7-0a4f-4f27-9daf-cbe9e7d0060e",
       "rows": [
        [
         "0",
         "c8bf0bea-70e6-4870-9125-41b8210c527f",
         "CUST109427",
         "2023-04-09",
         "Business Loan",
         "604000.0",
         "12",
         "11.66",
         "Medical Emergency",
         "Retired",
         "34700.0",
         "714",
         "1100.0",
         "3.17",
         "Rented",
         "94/31, Sehgal Zila, Vadodara-380521, Anantapur, Uttarakhand, 918055",
         "28",
         "Female",
         "3",
         "Approved",
         "0",
         null
        ],
        [
         "1",
         "91224cec-3544-4bc7-ac15-a9792da54c02",
         "CUST106146",
         "2023-09-23",
         "Car Loan",
         "100000.0",
         "240",
         "13.62",
         "Education",
         "Unemployed",
         "51600.0",
         "667",
         "0.0",
         "0.0",
         "Owned",
         "H.No. 00, Sheth Chowk, Ichalkaranji 006728, Imphal, Himachal Pradesh, 909564",
         "44",
         "Other",
         "3",
         "Approved",
         "0",
         null
        ],
        [
         "2",
         "4efcd02d-4a03-4ab7-9bd1-0ff430493d0c",
         "CUST100674",
         "2023-05-22",
         "Education Loan",
         "431000.0",
         "60",
         "11.4",
         "Medical Emergency",
         "Self-Employed",
         "14800.0",
         "808",
         "4600.0",
         "31.08",
         "Rented",
         "H.No. 81, Dutta Path, Kozhikode-340301, Tadepalligudem, Kerala, 797564",
         "56",
         "Other",
         "4",
         "Approved",
         "0",
         null
        ],
        [
         "3",
         "a61337d4-ba04-4a68-b492-2cb8266e6ed7",
         "CUST106466",
         "2024-07-09",
         "Car Loan",
         "324000.0",
         "120",
         "10.36",
         "Debt Consolidation",
         "Self-Employed",
         "28800.0",
         "647",
         "4000.0",
         "13.89",
         "Rented",
         "H.No. 022, Rege Road, Tiruvottiyur-927857, Aurangabad, Odisha, 097184",
         "27",
         "Other",
         "4",
         "Declined",
         "0",
         null
        ],
        [
         "4",
         "a8d1639e-170b-41b2-826a-55c7dae38d16",
         "CUST112319",
         "2023-11-20",
         "Personal Loan",
         "100000.0",
         "36",
         "14.14",
         "Business Expansion",
         "Salaried",
         "43900.0",
         "624",
         "1100.0",
         "2.51",
         "Rented",
         "85/24, Bali Zila, Sambalpur 922071, Tumkur, Kerala, 775386",
         "50",
         "Other",
         "0",
         "Declined",
         "0",
         null
        ]
       ],
       "shape": {
        "columns": 21,
        "rows": 5
       }
      },
      "text/html": [
       "<div>\n",
       "<style scoped>\n",
       "    .dataframe tbody tr th:only-of-type {\n",
       "        vertical-align: middle;\n",
       "    }\n",
       "\n",
       "    .dataframe tbody tr th {\n",
       "        vertical-align: top;\n",
       "    }\n",
       "\n",
       "    .dataframe thead th {\n",
       "        text-align: right;\n",
       "    }\n",
       "</style>\n",
       "<table border=\"1\" class=\"dataframe\">\n",
       "  <thead>\n",
       "    <tr style=\"text-align: right;\">\n",
       "      <th></th>\n",
       "      <th>application_id</th>\n",
       "      <th>customer_id</th>\n",
       "      <th>application_date</th>\n",
       "      <th>loan_type</th>\n",
       "      <th>loan_amount_requested</th>\n",
       "      <th>loan_tenure_months</th>\n",
       "      <th>interest_rate_offered</th>\n",
       "      <th>purpose_of_loan</th>\n",
       "      <th>employment_status</th>\n",
       "      <th>monthly_income</th>\n",
       "      <th>...</th>\n",
       "      <th>existing_emis_monthly</th>\n",
       "      <th>debt_to_income_ratio</th>\n",
       "      <th>property_ownership_status</th>\n",
       "      <th>residential_address</th>\n",
       "      <th>applicant_age</th>\n",
       "      <th>gender</th>\n",
       "      <th>number_of_dependents</th>\n",
       "      <th>loan_status</th>\n",
       "      <th>fraud_flag</th>\n",
       "      <th>fraud_type</th>\n",
       "    </tr>\n",
       "  </thead>\n",
       "  <tbody>\n",
       "    <tr>\n",
       "      <th>0</th>\n",
       "      <td>c8bf0bea-70e6-4870-9125-41b8210c527f</td>\n",
       "      <td>CUST109427</td>\n",
       "      <td>2023-04-09</td>\n",
       "      <td>Business Loan</td>\n",
       "      <td>604000.0</td>\n",
       "      <td>12</td>\n",
       "      <td>11.66</td>\n",
       "      <td>Medical Emergency</td>\n",
       "      <td>Retired</td>\n",
       "      <td>34700.0</td>\n",
       "      <td>...</td>\n",
       "      <td>1100.0</td>\n",
       "      <td>3.17</td>\n",
       "      <td>Rented</td>\n",
       "      <td>94/31, Sehgal Zila, Vadodara-380521, Anantapur...</td>\n",
       "      <td>28</td>\n",
       "      <td>Female</td>\n",
       "      <td>3</td>\n",
       "      <td>Approved</td>\n",
       "      <td>0</td>\n",
       "      <td>NaN</td>\n",
       "    </tr>\n",
       "    <tr>\n",
       "      <th>1</th>\n",
       "      <td>91224cec-3544-4bc7-ac15-a9792da54c02</td>\n",
       "      <td>CUST106146</td>\n",
       "      <td>2023-09-23</td>\n",
       "      <td>Car Loan</td>\n",
       "      <td>100000.0</td>\n",
       "      <td>240</td>\n",
       "      <td>13.62</td>\n",
       "      <td>Education</td>\n",
       "      <td>Unemployed</td>\n",
       "      <td>51600.0</td>\n",
       "      <td>...</td>\n",
       "      <td>0.0</td>\n",
       "      <td>0.00</td>\n",
       "      <td>Owned</td>\n",
       "      <td>H.No. 00, Sheth Chowk, Ichalkaranji 006728, Im...</td>\n",
       "      <td>44</td>\n",
       "      <td>Other</td>\n",
       "      <td>3</td>\n",
       "      <td>Approved</td>\n",
       "      <td>0</td>\n",
       "      <td>NaN</td>\n",
       "    </tr>\n",
       "    <tr>\n",
       "      <th>2</th>\n",
       "      <td>4efcd02d-4a03-4ab7-9bd1-0ff430493d0c</td>\n",
       "      <td>CUST100674</td>\n",
       "      <td>2023-05-22</td>\n",
       "      <td>Education Loan</td>\n",
       "      <td>431000.0</td>\n",
       "      <td>60</td>\n",
       "      <td>11.40</td>\n",
       "      <td>Medical Emergency</td>\n",
       "      <td>Self-Employed</td>\n",
       "      <td>14800.0</td>\n",
       "      <td>...</td>\n",
       "      <td>4600.0</td>\n",
       "      <td>31.08</td>\n",
       "      <td>Rented</td>\n",
       "      <td>H.No. 81, Dutta Path, Kozhikode-340301, Tadepa...</td>\n",
       "      <td>56</td>\n",
       "      <td>Other</td>\n",
       "      <td>4</td>\n",
       "      <td>Approved</td>\n",
       "      <td>0</td>\n",
       "      <td>NaN</td>\n",
       "    </tr>\n",
       "    <tr>\n",
       "      <th>3</th>\n",
       "      <td>a61337d4-ba04-4a68-b492-2cb8266e6ed7</td>\n",
       "      <td>CUST106466</td>\n",
       "      <td>2024-07-09</td>\n",
       "      <td>Car Loan</td>\n",
       "      <td>324000.0</td>\n",
       "      <td>120</td>\n",
       "      <td>10.36</td>\n",
       "      <td>Debt Consolidation</td>\n",
       "      <td>Self-Employed</td>\n",
       "      <td>28800.0</td>\n",
       "      <td>...</td>\n",
       "      <td>4000.0</td>\n",
       "      <td>13.89</td>\n",
       "      <td>Rented</td>\n",
       "      <td>H.No. 022, Rege Road, Tiruvottiyur-927857, Aur...</td>\n",
       "      <td>27</td>\n",
       "      <td>Other</td>\n",
       "      <td>4</td>\n",
       "      <td>Declined</td>\n",
       "      <td>0</td>\n",
       "      <td>NaN</td>\n",
       "    </tr>\n",
       "    <tr>\n",
       "      <th>4</th>\n",
       "      <td>a8d1639e-170b-41b2-826a-55c7dae38d16</td>\n",
       "      <td>CUST112319</td>\n",
       "      <td>2023-11-20</td>\n",
       "      <td>Personal Loan</td>\n",
       "      <td>100000.0</td>\n",
       "      <td>36</td>\n",
       "      <td>14.14</td>\n",
       "      <td>Business Expansion</td>\n",
       "      <td>Salaried</td>\n",
       "      <td>43900.0</td>\n",
       "      <td>...</td>\n",
       "      <td>1100.0</td>\n",
       "      <td>2.51</td>\n",
       "      <td>Rented</td>\n",
       "      <td>85/24, Bali Zila, Sambalpur 922071, Tumkur, Ke...</td>\n",
       "      <td>50</td>\n",
       "      <td>Other</td>\n",
       "      <td>0</td>\n",
       "      <td>Declined</td>\n",
       "      <td>0</td>\n",
       "      <td>NaN</td>\n",
       "    </tr>\n",
       "  </tbody>\n",
       "</table>\n",
       "<p>5 rows × 21 columns</p>\n",
       "</div>"
      ],
      "text/plain": [
       "                         application_id customer_id application_date  \\\n",
       "0  c8bf0bea-70e6-4870-9125-41b8210c527f  CUST109427       2023-04-09   \n",
       "1  91224cec-3544-4bc7-ac15-a9792da54c02  CUST106146       2023-09-23   \n",
       "2  4efcd02d-4a03-4ab7-9bd1-0ff430493d0c  CUST100674       2023-05-22   \n",
       "3  a61337d4-ba04-4a68-b492-2cb8266e6ed7  CUST106466       2024-07-09   \n",
       "4  a8d1639e-170b-41b2-826a-55c7dae38d16  CUST112319       2023-11-20   \n",
       "\n",
       "        loan_type  loan_amount_requested  loan_tenure_months  \\\n",
       "0   Business Loan               604000.0                  12   \n",
       "1        Car Loan               100000.0                 240   \n",
       "2  Education Loan               431000.0                  60   \n",
       "3        Car Loan               324000.0                 120   \n",
       "4   Personal Loan               100000.0                  36   \n",
       "\n",
       "   interest_rate_offered     purpose_of_loan employment_status  \\\n",
       "0                  11.66   Medical Emergency           Retired   \n",
       "1                  13.62           Education        Unemployed   \n",
       "2                  11.40   Medical Emergency     Self-Employed   \n",
       "3                  10.36  Debt Consolidation     Self-Employed   \n",
       "4                  14.14  Business Expansion          Salaried   \n",
       "\n",
       "   monthly_income  ...  existing_emis_monthly  debt_to_income_ratio  \\\n",
       "0         34700.0  ...                 1100.0                  3.17   \n",
       "1         51600.0  ...                    0.0                  0.00   \n",
       "2         14800.0  ...                 4600.0                 31.08   \n",
       "3         28800.0  ...                 4000.0                 13.89   \n",
       "4         43900.0  ...                 1100.0                  2.51   \n",
       "\n",
       "   property_ownership_status  \\\n",
       "0                     Rented   \n",
       "1                      Owned   \n",
       "2                     Rented   \n",
       "3                     Rented   \n",
       "4                     Rented   \n",
       "\n",
       "                                 residential_address applicant_age  gender  \\\n",
       "0  94/31, Sehgal Zila, Vadodara-380521, Anantapur...            28  Female   \n",
       "1  H.No. 00, Sheth Chowk, Ichalkaranji 006728, Im...            44   Other   \n",
       "2  H.No. 81, Dutta Path, Kozhikode-340301, Tadepa...            56   Other   \n",
       "3  H.No. 022, Rege Road, Tiruvottiyur-927857, Aur...            27   Other   \n",
       "4  85/24, Bali Zila, Sambalpur 922071, Tumkur, Ke...            50   Other   \n",
       "\n",
       "  number_of_dependents  loan_status fraud_flag  fraud_type  \n",
       "0                    3     Approved          0         NaN  \n",
       "1                    3     Approved          0         NaN  \n",
       "2                    4     Approved          0         NaN  \n",
       "3                    4     Declined          0         NaN  \n",
       "4                    0     Declined          0         NaN  \n",
       "\n",
       "[5 rows x 21 columns]"
      ]
     },
     "execution_count": 29,
     "metadata": {},
     "output_type": "execute_result"
    }
   ],
   "source": [
    "import pandas as pd\n",
    "import numpy as np\n",
    "\n",
    "url = \"https://github.com/svgoudar/datasets/blob/main/loan_applications.csv?raw=true\"\n",
    "df = pd.read_csv(url)\n",
    "df.head()\n"
   ]
  },
  {
   "cell_type": "markdown",
   "id": "906211dd",
   "metadata": {},
   "source": [
    "\n",
    "\n",
    "---\n",
    "\n",
    "### Numeric / Arithmetic Transformations\n",
    "\n"
   ]
  },
  {
   "cell_type": "code",
   "execution_count": 30,
   "id": "3c318b12",
   "metadata": {},
   "outputs": [
    {
     "data": {
      "text/plain": [
       "Index(['application_id', 'customer_id', 'application_date', 'loan_type',\n",
       "       'loan_amount_requested', 'loan_tenure_months', 'interest_rate_offered',\n",
       "       'purpose_of_loan', 'employment_status', 'monthly_income', 'cibil_score',\n",
       "       'existing_emis_monthly', 'debt_to_income_ratio',\n",
       "       'property_ownership_status', 'residential_address', 'applicant_age',\n",
       "       'gender', 'number_of_dependents', 'loan_status', 'fraud_flag',\n",
       "       'fraud_type'],\n",
       "      dtype='object')"
      ]
     },
     "execution_count": 30,
     "metadata": {},
     "output_type": "execute_result"
    }
   ],
   "source": [
    "df.columns"
   ]
  },
  {
   "cell_type": "code",
   "execution_count": 31,
   "id": "695d2687",
   "metadata": {},
   "outputs": [
    {
     "data": {
      "application/vnd.microsoft.datawrangler.viewer.v0+json": {
       "columns": [
        {
         "name": "index",
         "rawType": "int64",
         "type": "integer"
        },
        {
         "name": "loan_amount",
         "rawType": "float64",
         "type": "float"
        },
        {
         "name": "loan_plus_income",
         "rawType": "float64",
         "type": "float"
        },
        {
         "name": "loan_squared",
         "rawType": "float64",
         "type": "float"
        },
        {
         "name": "loan_abs",
         "rawType": "float64",
         "type": "float"
        },
        {
         "name": "loan_clipped",
         "rawType": "float64",
         "type": "float"
        },
        {
         "name": "loan_cumsum",
         "rawType": "float64",
         "type": "float"
        },
        {
         "name": "loan_diff",
         "rawType": "float64",
         "type": "float"
        },
        {
         "name": "loan_log",
         "rawType": "float64",
         "type": "float"
        }
       ],
       "ref": "4f9f34ce-3285-4def-8598-ef9e477f1fac",
       "rows": [
        [
         "0",
         "604000.0",
         "638700.0",
         "364816000000.0",
         "604000.0",
         "50000.0",
         "604000.0",
         null,
         "13.311331132544721"
        ],
        [
         "1",
         "100000.0",
         "151600.0",
         "10000000000.0",
         "100000.0",
         "50000.0",
         "704000.0",
         "-504000.0",
         "11.51293546492023"
        ],
        [
         "2",
         "431000.0",
         "445800.0",
         "185761000000.0",
         "431000.0",
         "50000.0",
         "1135000.0",
         "331000.0",
         "12.973865689268807"
        ],
        [
         "3",
         "324000.0",
         "352800.0",
         "104976000000.0",
         "324000.0",
         "50000.0",
         "1459000.0",
         "-107000.0",
         "12.688501881189456"
        ],
        [
         "4",
         "100000.0",
         "143900.0",
         "10000000000.0",
         "100000.0",
         "50000.0",
         "1559000.0",
         "-224000.0",
         "11.51293546492023"
        ]
       ],
       "shape": {
        "columns": 8,
        "rows": 5
       }
      },
      "text/html": [
       "<div>\n",
       "<style scoped>\n",
       "    .dataframe tbody tr th:only-of-type {\n",
       "        vertical-align: middle;\n",
       "    }\n",
       "\n",
       "    .dataframe tbody tr th {\n",
       "        vertical-align: top;\n",
       "    }\n",
       "\n",
       "    .dataframe thead th {\n",
       "        text-align: right;\n",
       "    }\n",
       "</style>\n",
       "<table border=\"1\" class=\"dataframe\">\n",
       "  <thead>\n",
       "    <tr style=\"text-align: right;\">\n",
       "      <th></th>\n",
       "      <th>loan_amount</th>\n",
       "      <th>loan_plus_income</th>\n",
       "      <th>loan_squared</th>\n",
       "      <th>loan_abs</th>\n",
       "      <th>loan_clipped</th>\n",
       "      <th>loan_cumsum</th>\n",
       "      <th>loan_diff</th>\n",
       "      <th>loan_log</th>\n",
       "    </tr>\n",
       "  </thead>\n",
       "  <tbody>\n",
       "    <tr>\n",
       "      <th>0</th>\n",
       "      <td>604000.0</td>\n",
       "      <td>638700.0</td>\n",
       "      <td>3.648160e+11</td>\n",
       "      <td>604000.0</td>\n",
       "      <td>50000.0</td>\n",
       "      <td>604000.0</td>\n",
       "      <td>NaN</td>\n",
       "      <td>13.311331</td>\n",
       "    </tr>\n",
       "    <tr>\n",
       "      <th>1</th>\n",
       "      <td>100000.0</td>\n",
       "      <td>151600.0</td>\n",
       "      <td>1.000000e+10</td>\n",
       "      <td>100000.0</td>\n",
       "      <td>50000.0</td>\n",
       "      <td>704000.0</td>\n",
       "      <td>-504000.0</td>\n",
       "      <td>11.512935</td>\n",
       "    </tr>\n",
       "    <tr>\n",
       "      <th>2</th>\n",
       "      <td>431000.0</td>\n",
       "      <td>445800.0</td>\n",
       "      <td>1.857610e+11</td>\n",
       "      <td>431000.0</td>\n",
       "      <td>50000.0</td>\n",
       "      <td>1135000.0</td>\n",
       "      <td>331000.0</td>\n",
       "      <td>12.973866</td>\n",
       "    </tr>\n",
       "    <tr>\n",
       "      <th>3</th>\n",
       "      <td>324000.0</td>\n",
       "      <td>352800.0</td>\n",
       "      <td>1.049760e+11</td>\n",
       "      <td>324000.0</td>\n",
       "      <td>50000.0</td>\n",
       "      <td>1459000.0</td>\n",
       "      <td>-107000.0</td>\n",
       "      <td>12.688502</td>\n",
       "    </tr>\n",
       "    <tr>\n",
       "      <th>4</th>\n",
       "      <td>100000.0</td>\n",
       "      <td>143900.0</td>\n",
       "      <td>1.000000e+10</td>\n",
       "      <td>100000.0</td>\n",
       "      <td>50000.0</td>\n",
       "      <td>1559000.0</td>\n",
       "      <td>-224000.0</td>\n",
       "      <td>11.512935</td>\n",
       "    </tr>\n",
       "  </tbody>\n",
       "</table>\n",
       "</div>"
      ],
      "text/plain": [
       "   loan_amount  loan_plus_income  loan_squared  loan_abs  loan_clipped  \\\n",
       "0     604000.0          638700.0  3.648160e+11  604000.0       50000.0   \n",
       "1     100000.0          151600.0  1.000000e+10  100000.0       50000.0   \n",
       "2     431000.0          445800.0  1.857610e+11  431000.0       50000.0   \n",
       "3     324000.0          352800.0  1.049760e+11  324000.0       50000.0   \n",
       "4     100000.0          143900.0  1.000000e+10  100000.0       50000.0   \n",
       "\n",
       "   loan_cumsum  loan_diff   loan_log  \n",
       "0     604000.0        NaN  13.311331  \n",
       "1     704000.0  -504000.0  11.512935  \n",
       "2    1135000.0   331000.0  12.973866  \n",
       "3    1459000.0  -107000.0  12.688502  \n",
       "4    1559000.0  -224000.0  11.512935  "
      ]
     },
     "execution_count": 31,
     "metadata": {},
     "output_type": "execute_result"
    }
   ],
   "source": [
    "### Create new numeric columns\n",
    "df['loan_amount'] = df['loan_amount_requested']\n",
    "df['income'] = df['monthly_income']\n",
    "df['loan_plus_income'] = df['loan_amount'] + df['income']          # addition\n",
    "df['loan_squared'] = df['loan_amount'] ** 2                        # power\n",
    "df['loan_abs'] = df['loan_amount'].abs()                            # absolute\n",
    "df['loan_clipped'] = df['loan_amount'].clip(0, 50000)              # clip values\n",
    "df['loan_cumsum'] = df['loan_amount'].cumsum()                     # cumulative sum\n",
    "df['loan_diff'] = df['loan_amount'].diff()                          # difference\n",
    "df['loan_log'] = np.log1p(df['loan_amount'])                       # log(1+x)\n",
    "df[['loan_amount','loan_plus_income','loan_squared','loan_abs','loan_clipped','loan_cumsum','loan_diff','loan_log']].head()\n"
   ]
  },
  {
   "cell_type": "markdown",
   "id": "db679a48",
   "metadata": {},
   "source": [
    "\n",
    "\n",
    "---\n",
    "\n",
    "### String / Text Transformations\n"
   ]
  },
  {
   "cell_type": "markdown",
   "id": "384cfd44",
   "metadata": {},
   "source": [
    "\n",
    "\n",
    "\n",
    "### Cleaning / Formatting\n",
    "\n"
   ]
  },
  {
   "cell_type": "code",
   "execution_count": 32,
   "id": "0ca8ed43",
   "metadata": {},
   "outputs": [],
   "source": [
    "# Strip spaces and title-case loan_type\n",
    "df['loan_type_clean'] = df['loan_type'].str.strip().str.title()\n",
    "\n",
    "# Capitalize purpose_of_loan\n",
    "df['purpose_clean'] = df['purpose_of_loan'].str.capitalize()\n",
    "\n",
    "# Uppercase employment_status\n",
    "df['employment_upper'] = df['employment_status'].str.upper()\n"
   ]
  },
  {
   "cell_type": "markdown",
   "id": "e5d48c7e",
   "metadata": {},
   "source": [
    "\n",
    "\n",
    "---\n",
    "\n",
    "### Searching / Matching\n",
    "\n"
   ]
  },
  {
   "cell_type": "code",
   "execution_count": 33,
   "id": "1f694c2d",
   "metadata": {},
   "outputs": [],
   "source": [
    "# Check if 'Loan' is in loan_type\n",
    "df['loan_contains_loan'] = df['loan_type'].str.contains('Loan')\n",
    "\n",
    "# Check if purpose starts with 'Medical'\n",
    "df['purpose_medical'] = df['purpose_of_loan'].str.startswith('Medical')\n",
    "\n",
    "# Count occurrences of 'e' in purpose_of_loan\n",
    "df['e_count'] = df['purpose_of_loan'].str.count('e')\n"
   ]
  },
  {
   "cell_type": "markdown",
   "id": "7bb2f323",
   "metadata": {},
   "source": [
    "\n",
    "\n",
    "---\n",
    "\n",
    "  ### Replacement / Modification"
   ]
  },
  {
   "cell_type": "code",
   "execution_count": 34,
   "id": "0eda3e1c",
   "metadata": {},
   "outputs": [],
   "source": [
    "\n",
    "# Replace spaces with underscores in loan_type\n",
    "df['loan_type_underscore'] = df['loan_type'].str.replace(' ', '_')\n",
    "\n",
    "# Slice first 3 characters of customer_id\n",
    "df['customer_id_short'] = df['customer_id'].str.slice(0,3)\n",
    "\n",
    "# Repeat loan_status twice\n",
    "df['loan_status_repeat'] = df['loan_status'].str.repeat(2)\n"
   ]
  },
  {
   "cell_type": "markdown",
   "id": "aabac03f",
   "metadata": {},
   "source": [
    "\n",
    "\n",
    "---\n",
    "\n",
    "### Splitting / Extracting\n"
   ]
  },
  {
   "cell_type": "code",
   "execution_count": 35,
   "id": "6d043925",
   "metadata": {},
   "outputs": [
    {
     "name": "stderr",
     "output_type": "stream",
     "text": [
      "<>:5: SyntaxWarning: invalid escape sequence '\\d'\n",
      "<>:8: SyntaxWarning: invalid escape sequence '\\d'\n",
      "<>:5: SyntaxWarning: invalid escape sequence '\\d'\n",
      "<>:8: SyntaxWarning: invalid escape sequence '\\d'\n",
      "C:\\Users\\sangouda\\AppData\\Local\\Temp\\ipykernel_15992\\3220266368.py:5: SyntaxWarning: invalid escape sequence '\\d'\n",
      "  df['postal_code'] = df['residential_address'].str.extract('(\\d{6})')\n",
      "C:\\Users\\sangouda\\AppData\\Local\\Temp\\ipykernel_15992\\3220266368.py:8: SyntaxWarning: invalid escape sequence '\\d'\n",
      "  df['all_numbers'] = df['residential_address'].str.findall('\\d+')\n"
     ]
    }
   ],
   "source": [
    "\n",
    "\n",
    "# Get first word of purpose_of_loan\n",
    "df['purpose_first_word'] = df['purpose_of_loan'].str.split(' ').str.get(0)\n",
    "\n",
    "# Extract digits from residential_address\n",
    "df['postal_code'] = df['residential_address'].str.extract('(\\d{6})')\n",
    "\n",
    "# Extract all numbers from address\n",
    "df['all_numbers'] = df['residential_address'].str.findall('\\d+')\n"
   ]
  },
  {
   "cell_type": "markdown",
   "id": "8fdbd9c7",
   "metadata": {},
   "source": [
    "\n",
    "\n",
    "---\n",
    "\n",
    "### Type Checks / Information\n",
    "\n"
   ]
  },
  {
   "cell_type": "code",
   "execution_count": 36,
   "id": "5edba4fc",
   "metadata": {},
   "outputs": [],
   "source": [
    "\n",
    "# Check if customer_id is alphanumeric\n",
    "df['id_is_alnum'] = df['customer_id'].str.isalnum()\n",
    "\n",
    "# Length of application_id\n",
    "df['app_id_length'] = df['application_id'].str.len()\n"
   ]
  },
  {
   "cell_type": "markdown",
   "id": "2a5c6b19",
   "metadata": {},
   "source": [
    "\n",
    "\n",
    "---\n",
    "\n",
    "### Padding / Justification\n",
    "\n"
   ]
  },
  {
   "cell_type": "code",
   "execution_count": 37,
   "id": "12a9f033",
   "metadata": {},
   "outputs": [],
   "source": [
    "\n",
    "# Center loan_type in width 20\n",
    "df['loan_type_centered'] = df['loan_type'].str.center(20,'*')\n",
    "\n",
    "# Zero-fill last 3 characters of customer_id (example)\n",
    "df['customer_id_zfill'] = df['customer_id'].str[-3:].str.zfill(5)\n"
   ]
  },
  {
   "cell_type": "markdown",
   "id": "20d17132",
   "metadata": {},
   "source": [
    "\n",
    "\n",
    "---\n",
    "\n",
    "###  Combining / Joining\n"
   ]
  },
  {
   "cell_type": "code",
   "execution_count": 38,
   "id": "030cdaf1",
   "metadata": {},
   "outputs": [],
   "source": [
    "# Combine first word of purpose and loan_type\n",
    "df['combined'] = df['loan_type'].str.cat(df['loan_status'], sep='_')"
   ]
  },
  {
   "cell_type": "code",
   "execution_count": 39,
   "id": "b12d9589",
   "metadata": {},
   "outputs": [
    {
     "data": {
      "application/vnd.microsoft.datawrangler.viewer.v0+json": {
       "columns": [
        {
         "name": "index",
         "rawType": "int64",
         "type": "integer"
        },
        {
         "name": "combined",
         "rawType": "object",
         "type": "string"
        }
       ],
       "ref": "719cad9a-41de-4338-b9a3-7541d69567c5",
       "rows": [
        [
         "0",
         "Business Loan_Approved"
        ],
        [
         "1",
         "Car Loan_Approved"
        ],
        [
         "2",
         "Education Loan_Approved"
        ],
        [
         "3",
         "Car Loan_Declined"
        ],
        [
         "4",
         "Personal Loan_Declined"
        ],
        [
         "5",
         "Business Loan_Approved"
        ],
        [
         "6",
         "Personal Loan_Approved"
        ],
        [
         "7",
         "Home Loan_Approved"
        ],
        [
         "8",
         "Personal Loan_Approved"
        ],
        [
         "9",
         "Home Loan_Approved"
        ],
        [
         "10",
         "Education Loan_Approved"
        ],
        [
         "11",
         "Home Loan_Approved"
        ],
        [
         "12",
         "Education Loan_Declined"
        ],
        [
         "13",
         "Education Loan_Declined"
        ],
        [
         "14",
         "Education Loan_Approved"
        ],
        [
         "15",
         "Personal Loan_Approved"
        ],
        [
         "16",
         "Education Loan_Declined"
        ],
        [
         "17",
         "Home Loan_Approved"
        ],
        [
         "18",
         "Education Loan_Declined"
        ],
        [
         "19",
         "Personal Loan_Approved"
        ],
        [
         "20",
         "Car Loan_Approved"
        ],
        [
         "21",
         "Car Loan_Approved"
        ],
        [
         "22",
         "Education Loan_Approved"
        ],
        [
         "23",
         "Education Loan_Approved"
        ],
        [
         "24",
         "Education Loan_Approved"
        ],
        [
         "25",
         "Home Loan_Approved"
        ],
        [
         "26",
         "Education Loan_Approved"
        ],
        [
         "27",
         "Car Loan_Approved"
        ],
        [
         "28",
         "Home Loan_Declined"
        ],
        [
         "29",
         "Home Loan_Approved"
        ],
        [
         "30",
         "Personal Loan_Approved"
        ],
        [
         "31",
         "Business Loan_Approved"
        ],
        [
         "32",
         "Personal Loan_Approved"
        ],
        [
         "33",
         "Car Loan_Approved"
        ],
        [
         "34",
         "Personal Loan_Approved"
        ],
        [
         "35",
         "Personal Loan_Approved"
        ],
        [
         "36",
         "Personal Loan_Approved"
        ],
        [
         "37",
         "Home Loan_Declined"
        ],
        [
         "38",
         "Business Loan_Approved"
        ],
        [
         "39",
         "Car Loan_Declined"
        ],
        [
         "40",
         "Personal Loan_Approved"
        ],
        [
         "41",
         "Home Loan_Approved"
        ],
        [
         "42",
         "Education Loan_Approved"
        ],
        [
         "43",
         "Business Loan_Approved"
        ],
        [
         "44",
         "Car Loan_Approved"
        ],
        [
         "45",
         "Home Loan_Approved"
        ],
        [
         "46",
         "Personal Loan_Approved"
        ],
        [
         "47",
         "Personal Loan_Declined"
        ],
        [
         "48",
         "Home Loan_Declined"
        ],
        [
         "49",
         "Home Loan_Approved"
        ]
       ],
       "shape": {
        "columns": 1,
        "rows": 50000
       }
      },
      "text/plain": [
       "0         Business Loan_Approved\n",
       "1              Car Loan_Approved\n",
       "2        Education Loan_Approved\n",
       "3              Car Loan_Declined\n",
       "4         Personal Loan_Declined\n",
       "                  ...           \n",
       "49995    Education Loan_Approved\n",
       "49996    Education Loan_Approved\n",
       "49997          Car Loan_Approved\n",
       "49998     Business Loan_Approved\n",
       "49999         Home Loan_Approved\n",
       "Name: combined, Length: 50000, dtype: object"
      ]
     },
     "execution_count": 39,
     "metadata": {},
     "output_type": "execute_result"
    }
   ],
   "source": [
    "df.combined"
   ]
  },
  {
   "cell_type": "markdown",
   "id": "150812b9",
   "metadata": {},
   "source": [
    "\n",
    "---\n",
    "\n",
    "**Summary Table of Transformations**\n",
    "\n",
    "| Transformation        | Column Example                 | Method                                 |\n",
    "| --------------------- | ------------------------------ | -------------------------------------- |\n",
    "| Strip / Title         | loan\\_type                     | `.str.strip().str.title()`             |\n",
    "| Capitalize            | purpose\\_of\\_loan              | `.str.capitalize()`                    |\n",
    "| Uppercase             | employment\\_status             | `.str.upper()`                         |\n",
    "| Contains / Startswith | loan\\_type / purpose\\_of\\_loan | `.str.contains()`, `.str.startswith()` |\n",
    "| Count                 | purpose\\_of\\_loan              | `.str.count()`                         |\n",
    "| Replace               | loan\\_type                     | `.str.replace()`                       |\n",
    "| Slice                 | customer\\_id                   | `.str.slice()`                         |\n",
    "| Repeat                | loan\\_status                   | `.str.repeat()`                        |\n",
    "| Split / Get           | purpose\\_of\\_loan              | `.str.split().str.get(0)`              |\n",
    "| Extract / Findall     | residential\\_address           | `.str.extract()`, `.str.findall()`     |\n",
    "| Type check            | customer\\_id                   | `.str.isalnum()`                       |\n",
    "| Length                | application\\_id                | `.str.len()`                           |\n",
    "| Center / Zfill        | loan\\_type / customer\\_id      | `.str.center()`, `.str.zfill()`        |\n",
    "| Concatenate           | purpose + loan\\_type           | `.str.cat()`                           |\n",
    "\n"
   ]
  },
  {
   "cell_type": "markdown",
   "id": "3650e8c6",
   "metadata": {},
   "source": [
    "\n",
    "\n",
    "---\n",
    "\n",
    "### Categorical Transformations\n"
   ]
  },
  {
   "cell_type": "code",
   "execution_count": 40,
   "id": "74d39ddb",
   "metadata": {},
   "outputs": [
    {
     "data": {
      "application/vnd.microsoft.datawrangler.viewer.v0+json": {
       "columns": [
        {
         "name": "index",
         "rawType": "int64",
         "type": "integer"
        },
        {
         "name": "status",
         "rawType": "category",
         "type": "unknown"
        },
        {
         "name": "status_code",
         "rawType": "int8",
         "type": "integer"
        },
        {
         "name": "status_Approved",
         "rawType": "bool",
         "type": "boolean"
        },
        {
         "name": "status_Declined",
         "rawType": "bool",
         "type": "boolean"
        },
        {
         "name": "status_Fraudulent - Detected",
         "rawType": "bool",
         "type": "boolean"
        },
        {
         "name": "status_Fraudulent - Undetected",
         "rawType": "bool",
         "type": "boolean"
        }
       ],
       "ref": "c343b908-02ea-4d63-9eec-ba68ef845205",
       "rows": [
        [
         "0",
         "Approved",
         "0",
         "True",
         "False",
         "False",
         "False"
        ],
        [
         "1",
         "Approved",
         "0",
         "True",
         "False",
         "False",
         "False"
        ],
        [
         "2",
         "Approved",
         "0",
         "True",
         "False",
         "False",
         "False"
        ],
        [
         "3",
         "Declined",
         "1",
         "False",
         "True",
         "False",
         "False"
        ],
        [
         "4",
         "Declined",
         "1",
         "False",
         "True",
         "False",
         "False"
        ]
       ],
       "shape": {
        "columns": 6,
        "rows": 5
       }
      },
      "text/html": [
       "<div>\n",
       "<style scoped>\n",
       "    .dataframe tbody tr th:only-of-type {\n",
       "        vertical-align: middle;\n",
       "    }\n",
       "\n",
       "    .dataframe tbody tr th {\n",
       "        vertical-align: top;\n",
       "    }\n",
       "\n",
       "    .dataframe thead th {\n",
       "        text-align: right;\n",
       "    }\n",
       "</style>\n",
       "<table border=\"1\" class=\"dataframe\">\n",
       "  <thead>\n",
       "    <tr style=\"text-align: right;\">\n",
       "      <th></th>\n",
       "      <th>status</th>\n",
       "      <th>status_code</th>\n",
       "      <th>status_Approved</th>\n",
       "      <th>status_Declined</th>\n",
       "      <th>status_Fraudulent - Detected</th>\n",
       "      <th>status_Fraudulent - Undetected</th>\n",
       "    </tr>\n",
       "  </thead>\n",
       "  <tbody>\n",
       "    <tr>\n",
       "      <th>0</th>\n",
       "      <td>Approved</td>\n",
       "      <td>0</td>\n",
       "      <td>True</td>\n",
       "      <td>False</td>\n",
       "      <td>False</td>\n",
       "      <td>False</td>\n",
       "    </tr>\n",
       "    <tr>\n",
       "      <th>1</th>\n",
       "      <td>Approved</td>\n",
       "      <td>0</td>\n",
       "      <td>True</td>\n",
       "      <td>False</td>\n",
       "      <td>False</td>\n",
       "      <td>False</td>\n",
       "    </tr>\n",
       "    <tr>\n",
       "      <th>2</th>\n",
       "      <td>Approved</td>\n",
       "      <td>0</td>\n",
       "      <td>True</td>\n",
       "      <td>False</td>\n",
       "      <td>False</td>\n",
       "      <td>False</td>\n",
       "    </tr>\n",
       "    <tr>\n",
       "      <th>3</th>\n",
       "      <td>Declined</td>\n",
       "      <td>1</td>\n",
       "      <td>False</td>\n",
       "      <td>True</td>\n",
       "      <td>False</td>\n",
       "      <td>False</td>\n",
       "    </tr>\n",
       "    <tr>\n",
       "      <th>4</th>\n",
       "      <td>Declined</td>\n",
       "      <td>1</td>\n",
       "      <td>False</td>\n",
       "      <td>True</td>\n",
       "      <td>False</td>\n",
       "      <td>False</td>\n",
       "    </tr>\n",
       "  </tbody>\n",
       "</table>\n",
       "</div>"
      ],
      "text/plain": [
       "     status  status_code  status_Approved  status_Declined  \\\n",
       "0  Approved            0             True            False   \n",
       "1  Approved            0             True            False   \n",
       "2  Approved            0             True            False   \n",
       "3  Declined            1            False             True   \n",
       "4  Declined            1            False             True   \n",
       "\n",
       "   status_Fraudulent - Detected  status_Fraudulent - Undetected  \n",
       "0                         False                           False  \n",
       "1                         False                           False  \n",
       "2                         False                           False  \n",
       "3                         False                           False  \n",
       "4                         False                           False  "
      ]
     },
     "execution_count": 40,
     "metadata": {},
     "output_type": "execute_result"
    }
   ],
   "source": [
    "# Convert to category and get codes\n",
    "df['status'] = df['loan_status']\n",
    "df['status'] = df['status'].astype('category')\n",
    "df['status_code'] = df['status'].cat.codes\n",
    "\n",
    "# One-hot encoding\n",
    "df_status_dummies = pd.get_dummies(df['status'], prefix='status')\n",
    "df[['status','status_code']].join(df_status_dummies).head()\n"
   ]
  },
  {
   "cell_type": "markdown",
   "id": "a03bca21",
   "metadata": {},
   "source": [
    "\n",
    "\n",
    "---\n",
    "\n",
    "### Date / Time Transformations\n",
    "\n",
    "*(Assuming `application_date` column exists)*"
   ]
  },
  {
   "cell_type": "code",
   "execution_count": 41,
   "id": "09dfb375",
   "metadata": {},
   "outputs": [
    {
     "data": {
      "application/vnd.microsoft.datawrangler.viewer.v0+json": {
       "columns": [
        {
         "name": "index",
         "rawType": "int64",
         "type": "integer"
        },
        {
         "name": "application_date",
         "rawType": "datetime64[ns]",
         "type": "datetime"
        },
        {
         "name": "year",
         "rawType": "int32",
         "type": "integer"
        },
        {
         "name": "month",
         "rawType": "int32",
         "type": "integer"
        },
        {
         "name": "day",
         "rawType": "int32",
         "type": "integer"
        }
       ],
       "ref": "20008eba-8885-4bec-93d0-ae60db8e3c42",
       "rows": [
        [
         "0",
         "2023-04-09 00:00:00",
         "2023",
         "4",
         "9"
        ],
        [
         "1",
         "2023-09-23 00:00:00",
         "2023",
         "9",
         "23"
        ],
        [
         "2",
         "2023-05-22 00:00:00",
         "2023",
         "5",
         "22"
        ],
        [
         "3",
         "2024-07-09 00:00:00",
         "2024",
         "7",
         "9"
        ],
        [
         "4",
         "2023-11-20 00:00:00",
         "2023",
         "11",
         "20"
        ]
       ],
       "shape": {
        "columns": 4,
        "rows": 5
       }
      },
      "text/html": [
       "<div>\n",
       "<style scoped>\n",
       "    .dataframe tbody tr th:only-of-type {\n",
       "        vertical-align: middle;\n",
       "    }\n",
       "\n",
       "    .dataframe tbody tr th {\n",
       "        vertical-align: top;\n",
       "    }\n",
       "\n",
       "    .dataframe thead th {\n",
       "        text-align: right;\n",
       "    }\n",
       "</style>\n",
       "<table border=\"1\" class=\"dataframe\">\n",
       "  <thead>\n",
       "    <tr style=\"text-align: right;\">\n",
       "      <th></th>\n",
       "      <th>application_date</th>\n",
       "      <th>year</th>\n",
       "      <th>month</th>\n",
       "      <th>day</th>\n",
       "    </tr>\n",
       "  </thead>\n",
       "  <tbody>\n",
       "    <tr>\n",
       "      <th>0</th>\n",
       "      <td>2023-04-09</td>\n",
       "      <td>2023</td>\n",
       "      <td>4</td>\n",
       "      <td>9</td>\n",
       "    </tr>\n",
       "    <tr>\n",
       "      <th>1</th>\n",
       "      <td>2023-09-23</td>\n",
       "      <td>2023</td>\n",
       "      <td>9</td>\n",
       "      <td>23</td>\n",
       "    </tr>\n",
       "    <tr>\n",
       "      <th>2</th>\n",
       "      <td>2023-05-22</td>\n",
       "      <td>2023</td>\n",
       "      <td>5</td>\n",
       "      <td>22</td>\n",
       "    </tr>\n",
       "    <tr>\n",
       "      <th>3</th>\n",
       "      <td>2024-07-09</td>\n",
       "      <td>2024</td>\n",
       "      <td>7</td>\n",
       "      <td>9</td>\n",
       "    </tr>\n",
       "    <tr>\n",
       "      <th>4</th>\n",
       "      <td>2023-11-20</td>\n",
       "      <td>2023</td>\n",
       "      <td>11</td>\n",
       "      <td>20</td>\n",
       "    </tr>\n",
       "  </tbody>\n",
       "</table>\n",
       "</div>"
      ],
      "text/plain": [
       "  application_date  year  month  day\n",
       "0       2023-04-09  2023      4    9\n",
       "1       2023-09-23  2023      9   23\n",
       "2       2023-05-22  2023      5   22\n",
       "3       2024-07-09  2024      7    9\n",
       "4       2023-11-20  2023     11   20"
      ]
     },
     "execution_count": 41,
     "metadata": {},
     "output_type": "execute_result"
    }
   ],
   "source": [
    "df['application_date'] = pd.to_datetime(df['application_date'], errors='coerce')\n",
    "df['year'] = df['application_date'].dt.year\n",
    "df['month'] = df['application_date'].dt.month\n",
    "df['day'] = df['application_date'].dt.day\n",
    "\n",
    "df[['application_date','year','month','day']].head()\n"
   ]
  },
  {
   "cell_type": "markdown",
   "id": "c07fb0b7",
   "metadata": {},
   "source": [
    "\n",
    "\n",
    "---\n",
    "\n",
    "### Element-wise / Column-wise Transformations\n"
   ]
  },
  {
   "cell_type": "code",
   "execution_count": 42,
   "id": "1cf9ed30",
   "metadata": {},
   "outputs": [
    {
     "name": "stderr",
     "output_type": "stream",
     "text": [
      "C:\\Users\\sangouda\\AppData\\Local\\Temp\\ipykernel_15992\\1770321388.py:8: FutureWarning: DataFrame.applymap has been deprecated. Use DataFrame.map instead.\n",
      "  df[['loan_amount','monthly_income']].applymap(lambda x: x**2)\n"
     ]
    },
    {
     "data": {
      "application/vnd.microsoft.datawrangler.viewer.v0+json": {
       "columns": [
        {
         "name": "index",
         "rawType": "int64",
         "type": "integer"
        },
        {
         "name": "loan_amount",
         "rawType": "float64",
         "type": "float"
        },
        {
         "name": "monthly_income",
         "rawType": "float64",
         "type": "float"
        }
       ],
       "ref": "b9e8d2db-d9d4-4852-bb85-9c0c12ab234a",
       "rows": [
        [
         "0",
         "364816000000.0",
         "1204090000.0"
        ],
        [
         "1",
         "10000000000.0",
         "2662560000.0"
        ],
        [
         "2",
         "185761000000.0",
         "219040000.0"
        ],
        [
         "3",
         "104976000000.0",
         "829440000.0"
        ],
        [
         "4",
         "10000000000.0",
         "1927210000.0"
        ],
        [
         "5",
         "1354896000000.0",
         "5285290000.0"
        ],
        [
         "6",
         "48400000000.0",
         "2237290000.0"
        ],
        [
         "7",
         "225625000000.0",
         "1806250000.0"
        ],
        [
         "8",
         "11236000000.0",
         "1624090000.0"
        ],
        [
         "9",
         "589824000000.0",
         "3576040000.0"
        ],
        [
         "10",
         "156025000000.0",
         "102010000.0"
        ],
        [
         "11",
         "65536000000.0",
         "7621290000.0"
        ],
        [
         "12",
         "555025000000.0",
         "1225000000.0"
        ],
        [
         "13",
         "10000000000.0",
         "5685160000.0"
        ],
        [
         "14",
         "543169000000.0",
         "100000000.0"
        ],
        [
         "15",
         "403225000000.0",
         "2420640000.0"
        ],
        [
         "16",
         "10000000000.0",
         "1383840000.0"
        ],
        [
         "17",
         "292681000000.0",
         "6225210000.0"
        ],
        [
         "18",
         "276676000000.0",
         "1672810000.0"
        ],
        [
         "19",
         "806404000000.0",
         "1632160000.0"
        ],
        [
         "20",
         "338724000000.0",
         "1857610000.0"
        ],
        [
         "21",
         "1077444000000.0",
         "7447690000.0"
        ],
        [
         "22",
         "197136000000.0",
         "2550250000.0"
        ],
        [
         "23",
         "10816000000.0",
         "3445690000.0"
        ],
        [
         "24",
         "44100000000.0",
         "9920160000.0"
        ],
        [
         "25",
         "10000000000.0",
         "1288810000.0"
        ],
        [
         "26",
         "112896000000.0",
         "2256250000.0"
        ],
        [
         "27",
         "765625000000.0",
         "1162810000.0"
        ],
        [
         "28",
         "131769000000.0",
         "100000000.0"
        ],
        [
         "29",
         "350464000000.0",
         "6368040000.0"
        ],
        [
         "30",
         "63504000000.0",
         "400000000.0"
        ],
        [
         "31",
         "677329000000.0",
         "784000000.0"
        ],
        [
         "32",
         "857476000000.0",
         "5126560000.0"
        ],
        [
         "33",
         "139876000000.0",
         "1176490000.0"
        ],
        [
         "34",
         "355216000000.0",
         "12791610000.0"
        ],
        [
         "35",
         "304704000000.0",
         "275560000.0"
        ],
        [
         "36",
         "498436000000.0",
         "1142440000.0"
        ],
        [
         "37",
         "259081000000.0",
         "100000000.0"
        ],
        [
         "38",
         "829921000000.0",
         "6756840000.0"
        ],
        [
         "39",
         "93636000000.0",
         "1560250000.0"
        ],
        [
         "40",
         "364816000000.0",
         "4356000000.0"
        ],
        [
         "41",
         "158404000000.0",
         "2992090000.0"
        ],
        [
         "42",
         "268324000000.0",
         "3294760000.0"
        ],
        [
         "43",
         "211600000000.0",
         "5625000000.0"
        ],
        [
         "44",
         "215296000000.0",
         "462250000.0"
        ],
        [
         "45",
         "10000000000.0",
         "9623610000.0"
        ],
        [
         "46",
         "298116000000.0",
         "100000000.0"
        ],
        [
         "47",
         "58564000000.0",
         "153760000.0"
        ],
        [
         "48",
         "182329000000.0",
         "4802490000.0"
        ],
        [
         "49",
         "304704000000.0",
         "139240000.0"
        ]
       ],
       "shape": {
        "columns": 2,
        "rows": 50000
       }
      },
      "text/html": [
       "<div>\n",
       "<style scoped>\n",
       "    .dataframe tbody tr th:only-of-type {\n",
       "        vertical-align: middle;\n",
       "    }\n",
       "\n",
       "    .dataframe tbody tr th {\n",
       "        vertical-align: top;\n",
       "    }\n",
       "\n",
       "    .dataframe thead th {\n",
       "        text-align: right;\n",
       "    }\n",
       "</style>\n",
       "<table border=\"1\" class=\"dataframe\">\n",
       "  <thead>\n",
       "    <tr style=\"text-align: right;\">\n",
       "      <th></th>\n",
       "      <th>loan_amount</th>\n",
       "      <th>monthly_income</th>\n",
       "    </tr>\n",
       "  </thead>\n",
       "  <tbody>\n",
       "    <tr>\n",
       "      <th>0</th>\n",
       "      <td>3.648160e+11</td>\n",
       "      <td>1.204090e+09</td>\n",
       "    </tr>\n",
       "    <tr>\n",
       "      <th>1</th>\n",
       "      <td>1.000000e+10</td>\n",
       "      <td>2.662560e+09</td>\n",
       "    </tr>\n",
       "    <tr>\n",
       "      <th>2</th>\n",
       "      <td>1.857610e+11</td>\n",
       "      <td>2.190400e+08</td>\n",
       "    </tr>\n",
       "    <tr>\n",
       "      <th>3</th>\n",
       "      <td>1.049760e+11</td>\n",
       "      <td>8.294400e+08</td>\n",
       "    </tr>\n",
       "    <tr>\n",
       "      <th>4</th>\n",
       "      <td>1.000000e+10</td>\n",
       "      <td>1.927210e+09</td>\n",
       "    </tr>\n",
       "    <tr>\n",
       "      <th>...</th>\n",
       "      <td>...</td>\n",
       "      <td>...</td>\n",
       "    </tr>\n",
       "    <tr>\n",
       "      <th>49995</th>\n",
       "      <td>1.451610e+11</td>\n",
       "      <td>2.420640e+09</td>\n",
       "    </tr>\n",
       "    <tr>\n",
       "      <th>49996</th>\n",
       "      <td>5.416960e+11</td>\n",
       "      <td>8.179600e+08</td>\n",
       "    </tr>\n",
       "    <tr>\n",
       "      <th>49997</th>\n",
       "      <td>1.900960e+11</td>\n",
       "      <td>1.764000e+09</td>\n",
       "    </tr>\n",
       "    <tr>\n",
       "      <th>49998</th>\n",
       "      <td>6.839290e+11</td>\n",
       "      <td>2.180890e+09</td>\n",
       "    </tr>\n",
       "    <tr>\n",
       "      <th>49999</th>\n",
       "      <td>1.000000e+10</td>\n",
       "      <td>6.988960e+09</td>\n",
       "    </tr>\n",
       "  </tbody>\n",
       "</table>\n",
       "<p>50000 rows × 2 columns</p>\n",
       "</div>"
      ],
      "text/plain": [
       "        loan_amount  monthly_income\n",
       "0      3.648160e+11    1.204090e+09\n",
       "1      1.000000e+10    2.662560e+09\n",
       "2      1.857610e+11    2.190400e+08\n",
       "3      1.049760e+11    8.294400e+08\n",
       "4      1.000000e+10    1.927210e+09\n",
       "...             ...             ...\n",
       "49995  1.451610e+11    2.420640e+09\n",
       "49996  5.416960e+11    8.179600e+08\n",
       "49997  1.900960e+11    1.764000e+09\n",
       "49998  6.839290e+11    2.180890e+09\n",
       "49999  1.000000e+10    6.988960e+09\n",
       "\n",
       "[50000 rows x 2 columns]"
      ]
     },
     "execution_count": 42,
     "metadata": {},
     "output_type": "execute_result"
    }
   ],
   "source": [
    "# map on Series (element-wise)\n",
    "df['loan_scaled'] = df['loan_amount'].map(lambda x: x/1000)\n",
    "\n",
    "# apply on column(s) (column-wise)\n",
    "df[['loan_amount','monthly_income']].apply(np.log1p)\n",
    "\n",
    "# applymap on entire DataFrame (element-wise)\n",
    "df[['loan_amount','monthly_income']].applymap(lambda x: x**2)\n"
   ]
  },
  {
   "cell_type": "markdown",
   "id": "daa9aa97",
   "metadata": {},
   "source": [
    "\n",
    "\n",
    "---\n",
    "\n",
    "### Group-wise Transformations\n"
   ]
  },
  {
   "cell_type": "code",
   "execution_count": 43,
   "id": "134da8fe",
   "metadata": {},
   "outputs": [
    {
     "name": "stderr",
     "output_type": "stream",
     "text": [
      "C:\\Users\\sangouda\\AppData\\Local\\Temp\\ipykernel_15992\\3442481362.py:2: FutureWarning: The default of observed=False is deprecated and will be changed to True in a future version of pandas. Pass observed=False to retain current behavior or observed=True to adopt the future default and silence this warning.\n",
      "  df['loan_mean_by_status'] = df.groupby('status')['loan_amount'].transform('mean')\n",
      "C:\\Users\\sangouda\\AppData\\Local\\Temp\\ipykernel_15992\\3442481362.py:5: FutureWarning: The default of observed=False is deprecated and will be changed to True in a future version of pandas. Pass observed=False to retain current behavior or observed=True to adopt the future default and silence this warning.\n",
      "  df.groupby('status')['loan_amount'].agg(['mean','median','max','min'])\n"
     ]
    },
    {
     "data": {
      "application/vnd.microsoft.datawrangler.viewer.v0+json": {
       "columns": [
        {
         "name": "status",
         "rawType": "category",
         "type": "unknown"
        },
        {
         "name": "mean",
         "rawType": "float64",
         "type": "float"
        },
        {
         "name": "median",
         "rawType": "float64",
         "type": "float"
        },
        {
         "name": "max",
         "rawType": "float64",
         "type": "float"
        },
        {
         "name": "min",
         "rawType": "float64",
         "type": "float"
        }
       ],
       "ref": "3f4c8044-9533-4db9-ac4d-68f50f35306f",
       "rows": [
        [
         "Approved",
         "514625.72770412406",
         "504000.0",
         "1618000.0",
         "100000.0"
        ],
        [
         "Declined",
         "511739.0014829461",
         "500000.0",
         "1485000.0",
         "100000.0"
        ],
        [
         "Fraudulent - Detected",
         "509380.073800738",
         "492500.0",
         "1521000.0",
         "100000.0"
        ],
        [
         "Fraudulent - Undetected",
         "495138.4297520661",
         "487000.0",
         "1336000.0",
         "100000.0"
        ]
       ],
       "shape": {
        "columns": 4,
        "rows": 4
       }
      },
      "text/html": [
       "<div>\n",
       "<style scoped>\n",
       "    .dataframe tbody tr th:only-of-type {\n",
       "        vertical-align: middle;\n",
       "    }\n",
       "\n",
       "    .dataframe tbody tr th {\n",
       "        vertical-align: top;\n",
       "    }\n",
       "\n",
       "    .dataframe thead th {\n",
       "        text-align: right;\n",
       "    }\n",
       "</style>\n",
       "<table border=\"1\" class=\"dataframe\">\n",
       "  <thead>\n",
       "    <tr style=\"text-align: right;\">\n",
       "      <th></th>\n",
       "      <th>mean</th>\n",
       "      <th>median</th>\n",
       "      <th>max</th>\n",
       "      <th>min</th>\n",
       "    </tr>\n",
       "    <tr>\n",
       "      <th>status</th>\n",
       "      <th></th>\n",
       "      <th></th>\n",
       "      <th></th>\n",
       "      <th></th>\n",
       "    </tr>\n",
       "  </thead>\n",
       "  <tbody>\n",
       "    <tr>\n",
       "      <th>Approved</th>\n",
       "      <td>514625.727704</td>\n",
       "      <td>504000.0</td>\n",
       "      <td>1618000.0</td>\n",
       "      <td>100000.0</td>\n",
       "    </tr>\n",
       "    <tr>\n",
       "      <th>Declined</th>\n",
       "      <td>511739.001483</td>\n",
       "      <td>500000.0</td>\n",
       "      <td>1485000.0</td>\n",
       "      <td>100000.0</td>\n",
       "    </tr>\n",
       "    <tr>\n",
       "      <th>Fraudulent - Detected</th>\n",
       "      <td>509380.073801</td>\n",
       "      <td>492500.0</td>\n",
       "      <td>1521000.0</td>\n",
       "      <td>100000.0</td>\n",
       "    </tr>\n",
       "    <tr>\n",
       "      <th>Fraudulent - Undetected</th>\n",
       "      <td>495138.429752</td>\n",
       "      <td>487000.0</td>\n",
       "      <td>1336000.0</td>\n",
       "      <td>100000.0</td>\n",
       "    </tr>\n",
       "  </tbody>\n",
       "</table>\n",
       "</div>"
      ],
      "text/plain": [
       "                                  mean    median        max       min\n",
       "status                                                               \n",
       "Approved                 514625.727704  504000.0  1618000.0  100000.0\n",
       "Declined                 511739.001483  500000.0  1485000.0  100000.0\n",
       "Fraudulent - Detected    509380.073801  492500.0  1521000.0  100000.0\n",
       "Fraudulent - Undetected  495138.429752  487000.0  1336000.0  100000.0"
      ]
     },
     "execution_count": 43,
     "metadata": {},
     "output_type": "execute_result"
    }
   ],
   "source": [
    "# Mean loan per status\n",
    "df['loan_mean_by_status'] = df.groupby('status')['loan_amount'].transform('mean')\n",
    "\n",
    "# Aggregation example\n",
    "df.groupby('status')['loan_amount'].agg(['mean','median','max','min'])\n"
   ]
  },
  {
   "cell_type": "markdown",
   "id": "d8183735",
   "metadata": {},
   "source": [
    "\n",
    "\n",
    "---\n",
    "\n",
    "### Sorting / Ranking\n"
   ]
  },
  {
   "cell_type": "code",
   "execution_count": 44,
   "id": "90381275",
   "metadata": {},
   "outputs": [
    {
     "data": {
      "application/vnd.microsoft.datawrangler.viewer.v0+json": {
       "columns": [
        {
         "name": "index",
         "rawType": "int64",
         "type": "integer"
        },
        {
         "name": "loan_amount",
         "rawType": "float64",
         "type": "float"
        },
        {
         "name": "loan_rank",
         "rawType": "float64",
         "type": "float"
        }
       ],
       "ref": "eca45008-63d3-425b-91aa-22a4d81ca204",
       "rows": [
        [
         "0",
         "604000.0",
         "808.0"
        ],
        [
         "1",
         "100000.0",
         "1312.0"
        ],
        [
         "2",
         "431000.0",
         "981.0"
        ],
        [
         "3",
         "324000.0",
         "1088.0"
        ],
        [
         "4",
         "100000.0",
         "1312.0"
        ]
       ],
       "shape": {
        "columns": 2,
        "rows": 5
       }
      },
      "text/html": [
       "<div>\n",
       "<style scoped>\n",
       "    .dataframe tbody tr th:only-of-type {\n",
       "        vertical-align: middle;\n",
       "    }\n",
       "\n",
       "    .dataframe tbody tr th {\n",
       "        vertical-align: top;\n",
       "    }\n",
       "\n",
       "    .dataframe thead th {\n",
       "        text-align: right;\n",
       "    }\n",
       "</style>\n",
       "<table border=\"1\" class=\"dataframe\">\n",
       "  <thead>\n",
       "    <tr style=\"text-align: right;\">\n",
       "      <th></th>\n",
       "      <th>loan_amount</th>\n",
       "      <th>loan_rank</th>\n",
       "    </tr>\n",
       "  </thead>\n",
       "  <tbody>\n",
       "    <tr>\n",
       "      <th>0</th>\n",
       "      <td>604000.0</td>\n",
       "      <td>808.0</td>\n",
       "    </tr>\n",
       "    <tr>\n",
       "      <th>1</th>\n",
       "      <td>100000.0</td>\n",
       "      <td>1312.0</td>\n",
       "    </tr>\n",
       "    <tr>\n",
       "      <th>2</th>\n",
       "      <td>431000.0</td>\n",
       "      <td>981.0</td>\n",
       "    </tr>\n",
       "    <tr>\n",
       "      <th>3</th>\n",
       "      <td>324000.0</td>\n",
       "      <td>1088.0</td>\n",
       "    </tr>\n",
       "    <tr>\n",
       "      <th>4</th>\n",
       "      <td>100000.0</td>\n",
       "      <td>1312.0</td>\n",
       "    </tr>\n",
       "  </tbody>\n",
       "</table>\n",
       "</div>"
      ],
      "text/plain": [
       "   loan_amount  loan_rank\n",
       "0     604000.0      808.0\n",
       "1     100000.0     1312.0\n",
       "2     431000.0      981.0\n",
       "3     324000.0     1088.0\n",
       "4     100000.0     1312.0"
      ]
     },
     "execution_count": 44,
     "metadata": {},
     "output_type": "execute_result"
    }
   ],
   "source": [
    "df_sorted = df.sort_values(by='loan_amount', ascending=False)\n",
    "df['loan_rank'] = df['loan_amount'].rank(method='dense', ascending=False)\n",
    "df[['loan_amount','loan_rank']].head()\n"
   ]
  },
  {
   "cell_type": "markdown",
   "id": "c0396b2b",
   "metadata": {},
   "source": [
    "\n",
    "\n",
    "---\n",
    "\n",
    "### Binning / Discretization\n"
   ]
  },
  {
   "cell_type": "code",
   "execution_count": 45,
   "id": "d8c5de73",
   "metadata": {},
   "outputs": [
    {
     "data": {
      "application/vnd.microsoft.datawrangler.viewer.v0+json": {
       "columns": [
        {
         "name": "index",
         "rawType": "int64",
         "type": "integer"
        },
        {
         "name": "loan_amount",
         "rawType": "float64",
         "type": "float"
        },
        {
         "name": "loan_bin",
         "rawType": "category",
         "type": "unknown"
        },
        {
         "name": "loan_quantile_bin",
         "rawType": "category",
         "type": "unknown"
        }
       ],
       "ref": "f2511bfa-ad72-4121-a193-f67b2060d08c",
       "rows": [
        [
         "0",
         "604000.0",
         null,
         "Q3"
        ],
        [
         "1",
         "100000.0",
         "Very High",
         "Q1"
        ],
        [
         "2",
         "431000.0",
         null,
         "Q2"
        ],
        [
         "3",
         "324000.0",
         null,
         "Q2"
        ],
        [
         "4",
         "100000.0",
         "Very High",
         "Q1"
        ]
       ],
       "shape": {
        "columns": 3,
        "rows": 5
       }
      },
      "text/html": [
       "<div>\n",
       "<style scoped>\n",
       "    .dataframe tbody tr th:only-of-type {\n",
       "        vertical-align: middle;\n",
       "    }\n",
       "\n",
       "    .dataframe tbody tr th {\n",
       "        vertical-align: top;\n",
       "    }\n",
       "\n",
       "    .dataframe thead th {\n",
       "        text-align: right;\n",
       "    }\n",
       "</style>\n",
       "<table border=\"1\" class=\"dataframe\">\n",
       "  <thead>\n",
       "    <tr style=\"text-align: right;\">\n",
       "      <th></th>\n",
       "      <th>loan_amount</th>\n",
       "      <th>loan_bin</th>\n",
       "      <th>loan_quantile_bin</th>\n",
       "    </tr>\n",
       "  </thead>\n",
       "  <tbody>\n",
       "    <tr>\n",
       "      <th>0</th>\n",
       "      <td>604000.0</td>\n",
       "      <td>NaN</td>\n",
       "      <td>Q3</td>\n",
       "    </tr>\n",
       "    <tr>\n",
       "      <th>1</th>\n",
       "      <td>100000.0</td>\n",
       "      <td>Very High</td>\n",
       "      <td>Q1</td>\n",
       "    </tr>\n",
       "    <tr>\n",
       "      <th>2</th>\n",
       "      <td>431000.0</td>\n",
       "      <td>NaN</td>\n",
       "      <td>Q2</td>\n",
       "    </tr>\n",
       "    <tr>\n",
       "      <th>3</th>\n",
       "      <td>324000.0</td>\n",
       "      <td>NaN</td>\n",
       "      <td>Q2</td>\n",
       "    </tr>\n",
       "    <tr>\n",
       "      <th>4</th>\n",
       "      <td>100000.0</td>\n",
       "      <td>Very High</td>\n",
       "      <td>Q1</td>\n",
       "    </tr>\n",
       "  </tbody>\n",
       "</table>\n",
       "</div>"
      ],
      "text/plain": [
       "   loan_amount   loan_bin loan_quantile_bin\n",
       "0     604000.0        NaN                Q3\n",
       "1     100000.0  Very High                Q1\n",
       "2     431000.0        NaN                Q2\n",
       "3     324000.0        NaN                Q2\n",
       "4     100000.0  Very High                Q1"
      ]
     },
     "execution_count": 45,
     "metadata": {},
     "output_type": "execute_result"
    }
   ],
   "source": [
    "# Interval-based binning\n",
    "df['loan_bin'] = pd.cut(df['loan_amount'], bins=[0,10000,25000,50000,100000], labels=['Low','Medium','High','Very High'])\n",
    "\n",
    "# Quantile-based binning\n",
    "df['loan_quantile_bin'] = pd.qcut(df['loan_amount'], q=4, labels=['Q1','Q2','Q3','Q4'])\n",
    "\n",
    "df[['loan_amount','loan_bin','loan_quantile_bin']].head()\n"
   ]
  },
  {
   "cell_type": "markdown",
   "id": "3def0c99",
   "metadata": {},
   "source": [
    "\n",
    "\n",
    "---\n",
    "\n",
    "**Summary of Transformations Applied**\n",
    "\n",
    "1. **Numeric / Arithmetic** → `+`, `-`, `**`, `abs`, `clip`, `cumsum`, `diff`, `log1p`\n",
    "2. **String / Text** → `strip`, `title`, `replace`, `split`\n",
    "3. **Categorical** → `astype('category')`, `.cat.codes`, `get_dummies`\n",
    "4. **Date / Time** → `to_datetime`, extract year/month/day\n",
    "5. **Element-wise / Column-wise** → `map`, `apply`, `applymap`\n",
    "6. **Group-wise** → `groupby().transform()`, `groupby().agg()`\n",
    "7. **Sorting / Ranking** → `sort_values`, `rank`\n",
    "8. **Binning / Discretization** → `cut`, `qcut`\n",
    "9. **Combining Columns** → `str.cat()`\n",
    "\n"
   ]
  }
 ],
 "metadata": {
  "kernelspec": {
   "display_name": "Python 3.12",
   "language": "python",
   "name": "py12"
  },
  "language_info": {
   "codemirror_mode": {
    "name": "ipython",
    "version": 3
   },
   "file_extension": ".py",
   "mimetype": "text/x-python",
   "name": "python",
   "nbconvert_exporter": "python",
   "pygments_lexer": "ipython3",
   "version": "3.12.0"
  }
 },
 "nbformat": 4,
 "nbformat_minor": 5
}
