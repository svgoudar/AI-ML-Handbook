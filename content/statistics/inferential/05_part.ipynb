{
 "cells": [
  {
   "cell_type": "markdown",
   "id": "c33170fd",
   "metadata": {},
   "source": [
    "```{contents}\n",
    "\n",
    "```"
   ]
  },
  {
   "cell_type": "markdown",
   "id": "ae1cf3cc",
   "metadata": {},
   "source": [
    "# Decision Guide: t-Test vs Z-Test\n",
    "\n",
    "- Do you know the **population standard deviation (σ)?**\n",
    "  - **No**\n",
    "    - Use **t-test**\n",
    "  - **Yes**\n",
    "    - Is **sample size n > 30?**\n",
    "      - **Yes**\n",
    "        - Use **Z-test**\n",
    "      - **No**\n",
    "        - Use **t-test**\n"
   ]
  }
 ],
 "metadata": {
  "kernelspec": {
   "display_name": "Python 3",
   "language": "python",
   "name": "python3"
  },
  "language_info": {
   "codemirror_mode": {
    "name": "ipython",
    "version": 3
   },
   "file_extension": ".py",
   "mimetype": "text/x-python",
   "name": "python",
   "nbconvert_exporter": "python",
   "pygments_lexer": "ipython3",
   "version": "3.12.0"
  }
 },
 "nbformat": 4,
 "nbformat_minor": 5
}
