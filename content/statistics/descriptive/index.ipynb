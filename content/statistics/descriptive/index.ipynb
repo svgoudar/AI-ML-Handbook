{
 "cells": [
  {
   "cell_type": "markdown",
   "id": "0f3c761c",
   "metadata": {},
   "source": [
    "# Descriptive Statistics\n",
    "\n",
    "This section covers methods for summarizing and describing the important features of data.\n",
    "\n",
    "```{tableofcontents}\n",
    "\n",
    "\n",
    "\n"
   ]
  },
  {
   "cell_type": "markdown",
   "id": "6ef91fe5",
   "metadata": {},
   "source": []
  }
 ],
 "metadata": {
  "language_info": {
   "name": "python"
  }
 },
 "nbformat": 4,
 "nbformat_minor": 5
}
