{
 "cells": [
  {
   "cell_type": "markdown",
   "id": "b4919f1a",
   "metadata": {},
   "source": [
    "# Correlation \n",
    "\n",
    "Correlation is a statistical measure that describes the strength and direction of a relationship between two variables. It is a key concept in statistics and data analysis, helping us understand how variables move together.\n",
    "\n",
    "---\n",
    "\n",
    "## What is Correlation?\n",
    "\n",
    "- **Correlation** quantifies the degree to which two variables are related.\n",
    "- The value ranges from **-1** (perfect negative) to **+1** (perfect positive), with **0** meaning no linear relationship.\n",
    "- Correlation does **not** imply causation.\n",
    "\n",
    "---\n",
    "\n",
    "## Types of Correlation\n",
    "\n",
    "1. **Pearson Correlation (r)**\n",
    "   - Measures linear relationships between continuous variables.\n",
    "   - Sensitive to outliers and assumes normality.\n",
    "   - Value: $-1 \\leq r \\leq 1$\n",
    "2. **Spearman’s Rank Correlation (ρ or rₛ)**\n",
    "   - Measures monotonic relationships using ranked data.\n",
    "   - Non-parametric, less sensitive to outliers.\n",
    "   - Value: $-1 \\leq \\rho \\leq 1$\n",
    "3. **Kendall’s Tau (τ)**\n",
    "   - Measures strength of association based on concordant and discordant pairs.\n",
    "   - Non-parametric, robust for small samples and tied ranks.\n",
    "   - Value: $-1 \\leq \\tau \\leq 1$\n",
    "\n",
    "---\n",
    "\n",
    "## When to Use Which?\n",
    "\n",
    "- **Pearson**: For linear, continuous, normally distributed data.\n",
    "- **Spearman**: For monotonic, ordinal, or non-normal data.\n",
    "- **Kendall**: For small samples, many ties, or ordinal data.\n",
    "\n",
    "---\n",
    "\n",
    "\n",
    "```{tableofcontents}\n"
   ]
  }
 ],
 "metadata": {
  "language_info": {
   "name": "python"
  }
 },
 "nbformat": 4,
 "nbformat_minor": 5
}
