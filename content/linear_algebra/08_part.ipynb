{
 "cells": [
  {
   "cell_type": "markdown",
   "id": "c6d43255",
   "metadata": {},
   "source": [
    "```{contents}\n",
    "```"
   ]
  },
  {
   "cell_type": "markdown",
   "id": "0499e9c6",
   "metadata": {},
   "source": [
    "## Line, Plane and Hyperplane\n",
    "\n",
    "### Equation of a Straight Line (2D)\n",
    "\n",
    "* **Slope-intercept form:** $y = mx + c$\n",
    "\n",
    "  * $m$ = slope (change in y per unit x)\n",
    "  * $c$ = y-intercept (value of y when x = 0)\n",
    "* **Alternative forms:**\n",
    "\n",
    "  * $y = \\beta_0 + \\beta_1 x$\n",
    "  * $ax + by + c = 0$ → can be rearranged to slope-intercept form $y = -\\frac{a}{b}x - \\frac{c}{b}$\n",
    "* **Generalized form for multiple dimensions (2D):**\n",
    "\n",
    "  * $W_1 X_1 + W_2 X_2 + b = 0$\n",
    "  * Equivalent to $w^T x + b = 0$, where $w = [W_1, W_2]$ and $x = [X_1, X_2]$\n",
    "\n",
    "---\n",
    "\n",
    "### 3D Plane\n",
    "\n",
    "* **Equation of a plane:**\n",
    "\n",
    "  * $W_1 X_1 + W_2 X_2 + W_3 X_3 + b = 0$\n",
    "  * Or $w^T x + b = 0$ with $w = [W_1, W_2, W_3]$, $x = [X_1, X_2, X_3]$\n",
    "* **Geometric interpretation:**\n",
    "\n",
    "  * $w$ is **perpendicular (normal) to the plane**\n",
    "  * If the plane passes through the origin, $b = 0$ → equation reduces to $w^T x = 0$\n",
    "\n",
    "---\n",
    "\n",
    "### n-Dimensional Hyperplane\n",
    "\n",
    "* **Equation in n dimensions:**\n",
    "\n",
    "  * $W_1 X_1 + W_2 X_2 + ... + W_n X_n + b = 0$\n",
    "  * Or compactly: $w^T x + b = 0$\n",
    "* **Properties:**\n",
    "\n",
    "  * $w$ is perpendicular to the hyperplane\n",
    "  * Dot product $w^T x = 0$ implies x lies on the hyperplane\n",
    "  * If passing through origin, reduces to $w^T x = 0$\n",
    "\n",
    "---\n",
    "\n",
    "### Linear Algebra Interpretation\n",
    "\n",
    "* Dot product: $w^T x = \\|w\\| \\|x\\| \\cos \\theta$\n",
    "\n",
    "  * For points on the plane: $w^T x = 0 \\implies \\theta = 90^\\circ$\n",
    "  * Shows $w$ is perpendicular to all vectors in the plane\n",
    "\n",
    "---\n",
    "\n",
    "**Key Takeaways**\n",
    "\n",
    "* **Slope and intercept** describe straight lines in 2D.\n",
    "* **Coefficients $W_i$ and bias $b$** generalize lines to planes and hyperplanes.\n",
    "* **Normal vector $w$** is perpendicular to the plane/hyperplane.\n",
    "* **Hyperplanes** are essential in ML algorithms like **logistic regression** and **SVMs**.\n",
    "\n"
   ]
  }
 ],
 "metadata": {
  "language_info": {
   "name": "python"
  }
 },
 "nbformat": 4,
 "nbformat_minor": 5
}
