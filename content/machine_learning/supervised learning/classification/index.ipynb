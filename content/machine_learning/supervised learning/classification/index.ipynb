{
 "cells": [
  {
   "cell_type": "markdown",
   "id": "e263581e",
   "metadata": {},
   "source": [
    "### Classification\n",
    "\n",
    "* Goal: Predict **categories or classes**.\n",
    "* Input: Features.\n",
    "* Output: Discrete label (class).\n",
    "* Example: Predicting whether an email is *spam* or *not spam*, disease diagnosis (*positive/negative*).\n",
    "* Algorithms:\n",
    "\n",
    "  * Logistic Regression\n",
    "  * Decision Trees (for classification)\n",
    "  * Random Forest Classifier\n",
    "  * Support Vector Machine\n",
    "  * Neural Networks"
   ]
  },
  {
   "cell_type": "markdown",
   "id": "407d8863",
   "metadata": {},
   "source": [
    "```{dropdown} Click here for Sections\n",
    "```{tableofcontents}\n"
   ]
  }
 ],
 "metadata": {
  "language_info": {
   "name": "python"
  }
 },
 "nbformat": 4,
 "nbformat_minor": 5
}
