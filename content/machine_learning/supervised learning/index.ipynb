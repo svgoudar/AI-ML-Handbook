{
 "cells": [
  {
   "cell_type": "markdown",
   "id": "d8aaa585",
   "metadata": {},
   "source": [
    "## Supervised Learning\n",
    "\n",
    "### **Regression**\n",
    "\n",
    "* Goal: Predict **continuous numeric values**.\n",
    "* Input: Features (independent variables).\n",
    "* Output: Real number (dependent variable).\n",
    "* Example: Predicting house price, temperature, stock value.\n",
    "* Algorithms:\n",
    "\n",
    "  * Linear Regression\n",
    "  * Polynomial Regression\n",
    "  * Decision Trees (for regression)\n",
    "  * Random Forest Regressor\n",
    "\n",
    "---\n",
    "\n",
    "### **Classification**\n",
    "\n",
    "* Goal: Predict **categories or classes**.\n",
    "* Input: Features.\n",
    "* Output: Discrete label (class).\n",
    "* Example: Predicting whether an email is *spam* or *not spam*, disease diagnosis (*positive/negative*).\n",
    "* Algorithms:\n",
    "\n",
    "  * Logistic Regression\n",
    "  * Decision Trees (for classification)\n",
    "  * Random Forest Classifier\n",
    "  * Support Vector Machine\n",
    "  * Neural Networks\n",
    "\n"
   ]
  },
  {
   "cell_type": "markdown",
   "id": "8e12f50f",
   "metadata": {},
   "source": [
    "```{dropdown} Click here for Sections\n",
    "```{tableofcontents}\n"
   ]
  }
 ],
 "metadata": {
  "language_info": {
   "name": "python"
  }
 },
 "nbformat": 4,
 "nbformat_minor": 5
}
