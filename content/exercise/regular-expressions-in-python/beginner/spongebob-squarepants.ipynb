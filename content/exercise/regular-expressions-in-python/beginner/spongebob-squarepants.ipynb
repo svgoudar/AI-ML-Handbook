{
 "cells": [
  {
   "cell_type": "markdown",
   "metadata": {
    "id": "M6yShpelZy-I"
   },
   "source": [
    "Here are some quotes from [SpongeBob SquarePants](https://en.wikipedia.org/wiki/SpongeBob_SquarePants)."
   ]
  },
  {
   "cell_type": "code",
   "execution_count": null,
   "metadata": {
    "id": "ZlHN2R3QaPX3"
   },
   "outputs": [],
   "source": [
    "quotes = [\n",
    "    \"A 5 letter word for happiness... MONEY.\",\n",
    "    \"I might as well sleep for 100 years or so.\",\n",
    "    \"Hey Patrick, I thought of something funnier than 24... 25!\",\n",
    "    \"I will have you know that I stubbed my toe last week and only cried for 20 minutes.\",\n",
    "    \"Sandy: Don’t you have to be stupid somewhere else? Patrick: Not until 4.\"\n",
    "]"
   ]
  },
  {
   "cell_type": "markdown",
   "metadata": {
    "id": "eHsmvgEbWQgu"
   },
   "source": [
    "For each quote, extract everything before the first occurrence of a digit.\n",
    "\n",
    "**Expected Result**"
   ]
  },
  {
   "cell_type": "code",
   "execution_count": null,
   "metadata": {
    "id": "ApRH0t9aXW0x"
   },
   "outputs": [],
   "source": [
    "newquotes = [\n",
    "    'A ', \n",
    "    'I might as well sleep for ', \n",
    "    'Hey Patrick, I thought of something funnier than ', \n",
    "    'I will have you know that I stubbed my toe last week and only cried for ', \n",
    "    'Sandy: Don’t you have to be stupid somewhere else? Patrick: Not until '\n",
    "]"
   ]
  },
  {
   "cell_type": "markdown",
   "metadata": {
    "id": "h7D8d-J5cela"
   },
   "source": [
    "---"
   ]
  },
  {
   "cell_type": "code",
   "execution_count": null,
   "metadata": {
    "id": "CWwTWfYCa4k0"
   },
   "outputs": [],
   "source": [
    "# Your brilliant solution here!"
   ]
  }
 ],
 "metadata": {
  "colab": {
   "collapsed_sections": [],
   "name": "spongebob-squarepants.ipynb",
   "provenance": []
  },
  "kernelspec": {
   "display_name": "Python 3",
   "name": "python3"
  },
  "language_info": {
   "name": "python"
  }
 },
 "nbformat": 4,
 "nbformat_minor": 0
}
