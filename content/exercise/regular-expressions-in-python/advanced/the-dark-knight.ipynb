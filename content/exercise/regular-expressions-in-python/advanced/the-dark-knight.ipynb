{
 "cells": [
  {
   "cell_type": "markdown",
   "metadata": {
    "id": "M6yShpelZy-I"
   },
   "source": [
    "Here's a quote from [The Dark Knight](https://en.wikipedia.org/wiki/The_Dark_Knight_(film))."
   ]
  },
  {
   "cell_type": "code",
   "execution_count": null,
   "metadata": {
    "id": "ZlHN2R3QaPX3"
   },
   "outputs": [],
   "source": [
    "quote = (\n",
    "    \"Because we have to chase him.Because he's the hero Gotham \"\n",
    "    \"deserves, but not the one it needs right now, so we'll hunt \"\n",
    "    \"him.Because he can take it, because he's not a hero.He's a \"\n",
    "    \"silent guardian, a watchful protector, a Dark Knight.\"\n",
    ")"
   ]
  },
  {
   "cell_type": "markdown",
   "metadata": {
    "id": "eHsmvgEbWQgu"
   },
   "source": [
    "Split the string into a list of distinct sentences. Each sentence should end with and include a period.\n",
    "\n",
    "**Expected Result**"
   ]
  },
  {
   "cell_type": "code",
   "execution_count": null,
   "metadata": {
    "id": "ApRH0t9aXW0x"
   },
   "outputs": [],
   "source": [
    "quotes = [\n",
    "    'Because we have to chase him.', \n",
    "    \"Because he's the hero Gotham deserves, but not the one it needs right now, so we'll hunt him.\", \n",
    "    \"Because he can take it, because he's not a hero.\", \n",
    "    \"He's a silent guardian, a watchful protector, a Dark Knight.\"\n",
    "]"
   ]
  },
  {
   "cell_type": "markdown",
   "metadata": {
    "id": "h7D8d-J5cela"
   },
   "source": [
    "---"
   ]
  },
  {
   "cell_type": "code",
   "execution_count": null,
   "metadata": {
    "id": "CWwTWfYCa4k0"
   },
   "outputs": [],
   "source": [
    "# Your brilliant solution here!"
   ]
  }
 ],
 "metadata": {
  "colab": {
   "collapsed_sections": [],
   "name": "the-dark-knight.ipynb",
   "provenance": []
  },
  "kernelspec": {
   "display_name": "Python 3",
   "name": "python3"
  },
  "language_info": {
   "name": "python"
  }
 },
 "nbformat": 4,
 "nbformat_minor": 0
}
