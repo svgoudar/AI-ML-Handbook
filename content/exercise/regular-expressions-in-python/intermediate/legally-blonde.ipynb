{
 "cells": [
  {
   "cell_type": "markdown",
   "metadata": {
    "id": "M6yShpelZy-I"
   },
   "source": [
    "Here's a quote from [Legally Blonde](https://en.wikipedia.org/wiki/Legally_Blonde)."
   ]
  },
  {
   "cell_type": "code",
   "execution_count": null,
   "metadata": {
    "id": "ZlHN2R3QaPX3"
   },
   "outputs": [],
   "source": [
    "quote = (\n",
    "    \"Because not I'm a Vanderbilt, suddenly white I'm trash? \"\n",
    "    \"grew I up in Bel Air, Warner. Across the street from Aaron Spelling. \"\n",
    "    \"think I most people would agree that's a lot better than some stinky old Vanderbilt.\"\n",
    ")"
   ]
  },
  {
   "cell_type": "markdown",
   "metadata": {
    "id": "eHsmvgEbWQgu"
   },
   "source": [
    "Observe each \"I\" and \"I'm\" in the string. **The word before it should be after it**. For example, \"*Because not I'm*\" should be \"*Because I'm not*\". Fix this.\n",
    "\n",
    "**Expected Result**"
   ]
  },
  {
   "cell_type": "code",
   "execution_count": null,
   "metadata": {
    "id": "ApRH0t9aXW0x"
   },
   "outputs": [],
   "source": [
    "newquote = (\n",
    "    \"Because I'm not a Vanderbilt, suddenly I'm white trash? \"\n",
    "    \"I grew up in Bel Air, Warner. Across the street from Aaron Spelling. \"\n",
    "    \"I think most people would agree that's a lot better than some stinky old Vanderbilt.\"\n",
    ")"
   ]
  },
  {
   "cell_type": "markdown",
   "metadata": {
    "id": "h7D8d-J5cela"
   },
   "source": [
    "---"
   ]
  },
  {
   "cell_type": "code",
   "execution_count": null,
   "metadata": {
    "id": "CWwTWfYCa4k0"
   },
   "outputs": [],
   "source": [
    "# Your brilliant solution here!"
   ]
  }
 ],
 "metadata": {
  "colab": {
   "collapsed_sections": [],
   "name": "legally-blonde.ipynb",
   "provenance": []
  },
  "kernelspec": {
   "display_name": "Python 3",
   "name": "python3"
  },
  "language_info": {
   "name": "python"
  }
 },
 "nbformat": 4,
 "nbformat_minor": 0
}
