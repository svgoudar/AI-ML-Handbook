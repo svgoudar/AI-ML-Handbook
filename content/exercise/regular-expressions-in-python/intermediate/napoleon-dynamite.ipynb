{
 "cells": [
  {
   "cell_type": "markdown",
   "metadata": {
    "id": "M6yShpelZy-I"
   },
   "source": [
    "Here are quotes from [Napoleon Dynamite](https://en.wikipedia.org/wiki/Napoleon_Dynamite)."
   ]
  },
  {
   "cell_type": "code",
   "execution_count": null,
   "metadata": {
    "id": "ZlHN2R3QaPX3"
   },
   "outputs": [],
   "source": [
    "quotes = [\n",
    "    \"Tina you fat lard!\",\n",
    "    \"Your mom goes to college.\",\n",
    "    \"How long did it take you to grow that mustache?\",\n",
    "    \"Kip, Bring Me My Chapstick!\",\n",
    "    \"I Caught You A Delicious Bass.\",\n",
    "    \"I Told You! I Spent It With My Uncle In Alaska Hunting Wolverines!\",\n",
    "    \"How Much Do You Want To Bet I Can Throw This Football Over Them Mountains?\",\n",
    "    \"Napoleon, Don't Be Jealous That I've Been Chatting Online With Babes All Day\"\n",
    "]"
   ]
  },
  {
   "cell_type": "markdown",
   "metadata": {
    "id": "eHsmvgEbWQgu"
   },
   "source": [
    "Subset this list down to quotes that meet the following condition:\n",
    "\n",
    "- The first vowel in the quote matches the last vowel in the quote, regardless of character case.\n",
    "\n",
    "**Expected Result**"
   ]
  },
  {
   "cell_type": "code",
   "execution_count": null,
   "metadata": {
    "id": "ApRH0t9aXW0x"
   },
   "outputs": [],
   "source": [
    "filtered = [\n",
    "    \"Kip, Bring Me My Chapstick!\", \n",
    "    \"Napoleon, Don't Be Jealous That I've Been Chatting Online With Babes All Day\" \n",
    "]"
   ]
  },
  {
   "cell_type": "markdown",
   "metadata": {
    "id": "h7D8d-J5cela"
   },
   "source": [
    "---"
   ]
  },
  {
   "cell_type": "code",
   "execution_count": null,
   "metadata": {
    "id": "CWwTWfYCa4k0"
   },
   "outputs": [],
   "source": [
    "# Your brilliant solution here!"
   ]
  },
  {
   "cell_type": "markdown",
   "metadata": {
    "id": "bF3kvEc4a4It"
   },
   "source": [
    "## [See our solution!](https://www.practiceprobs.com/problemsets/regular-expressions-in-python/intermediate/napoleon-dynamite/solution/)"
   ]
  }
 ],
 "metadata": {
  "colab": {
   "collapsed_sections": [],
   "name": "napoleon-dynamite.ipynb",
   "provenance": []
  },
  "kernelspec": {
   "display_name": "Python 3",
   "name": "python3"
  },
  "language_info": {
   "name": "python"
  }
 },
 "nbformat": 4,
 "nbformat_minor": 0
}
