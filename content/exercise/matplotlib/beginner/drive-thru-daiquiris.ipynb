{
 "cells": [
  {
   "cell_type": "code",
   "execution_count": null,
   "metadata": {
    "id": "ZlHN2R3QaPX3"
   },
   "outputs": [],
   "source": [
    "import numpy as np\n",
    "\n",
    "rng = np.random.default_rng(1234)\n",
    "\n",
    "p1 = [0.05, 0.03, 0.02, 0.01, 0.01, 0.01, 0.01, 0.01, 0.02, 0.02, 0.03, 0.04,\n",
    "      0.07, 0.07, 0.08, 0.08, 0.08, 0.12, 0.15, 0.18, 0.15, 0.12, 0.08, 0.06]\n",
    "p2 = np.concatenate((p1[-5:], p1[:-5]))\n",
    "p3 = np.concatenate((p1[5:], p1[:5]))\n",
    "\n",
    "# sales per store\n",
    "s1 = rng.choice(24, size=1000, replace=True, p=p1/np.sum(p1))\n",
    "s2 = rng.choice(24, size=2000, replace=True, p=p2/np.sum(p2))\n",
    "s3 = rng.choice(24, size=1750, replace=True, p=p3/np.sum(p3))\n",
    "\n",
    "print(s1[:5]) # [23 16 22 13 14] \n",
    "print(s2[:5]) # [22 17 11 22  0]\n",
    "print(s3[:5]) # [16  7 12 15 17]"
   ]
  },
  {
   "cell_type": "markdown",
   "metadata": {
    "id": "42ONCyRPH8X5"
   },
   "source": [
    "## Expected Plot\n",
    "\n",
    "<img src=\"https://www.practiceprobs.com/problemsets/matplotlib/images/daiquiris.png\" width=\"800px\"/>"
   ]
  },
  {
   "cell_type": "markdown",
   "metadata": {
    "id": "h7D8d-J5cela"
   },
   "source": [
    "---"
   ]
  },
  {
   "cell_type": "code",
   "execution_count": null,
   "metadata": {
    "id": "CWwTWfYCa4k0"
   },
   "outputs": [],
   "source": [
    "# Your brilliant solution here!"
   ]
  }
 ],
 "metadata": {
  "colab": {
   "collapsed_sections": [],
   "name": "drive-thru-daiquiris.ipynb",
   "provenance": []
  },
  "kernelspec": {
   "display_name": "Python 3",
   "name": "python3"
  },
  "language_info": {
   "name": "python"
  }
 },
 "nbformat": 4,
 "nbformat_minor": 0
}
