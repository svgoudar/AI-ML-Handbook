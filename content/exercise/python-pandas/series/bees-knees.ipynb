{
 "cells": [
  {
   "cell_type": "markdown",
   "metadata": {
    "id": "M6yShpelZy-I"
   },
   "source": [
    "Given, two Series `bees` and `knees`, if the ith value of `bees` is NaN, double the ith value inside `knees`."
   ]
  },
  {
   "cell_type": "code",
   "execution_count": null,
   "metadata": {
    "id": "ZlHN2R3QaPX3"
   },
   "outputs": [],
   "source": [
    "import numpy as np\n",
    "import pandas as pd\n",
    "\n",
    "bees = pd.Series([True, True, False, np.nan, True, False, True, np.nan])\n",
    "knees = pd.Series([5,2,9,1,3,10,5,2], index = [7,0,2,6,3,5,1,4])\n",
    "\n",
    "print(bees)\n",
    "# 0     True\n",
    "# 1     True\n",
    "# 2    False\n",
    "# 3      NaN\n",
    "# 4     True\n",
    "# 5    False\n",
    "# 6     True\n",
    "# 7      NaN\n",
    "# dtype: object\n",
    "\n",
    "print(knees)\n",
    "# 7     5\n",
    "# 0     2\n",
    "# 2     9\n",
    "# 6     1\n",
    "# 3     3\n",
    "# 5    10\n",
    "# 1     5\n",
    "# 4     2\n",
    "# dtype: int64"
   ]
  },
  {
   "cell_type": "markdown",
   "metadata": {
    "id": "h7D8d-J5cela"
   },
   "source": [
    "---"
   ]
  },
  {
   "cell_type": "code",
   "execution_count": null,
   "metadata": {
    "id": "CWwTWfYCa4k0"
   },
   "outputs": [],
   "source": [
    "# Your brilliant solution here!"
   ]
  }
 ],
 "metadata": {
  "colab": {
   "collapsed_sections": [],
   "name": "bees-knees.ipynb",
   "provenance": []
  },
  "kernelspec": {
   "display_name": "Python 3",
   "name": "python3"
  },
  "language_info": {
   "name": "python"
  }
 },
 "nbformat": 4,
 "nbformat_minor": 0
}
