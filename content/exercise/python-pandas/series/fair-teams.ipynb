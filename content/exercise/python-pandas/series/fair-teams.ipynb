{
 "cells": [
  {
   "cell_type": "markdown",
   "metadata": {
    "id": "M6yShpelZy-I"
   },
   "source": [
    "You’re organizing a competitive rock-skipping league. 6 coaches and 20 players have signed up. Your job is to randomly and fairly determine the teams, assigning players to coaches. Keep in mind that some teams will have three players and some teams will have four players. Given a Series of `coaches` and a Series of `players`, create a Series of random coach-to-player mappings. The resulting Series should have coach names in its index and corresponding player names in its values."
   ]
  },
  {
   "cell_type": "code",
   "execution_count": null,
   "metadata": {
    "id": "ZlHN2R3QaPX3"
   },
   "outputs": [],
   "source": [
    "import numpy as np\n",
    "import pandas as pd\n",
    "\n",
    "coaches = pd.Series(['Aaron', 'Donald', 'Joshua', 'Peter', 'Scott', 'Stephen'], dtype='string')\n",
    "players = pd.Series(['Asher', 'Connor', 'Elizabeth', 'Emily', 'Ethan', 'Hannah', 'Isabella', 'Isaiah', 'James',\n",
    "                     'Joshua', 'Julian', 'Layla', 'Leo', 'Madison', 'Mia', 'Oliver', 'Ryan', 'Scarlett', 'William',\n",
    "                     'Wyatt'], dtype='string')\n",
    "\n",
    "print(coaches)\n",
    "# 0      Aaron\n",
    "# 1     Donald\n",
    "# 2     Joshua\n",
    "# 3      Peter\n",
    "# 4      Scott\n",
    "# 5    Stephen\n",
    "# dtype: string\n",
    "\n",
    "print(players)\n",
    "# 0         Asher\n",
    "# 1        Connor\n",
    "# 2     Elizabeth\n",
    "# 3         Emily\n",
    "# 4         Ethan\n",
    "# 5        Hannah\n",
    "# 6      Isabella\n",
    "# 7        Isaiah\n",
    "# 8         James\n",
    "# 9        Joshua\n",
    "# 10       Julian\n",
    "# 11        Layla\n",
    "# 12          Leo\n",
    "# 13      Madison\n",
    "# 14          Mia\n",
    "# 15       Oliver\n",
    "# 16         Ryan\n",
    "# 17     Scarlett\n",
    "# 18      William\n",
    "# 19        Wyatt\n",
    "# dtype: string"
   ]
  },
  {
   "cell_type": "markdown",
   "metadata": {
    "id": "h7D8d-J5cela"
   },
   "source": [
    "---"
   ]
  },
  {
   "cell_type": "code",
   "execution_count": null,
   "metadata": {
    "id": "CWwTWfYCa4k0"
   },
   "outputs": [],
   "source": [
    "# Your brilliant solution here!"
   ]
  },
  {
   "cell_type": "markdown",
   "metadata": {
    "id": "bF3kvEc4a4It"
   },
   "source": [
    "## [See our solution!](https://www.practiceprobs.com/problemsets/python-pandas/series/fair-teams/solution/)"
   ]
  }
 ],
 "metadata": {
  "colab": {
   "collapsed_sections": [],
   "name": "fair-teams.ipynb",
   "provenance": []
  },
  "kernelspec": {
   "display_name": "Python 3",
   "name": "python3"
  },
  "language_info": {
   "name": "python"
  }
 },
 "nbformat": 4,
 "nbformat_minor": 0
}
