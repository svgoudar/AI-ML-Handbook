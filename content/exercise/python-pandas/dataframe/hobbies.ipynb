{
 "cells": [
  {
   "cell_type": "markdown",
   "metadata": {
    "id": "M6yShpelZy-I"
   },
   "source": [
    "You polled five heterosexual couples on their hobbies."
   ]
  },
  {
   "cell_type": "code",
   "execution_count": null,
   "metadata": {
    "id": "ZlHN2R3QaPX3"
   },
   "outputs": [],
   "source": [
    "import numpy as np\n",
    "import pandas as pd\n",
    "\n",
    "couples = pd.DataFrame({\n",
    "    'man': [\n",
    "        ['fishing', 'biking', 'reading'],\n",
    "        ['hunting', 'mudding', 'fishing'],\n",
    "        ['reading', 'movies', 'running'],\n",
    "        ['running', 'reading', 'biking', 'mudding'],\n",
    "        ['movies', 'reading', 'yodeling']\n",
    "    ],\n",
    "    'woman': [\n",
    "        ['biking', 'reading', 'movies'],\n",
    "        ['fishing', 'drinking'],\n",
    "        ['knitting', 'reading'],\n",
    "        ['running', 'biking', 'fishing', 'movies'],\n",
    "        ['movies']\n",
    "    ]\n",
    "})\n",
    "\n",
    "print(couples)\n",
    "#                                    man                               woman\n",
    "# 0           [fishing, biking, reading]           [biking, reading, movies]\n",
    "# 1          [hunting, mudding, fishing]                 [fishing, drinking]\n",
    "# 2           [reading, movies, running]                 [knitting, reading]\n",
    "# 3  [running, reading, biking, mudding]  [running, biking, fishing, movies]\n",
    "# 4          [movies, reading, yodeling]                            [movies]"
   ]
  },
  {
   "cell_type": "markdown",
   "metadata": {
    "id": "b6_u7yFwIsLo"
   },
   "source": [
    "For each couple, determine what hobbies each man has that his wife doesn’t and what hobbies each woman has that her husband doesn’t."
   ]
  },
  {
   "cell_type": "markdown",
   "metadata": {
    "id": "h7D8d-J5cela"
   },
   "source": [
    "---"
   ]
  },
  {
   "cell_type": "code",
   "execution_count": null,
   "metadata": {
    "id": "CWwTWfYCa4k0"
   },
   "outputs": [],
   "source": [
    "# Your brilliant solution here!"
   ]
  }
 ],
 "metadata": {
  "colab": {
   "collapsed_sections": [],
   "name": "hobbies.ipynb",
   "provenance": []
  },
  "kernelspec": {
   "display_name": "Python 3",
   "name": "python3"
  },
  "language_info": {
   "name": "python"
  }
 },
 "nbformat": 4,
 "nbformat_minor": 0
}
