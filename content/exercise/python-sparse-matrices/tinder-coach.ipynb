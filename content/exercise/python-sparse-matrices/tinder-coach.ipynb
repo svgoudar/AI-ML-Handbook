{
 "cells": [
  {
   "cell_type": "markdown",
   "metadata": {
    "id": "M6yShpelZy-I"
   },
   "source": [
    "You operate an online business called *tindercoach.com* where you give people advice on their Tinder profiles ❤️‍🔥. You have a dictionary of `visits` indicating how many times each `visitor_id` visited each `page` on your site."
   ]
  },
  {
   "cell_type": "code",
   "execution_count": null,
   "metadata": {
    "id": "ZlHN2R3QaPX3"
   },
   "outputs": [],
   "source": [
    "import random\n",
    "import string\n",
    "from collections import defaultdict\n",
    "\n",
    "Npages = 10\n",
    "Nvisitors = 10\n",
    "Nvisits = 100\n",
    "\n",
    "random.seed(2357)\n",
    "visitor_ids = list(set(random.randint(1000, 9999) for i in range(Nvisitors)))\n",
    "pages = list(set('tindercoach.com/' + ''.join(random.choices(string.ascii_lowercase, k=3)) for i in range(Nvisits)))\n",
    "\n",
    "visits = defaultdict(int)\n",
    "for i in range(Nvisits):\n",
    "    key = (random.choice(visitor_ids), random.choice(pages))\n",
    "    visits[key] += 1\n",
    "\n",
    "print(visits)\n",
    "# defaultdict(<class 'int'>, {\n",
    "#  (3654, 'tindercoach.com/bgr'): 1, \n",
    "#  (1443, 'tindercoach.com/nky'): 1, \n",
    "#  (3654, 'tindercoach.com/wpb'): 1, \n",
    "#  ..., \n",
    "#  (3181, 'tindercoach.com/jam'): 1, \n",
    "#  (5502, 'tindercoach.com/cjp'): 1, \n",
    "#  (5502, 'tindercoach.com/tjk'): 1\n",
    "# })"
   ]
  },
  {
   "cell_type": "markdown",
   "metadata": {
    "id": "WFnb1Ne1NTtu"
   },
   "source": [
    "Convert `visits` into a Compressed Sparse Column (CSC) matrix where element (i,j) stores the number of times visitor i visited page j.\n",
    "\n",
    "Then print the sub-matrix showing how many times visitors 1443, 6584, and 7040 visited pages *tindercoach.com/chl*, *tindercoach.com/nky*, and *tindercoach.com/zmr*."
   ]
  },
  {
   "cell_type": "markdown",
   "metadata": {
    "id": "h7D8d-J5cela"
   },
   "source": [
    "---"
   ]
  },
  {
   "cell_type": "code",
   "execution_count": null,
   "metadata": {
    "id": "CWwTWfYCa4k0"
   },
   "outputs": [],
   "source": [
    "# Your brilliant solution here!"
   ]
  }
 ],
 "metadata": {
  "colab": {
   "collapsed_sections": [],
   "name": "tinder-coach.ipynb",
   "provenance": []
  },
  "kernelspec": {
   "display_name": "Python 3",
   "name": "python3"
  },
  "language_info": {
   "name": "python"
  }
 },
 "nbformat": 4,
 "nbformat_minor": 0
}
