{
 "cells": [
  {
   "cell_type": "markdown",
   "metadata": {
    "id": "M6yShpelZy-I"
   },
   "source": [
    "Build a compressed sparse row matrix from this file of text\n",
    "\n",
    "**my_screenplay.txt**\n",
    "```\n",
    "hey hey my name is ryan\n",
    "hey ryan my name is marissa\n",
    "it is nice to meet you\n",
    "it is nice to meet you too\n",
    "did you know that seals get seasick if you put them on a boat\n",
    "i am surprised\n",
    "i have lots of other animal facts do you want to hear other animal facts\n",
    "no thanks i have to be somewhere\n",
    "okay can i get your number\n",
    "no\n",
    "```\n",
    "\n",
    "such that:\n",
    "\n",
    "- row i of the matrix represents row i of the file.\n",
    "- column j of the matrix represents the jth unique word observed in the file.\n",
    "- element ij represents the number of times word j was observed in line i.\n",
    "\n",
    "**There’s a catch..**\n",
    "\n",
    "Your computer is so puny that *it can’t fit the entire file into memory at one time*. It can fit each line into memory, just not the entire file.\n",
    "\n"
   ]
  },
  {
   "cell_type": "markdown",
   "metadata": {
    "id": "h7D8d-J5cela"
   },
   "source": [
    "---"
   ]
  },
  {
   "cell_type": "code",
   "execution_count": null,
   "metadata": {
    "id": "CWwTWfYCa4k0"
   },
   "outputs": [],
   "source": [
    "# Your brilliant solution here!"
   ]
  }
 ],
 "metadata": {
  "colab": {
   "collapsed_sections": [],
   "name": "puny-computer.ipynb",
   "provenance": []
  },
  "kernelspec": {
   "display_name": "Python 3",
   "name": "python3"
  },
  "language_info": {
   "name": "python"
  }
 },
 "nbformat": 4,
 "nbformat_minor": 0
}
