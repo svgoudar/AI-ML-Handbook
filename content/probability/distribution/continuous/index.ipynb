{
 "cells": [
  {
   "cell_type": "markdown",
   "id": "07bfdbdf",
   "metadata": {},
   "source": [
    "---\n",
    "noteId: \"c94b7d307ff811f0bc7d15f1720af5a0\"\n",
    "tags: []\n",
    "\n",
    "---\n",
    "\n",
    "# Continuous Probability Distributions\n",
    "\n",
    "A **continuous probability distribution** describes outcomes of a *continuous random variable* — one that can take **any value within an interval**.  \n",
    "Examples: height, weight, temperature, or time.\n",
    "\n",
    "Key properties:  \n",
    "- The probability of any **exact value** is 0.  \n",
    "- Probabilities are defined over an **interval** using the **area under the curve** of the probability density function (PDF).  \n",
    "- The total area under the PDF equals **1**.  \n",
    "\n",
    "Common continuous distributions include:\n",
    "- **Normal (Gaussian) Distribution** – bell-shaped, most widely used.  \n",
    "- **Exponential Distribution** – models waiting times between events.  \n",
    "- **Uniform Distribution** – equal probability across an interval.  \n",
    "- **Gamma Distribution** – models skewed data, often for waiting times.  \n",
    "- **Beta Distribution** – useful for proportions and probabilities.  \n",
    "- **Chi-Square & t-Distributions** – important in hypothesis testing.  \n",
    "\n",
    "```{tableofcontents}\n"
   ]
  }
 ],
 "metadata": {
  "language_info": {
   "name": "python"
  }
 },
 "nbformat": 4,
 "nbformat_minor": 5
}
