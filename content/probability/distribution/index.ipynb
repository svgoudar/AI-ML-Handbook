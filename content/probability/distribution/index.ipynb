{
 "cells": [
  {
   "cell_type": "markdown",
   "id": "68fd39c7",
   "metadata": {},
   "source": [
    "# Probability Distributions\n",
    "\n",
    "Probability distributions describe how the values of a random variable are spread or distributed.  \n",
    "They provide a mathematical framework to model uncertainty and make predictions.\n",
    "\n",
    "Distributions are broadly classified into:\n",
    "\n",
    "- **Discrete Probability Distributions** → For variables that take **countable outcomes** (e.g., coin toss, number of defects).  \n",
    "- **Continuous Probability Distributions** → For variables that take **any value within an interval** (e.g., height, weight, time).\n",
    "\n",
    "```{dropdown} Sections in this page\n",
    "```{tableofcontents}\n"
   ]
  },
  {
   "cell_type": "markdown",
   "id": "48f95d08",
   "metadata": {},
   "source": []
  }
 ],
 "metadata": {
  "language_info": {
   "name": "python"
  }
 },
 "nbformat": 4,
 "nbformat_minor": 5
}
