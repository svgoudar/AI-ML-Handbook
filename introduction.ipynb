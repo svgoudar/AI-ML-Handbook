{
 "cells": [
  {
   "cell_type": "markdown",
   "id": "11f9ac82",
   "metadata": {},
   "source": [
    "## Introduction"
   ]
  },
  {
   "cell_type": "markdown",
   "id": "3c9b1676",
   "metadata": {},
   "source": [
    "\n",
    "Welcome to my **Machine Learning Tutorial Portfolio**! 🚀\n",
    "\n",
    "This portfolio is designed to guide learners through the fundamentals and advanced concepts of Machine Learning, from theory to hands-on implementation.\n",
    "\n",
    "\n",
    "> “Machine Learning is a journey, not just a destination. Explore, experiment, and build!”  \n"
   ]
  },
  {
   "cell_type": "markdown",
   "id": "240133fa",
   "metadata": {},
   "source": [
    "### Contents Overview"
   ]
  },
  {
   "cell_type": "markdown",
   "id": "9e8b8628",
   "metadata": {},
   "source": [
    "::::{grid} 1 1 2 3\n",
    ":gutter: 3\n",
    "\n",
    ":::{grid-item-card} \n",
    ":link: content/probability/index\n",
    ":link-type: doc\n",
    ":class-header: bg-grid-header\n",
    ":class-body: grid-center bg-grid-body\n",
    "\n",
    "\n",
    "<span class=\"grid-title\">Probability</span>\n",
    "^^^\n",
    "\n",
    "The branch of mathematics that measures the likelihood of events occurring, ranging from impossible (0) to certain (1)\n",
    ":::\n",
    "\n",
    ":::{grid-item-card}\n",
    ":link: content/statistics/index\n",
    ":link-type: doc\n",
    ":class-header: bg-grid-header\n",
    ":class-body: grid-center bg-grid-body\n",
    "\n",
    "<span class=\"grid-title\">Statistics</span>\n",
    "^^^\n",
    "\n",
    "Statistics is the science of collecting, analyzing, and interpreting data to uncover insights and support decision-making\n",
    ":::\n",
    "\n"
   ]
  }
 ],
 "metadata": {
  "language_info": {
   "name": "python"
  }
 },
 "nbformat": 4,
 "nbformat_minor": 5
}
